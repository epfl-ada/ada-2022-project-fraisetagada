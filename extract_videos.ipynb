{
 "cells": [
  {
   "cell_type": "code",
   "execution_count": 1,
   "metadata": {},
   "outputs": [],
   "source": [
    "import dask.dataframe as dd\n",
    "import dask.bag as db\n",
    "import json\n",
    "import pandas as pd\n",
    "\n",
    "from pyspark.sql import SparkSession\n",
    "\n",
    "spark = SparkSession.builder.getOrCreate()"
   ]
  },
  {
   "cell_type": "code",
   "execution_count": 2,
   "metadata": {},
   "outputs": [
    {
     "name": "stdout",
     "output_type": "stream",
     "text": [
      "{\"categories\": \"Film & Animation\", \"channel_id\": \"UCzWrhkg9eK5I8Bm3HfV-unA\", \"crawl_date\": \"2019-10-31 20:19:26.270363\", \"description\": \"Lego City Police Lego Firetruck Cartoons about Lego City Movie for kids with a nice long video to keep the kids entertained while learning and having fun with the Lego City characters from Lego City undercover. Thanks for watching!\", \"dislike_count\": 1.0, \"display_id\": \"SBqSc91Hn9g\", \"duration\": 1159, \"like_count\": 8.0, \"tags\": \"lego city,lego police,lego city police,lego city episodes,videos de lego city,lego policia,lego bomberos,lego fire truck,lego firetruck,lego police chase,lego robbers,lego cartoons,lego movies,lego videos for kids\", \"title\": \"Lego City Police Lego Firetruck Cartoons about Lego City Movie for kids Episodes\", \"upload_date\": \"2016-09-28 00:00:00\", \"view_count\": 1057.0}\n",
      "{\"categories\": \"Film & Animation\", \"channel_id\": \"UCzWrhkg9eK5I8Bm3HfV-unA\", \"crawl_date\": \"2019-10-31 20:19:26.914516\", \"description\": \"Lego Marvel SuperHeroes Lego Hulk Smash Iron-Man Lego Spiderman Lego Super Heroes with a nice long almost 1 Hour Movie with the Lego MArvel SuperHeroes characters to keep the little ones entertained while learning and having fun. Thanks for watching!\", \"dislike_count\": 1.0, \"display_id\": \"UuugEl86ESY\", \"duration\": 2681, \"like_count\": 23.0, \"tags\": \"Lego superheroes,lego hulk,hulk smash,lego marverl superheroes,lego marvel super heroes movie,lego ironman,lego spiderman,spider-man,lego heroes,lego avengers,lego captain america\", \"title\": \"Lego Marvel SuperHeroes Lego Hulk Smash Iron-Man Lego Spiderman Lego Super Heroes\", \"upload_date\": \"2016-09-28 00:00:00\", \"view_count\": 12894.0}\n"
     ]
    }
   ],
   "source": [
    "!PowerShell.exe gc \"./data/yt_metadata_en.jsonl\" -head 2"
   ]
  },
  {
   "cell_type": "code",
   "execution_count": 4,
   "metadata": {},
   "outputs": [],
   "source": [
    "FILE = \"data/yt_metadata_en.jsonl\"\n",
    "OUTPUT_FILE = \"data/yt_metadata_en.csv\"\n",
    "\n",
    "\n",
    "dtypes = {\n",
    "    'categorie': 'str',                           \n",
    "    'channel_id': 'str',                           \n",
    "    'crawl_date': 'str',                           \n",
    "    'dislike_count': 'uint32',                           \n",
    "    'display_id': 'str',                           \n",
    "    'duration': 'uint32',                           \n",
    "    'like_count': 'uint32',                           \n",
    "    'tags': 'str',                           \n",
    "    'title': 'str',                           \n",
    "    'upload_date': 'str',                           \n",
    "    'view_count': 'uint64'                           \n",
    "}"
   ]
  },
  {
   "cell_type": "code",
   "execution_count": 21,
   "metadata": {},
   "outputs": [],
   "source": [
    "df = spark.read.json(FILE)"
   ]
  },
  {
   "cell_type": "code",
   "execution_count": 22,
   "metadata": {},
   "outputs": [
    {
     "name": "stdout",
     "output_type": "stream",
     "text": [
      "root\n",
      " |-- categories: string (nullable = true)\n",
      " |-- channel_id: string (nullable = true)\n",
      " |-- crawl_date: string (nullable = true)\n",
      " |-- description: string (nullable = true)\n",
      " |-- dislike_count: double (nullable = true)\n",
      " |-- display_id: string (nullable = true)\n",
      " |-- duration: long (nullable = true)\n",
      " |-- like_count: double (nullable = true)\n",
      " |-- tags: string (nullable = true)\n",
      " |-- title: string (nullable = true)\n",
      " |-- upload_date: string (nullable = true)\n",
      " |-- view_count: double (nullable = true)\n",
      "\n"
     ]
    }
   ],
   "source": [
    "df.printSchema()"
   ]
  },
  {
   "cell_type": "code",
   "execution_count": 29,
   "metadata": {},
   "outputs": [
    {
     "name": "stdout",
     "output_type": "stream",
     "text": [
      "-RECORD 0-----------------------------\n",
      " categories    | Film & Animation     \n",
      " channel_id    | UCzWrhkg9eK5I8Bm3... \n",
      " crawl_date    | 2019-10-31 20:19:... \n",
      " description   | Lego City Police ... \n",
      " dislike_count | 1.0                  \n",
      " display_id    | SBqSc91Hn9g          \n",
      " duration      | 1159                 \n",
      " like_count    | 8.0                  \n",
      " tags          | lego city,lego po... \n",
      " title         | Lego City Police ... \n",
      " upload_date   | 2016-09-28 00:00:00  \n",
      " view_count    | 1057.0               \n",
      "-RECORD 1-----------------------------\n",
      " categories    | Film & Animation     \n",
      " channel_id    | UCzWrhkg9eK5I8Bm3... \n",
      " crawl_date    | 2019-10-31 20:19:... \n",
      " description   | Lego Marvel Super... \n",
      " dislike_count | 1.0                  \n",
      " display_id    | UuugEl86ESY          \n",
      " duration      | 2681                 \n",
      " like_count    | 23.0                 \n",
      " tags          | Lego superheroes,... \n",
      " title         | Lego Marvel Super... \n",
      " upload_date   | 2016-09-28 00:00:00  \n",
      " view_count    | 12894.0              \n",
      "only showing top 2 rows\n",
      "\n"
     ]
    }
   ],
   "source": [
    "df.show(2, vertical=True)"
   ]
  },
  {
   "cell_type": "code",
   "execution_count": 31,
   "metadata": {},
   "outputs": [
    {
     "name": "stdout",
     "output_type": "stream",
     "text": [
      "+-------+------------------+------------------+------------------+------------------+\n",
      "|summary|     dislike_count|          duration|        like_count|        view_count|\n",
      "+-------+------------------+------------------+------------------+------------------+\n",
      "|  count|          71293336|          72924794|          71293336|          72924140|\n",
      "|   mean|  76.0915862037933| 757.6761375561788|1306.7580320831107|125237.60820707656|\n",
      "| stddev|3064.7580067517442|1820.1105064271235|20135.880453098183|  3534488.21672248|\n",
      "|    min|               0.0|                 1|               0.0|               0.0|\n",
      "|    25%|               0.0|               134|               6.0|             532.0|\n",
      "|    50%|               2.0|               284|              43.0|            2925.0|\n",
      "|    75%|              12.0|               697|             265.0|           17423.0|\n",
      "|    max|       1.6916346E7|            360157|       3.5287325E7|     6.509934494E9|\n",
      "+-------+------------------+------------------+------------------+------------------+\n",
      "\n"
     ]
    }
   ],
   "source": [
    "df.select(\"dislike_count\", \"duration\", \"like_count\", \"view_count\").summary().show()"
   ]
  },
  {
   "cell_type": "code",
   "execution_count": 20,
   "metadata": {},
   "outputs": [
    {
     "data": {
      "text/plain": [
       "1"
      ]
     },
     "execution_count": 20,
     "metadata": {},
     "output_type": "execute_result"
    }
   ],
   "source": [
    "df.count()"
   ]
  },
  {
   "cell_type": "code",
   "execution_count": 33,
   "metadata": {},
   "outputs": [],
   "source": [
    "ddf = spark.read.option(\"multiline\", \"true\").json(FILE)"
   ]
  }
 ],
 "metadata": {
  "kernelspec": {
   "display_name": "Python 3.9.13 ('ada')",
   "language": "python",
   "name": "python3"
  },
  "language_info": {
   "codemirror_mode": {
    "name": "ipython",
    "version": 3
   },
   "file_extension": ".py",
   "mimetype": "text/x-python",
   "name": "python",
   "nbconvert_exporter": "python",
   "pygments_lexer": "ipython3",
   "version": "3.9.13"
  },
  "orig_nbformat": 4,
  "vscode": {
   "interpreter": {
    "hash": "a83119b0c467fc652a6582b2ca49612e80c32bba4f358d37f8df56201774d684"
   }
  }
 },
 "nbformat": 4,
 "nbformat_minor": 2
}
