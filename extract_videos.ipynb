{
 "cells": [
  {
   "cell_type": "code",
   "execution_count": 47,
   "metadata": {},
   "outputs": [],
   "source": [
    "import dask.dataframe as dd\n",
    "import dask.bag as db\n",
    "import pandas as pd\n",
    "import seaborn as sns\n",
    "import matplotlib.pyplot as plt\n",
    "\n",
    "from pyspark.sql.types import *\n",
    "from pyspark.sql.functions import col, year, month\n",
    "import pyspark.sql.functions as func\n",
    "from pyspark.sql import SparkSession\n",
    "\n",
    "spark = SparkSession.builder.getOrCreate()"
   ]
  },
  {
   "cell_type": "code",
   "execution_count": 2,
   "metadata": {},
   "outputs": [
    {
     "name": "stdout",
     "output_type": "stream",
     "text": [
      "{\"categories\": \"Film & Animation\", \"channel_id\": \"UCzWrhkg9eK5I8Bm3HfV-unA\", \"crawl_date\": \"2019-10-31 20:19:26.270363\", \"description\": \"Lego City Police Lego Firetruck Cartoons about Lego City Movie for kids with a nice long video to keep the kids entertained while learning and having fun with the Lego City characters from Lego City undercover. Thanks for watching!\", \"dislike_count\": 1.0, \"display_id\": \"SBqSc91Hn9g\", \"duration\": 1159, \"like_count\": 8.0, \"tags\": \"lego city,lego police,lego city police,lego city episodes,videos de lego city,lego policia,lego bomberos,lego fire truck,lego firetruck,lego police chase,lego robbers,lego cartoons,lego movies,lego videos for kids\", \"title\": \"Lego City Police Lego Firetruck Cartoons about Lego City Movie for kids Episodes\", \"upload_date\": \"2016-09-28 00:00:00\", \"view_count\": 1057.0}\n",
      "{\"categories\": \"Film & Animation\", \"channel_id\": \"UCzWrhkg9eK5I8Bm3HfV-unA\", \"crawl_date\": \"2019-10-31 20:19:26.914516\", \"description\": \"Lego Marvel SuperHeroes Lego Hulk Smash Iron-Man Lego Spiderman Lego Super Heroes with a nice long almost 1 Hour Movie with the Lego MArvel SuperHeroes characters to keep the little ones entertained while learning and having fun. Thanks for watching!\", \"dislike_count\": 1.0, \"display_id\": \"UuugEl86ESY\", \"duration\": 2681, \"like_count\": 23.0, \"tags\": \"Lego superheroes,lego hulk,hulk smash,lego marverl superheroes,lego marvel super heroes movie,lego ironman,lego spiderman,spider-man,lego heroes,lego avengers,lego captain america\", \"title\": \"Lego Marvel SuperHeroes Lego Hulk Smash Iron-Man Lego Spiderman Lego Super Heroes\", \"upload_date\": \"2016-09-28 00:00:00\", \"view_count\": 12894.0}\n"
     ]
    }
   ],
   "source": [
    "!PowerShell.exe gc \"./data/yt_metadata_en.jsonl\" -head 2"
   ]
  },
  {
   "cell_type": "code",
   "execution_count": 3,
   "metadata": {},
   "outputs": [],
   "source": [
    "FILE = \"data/yt_metadata_en.jsonl\"\n",
    "OUTPUT_FILE = \"data/yt_metadata_en.csv\"\n",
    "\n",
    "\n",
    "schema = StructType([\n",
    "    StructField(\"categories\",    StringType(),  True),\n",
    "    StructField(\"channel_id\",    StringType(),  True),\n",
    "    StructField(\"crawl_date\",    DateType(),    True),\n",
    "    StructField(\"dislike_count\", StringType(),  True), # This field must be specified as a string as it is inputed as a floating point number\n",
    "    StructField(\"display_id\",    StringType(),  True),\n",
    "    StructField(\"duration\",      IntegerType(), True),\n",
    "    StructField(\"like_count\",    StringType(),  True), # This field must be specified as a string as it is inputed as a floating point number\n",
    "    StructField(\"tags\",          StringType(),  True),\n",
    "    StructField(\"title\",         StringType(),  True),\n",
    "    StructField(\"upload_date\",   DateType(),    True),\n",
    "    StructField(\"view_count\",    StringType(),  True)  # This field must be specified as a string as it is inputed as a floating point number\n",
    "])\n",
    "\n",
    "# {\n",
    "#     'categorie'    : StringType,                           \n",
    "#     'channel_id'   : StringType,                           \n",
    "#     'crawl_date'   : DateType,                           \n",
    "#     'dislike_count': IntegerType,                           \n",
    "#     'display_id'   : StringType,                           \n",
    "#     'duration'     : IntegerType,                           \n",
    "#     'like_count'   : IntegerType,                           \n",
    "#     'tags'         : StringType,                           \n",
    "#     'title'        : StringType,                           \n",
    "#     'upload_date'  : DateType,                           \n",
    "#     'view_count'   : LongType                           \n",
    "# }"
   ]
  },
  {
   "cell_type": "code",
   "execution_count": 4,
   "metadata": {},
   "outputs": [],
   "source": [
    "df = spark.read.json(FILE, schema=schema)"
   ]
  },
  {
   "cell_type": "code",
   "execution_count": 5,
   "metadata": {},
   "outputs": [],
   "source": [
    "df = df \\\n",
    "    .withColumn(\"dislike_count\", df.dislike_count.cast(IntegerType())) \\\n",
    "    .withColumn(\"like_count\", df.like_count.cast(IntegerType())) \\\n",
    "    .withColumn(\"view_count\", df.view_count.cast(LongType()))"
   ]
  },
  {
   "cell_type": "code",
   "execution_count": 6,
   "metadata": {},
   "outputs": [
    {
     "name": "stdout",
     "output_type": "stream",
     "text": [
      "root\n",
      " |-- categories: string (nullable = true)\n",
      " |-- channel_id: string (nullable = true)\n",
      " |-- crawl_date: date (nullable = true)\n",
      " |-- dislike_count: integer (nullable = true)\n",
      " |-- display_id: string (nullable = true)\n",
      " |-- duration: integer (nullable = true)\n",
      " |-- like_count: integer (nullable = true)\n",
      " |-- tags: string (nullable = true)\n",
      " |-- title: string (nullable = true)\n",
      " |-- upload_date: date (nullable = true)\n",
      " |-- view_count: long (nullable = true)\n",
      "\n"
     ]
    }
   ],
   "source": [
    "df.printSchema()"
   ]
  },
  {
   "cell_type": "code",
   "execution_count": 7,
   "metadata": {},
   "outputs": [
    {
     "name": "stdout",
     "output_type": "stream",
     "text": [
      "-RECORD 0-----------------------------\n",
      " categories    | Film & Animation     \n",
      " channel_id    | UCzWrhkg9eK5I8Bm3... \n",
      " crawl_date    | 2019-10-31           \n",
      " dislike_count | 1                    \n",
      " display_id    | SBqSc91Hn9g          \n",
      " duration      | 1159                 \n",
      " like_count    | 8                    \n",
      " tags          | lego city,lego po... \n",
      " title         | Lego City Police ... \n",
      " upload_date   | 2016-09-28           \n",
      " view_count    | 1057                 \n",
      "-RECORD 1-----------------------------\n",
      " categories    | Film & Animation     \n",
      " channel_id    | UCzWrhkg9eK5I8Bm3... \n",
      " crawl_date    | 2019-10-31           \n",
      " dislike_count | 1                    \n",
      " display_id    | UuugEl86ESY          \n",
      " duration      | 2681                 \n",
      " like_count    | 23                   \n",
      " tags          | Lego superheroes,... \n",
      " title         | Lego Marvel Super... \n",
      " upload_date   | 2016-09-28           \n",
      " view_count    | 12894                \n",
      "only showing top 2 rows\n",
      "\n"
     ]
    }
   ],
   "source": [
    "df.show(2, vertical=True)"
   ]
  },
  {
   "cell_type": "code",
   "execution_count": 8,
   "metadata": {},
   "outputs": [
    {
     "name": "stdout",
     "output_type": "stream",
     "text": [
      "+-------+-----------------+------------------+------------------+------------------+\n",
      "|summary|    dislike_count|          duration|        like_count|        view_count|\n",
      "+-------+-----------------+------------------+------------------+------------------+\n",
      "|  count|         71293335|          72924794|          71293314|          72847198|\n",
      "|   mean|75.85430918612518| 757.6761375561788|1302.3894336290778| 89859.75928299947|\n",
      "| stddev| 2319.24547755486|1820.1105064271235|18234.302834924434|1934762.8235496785|\n",
      "|    min|                0|                 1|                 0|                 0|\n",
      "|    25%|                0|               134|                 6|               531|\n",
      "|    50%|                2|               284|                43|              2915|\n",
      "|    75%|               12|               697|               265|             17306|\n",
      "|    max|          4506614|            360157|           9969034|        3709532958|\n",
      "+-------+-----------------+------------------+------------------+------------------+\n",
      "\n"
     ]
    }
   ],
   "source": [
    "df.select(\"dislike_count\", \"duration\", \"like_count\", \"view_count\").summary().show()"
   ]
  },
  {
   "cell_type": "code",
   "execution_count": 9,
   "metadata": {},
   "outputs": [
    {
     "data": {
      "text/plain": [
       "72924794"
      ]
     },
     "execution_count": 9,
     "metadata": {},
     "output_type": "execute_result"
    }
   ],
   "source": [
    "df.count()"
   ]
  },
  {
   "cell_type": "code",
   "execution_count": 24,
   "metadata": {},
   "outputs": [
    {
     "name": "stdout",
     "output_type": "stream",
     "text": [
      "root\n",
      " |-- categories: string (nullable = true)\n",
      " |-- channel_id: string (nullable = true)\n",
      " |-- crawl_date: date (nullable = true)\n",
      " |-- dislike_count: integer (nullable = true)\n",
      " |-- display_id: string (nullable = true)\n",
      " |-- duration: integer (nullable = true)\n",
      " |-- like_count: integer (nullable = true)\n",
      " |-- tags: string (nullable = true)\n",
      " |-- title: string (nullable = true)\n",
      " |-- upload_date: date (nullable = true)\n",
      " |-- view_count: long (nullable = true)\n",
      " |-- year: integer (nullable = true)\n",
      " |-- month: integer (nullable = true)\n",
      "\n"
     ]
    }
   ],
   "source": [
    "# Extract year from upload_date\n",
    "df_dates = df\\\n",
    "    .withColumn(\"year\", year(df.upload_date))\\\n",
    "    .withColumn(\"month\", month(df.upload_date))\n",
    "df_dates.printSchema()"
   ]
  },
  {
   "cell_type": "code",
   "execution_count": 27,
   "metadata": {},
   "outputs": [],
   "source": [
    "vids_per_month = df_dates.select(\"display_id\", \"year\", \"month\").groupBy(\"year\", \"month\").count()"
   ]
  },
  {
   "cell_type": "code",
   "execution_count": 40,
   "metadata": {},
   "outputs": [],
   "source": [
    "count = vids_per_month.toPandas()"
   ]
  },
  {
   "cell_type": "code",
   "execution_count": 45,
   "metadata": {},
   "outputs": [],
   "source": [
    "count_sorted = count.sort_values([\"year\", \"month\"])"
   ]
  },
  {
   "cell_type": "code",
   "execution_count": 58,
   "metadata": {},
   "outputs": [],
   "source": [
    "count_sorted[\"date\"] = pd.to_datetime(count_sorted[\"year\"].astype(str) + count_sorted[\"month\"].astype(str), format=\"%Y%m\")"
   ]
  },
  {
   "cell_type": "code",
   "execution_count": 65,
   "metadata": {},
   "outputs": [],
   "source": [
    "plt.style.use(\"ggplot\")"
   ]
  },
  {
   "cell_type": "code",
   "execution_count": 70,
   "metadata": {},
   "outputs": [
    {
     "data": {
      "image/png": "[encoded data removed]",
      "text/plain": [
       "<Figure size 640x480 with 1 Axes>"
      ]
     },
     "metadata": {},
     "output_type": "display_data"
    }
   ],
   "source": [
    "sns.lineplot(data=count_sorted, x=\"date\", y=\"count\")\n",
    "plt.title(\"Number of videos per month\")\n",
    "plt.xlabel(\"Date\")\n",
    "plt.ylabel(\"Videos count\")\n",
    "plt.show()"
   ]
  }
 ],
 "metadata": {
  "kernelspec": {
   "display_name": "Python 3.9.13 ('ada')",
   "language": "python",
   "name": "python3"
  },
  "language_info": {
   "codemirror_mode": {
    "name": "ipython",
    "version": 3
   },
   "file_extension": ".py",
   "mimetype": "text/x-python",
   "name": "python",
   "nbconvert_exporter": "python",
   "pygments_lexer": "ipython3",
   "version": "3.9.13"
  },
  "orig_nbformat": 4,
  "vscode": {
   "interpreter": {
    "hash": "a83119b0c467fc652a6582b2ca49612e80c32bba4f358d37f8df56201774d684"
   }
  }
 },
 "nbformat": 4,
 "nbformat_minor": 2
}
