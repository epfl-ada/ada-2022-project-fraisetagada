{
 "cells": [
  {
   "cell_type": "code",
   "execution_count": 1,
   "metadata": {},
   "outputs": [
    {
     "name": "stderr",
     "output_type": "stream",
     "text": [
      "WARNING:root:'PYARROW_IGNORE_TIMEZONE' environment variable was not set. It is required to set this environment variable to '1' in both driver and executor sides if you use pyarrow>=2.0.0. pandas-on-Spark will set it for you but it does not work if there is a Spark context already launched.\n"
     ]
    }
   ],
   "source": [
    "import findspark\n",
    "findspark.init()\n",
    "\n",
    "import re\n",
    "import pyspark.pandas as ps\n",
    "import datetime\n",
    "import seaborn as sns\n",
    "import pyspark.sql.functions as f\n",
    "#from pyspark.sql.functions import col, udf, explode, when, year, month\n",
    "from pyspark.sql.types import StructType, StructField, IntegerType, DoubleType, LongType, StringType, DateType, ArrayType, BooleanType\n",
    "\n",
    "from pyspark.sql import SparkSession\n",
    "import pyspark as ps\n",
    "config = ps.SparkConf().setAll([\n",
    "    ('spark.network.timeout', '3601s'),\n",
    "    ('spark.executor.heartbeatInterval', '3600s'),\n",
    "])\n",
    "sc = ps.SparkContext('local[*]', '', conf=config)\n",
    "spark = SparkSession(sc)"
   ]
  },
  {
   "cell_type": "code",
   "execution_count": 2,
   "metadata": {},
   "outputs": [
    {
     "name": "stderr",
     "output_type": "stream",
     "text": [
      "Get-Content : Impossible de lier l'argument au param�tre ��Path��, car il a la valeur Null.\n",
      "Au caract�re Ligne:1 : 4\n",
      "+ gc $PATH_METADATA_SRC -head 2\n",
      "+    ~~~~~~~~~~~~~~~~~~\n",
      "    + CategoryInfo          : InvalidData : (:) [Get-Content], ParameterBindingValidationException\n",
      "    + FullyQualifiedErrorId : ParameterArgumentValidationErrorNullNotAllowed,Microsoft.PowerShell.Commands.GetContentC \n",
      "   ommand\n",
      " \n"
     ]
    }
   ],
   "source": [
    "#!head -n 2 $PATH_METADATA_SRC\n",
    "!PowerShell.exe gc \"$PATH_METADATA_SRC\" -head 2"
   ]
  },
  {
   "cell_type": "code",
   "execution_count": 3,
   "metadata": {},
   "outputs": [],
   "source": [
    "FILE_1 = \"../data/metadata_sponsors_only.parquet\"\n",
    "schema = StructType([\n",
    "    StructField(\"categories\",    StringType(),  True),\n",
    "    StructField(\"channel_id\",    StringType(),  True),\n",
    "    StructField(\"crawl_date\",    DateType(),    True),\n",
    "    StructField(\"description\",   StringType(),  True),\n",
    "    StructField(\"dislike_count\", DoubleType(),  True), # This field must be specified as a double as it is represented as a floating point number\n",
    "    StructField(\"display_id\",    StringType(),  True),\n",
    "    StructField(\"duration\",      IntegerType(), True),\n",
    "    StructField(\"like_count\",    DoubleType(),  True), # This field must be specified as a double as it is represented as a floating point number\n",
    "    StructField(\"tags\",          StringType(),  True),\n",
    "    StructField(\"title\",         StringType(),  True),\n",
    "    StructField(\"upload_date\",   DateType(),    True),\n",
    "    StructField(\"view_count\",    DoubleType(),  True),  # This field must be specified as a double as it is represented as a floating point number\n",
    "    \n",
    "])\n",
    "\n",
    "metadatas_df_1 = spark.read.parquet(FILE_1, schema=schema)\n",
    "\n",
    "# Cast the dislike_count, like_count and view_count to their respective integer type\n",
    "metadatas_df_1 = metadatas_df_1 \\\n",
    "    .withColumn(\"dislike_count\", metadatas_df_1.dislike_count.cast(IntegerType())) \\\n",
    "    .withColumn(\"like_count\", metadatas_df_1.like_count.cast(IntegerType())) \\\n",
    "    .withColumn(\"view_count\", metadatas_df_1.view_count.cast(LongType()))"
   ]
  },
  {
   "cell_type": "code",
   "execution_count": 5,
   "metadata": {},
   "outputs": [],
   "source": [
    "FILE_2 = \"../data/yt_metadata_sponsor_en_domains.parquet\"\n",
    "metadatas_df_2 = spark.read.parquet(FILE_2)"
   ]
  },
  {
   "cell_type": "code",
   "execution_count": 6,
   "metadata": {},
   "outputs": [
    {
     "name": "stdout",
     "output_type": "stream",
     "text": [
      "<bound method DataFrame.head of DataFrame[display_id: string, domains: array<string>, domain_categories: string, is_sponsored: boolean]>\n",
      "<bound method DataFrame.head of DataFrame[categories: string, channel_id: string, dislike_count: int, display_id: string, duration: int, like_count: int, tags: string, title: string, upload_date: date, view_count: bigint, domains_count: int, has_domains: string, is_sponsored: int, domains: array<string>, sponsor_category: array<string>]>\n"
     ]
    }
   ],
   "source": [
    "print(metadatas_df_2.head)\n",
    "print(metadatas_df_1.head)"
   ]
  },
  {
   "cell_type": "code",
   "execution_count": 7,
   "metadata": {},
   "outputs": [],
   "source": [
    "sponsored_videos = metadatas_df_2.filter(metadatas_df_2.is_sponsored == 1)\n",
    "'''sponsored_videos.printSchema()\n",
    "sponsored_videos.show()'''\n",
    "sponsored_videos = sponsored_videos.withColumn(\"domain_categories\",  f.regexp_replace(f.regexp_replace(\"domain_categories\", \"\\\\[\", \"\"), \"\\\\]\", \"\"))\n",
    "sponsored_videos = sponsored_videos.withColumn('dom_categories', f.regexp_replace(f.col(\"domain_categories\"), \" \", \"\")).drop('domain_categories')\n",
    "#spaceDeleteUDF = f.udf(lambda s: s.replace(\" \", \"\"), StringType())\n",
    "#sponsored_videos = sponsored_videos.withColumn(\"domain_categories\", spaceDeleteUDF(\"domain_categories\"))\n"
   ]
  },
  {
   "cell_type": "code",
   "execution_count": 8,
   "metadata": {},
   "outputs": [
    {
     "data": {
      "text/plain": [
       "<bound method DataFrame.head of DataFrame[display_id: string, domains: array<string>, is_sponsored: boolean, dom_categories: string, arr_categories: array<string>]>"
      ]
     },
     "execution_count": 8,
     "metadata": {},
     "output_type": "execute_result"
    }
   ],
   "source": [
    "sponsored_videos = sponsored_videos.withColumn('arr_categories' ,f.split(f.col(\"dom_categories\"),\",\")) \\\n",
    "    .drop(\"domain_categories\")\n",
    "sponsored_videos.head"
   ]
  },
  {
   "cell_type": "code",
   "execution_count": 93,
   "metadata": {},
   "outputs": [
    {
     "name": "stdout",
     "output_type": "stream",
     "text": [
      "+-----------+--------------------+------------+-----------------+\n",
      "| display_id|             domains|is_sponsored|domain_categories|\n",
      "+-----------+--------------------+------------+-----------------+\n",
      "|--2vlpMag3o|[store.payloadz.c...|        true|      Application|\n",
      "|--2vlpMag3o|[store.payloadz.c...|        true|          Service|\n",
      "|--8naaS32Do|[g2a.com, gta4-mo...|        true|        VideoGame|\n",
      "|--9YGgXAGZY|[gematsu.com, gon...|        true|      Application|\n",
      "|--AV-5N5pI8|          [etsy.com]|        true|          Fashion|\n",
      "|--CdRsiR9b4|[arsenalfantv.com...|        true|           Agency|\n",
      "|--LRd59WG6U|[binance.com, coi...|        true|           Crypto|\n",
      "|--L_DTb4pVU|     [teespring.com]|        true|           Agency|\n",
      "|--Lb_Wn0ouk|[gofundme.com, wh...|        true|      Application|\n",
      "|--Oh7lcjIBo|[itunes.apple.com...|        true|      Application|\n",
      "|--T4O8SG6gk|[play.google.com,...|        true|      Application|\n",
      "|--UJ-Ie16qE|[nyoooz.com, play...|        true|      Application|\n",
      "|--UWZWOR2Yc|[eepurl.com, play...|        true|            Music|\n",
      "|--Y4a8rYt4k|   [play.google.com]|        true|      Application|\n",
      "|--h9t8yPdzg|[society6.com, cr...|        true|             Shop|\n",
      "|--jho1DhuQU|[ryanlutton.bandc...|        true|           Agency|\n",
      "|--jvxnpoFiU|[bit.ly, greenman...|        true|       Technology|\n",
      "|--jvxnpoFiU|[bit.ly, greenman...|        true|        VideoGame|\n",
      "|--oTQCysVTs|[gumroad.com, skl...|        true|        Education|\n",
      "|--oTQCysVTs|[gumroad.com, skl...|        true|             Shop|\n",
      "+-----------+--------------------+------------+-----------------+\n",
      "only showing top 20 rows\n",
      "\n"
     ]
    }
   ],
   "source": [
    "#sponsored_videos = sponsored_videos.withColumn('domain_categories', f.explode('arr_categories')).drop('arr_categories')"
   ]
  },
  {
   "attachments": {},
   "cell_type": "markdown",
   "metadata": {},
   "source": [
    "---------------------------------------"
   ]
  },
  {
   "attachments": {},
   "cell_type": "markdown",
   "metadata": {},
   "source": [
    "Brouillon"
   ]
  },
  {
   "cell_type": "code",
   "execution_count": 103,
   "metadata": {},
   "outputs": [
    {
     "data": {
      "text/html": [
       "<div>\n",
       "<style scoped>\n",
       "    .dataframe tbody tr th:only-of-type {\n",
       "        vertical-align: middle;\n",
       "    }\n",
       "\n",
       "    .dataframe tbody tr th {\n",
       "        vertical-align: top;\n",
       "    }\n",
       "\n",
       "    .dataframe thead th {\n",
       "        text-align: right;\n",
       "    }\n",
       "</style>\n",
       "<table border=\"1\" class=\"dataframe\">\n",
       "  <thead>\n",
       "    <tr style=\"text-align: right;\">\n",
       "      <th></th>\n",
       "      <th>domain_categories</th>\n",
       "      <th>count</th>\n",
       "    </tr>\n",
       "  </thead>\n",
       "  <tbody>\n",
       "    <tr>\n",
       "      <th>0</th>\n",
       "      <td>Application</td>\n",
       "      <td>2624227</td>\n",
       "    </tr>\n",
       "    <tr>\n",
       "      <th>1</th>\n",
       "      <td>Education</td>\n",
       "      <td>145744</td>\n",
       "    </tr>\n",
       "    <tr>\n",
       "      <th>2</th>\n",
       "      <td>Entertainment</td>\n",
       "      <td>17115</td>\n",
       "    </tr>\n",
       "    <tr>\n",
       "      <th>3</th>\n",
       "      <td>Fashion</td>\n",
       "      <td>361688</td>\n",
       "    </tr>\n",
       "    <tr>\n",
       "      <th>4</th>\n",
       "      <td>Crypto</td>\n",
       "      <td>47091</td>\n",
       "    </tr>\n",
       "    <tr>\n",
       "      <th>5</th>\n",
       "      <td>Photo</td>\n",
       "      <td>10175</td>\n",
       "    </tr>\n",
       "    <tr>\n",
       "      <th>6</th>\n",
       "      <td>Travel</td>\n",
       "      <td>30961</td>\n",
       "    </tr>\n",
       "    <tr>\n",
       "      <th>7</th>\n",
       "      <td>Finance</td>\n",
       "      <td>21619</td>\n",
       "    </tr>\n",
       "    <tr>\n",
       "      <th>8</th>\n",
       "      <td>Religion</td>\n",
       "      <td>4798</td>\n",
       "    </tr>\n",
       "    <tr>\n",
       "      <th>9</th>\n",
       "      <td>Media</td>\n",
       "      <td>30168</td>\n",
       "    </tr>\n",
       "    <tr>\n",
       "      <th>10</th>\n",
       "      <td>Book</td>\n",
       "      <td>54025</td>\n",
       "    </tr>\n",
       "    <tr>\n",
       "      <th>11</th>\n",
       "      <td>Shop</td>\n",
       "      <td>889428</td>\n",
       "    </tr>\n",
       "    <tr>\n",
       "      <th>12</th>\n",
       "      <td>Shorten</td>\n",
       "      <td>27600</td>\n",
       "    </tr>\n",
       "    <tr>\n",
       "      <th>13</th>\n",
       "      <td>RealEstate</td>\n",
       "      <td>9727</td>\n",
       "    </tr>\n",
       "    <tr>\n",
       "      <th>14</th>\n",
       "      <td>Streaming</td>\n",
       "      <td>22887</td>\n",
       "    </tr>\n",
       "    <tr>\n",
       "      <th>15</th>\n",
       "      <td>Music</td>\n",
       "      <td>394993</td>\n",
       "    </tr>\n",
       "    <tr>\n",
       "      <th>16</th>\n",
       "      <td>Agency</td>\n",
       "      <td>2183000</td>\n",
       "    </tr>\n",
       "    <tr>\n",
       "      <th>17</th>\n",
       "      <td>Technology</td>\n",
       "      <td>498416</td>\n",
       "    </tr>\n",
       "    <tr>\n",
       "      <th>18</th>\n",
       "      <td>FoodDrink</td>\n",
       "      <td>78563</td>\n",
       "    </tr>\n",
       "    <tr>\n",
       "      <th>19</th>\n",
       "      <td>VideoGame</td>\n",
       "      <td>633599</td>\n",
       "    </tr>\n",
       "    <tr>\n",
       "      <th>20</th>\n",
       "      <td>Service</td>\n",
       "      <td>109480</td>\n",
       "    </tr>\n",
       "    <tr>\n",
       "      <th>21</th>\n",
       "      <td>Medical</td>\n",
       "      <td>14945</td>\n",
       "    </tr>\n",
       "    <tr>\n",
       "      <th>22</th>\n",
       "      <td>Beauty</td>\n",
       "      <td>211975</td>\n",
       "    </tr>\n",
       "    <tr>\n",
       "      <th>23</th>\n",
       "      <td>YCW</td>\n",
       "      <td>5990</td>\n",
       "    </tr>\n",
       "    <tr>\n",
       "      <th>24</th>\n",
       "      <td>Sport</td>\n",
       "      <td>26897</td>\n",
       "    </tr>\n",
       "    <tr>\n",
       "      <th>25</th>\n",
       "      <td>SocialMedia</td>\n",
       "      <td>78510</td>\n",
       "    </tr>\n",
       "    <tr>\n",
       "      <th>26</th>\n",
       "      <td>Vehicle</td>\n",
       "      <td>21940</td>\n",
       "    </tr>\n",
       "  </tbody>\n",
       "</table>\n",
       "</div>"
      ],
      "text/plain": [
       "   domain_categories    count\n",
       "0        Application  2624227\n",
       "1          Education   145744\n",
       "2      Entertainment    17115\n",
       "3            Fashion   361688\n",
       "4             Crypto    47091\n",
       "5              Photo    10175\n",
       "6             Travel    30961\n",
       "7            Finance    21619\n",
       "8           Religion     4798\n",
       "9              Media    30168\n",
       "10              Book    54025\n",
       "11              Shop   889428\n",
       "12           Shorten    27600\n",
       "13        RealEstate     9727\n",
       "14         Streaming    22887\n",
       "15             Music   394993\n",
       "16            Agency  2183000\n",
       "17        Technology   498416\n",
       "18         FoodDrink    78563\n",
       "19         VideoGame   633599\n",
       "20           Service   109480\n",
       "21           Medical    14945\n",
       "22            Beauty   211975\n",
       "23               YCW     5990\n",
       "24             Sport    26897\n",
       "25       SocialMedia    78510\n",
       "26           Vehicle    21940"
      ]
     },
     "execution_count": 103,
     "metadata": {},
     "output_type": "execute_result"
    }
   ],
   "source": [
    "tt = sponsored_videos.withColumn('domain_categories', f.explode('arr_categories')).drop('arr_categories')\n",
    "tt_count = tt.groupby('domain_categories').count()\n",
    "df_tt = tt_count.toPandas()\n",
    "df_tt"
   ]
  },
  {
   "cell_type": "code",
   "execution_count": 104,
   "metadata": {},
   "outputs": [
    {
     "data": {
      "text/plain": [
       "array(['Agency', 'Application', 'Beauty', 'Book', 'Crypto', 'Education',\n",
       "       'Entertainment', 'Fashion', 'Finance', 'FoodDrink', 'Media',\n",
       "       'Medical', 'Music', 'Photo', 'RealEstate', 'Religion', 'Service',\n",
       "       'Shop', 'Shorten', 'SocialMedia', 'Sport', 'Streaming',\n",
       "       'Technology', 'Travel', 'Vehicle', 'VideoGame', 'YCW'],\n",
       "      dtype=object)"
      ]
     },
     "execution_count": 104,
     "metadata": {},
     "output_type": "execute_result"
    }
   ],
   "source": [
    "import numpy as np\n",
    "np.unique(df_tt.domain_categories)"
   ]
  },
  {
   "attachments": {},
   "cell_type": "markdown",
   "metadata": {},
   "source": [
    "Fin Brouillon"
   ]
  },
  {
   "attachments": {},
   "cell_type": "markdown",
   "metadata": {},
   "source": [
    "------------------------------------------------------"
   ]
  },
  {
   "cell_type": "code",
   "execution_count": 9,
   "metadata": {},
   "outputs": [],
   "source": [
    "metadatas_df1 = metadatas_df_1.drop('is_domain', 'is_sponsored', 'domains','sponsor_category',\"description\")\n",
    "fusion_df = metadatas_df1.join(sponsored_videos,\n",
    "                    metadatas_df1.display_id == sponsored_videos.display_id,\n",
    "                    'inner'\n",
    "                    )"
   ]
  },
  {
   "cell_type": "code",
   "execution_count": 64,
   "metadata": {},
   "outputs": [
    {
     "data": {
      "text/plain": [
       "<bound method DataFrame.head of DataFrame[categories: string, channel_id: string, dislike_count: int, display_id: string, duration: int, like_count: int, tags: string, title: string, upload_date: date, view_count: bigint, domains_count: int, has_domains: string, display_id: string, domains: array<string>, is_sponsored: boolean, arr_categories: array<string>]>"
      ]
     },
     "execution_count": 64,
     "metadata": {},
     "output_type": "execute_result"
    }
   ],
   "source": [
    "fusion_df.head"
   ]
  },
  {
   "cell_type": "code",
   "execution_count": 10,
   "metadata": {},
   "outputs": [],
   "source": [
    "def diff_month(d1,d2):\n",
    "    \n",
    "    return (d1.year - d2.year) * 12 + d1.month - d2.month\n",
    "\n",
    "\n",
    "udf_mois = f.udf(diff_month, IntegerType())\n",
    "row1 = fusion_df.agg({\"upload_date\": \"min\"}).collect()[0]\n",
    "min_date = row1['min(upload_date)']\n"
   ]
  },
  {
   "cell_type": "code",
   "execution_count": 11,
   "metadata": {},
   "outputs": [],
   "source": [
    "\n",
    "monthUDF = f.udf(lambda x:diff_month(x,min_date) , IntegerType())\n",
    "fusion_df = fusion_df.withColumn('month_cnt', monthUDF(fusion_df.upload_date))"
   ]
  },
  {
   "cell_type": "code",
   "execution_count": 67,
   "metadata": {},
   "outputs": [
    {
     "data": {
      "text/plain": [
       "<bound method DataFrame.head of DataFrame[categories: string, channel_id: string, dislike_count: int, display_id: string, duration: int, like_count: int, tags: string, title: string, upload_date: date, view_count: bigint, domains_count: int, has_domains: string, display_id: string, domains: array<string>, is_sponsored: boolean, arr_categories: array<string>, month_cnt: int]>"
      ]
     },
     "execution_count": 67,
     "metadata": {},
     "output_type": "execute_result"
    }
   ],
   "source": [
    "fusion_df.head"
   ]
  },
  {
   "attachments": {},
   "cell_type": "markdown",
   "metadata": {},
   "source": [
    "Explode by domain_categories"
   ]
  },
  {
   "cell_type": "code",
   "execution_count": 12,
   "metadata": {},
   "outputs": [
    {
     "data": {
      "text/plain": [
       "<bound method DataFrame.head of DataFrame[categories: string, channel_id: string, dislike_count: int, display_id: string, duration: int, like_count: int, tags: string, title: string, upload_date: date, view_count: bigint, domains_count: int, has_domains: string, display_id: string, domains: array<string>, is_sponsored: boolean, dom_categories: string, month_cnt: int, domain_categories: string]>"
      ]
     },
     "execution_count": 12,
     "metadata": {},
     "output_type": "execute_result"
    }
   ],
   "source": [
    "explode_cat = fusion_df.withColumn(\"domain_categories\", f.explode(\"arr_categories\")).drop('arr_categories')\n",
    "explode_cat.head\n"
   ]
  },
  {
   "cell_type": "code",
   "execution_count": 13,
   "metadata": {},
   "outputs": [],
   "source": [
    "count_month_cat = explode_cat.groupby('month_cnt','domain_categories').count()"
   ]
  },
  {
   "attachments": {},
   "cell_type": "markdown",
   "metadata": {},
   "source": [
    "Explode by domains and filter app.google, rstyle.me and unionforgamers.com"
   ]
  },
  {
   "cell_type": "code",
   "execution_count": 14,
   "metadata": {},
   "outputs": [],
   "source": [
    "explode_domain = fusion_df.withColumn(\"domain\", f.explode(\"domains\")).drop('domains')\n",
    "keep_google = explode_domain.filter(explode_domain.domain == 'play.google.com')\n",
    "count_month_google = keep_google.groupby('month_cnt').count()"
   ]
  },
  {
   "cell_type": "code",
   "execution_count": 15,
   "metadata": {},
   "outputs": [],
   "source": [
    "keep_rstyle = explode_domain.filter(explode_domain.domain == 'rstyle.me')\n",
    "count_month_rstyle = keep_rstyle.groupby('month_cnt').count()"
   ]
  },
  {
   "cell_type": "code",
   "execution_count": 16,
   "metadata": {},
   "outputs": [],
   "source": [
    "keep_union_gamer = explode_domain.filter(explode_domain.domain == 'unionforgamers.com')\n",
    "count_month_union_gamer = keep_union_gamer.groupby('month_cnt').count()"
   ]
  },
  {
   "attachments": {},
   "cell_type": "markdown",
   "metadata": {},
   "source": [
    "--> convert google videos pyspark into pandas"
   ]
  },
  {
   "cell_type": "code",
   "execution_count": 19,
   "metadata": {},
   "outputs": [
    {
     "data": {
      "text/html": [
       "<div>\n",
       "<style scoped>\n",
       "    .dataframe tbody tr th:only-of-type {\n",
       "        vertical-align: middle;\n",
       "    }\n",
       "\n",
       "    .dataframe tbody tr th {\n",
       "        vertical-align: top;\n",
       "    }\n",
       "\n",
       "    .dataframe thead th {\n",
       "        text-align: right;\n",
       "    }\n",
       "</style>\n",
       "<table border=\"1\" class=\"dataframe\">\n",
       "  <thead>\n",
       "    <tr style=\"text-align: right;\">\n",
       "      <th></th>\n",
       "      <th>month_cnt</th>\n",
       "      <th>count</th>\n",
       "    </tr>\n",
       "  </thead>\n",
       "  <tbody>\n",
       "    <tr>\n",
       "      <th>0</th>\n",
       "      <td>148</td>\n",
       "      <td>44601</td>\n",
       "    </tr>\n",
       "    <tr>\n",
       "      <th>1</th>\n",
       "      <td>31</td>\n",
       "      <td>17</td>\n",
       "    </tr>\n",
       "    <tr>\n",
       "      <th>2</th>\n",
       "      <td>137</td>\n",
       "      <td>27986</td>\n",
       "    </tr>\n",
       "    <tr>\n",
       "      <th>3</th>\n",
       "      <td>85</td>\n",
       "      <td>1712</td>\n",
       "    </tr>\n",
       "    <tr>\n",
       "      <th>4</th>\n",
       "      <td>65</td>\n",
       "      <td>585</td>\n",
       "    </tr>\n",
       "    <tr>\n",
       "      <th>...</th>\n",
       "      <td>...</td>\n",
       "      <td>...</td>\n",
       "    </tr>\n",
       "    <tr>\n",
       "      <th>157</th>\n",
       "      <td>12</td>\n",
       "      <td>3</td>\n",
       "    </tr>\n",
       "    <tr>\n",
       "      <th>158</th>\n",
       "      <td>16</td>\n",
       "      <td>3</td>\n",
       "    </tr>\n",
       "    <tr>\n",
       "      <th>159</th>\n",
       "      <td>15</td>\n",
       "      <td>3</td>\n",
       "    </tr>\n",
       "    <tr>\n",
       "      <th>160</th>\n",
       "      <td>14</td>\n",
       "      <td>2</td>\n",
       "    </tr>\n",
       "    <tr>\n",
       "      <th>161</th>\n",
       "      <td>3</td>\n",
       "      <td>12</td>\n",
       "    </tr>\n",
       "  </tbody>\n",
       "</table>\n",
       "<p>162 rows × 2 columns</p>\n",
       "</div>"
      ],
      "text/plain": [
       "     month_cnt  count\n",
       "0          148  44601\n",
       "1           31     17\n",
       "2          137  27986\n",
       "3           85   1712\n",
       "4           65    585\n",
       "..         ...    ...\n",
       "157         12      3\n",
       "158         16      3\n",
       "159         15      3\n",
       "160         14      2\n",
       "161          3     12\n",
       "\n",
       "[162 rows x 2 columns]"
      ]
     },
     "execution_count": 19,
     "metadata": {},
     "output_type": "execute_result"
    }
   ],
   "source": [
    "df_google = count_month_google.toPandas()\n",
    "df_google"
   ]
  },
  {
   "cell_type": "code",
   "execution_count": 17,
   "metadata": {},
   "outputs": [
    {
     "data": {
      "text/html": [
       "<div>\n",
       "<style scoped>\n",
       "    .dataframe tbody tr th:only-of-type {\n",
       "        vertical-align: middle;\n",
       "    }\n",
       "\n",
       "    .dataframe tbody tr th {\n",
       "        vertical-align: top;\n",
       "    }\n",
       "\n",
       "    .dataframe thead th {\n",
       "        text-align: right;\n",
       "    }\n",
       "</style>\n",
       "<table border=\"1\" class=\"dataframe\">\n",
       "  <thead>\n",
       "    <tr style=\"text-align: right;\">\n",
       "      <th></th>\n",
       "      <th>month_cnt</th>\n",
       "      <th>count</th>\n",
       "    </tr>\n",
       "  </thead>\n",
       "  <tbody>\n",
       "    <tr>\n",
       "      <th>0</th>\n",
       "      <td>148</td>\n",
       "      <td>29839</td>\n",
       "    </tr>\n",
       "    <tr>\n",
       "      <th>1</th>\n",
       "      <td>137</td>\n",
       "      <td>20072</td>\n",
       "    </tr>\n",
       "    <tr>\n",
       "      <th>2</th>\n",
       "      <td>85</td>\n",
       "      <td>286</td>\n",
       "    </tr>\n",
       "    <tr>\n",
       "      <th>3</th>\n",
       "      <td>133</td>\n",
       "      <td>16717</td>\n",
       "    </tr>\n",
       "    <tr>\n",
       "      <th>4</th>\n",
       "      <td>78</td>\n",
       "      <td>140</td>\n",
       "    </tr>\n",
       "    <tr>\n",
       "      <th>...</th>\n",
       "      <td>...</td>\n",
       "      <td>...</td>\n",
       "    </tr>\n",
       "    <tr>\n",
       "      <th>116</th>\n",
       "      <td>67</td>\n",
       "      <td>14</td>\n",
       "    </tr>\n",
       "    <tr>\n",
       "      <th>117</th>\n",
       "      <td>46</td>\n",
       "      <td>6</td>\n",
       "    </tr>\n",
       "    <tr>\n",
       "      <th>118</th>\n",
       "      <td>54</td>\n",
       "      <td>1</td>\n",
       "    </tr>\n",
       "    <tr>\n",
       "      <th>119</th>\n",
       "      <td>39</td>\n",
       "      <td>3</td>\n",
       "    </tr>\n",
       "    <tr>\n",
       "      <th>120</th>\n",
       "      <td>32</td>\n",
       "      <td>3</td>\n",
       "    </tr>\n",
       "  </tbody>\n",
       "</table>\n",
       "<p>121 rows × 2 columns</p>\n",
       "</div>"
      ],
      "text/plain": [
       "     month_cnt  count\n",
       "0          148  29839\n",
       "1          137  20072\n",
       "2           85    286\n",
       "3          133  16717\n",
       "4           78    140\n",
       "..         ...    ...\n",
       "116         67     14\n",
       "117         46      6\n",
       "118         54      1\n",
       "119         39      3\n",
       "120         32      3\n",
       "\n",
       "[121 rows x 2 columns]"
      ]
     },
     "execution_count": 17,
     "metadata": {},
     "output_type": "execute_result"
    }
   ],
   "source": [
    "df_rstyle = count_month_rstyle.toPandas()\n",
    "df_rstyle"
   ]
  },
  {
   "cell_type": "code",
   "execution_count": 20,
   "metadata": {},
   "outputs": [
    {
     "data": {
      "text/html": [
       "<div>\n",
       "<style scoped>\n",
       "    .dataframe tbody tr th:only-of-type {\n",
       "        vertical-align: middle;\n",
       "    }\n",
       "\n",
       "    .dataframe tbody tr th {\n",
       "        vertical-align: top;\n",
       "    }\n",
       "\n",
       "    .dataframe thead th {\n",
       "        text-align: right;\n",
       "    }\n",
       "</style>\n",
       "<table border=\"1\" class=\"dataframe\">\n",
       "  <thead>\n",
       "    <tr style=\"text-align: right;\">\n",
       "      <th></th>\n",
       "      <th>month_cnt</th>\n",
       "      <th>count</th>\n",
       "    </tr>\n",
       "  </thead>\n",
       "  <tbody>\n",
       "    <tr>\n",
       "      <th>0</th>\n",
       "      <td>148</td>\n",
       "      <td>2544</td>\n",
       "    </tr>\n",
       "    <tr>\n",
       "      <th>1</th>\n",
       "      <td>137</td>\n",
       "      <td>3730</td>\n",
       "    </tr>\n",
       "    <tr>\n",
       "      <th>2</th>\n",
       "      <td>85</td>\n",
       "      <td>19</td>\n",
       "    </tr>\n",
       "    <tr>\n",
       "      <th>3</th>\n",
       "      <td>133</td>\n",
       "      <td>3256</td>\n",
       "    </tr>\n",
       "    <tr>\n",
       "      <th>4</th>\n",
       "      <td>78</td>\n",
       "      <td>57</td>\n",
       "    </tr>\n",
       "    <tr>\n",
       "      <th>...</th>\n",
       "      <td>...</td>\n",
       "      <td>...</td>\n",
       "    </tr>\n",
       "    <tr>\n",
       "      <th>104</th>\n",
       "      <td>65</td>\n",
       "      <td>1</td>\n",
       "    </tr>\n",
       "    <tr>\n",
       "      <th>105</th>\n",
       "      <td>73</td>\n",
       "      <td>9</td>\n",
       "    </tr>\n",
       "    <tr>\n",
       "      <th>106</th>\n",
       "      <td>55</td>\n",
       "      <td>1</td>\n",
       "    </tr>\n",
       "    <tr>\n",
       "      <th>107</th>\n",
       "      <td>60</td>\n",
       "      <td>2</td>\n",
       "    </tr>\n",
       "    <tr>\n",
       "      <th>108</th>\n",
       "      <td>57</td>\n",
       "      <td>1</td>\n",
       "    </tr>\n",
       "  </tbody>\n",
       "</table>\n",
       "<p>109 rows × 2 columns</p>\n",
       "</div>"
      ],
      "text/plain": [
       "     month_cnt  count\n",
       "0          148   2544\n",
       "1          137   3730\n",
       "2           85     19\n",
       "3          133   3256\n",
       "4           78     57\n",
       "..         ...    ...\n",
       "104         65      1\n",
       "105         73      9\n",
       "106         55      1\n",
       "107         60      2\n",
       "108         57      1\n",
       "\n",
       "[109 rows x 2 columns]"
      ]
     },
     "execution_count": 20,
     "metadata": {},
     "output_type": "execute_result"
    }
   ],
   "source": [
    "df_union = count_month_union_gamer.toPandas()\n",
    "df_union"
   ]
  },
  {
   "cell_type": "code",
   "execution_count": 22,
   "metadata": {},
   "outputs": [
    {
     "data": {
      "image/png": "[encoded data removed]",
      "text/plain": [
       "<Figure size 640x480 with 1 Axes>"
      ]
     },
     "metadata": {},
     "output_type": "display_data"
    },
    {
     "data": {
      "text/plain": [
       "<Figure size 1500x1500 with 0 Axes>"
      ]
     },
     "metadata": {},
     "output_type": "display_data"
    }
   ],
   "source": [
    "import matplotlib.pyplot as plt\n",
    "sns.lineplot(x=\"month_cnt\", y=\"count\", data=df_rstyle, label = 'rstyle.me')\n",
    "sns.lineplot(x=\"month_cnt\", y=\"count\", data=df_google, label = 'play.google.com')\n",
    "sns.lineplot(x=\"month_cnt\", y=\"count\", data=df_union, label = 'unionforgamers.com')\n",
    "plt.figure(figsize=(15,15))\n",
    "plt.show()"
   ]
  },
  {
   "attachments": {},
   "cell_type": "markdown",
   "metadata": {},
   "source": [
    "convert domain count pyspark to Pandas"
   ]
  },
  {
   "cell_type": "code",
   "execution_count": 23,
   "metadata": {},
   "outputs": [],
   "source": [
    "df_count_month_cat = count_month_cat.toPandas()"
   ]
  },
  {
   "cell_type": "code",
   "execution_count": 24,
   "metadata": {},
   "outputs": [
    {
     "data": {
      "text/html": [
       "<div>\n",
       "<style scoped>\n",
       "    .dataframe tbody tr th:only-of-type {\n",
       "        vertical-align: middle;\n",
       "    }\n",
       "\n",
       "    .dataframe tbody tr th {\n",
       "        vertical-align: top;\n",
       "    }\n",
       "\n",
       "    .dataframe thead th {\n",
       "        text-align: right;\n",
       "    }\n",
       "</style>\n",
       "<table border=\"1\" class=\"dataframe\">\n",
       "  <thead>\n",
       "    <tr style=\"text-align: right;\">\n",
       "      <th></th>\n",
       "      <th>month_cnt</th>\n",
       "      <th>domain_categories</th>\n",
       "      <th>count</th>\n",
       "    </tr>\n",
       "  </thead>\n",
       "  <tbody>\n",
       "    <tr>\n",
       "      <th>0</th>\n",
       "      <td>153</td>\n",
       "      <td>Agency</td>\n",
       "      <td>46520</td>\n",
       "    </tr>\n",
       "    <tr>\n",
       "      <th>1</th>\n",
       "      <td>112</td>\n",
       "      <td>Medical</td>\n",
       "      <td>8</td>\n",
       "    </tr>\n",
       "    <tr>\n",
       "      <th>2</th>\n",
       "      <td>130</td>\n",
       "      <td>Application</td>\n",
       "      <td>19705</td>\n",
       "    </tr>\n",
       "    <tr>\n",
       "      <th>3</th>\n",
       "      <td>62</td>\n",
       "      <td>Agency</td>\n",
       "      <td>833</td>\n",
       "    </tr>\n",
       "    <tr>\n",
       "      <th>4</th>\n",
       "      <td>86</td>\n",
       "      <td>Music</td>\n",
       "      <td>764</td>\n",
       "    </tr>\n",
       "    <tr>\n",
       "      <th>...</th>\n",
       "      <td>...</td>\n",
       "      <td>...</td>\n",
       "      <td>...</td>\n",
       "    </tr>\n",
       "    <tr>\n",
       "      <th>3311</th>\n",
       "      <td>101</td>\n",
       "      <td>Shorten</td>\n",
       "      <td>1</td>\n",
       "    </tr>\n",
       "    <tr>\n",
       "      <th>3312</th>\n",
       "      <td>85</td>\n",
       "      <td>Travel</td>\n",
       "      <td>1</td>\n",
       "    </tr>\n",
       "    <tr>\n",
       "      <th>3313</th>\n",
       "      <td>3</td>\n",
       "      <td>Shop</td>\n",
       "      <td>1</td>\n",
       "    </tr>\n",
       "    <tr>\n",
       "      <th>3314</th>\n",
       "      <td>115</td>\n",
       "      <td>Entertainment</td>\n",
       "      <td>1</td>\n",
       "    </tr>\n",
       "    <tr>\n",
       "      <th>3315</th>\n",
       "      <td>58</td>\n",
       "      <td>YCW</td>\n",
       "      <td>1</td>\n",
       "    </tr>\n",
       "  </tbody>\n",
       "</table>\n",
       "<p>3316 rows × 3 columns</p>\n",
       "</div>"
      ],
      "text/plain": [
       "      month_cnt domain_categories  count\n",
       "0           153            Agency  46520\n",
       "1           112           Medical      8\n",
       "2           130       Application  19705\n",
       "3            62            Agency    833\n",
       "4            86             Music    764\n",
       "...         ...               ...    ...\n",
       "3311        101           Shorten      1\n",
       "3312         85            Travel      1\n",
       "3313          3              Shop      1\n",
       "3314        115     Entertainment      1\n",
       "3315         58               YCW      1\n",
       "\n",
       "[3316 rows x 3 columns]"
      ]
     },
     "execution_count": 24,
     "metadata": {},
     "output_type": "execute_result"
    }
   ],
   "source": [
    "df_count_month_cat"
   ]
  },
  {
   "cell_type": "code",
   "execution_count": 25,
   "metadata": {},
   "outputs": [
    {
     "data": {
      "text/plain": [
       "27"
      ]
     },
     "execution_count": 25,
     "metadata": {},
     "output_type": "execute_result"
    }
   ],
   "source": [
    "import numpy as np\n",
    "len(np.unique(df_count_month_cat.domain_categories))"
   ]
  },
  {
   "cell_type": "code",
   "execution_count": 26,
   "metadata": {},
   "outputs": [],
   "source": [
    "df_count_month_cat.set_index(\"month_cnt\", inplace = True)"
   ]
  },
  {
   "cell_type": "code",
   "execution_count": 27,
   "metadata": {},
   "outputs": [
    {
     "data": {
      "image/png": "[encoded data removed]",
      "text/plain": [
       "<Figure size 2000x2000 with 1 Axes>"
      ]
     },
     "metadata": {},
     "output_type": "display_data"
    },
    {
     "data": {
      "text/plain": [
       "<Figure size 4000x4000 with 0 Axes>"
      ]
     },
     "metadata": {},
     "output_type": "display_data"
    }
   ],
   "source": [
    "import matplotlib.pyplot as plt\n",
    "groups = df_count_month_cat.groupby('domain_categories')\n",
    "fig, axs = plt.subplots(figsize = (20,20))\n",
    "#ax.margins(0.05) # Optional, just adds 5% padding to the autoscaling\n",
    "i = 0\n",
    "test_list = ['Agency', 'Application', 'Shop']\n",
    "for name, group in groups:\n",
    "    if name in test_list:\n",
    "\n",
    "        sns.lineplot(x=\"month_cnt\", y=\"count\", data=group, label = name)\n",
    "    \n",
    "\n",
    "    #ax.plot(group.month_cnt, group.count, marker='o', linestyle='', ms=12, label=name)\n",
    "\n",
    "plt.figure(figsize=(40,40))\n",
    "plt.show()"
   ]
  }
 ],
 "metadata": {
  "kernelspec": {
   "display_name": "pyspark_env",
   "language": "python",
   "name": "python3"
  },
  "language_info": {
   "codemirror_mode": {
    "name": "ipython",
    "version": 3
   },
   "file_extension": ".py",
   "mimetype": "text/x-python",
   "name": "python",
   "nbconvert_exporter": "python",
   "pygments_lexer": "ipython3",
   "version": "3.9.13"
  },
  "orig_nbformat": 4,
  "vscode": {
   "interpreter": {
    "hash": "ca300ab63dc54ee58df9e9363d31a9490191400ba673310f5fa2fec0f84101d8"
   }
  }
 },
 "nbformat": 4,
 "nbformat_minor": 2
}
