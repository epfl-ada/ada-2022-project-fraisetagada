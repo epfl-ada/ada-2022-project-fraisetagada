{
 "cells": [
  {
   "cell_type": "code",
   "execution_count": 1,
   "metadata": {},
   "outputs": [],
   "source": [
    "import pandas as pd\n",
    "import seaborn as sns\n",
    "import matplotlib.pyplot as plt\n",
    "\n",
    "plt.style.use(\"ggplot\")"
   ]
  },
  {
   "cell_type": "markdown",
   "metadata": {},
   "source": [
    "## Broad analysis on channels\n",
    "\n",
    "Let us perform a broad analysis on the channels to familiarise ourselves with the data."
   ]
  },
  {
   "cell_type": "code",
   "execution_count": 2,
   "metadata": {},
   "outputs": [],
   "source": [
    "PATH_CHANNELS_SRC = 'data/df_channels_en.tsv.gz'"
   ]
  },
  {
   "cell_type": "code",
   "execution_count": 8,
   "metadata": {},
   "outputs": [],
   "source": [
    "channels_df = pd.read_csv(PATH_CHANNELS_SRC, sep=\"\\t\", parse_dates=[\"join_date\"])"
   ]
  },
  {
   "cell_type": "code",
   "execution_count": 10,
   "metadata": {},
   "outputs": [
    {
     "name": "stdout",
     "output_type": "stream",
     "text": [
      "There are a total of 136470 channels in the dataset\n"
     ]
    },
    {
     "data": {
      "text/html": [
       "<div>\n",
       "<style scoped>\n",
       "    .dataframe tbody tr th:only-of-type {\n",
       "        vertical-align: middle;\n",
       "    }\n",
       "\n",
       "    .dataframe tbody tr th {\n",
       "        vertical-align: top;\n",
       "    }\n",
       "\n",
       "    .dataframe thead th {\n",
       "        text-align: right;\n",
       "    }\n",
       "</style>\n",
       "<table border=\"1\" class=\"dataframe\">\n",
       "  <thead>\n",
       "    <tr style=\"text-align: right;\">\n",
       "      <th></th>\n",
       "      <th>category_cc</th>\n",
       "      <th>join_date</th>\n",
       "      <th>channel</th>\n",
       "      <th>name_cc</th>\n",
       "      <th>subscribers_cc</th>\n",
       "      <th>videos_cc</th>\n",
       "      <th>subscriber_rank_sb</th>\n",
       "      <th>weights</th>\n",
       "    </tr>\n",
       "  </thead>\n",
       "  <tbody>\n",
       "    <tr>\n",
       "      <th>0</th>\n",
       "      <td>Gaming</td>\n",
       "      <td>2010-04-29</td>\n",
       "      <td>UC-lHJZR3Gqxm24_Vd_AJ5Yw</td>\n",
       "      <td>PewDiePie</td>\n",
       "      <td>101000000</td>\n",
       "      <td>3956</td>\n",
       "      <td>3.0</td>\n",
       "      <td>2.087</td>\n",
       "    </tr>\n",
       "    <tr>\n",
       "      <th>1</th>\n",
       "      <td>Education</td>\n",
       "      <td>2006-09-01</td>\n",
       "      <td>UCbCmjCuTUZos6Inko4u57UQ</td>\n",
       "      <td>Cocomelon - Nursery ...</td>\n",
       "      <td>60100000</td>\n",
       "      <td>458</td>\n",
       "      <td>7.0</td>\n",
       "      <td>2.087</td>\n",
       "    </tr>\n",
       "    <tr>\n",
       "      <th>2</th>\n",
       "      <td>Entertainment</td>\n",
       "      <td>2006-09-20</td>\n",
       "      <td>UCpEhnqL0y41EpW2TvWAHD7Q</td>\n",
       "      <td>SET India</td>\n",
       "      <td>56018869</td>\n",
       "      <td>32661</td>\n",
       "      <td>8.0</td>\n",
       "      <td>2.087</td>\n",
       "    </tr>\n",
       "    <tr>\n",
       "      <th>3</th>\n",
       "      <td>Howto &amp; Style</td>\n",
       "      <td>2016-11-15</td>\n",
       "      <td>UC295-Dw_tDNtZXFeAPAW6Aw</td>\n",
       "      <td>5-Minute Crafts</td>\n",
       "      <td>60600000</td>\n",
       "      <td>3591</td>\n",
       "      <td>9.0</td>\n",
       "      <td>2.087</td>\n",
       "    </tr>\n",
       "    <tr>\n",
       "      <th>4</th>\n",
       "      <td>Sports</td>\n",
       "      <td>2007-05-11</td>\n",
       "      <td>UCJ5v_MCY6GNUBTO8-D3XoAg</td>\n",
       "      <td>WWE</td>\n",
       "      <td>48400000</td>\n",
       "      <td>43421</td>\n",
       "      <td>11.0</td>\n",
       "      <td>2.087</td>\n",
       "    </tr>\n",
       "    <tr>\n",
       "      <th>5</th>\n",
       "      <td>Entertainment</td>\n",
       "      <td>2007-01-15</td>\n",
       "      <td>UCIwFjwMjI0y7PDBVEO9-bkQ</td>\n",
       "      <td>Justin Bieber</td>\n",
       "      <td>46574085</td>\n",
       "      <td>134</td>\n",
       "      <td>12.0</td>\n",
       "      <td>2.087</td>\n",
       "    </tr>\n",
       "    <tr>\n",
       "      <th>6</th>\n",
       "      <td>Music</td>\n",
       "      <td>2014-03-12</td>\n",
       "      <td>UCFFbwnve3yF62-tVXkTyHqg</td>\n",
       "      <td>Zee Music Company</td>\n",
       "      <td>43451109</td>\n",
       "      <td>4241</td>\n",
       "      <td>13.0</td>\n",
       "      <td>2.087</td>\n",
       "    </tr>\n",
       "    <tr>\n",
       "      <th>7</th>\n",
       "      <td>Sports</td>\n",
       "      <td>2009-03-17</td>\n",
       "      <td>UCRijo3ddMTht_IHyNSNXpNQ</td>\n",
       "      <td>Dude Perfect</td>\n",
       "      <td>45800000</td>\n",
       "      <td>213</td>\n",
       "      <td>14.0</td>\n",
       "      <td>2.087</td>\n",
       "    </tr>\n",
       "    <tr>\n",
       "      <th>8</th>\n",
       "      <td>Entertainment</td>\n",
       "      <td>2015-05-12</td>\n",
       "      <td>UCk8GzjMOrta8yxDcKfylJYw</td>\n",
       "      <td>✿ Kids Diana Show</td>\n",
       "      <td>34700000</td>\n",
       "      <td>599</td>\n",
       "      <td>16.0</td>\n",
       "      <td>2.087</td>\n",
       "    </tr>\n",
       "    <tr>\n",
       "      <th>9</th>\n",
       "      <td>Music</td>\n",
       "      <td>2006-08-08</td>\n",
       "      <td>UC0C-w0YjGpqDXGB8IHb662A</td>\n",
       "      <td>Ed Sheeran</td>\n",
       "      <td>42000000</td>\n",
       "      <td>154</td>\n",
       "      <td>17.0</td>\n",
       "      <td>2.087</td>\n",
       "    </tr>\n",
       "  </tbody>\n",
       "</table>\n",
       "</div>"
      ],
      "text/plain": [
       "     category_cc  join_date                   channel  \\\n",
       "0         Gaming 2010-04-29  UC-lHJZR3Gqxm24_Vd_AJ5Yw   \n",
       "1      Education 2006-09-01  UCbCmjCuTUZos6Inko4u57UQ   \n",
       "2  Entertainment 2006-09-20  UCpEhnqL0y41EpW2TvWAHD7Q   \n",
       "3  Howto & Style 2016-11-15  UC295-Dw_tDNtZXFeAPAW6Aw   \n",
       "4         Sports 2007-05-11  UCJ5v_MCY6GNUBTO8-D3XoAg   \n",
       "5  Entertainment 2007-01-15  UCIwFjwMjI0y7PDBVEO9-bkQ   \n",
       "6          Music 2014-03-12  UCFFbwnve3yF62-tVXkTyHqg   \n",
       "7         Sports 2009-03-17  UCRijo3ddMTht_IHyNSNXpNQ   \n",
       "8  Entertainment 2015-05-12  UCk8GzjMOrta8yxDcKfylJYw   \n",
       "9          Music 2006-08-08  UC0C-w0YjGpqDXGB8IHb662A   \n",
       "\n",
       "                   name_cc  subscribers_cc  videos_cc  subscriber_rank_sb  \\\n",
       "0                PewDiePie       101000000       3956                 3.0   \n",
       "1  Cocomelon - Nursery ...        60100000        458                 7.0   \n",
       "2                SET India        56018869      32661                 8.0   \n",
       "3          5-Minute Crafts        60600000       3591                 9.0   \n",
       "4                      WWE        48400000      43421                11.0   \n",
       "5            Justin Bieber        46574085        134                12.0   \n",
       "6        Zee Music Company        43451109       4241                13.0   \n",
       "7             Dude Perfect        45800000        213                14.0   \n",
       "8        ✿ Kids Diana Show        34700000        599                16.0   \n",
       "9               Ed Sheeran        42000000        154                17.0   \n",
       "\n",
       "   weights  \n",
       "0    2.087  \n",
       "1    2.087  \n",
       "2    2.087  \n",
       "3    2.087  \n",
       "4    2.087  \n",
       "5    2.087  \n",
       "6    2.087  \n",
       "7    2.087  \n",
       "8    2.087  \n",
       "9    2.087  "
      ]
     },
     "execution_count": 10,
     "metadata": {},
     "output_type": "execute_result"
    }
   ],
   "source": [
    "print(f'There are a total of {channels_df.shape[0]} channels in the dataset.')\n",
    "channels_df.head(10)"
   ]
  },
  {
   "cell_type": "markdown",
   "metadata": {},
   "source": [
    "There are a total of $136'470$ channels in the dataset. Each of them having an assigned category, the number of subscribers and the number of videos among other features."
   ]
  },
  {
   "cell_type": "code",
   "execution_count": 11,
   "metadata": {},
   "outputs": [
    {
     "data": {
      "text/html": [
       "<div>\n",
       "<style scoped>\n",
       "    .dataframe tbody tr th:only-of-type {\n",
       "        vertical-align: middle;\n",
       "    }\n",
       "\n",
       "    .dataframe tbody tr th {\n",
       "        vertical-align: top;\n",
       "    }\n",
       "\n",
       "    .dataframe thead th {\n",
       "        text-align: right;\n",
       "    }\n",
       "</style>\n",
       "<table border=\"1\" class=\"dataframe\">\n",
       "  <thead>\n",
       "    <tr style=\"text-align: right;\">\n",
       "      <th></th>\n",
       "      <th>subscribers_cc</th>\n",
       "      <th>videos_cc</th>\n",
       "      <th>subscriber_rank_sb</th>\n",
       "      <th>weights</th>\n",
       "    </tr>\n",
       "  </thead>\n",
       "  <tbody>\n",
       "    <tr>\n",
       "      <th>count</th>\n",
       "      <td>1.364700e+05</td>\n",
       "      <td>136470.000000</td>\n",
       "      <td>1.364700e+05</td>\n",
       "      <td>136470.000000</td>\n",
       "    </tr>\n",
       "    <tr>\n",
       "      <th>mean</th>\n",
       "      <td>2.466022e+05</td>\n",
       "      <td>699.784231</td>\n",
       "      <td>3.570087e+05</td>\n",
       "      <td>7.349363</td>\n",
       "    </tr>\n",
       "    <tr>\n",
       "      <th>std</th>\n",
       "      <td>1.150096e+06</td>\n",
       "      <td>4524.980928</td>\n",
       "      <td>2.711139e+05</td>\n",
       "      <td>5.277328</td>\n",
       "    </tr>\n",
       "    <tr>\n",
       "      <th>min</th>\n",
       "      <td>1.000000e+04</td>\n",
       "      <td>10.000000</td>\n",
       "      <td>3.000000e+00</td>\n",
       "      <td>2.086500</td>\n",
       "    </tr>\n",
       "    <tr>\n",
       "      <th>25%</th>\n",
       "      <td>1.888575e+04</td>\n",
       "      <td>70.000000</td>\n",
       "      <td>1.161305e+05</td>\n",
       "      <td>4.231500</td>\n",
       "    </tr>\n",
       "    <tr>\n",
       "      <th>50%</th>\n",
       "      <td>4.240000e+04</td>\n",
       "      <td>175.000000</td>\n",
       "      <td>3.015670e+05</td>\n",
       "      <td>6.444000</td>\n",
       "    </tr>\n",
       "    <tr>\n",
       "      <th>75%</th>\n",
       "      <td>1.370000e+05</td>\n",
       "      <td>443.000000</td>\n",
       "      <td>5.704942e+05</td>\n",
       "      <td>9.243500</td>\n",
       "    </tr>\n",
       "    <tr>\n",
       "      <th>max</th>\n",
       "      <td>1.121395e+08</td>\n",
       "      <td>461923.000000</td>\n",
       "      <td>1.030844e+06</td>\n",
       "      <td>53.150500</td>\n",
       "    </tr>\n",
       "  </tbody>\n",
       "</table>\n",
       "</div>"
      ],
      "text/plain": [
       "       subscribers_cc      videos_cc  subscriber_rank_sb        weights\n",
       "count    1.364700e+05  136470.000000        1.364700e+05  136470.000000\n",
       "mean     2.466022e+05     699.784231        3.570087e+05       7.349363\n",
       "std      1.150096e+06    4524.980928        2.711139e+05       5.277328\n",
       "min      1.000000e+04      10.000000        3.000000e+00       2.086500\n",
       "25%      1.888575e+04      70.000000        1.161305e+05       4.231500\n",
       "50%      4.240000e+04     175.000000        3.015670e+05       6.444000\n",
       "75%      1.370000e+05     443.000000        5.704942e+05       9.243500\n",
       "max      1.121395e+08  461923.000000        1.030844e+06      53.150500"
      ]
     },
     "execution_count": 11,
     "metadata": {},
     "output_type": "execute_result"
    }
   ],
   "source": [
    "channels_df.describe()"
   ]
  },
  {
   "cell_type": "markdown",
   "metadata": {},
   "source": [
    "The dataset contains only channels that have at least $10'000$ subscribers. The average content creator has $250'000$ subscribers and publishes $700$ videos."
   ]
  },
  {
   "cell_type": "markdown",
   "metadata": {},
   "source": [
    "### Number of subscribers per channel category"
   ]
  },
  {
   "cell_type": "code",
   "execution_count": 17,
   "metadata": {},
   "outputs": [
    {
     "name": "stdout",
     "output_type": "stream",
     "text": [
      "The top 10 channels by subscribers are:\n"
     ]
    },
    {
     "data": {
      "text/html": [
       "<div>\n",
       "<style scoped>\n",
       "    .dataframe tbody tr th:only-of-type {\n",
       "        vertical-align: middle;\n",
       "    }\n",
       "\n",
       "    .dataframe tbody tr th {\n",
       "        vertical-align: top;\n",
       "    }\n",
       "\n",
       "    .dataframe thead th {\n",
       "        text-align: right;\n",
       "    }\n",
       "</style>\n",
       "<table border=\"1\" class=\"dataframe\">\n",
       "  <thead>\n",
       "    <tr style=\"text-align: right;\">\n",
       "      <th></th>\n",
       "      <th>category_cc</th>\n",
       "      <th>name_cc</th>\n",
       "      <th>subscribers_cc</th>\n",
       "    </tr>\n",
       "  </thead>\n",
       "  <tbody>\n",
       "    <tr>\n",
       "      <th>55</th>\n",
       "      <td>Music</td>\n",
       "      <td>T-Series</td>\n",
       "      <td>112139463</td>\n",
       "    </tr>\n",
       "    <tr>\n",
       "      <th>0</th>\n",
       "      <td>Gaming</td>\n",
       "      <td>PewDiePie</td>\n",
       "      <td>101000000</td>\n",
       "    </tr>\n",
       "    <tr>\n",
       "      <th>3</th>\n",
       "      <td>Howto &amp; Style</td>\n",
       "      <td>5-Minute Crafts</td>\n",
       "      <td>60600000</td>\n",
       "    </tr>\n",
       "    <tr>\n",
       "      <th>1</th>\n",
       "      <td>Education</td>\n",
       "      <td>Cocomelon - Nursery ...</td>\n",
       "      <td>60100000</td>\n",
       "    </tr>\n",
       "    <tr>\n",
       "      <th>2</th>\n",
       "      <td>Entertainment</td>\n",
       "      <td>SET India</td>\n",
       "      <td>56018869</td>\n",
       "    </tr>\n",
       "    <tr>\n",
       "      <th>4</th>\n",
       "      <td>Sports</td>\n",
       "      <td>WWE</td>\n",
       "      <td>48400000</td>\n",
       "    </tr>\n",
       "    <tr>\n",
       "      <th>5</th>\n",
       "      <td>Entertainment</td>\n",
       "      <td>Justin Bieber</td>\n",
       "      <td>46574085</td>\n",
       "    </tr>\n",
       "    <tr>\n",
       "      <th>7</th>\n",
       "      <td>Sports</td>\n",
       "      <td>Dude Perfect</td>\n",
       "      <td>45800000</td>\n",
       "    </tr>\n",
       "    <tr>\n",
       "      <th>6</th>\n",
       "      <td>Music</td>\n",
       "      <td>Zee Music Company</td>\n",
       "      <td>43451109</td>\n",
       "    </tr>\n",
       "    <tr>\n",
       "      <th>9</th>\n",
       "      <td>Music</td>\n",
       "      <td>Ed Sheeran</td>\n",
       "      <td>42000000</td>\n",
       "    </tr>\n",
       "  </tbody>\n",
       "</table>\n",
       "</div>"
      ],
      "text/plain": [
       "      category_cc                  name_cc  subscribers_cc\n",
       "55          Music                 T-Series       112139463\n",
       "0          Gaming                PewDiePie       101000000\n",
       "3   Howto & Style          5-Minute Crafts        60600000\n",
       "1       Education  Cocomelon - Nursery ...        60100000\n",
       "2   Entertainment                SET India        56018869\n",
       "4          Sports                      WWE        48400000\n",
       "5   Entertainment            Justin Bieber        46574085\n",
       "7          Sports             Dude Perfect        45800000\n",
       "6           Music        Zee Music Company        43451109\n",
       "9           Music               Ed Sheeran        42000000"
      ]
     },
     "execution_count": 17,
     "metadata": {},
     "output_type": "execute_result"
    }
   ],
   "source": [
    "sorted_channels_df = channels_df.copy()\n",
    "sorted_channels_df = sorted_channels_df.sort_values(ascending=False, by='subscribers_cc')\n",
    "print(f'The top 10 channels by subscribers are:')\n",
    "sorted_channels_df[['category_cc', 'name_cc', 'subscribers_cc']].head(10)"
   ]
  },
  {
   "cell_type": "markdown",
   "metadata": {},
   "source": [
    "The channel with the most subscribers is the _T-Series_ channel with more than $110'000'000$ subscribers, followed by the _PewDiePie_ channel with $101'000'000$ subscribers."
   ]
  },
  {
   "cell_type": "code",
   "execution_count": 15,
   "metadata": {},
   "outputs": [
    {
     "data": {
      "image/png": "[encoded data removed]",
      "text/plain": [
       "<Figure size 640x480 with 1 Axes>"
      ]
     },
     "metadata": {},
     "output_type": "display_data"
    }
   ],
   "source": [
    "# Order the channels by the number of subscribers per category\n",
    "grouped = (\n",
    "    channels_df.loc[:, [\"category_cc\", \"subscribers_cc\"]]\n",
    "    .groupby(\"category_cc\")\n",
    "    .median()\n",
    "    .sort_values(by=\"subscribers_cc\", ascending=False)\n",
    ")\n",
    "\n",
    "# Plot the categories\n",
    "sns.boxplot(\n",
    "    data=channels_df,\n",
    "    x=channels_df.subscribers_cc,\n",
    "    y=channels_df.category_cc,\n",
    "    order=grouped.index,\n",
    "    showfliers=False,\n",
    ")\n",
    "plt.title(\"Number of subscribers per channel category\")\n",
    "plt.xlabel(\"Number of subscribers\")\n",
    "plt.ylabel(\"Channel category\")\n",
    "plt.show()"
   ]
  },
  {
   "cell_type": "markdown",
   "metadata": {},
   "source": [
    "The channel category with the most number of subscribers is _Comedy_, followed by _News & Politics_ and _Entertainment_. _Travel & Events_ and _Nonprofits & Activism_ have the least number of subscribers."
   ]
  },
  {
   "cell_type": "code",
   "execution_count": 23,
   "metadata": {},
   "outputs": [
    {
     "data": {
      "text/html": [
       "<div>\n",
       "<style scoped>\n",
       "    .dataframe tbody tr th:only-of-type {\n",
       "        vertical-align: middle;\n",
       "    }\n",
       "\n",
       "    .dataframe tbody tr th {\n",
       "        vertical-align: top;\n",
       "    }\n",
       "\n",
       "    .dataframe thead th {\n",
       "        text-align: right;\n",
       "    }\n",
       "</style>\n",
       "<table border=\"1\" class=\"dataframe\">\n",
       "  <thead>\n",
       "    <tr style=\"text-align: right;\">\n",
       "      <th></th>\n",
       "      <th>subscribers_cc</th>\n",
       "    </tr>\n",
       "    <tr>\n",
       "      <th>category_cc</th>\n",
       "      <th></th>\n",
       "    </tr>\n",
       "  </thead>\n",
       "  <tbody>\n",
       "    <tr>\n",
       "      <th>Music</th>\n",
       "      <td>112139463</td>\n",
       "    </tr>\n",
       "    <tr>\n",
       "      <th>Gaming</th>\n",
       "      <td>101000000</td>\n",
       "    </tr>\n",
       "    <tr>\n",
       "      <th>Howto &amp; Style</th>\n",
       "      <td>60600000</td>\n",
       "    </tr>\n",
       "    <tr>\n",
       "      <th>Education</th>\n",
       "      <td>60100000</td>\n",
       "    </tr>\n",
       "    <tr>\n",
       "      <th>Entertainment</th>\n",
       "      <td>56018869</td>\n",
       "    </tr>\n",
       "    <tr>\n",
       "      <th>Sports</th>\n",
       "      <td>48400000</td>\n",
       "    </tr>\n",
       "    <tr>\n",
       "      <th>Film and Animation</th>\n",
       "      <td>29500000</td>\n",
       "    </tr>\n",
       "    <tr>\n",
       "      <th>Comedy</th>\n",
       "      <td>24800000</td>\n",
       "    </tr>\n",
       "    <tr>\n",
       "      <th>Nonprofits &amp; Activism</th>\n",
       "      <td>20700000</td>\n",
       "    </tr>\n",
       "    <tr>\n",
       "      <th>People &amp; Blogs</th>\n",
       "      <td>19600000</td>\n",
       "    </tr>\n",
       "    <tr>\n",
       "      <th>News &amp; Politics</th>\n",
       "      <td>16274836</td>\n",
       "    </tr>\n",
       "    <tr>\n",
       "      <th>Science &amp; Technology</th>\n",
       "      <td>15300000</td>\n",
       "    </tr>\n",
       "    <tr>\n",
       "      <th>Pets &amp; Animals</th>\n",
       "      <td>14800000</td>\n",
       "    </tr>\n",
       "    <tr>\n",
       "      <th>Autos &amp; Vehicles</th>\n",
       "      <td>6790000</td>\n",
       "    </tr>\n",
       "    <tr>\n",
       "      <th>Travel &amp; Events</th>\n",
       "      <td>4900000</td>\n",
       "    </tr>\n",
       "  </tbody>\n",
       "</table>\n",
       "</div>"
      ],
      "text/plain": [
       "                       subscribers_cc\n",
       "category_cc                          \n",
       "Music                       112139463\n",
       "Gaming                      101000000\n",
       "Howto & Style                60600000\n",
       "Education                    60100000\n",
       "Entertainment                56018869\n",
       "Sports                       48400000\n",
       "Film and Animation           29500000\n",
       "Comedy                       24800000\n",
       "Nonprofits & Activism        20700000\n",
       "People & Blogs               19600000\n",
       "News & Politics              16274836\n",
       "Science & Technology         15300000\n",
       "Pets & Animals               14800000\n",
       "Autos & Vehicles              6790000\n",
       "Travel & Events               4900000"
      ]
     },
     "execution_count": 23,
     "metadata": {},
     "output_type": "execute_result"
    }
   ],
   "source": [
    "channels_df.groupby(\"category_cc\").max(\"subscriber_cc\").sort_values(by=\"subscribers_cc\", ascending=False)[['subscribers_cc']]"
   ]
  },
  {
   "cell_type": "markdown",
   "metadata": {},
   "source": [
    "The channel with the most number of subscribers in the category _Travel & Events_ has $4'900'000$ subscribers, which is $22$ times less than the _T-Series_ channel."
   ]
  },
  {
   "cell_type": "code",
   "execution_count": 24,
   "metadata": {},
   "outputs": [
    {
     "data": {
      "text/plain": [
       "(Timestamp('2004-09-16 00:00:00'), Timestamp('2019-08-23 00:00:00'))"
      ]
     },
     "execution_count": 24,
     "metadata": {},
     "output_type": "execute_result"
    }
   ],
   "source": [
    "channels_df.join_date.min(), channels_df.join_date.max()"
   ]
  },
  {
   "cell_type": "markdown",
   "metadata": {},
   "source": [
    "The channels were created from end of $2004$ to end of $2019$."
   ]
  },
  {
   "cell_type": "code",
   "execution_count": 27,
   "metadata": {},
   "outputs": [
    {
     "data": {
      "text/plain": [
       "Text(0, 0.5, 'Number of channels')"
      ]
     },
     "execution_count": 27,
     "metadata": {},
     "output_type": "execute_result"
    },
    {
     "data": {
      "image/png": "[encoded data removed]",
      "text/plain": [
       "<Figure size 640x480 with 1 Axes>"
      ]
     },
     "metadata": {},
     "output_type": "display_data"
    }
   ],
   "source": [
    "# plot histogram of join dates\n",
    "channels_df.join_date.hist(bins=100)\n",
    "plt.title(\"Join date of channels\")\n",
    "plt.xlabel(\"Join date\")\n",
    "plt.ylabel(\"Number of channels\")"
   ]
  },
  {
   "cell_type": "markdown",
   "metadata": {},
   "source": [
    "The decrease in the number of channels joining the platform from $2018$ may be due to the fact that young channels are less likely to reach the $10'000$ subscribers threshold imposed by our dataset."
   ]
  },
  {
   "cell_type": "markdown",
   "metadata": {},
   "source": [
    "The channel at index 62 is _YouTube_ itself. It is interesting to note that the channel has no `join_date`."
   ]
  },
  {
   "cell_type": "code",
   "execution_count": 28,
   "metadata": {},
   "outputs": [
    {
     "data": {
      "text/plain": [
       "category_cc                      Entertainment\n",
       "join_date                                  NaT\n",
       "channel               UCBR8-60-B28hp2BmDPdntcQ\n",
       "name_cc                                YouTube\n",
       "subscribers_cc                        28200000\n",
       "videos_cc                                  301\n",
       "subscriber_rank_sb                       110.0\n",
       "weights                                  2.087\n",
       "Name: 62, dtype: object"
      ]
     },
     "execution_count": 28,
     "metadata": {},
     "output_type": "execute_result"
    }
   ],
   "source": [
    "channels_df.iloc[62].head(65)"
   ]
  },
  {
   "cell_type": "markdown",
   "metadata": {},
   "source": [
    "### Channel with most subscribers"
   ]
  },
  {
   "cell_type": "code",
   "execution_count": 29,
   "metadata": {},
   "outputs": [
    {
     "data": {
      "text/plain": [
       "category_cc                              Music\n",
       "join_date                  2006-03-13 00:00:00\n",
       "channel               UCq-Fj5jknLsUf-MWSy4_brA\n",
       "name_cc                               T-Series\n",
       "subscribers_cc                       112139463\n",
       "videos_cc                                13839\n",
       "subscriber_rank_sb                       102.0\n",
       "weights                                  2.087\n",
       "Name: 55, dtype: object"
      ]
     },
     "execution_count": 29,
     "metadata": {},
     "output_type": "execute_result"
    }
   ],
   "source": [
    "channels_df.loc[channels_df['subscribers_cc'].idxmax()]"
   ]
  },
  {
   "cell_type": "markdown",
   "metadata": {},
   "source": [
    "### Channel with most videos"
   ]
  },
  {
   "cell_type": "code",
   "execution_count": 30,
   "metadata": {},
   "outputs": [
    {
     "data": {
      "text/plain": [
       "category_cc                    News & Politics\n",
       "join_date                  2015-06-17 00:00:00\n",
       "channel               UCHTK-2W11Vh1V4uwofOfR4w\n",
       "name_cc                             AP Archive\n",
       "subscribers_cc                         1770000\n",
       "videos_cc                               461923\n",
       "subscriber_rank_sb                      6059.0\n",
       "weights                                 2.4625\n",
       "Name: 2795, dtype: object"
      ]
     },
     "execution_count": 30,
     "metadata": {},
     "output_type": "execute_result"
    }
   ],
   "source": [
    "channels_df.loc[channels_df[\"videos_cc\"].idxmax()]"
   ]
  },
  {
   "cell_type": "markdown",
   "metadata": {},
   "source": [
    "The channel with the most subscribers is _T-Series_ with more than $110'000'000$ subscribers. The channel with the most videos is _AP Archive_ with more than $460'000$ videos!"
   ]
  }
 ],
 "metadata": {
  "kernelspec": {
   "display_name": "Python 3.9.15 ('spark')",
   "language": "python",
   "name": "python3"
  },
  "language_info": {
   "codemirror_mode": {
    "name": "ipython",
    "version": 3
   },
   "file_extension": ".py",
   "mimetype": "text/x-python",
   "name": "python",
   "nbconvert_exporter": "python",
   "pygments_lexer": "ipython3",
   "version": "3.9.15"
  },
  "orig_nbformat": 4,
  "vscode": {
   "interpreter": {
    "hash": "58222ebbc97bc15a7dd406d2f7b4dd2466104a906450c8e9dcb294b8e2a99cab"
   }
  }
 },
 "nbformat": 4,
 "nbformat_minor": 2
}
