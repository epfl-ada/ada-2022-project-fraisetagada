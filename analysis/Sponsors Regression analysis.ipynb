{
 "cells": [
  {
   "cell_type": "markdown",
   "id": "4d9b36cd",
   "metadata": {},
   "source": [
    "### Sponsors Regression analysis\n",
    "\n",
    "Regression analysis to try and understand more the effect of sponsors on the popularity of a video."
   ]
  },
  {
   "cell_type": "code",
   "execution_count": 1,
   "id": "dabd8493",
   "metadata": {},
   "outputs": [
    {
     "data": {
      "text/html": [
       "\n",
       "\t\t\t<script type=\"text/javascript\">\n",
       "\t\t\t<!--\n",
       "\t\t\t\t\n",
       "\t\t\t{\n",
       "\t\t\t\tvar element = document.getElementById('NetworKit_script');\n",
       "\t\t\t\tif (element) {\n",
       "\t\t\t\t\telement.parentNode.removeChild(element);\n",
       "\t\t\t\t}\n",
       "\t\t\t\telement = document.createElement('script');\n",
       "\t\t\t\telement.type = 'text/javascript';\n",
       "\t\t\t\telement.innerHTML = 'function NetworKit_pageEmbed(id) { var i, j; var elements; elements = document.getElementById(id).getElementsByClassName(\"Plot\"); for (i=0; i<elements.length; i++) { elements[i].id = id + \"_Plot_\" + i; var data = elements[i].getAttribute(\"data-image\").split(\"|\"); elements[i].removeAttribute(\"data-image\"); var content = \"<div class=\\\\\"Image\\\\\" id=\\\\\"\" + elements[i].id + \"_Image\\\\\" />\"; elements[i].innerHTML = content; elements[i].setAttribute(\"data-image-index\", 0); elements[i].setAttribute(\"data-image-length\", data.length); for (j=0; j<data.length; j++) { elements[i].setAttribute(\"data-image-\" + j, data[j]); } NetworKit_plotUpdate(elements[i]); elements[i].onclick = function (e) { NetworKit_overlayShow((e.target) ? e.target : e.srcElement); } } elements = document.getElementById(id).getElementsByClassName(\"HeatCell\"); for (i=0; i<elements.length; i++) { var data = parseFloat(elements[i].getAttribute(\"data-heat\")); var color = \"#00FF00\"; if (data <= 1 && data > 0) { color = \"hsla(0, 100%, 75%, \" + (data) + \")\"; } else if (data <= 0 && data >= -1) { color = \"hsla(240, 100%, 75%, \" + (-data) + \")\"; } elements[i].style.backgroundColor = color; } elements = document.getElementById(id).getElementsByClassName(\"Details\"); for (i=0; i<elements.length; i++) { elements[i].setAttribute(\"data-title\", \"-\"); NetworKit_toggleDetails(elements[i]); elements[i].onclick = function (e) { NetworKit_toggleDetails((e.target) ? e.target : e.srcElement); } } elements = document.getElementById(id).getElementsByClassName(\"MathValue\"); for (i=elements.length-1; i>=0; i--) { value = elements[i].innerHTML.trim(); if (value === \"nan\") { elements[i].parentNode.innerHTML = \"\" } } elements = document.getElementById(id).getElementsByClassName(\"SubCategory\"); for (i=elements.length-1; i>=0; i--) { value = elements[i].innerHTML.trim(); if (value === \"\") { elements[i].parentNode.removeChild(elements[i]) } } elements = document.getElementById(id).getElementsByClassName(\"Category\"); for (i=elements.length-1; i>=0; i--) { value = elements[i].innerHTML.trim(); if (value === \"\") { elements[i].parentNode.removeChild(elements[i]) } } var isFirefox = false; try { isFirefox = typeof InstallTrigger !== \"undefined\"; } catch (e) {} if (!isFirefox) { alert(\"Currently the function\\'s output is only fully supported by Firefox.\"); } } function NetworKit_plotUpdate(source) { var index = source.getAttribute(\"data-image-index\"); var data = source.getAttribute(\"data-image-\" + index); var image = document.getElementById(source.id + \"_Image\"); image.style.backgroundImage = \"url(\" + data + \")\"; } function NetworKit_showElement(id, show) { var element = document.getElementById(id); element.style.display = (show) ? \"block\" : \"none\"; } function NetworKit_overlayShow(source) { NetworKit_overlayUpdate(source); NetworKit_showElement(\"NetworKit_Overlay\", true); } function NetworKit_overlayUpdate(source) { document.getElementById(\"NetworKit_Overlay_Title\").innerHTML = source.title; var index = source.getAttribute(\"data-image-index\"); var data = source.getAttribute(\"data-image-\" + index); var image = document.getElementById(\"NetworKit_Overlay_Image\"); image.setAttribute(\"data-id\", source.id); image.style.backgroundImage = \"url(\" + data + \")\"; var link = document.getElementById(\"NetworKit_Overlay_Toolbar_Bottom_Save\"); link.href = data; link.download = source.title + \".svg\"; } function NetworKit_overlayImageShift(delta) { var image = document.getElementById(\"NetworKit_Overlay_Image\"); var source = document.getElementById(image.getAttribute(\"data-id\")); var index = parseInt(source.getAttribute(\"data-image-index\")); var length = parseInt(source.getAttribute(\"data-image-length\")); var index = (index+delta) % length; if (index < 0) { index = length + index; } source.setAttribute(\"data-image-index\", index); NetworKit_overlayUpdate(source); } function NetworKit_toggleDetails(source) { var childs = source.children; var show = false; if (source.getAttribute(\"data-title\") == \"-\") { source.setAttribute(\"data-title\", \"+\"); show = false; } else { source.setAttribute(\"data-title\", \"-\"); show = true; } for (i=0; i<childs.length; i++) { if (show) { childs[i].style.display = \"block\"; } else { childs[i].style.display = \"none\"; } } }';\n",
       "\t\t\t\telement.setAttribute('id', 'NetworKit_script');\n",
       "\t\t\t\tdocument.head.appendChild(element);\n",
       "\t\t\t}\n",
       "\t\t\n",
       "\t\t\t\t\n",
       "\t\t\t{\n",
       "\t\t\t\tvar element = document.getElementById('NetworKit_style');\n",
       "\t\t\t\tif (element) {\n",
       "\t\t\t\t\telement.parentNode.removeChild(element);\n",
       "\t\t\t\t}\n",
       "\t\t\t\telement = document.createElement('style');\n",
       "\t\t\t\telement.type = 'text/css';\n",
       "\t\t\t\telement.innerHTML = '.NetworKit_Page { font-family: Arial, Helvetica, sans-serif; font-size: 14px; } .NetworKit_Page .Value:before { font-family: Arial, Helvetica, sans-serif; font-size: 1.05em; content: attr(data-title) \":\"; margin-left: -2.5em; padding-right: 0.5em; } .NetworKit_Page .Details .Value:before { display: block; } .NetworKit_Page .Value { font-family: monospace; white-space: pre; padding-left: 2.5em; white-space: -moz-pre-wrap !important; white-space: -pre-wrap; white-space: -o-pre-wrap; white-space: pre-wrap; word-wrap: break-word; tab-size: 4; -moz-tab-size: 4; } .NetworKit_Page .Category { clear: both; padding-left: 1em; margin-bottom: 1.5em; } .NetworKit_Page .Category:before { content: attr(data-title); font-size: 1.75em; display: block; margin-left: -0.8em; margin-bottom: 0.5em; } .NetworKit_Page .SubCategory { margin-bottom: 1.5em; padding-left: 1em; } .NetworKit_Page .SubCategory:before { font-size: 1.6em; display: block; margin-left: -0.8em; margin-bottom: 0.5em; } .NetworKit_Page .SubCategory[data-title]:before { content: attr(data-title); } .NetworKit_Page .Block { display: block; } .NetworKit_Page .Block:after { content: \".\"; visibility: hidden; display: block; height: 0; clear: both; } .NetworKit_Page .Block .Thumbnail_Overview, .NetworKit_Page .Block .Thumbnail_ScatterPlot { width: 260px; float: left; } .NetworKit_Page .Block .Thumbnail_Overview img, .NetworKit_Page .Block .Thumbnail_ScatterPlot img { width: 260px; } .NetworKit_Page .Block .Thumbnail_Overview:before, .NetworKit_Page .Block .Thumbnail_ScatterPlot:before { display: block; text-align: center; font-weight: bold; } .NetworKit_Page .Block .Thumbnail_Overview:before { content: attr(data-title); } .NetworKit_Page .HeatCell { font-family: \"Courier New\", Courier, monospace; cursor: pointer; } .NetworKit_Page .HeatCell, .NetworKit_Page .HeatCellName { display: inline; padding: 0.1em; margin-right: 2px; background-color: #FFFFFF } .NetworKit_Page .HeatCellName { margin-left: 0.25em; } .NetworKit_Page .HeatCell:before { content: attr(data-heat); display: inline-block; color: #000000; width: 4em; text-align: center; } .NetworKit_Page .Measure { clear: both; } .NetworKit_Page .Measure .Details { cursor: pointer; } .NetworKit_Page .Measure .Details:before { content: \"[\" attr(data-title) \"]\"; display: block; } .NetworKit_Page .Measure .Details .Value { border-left: 1px dotted black; margin-left: 0.4em; padding-left: 3.5em; pointer-events: none; } .NetworKit_Page .Measure .Details .Spacer:before { content: \".\"; opacity: 0.0; pointer-events: none; } .NetworKit_Page .Measure .Plot { width: 440px; height: 440px; cursor: pointer; float: left; margin-left: -0.9em; margin-right: 20px; } .NetworKit_Page .Measure .Plot .Image { background-repeat: no-repeat; background-position: center center; background-size: contain; height: 100%; pointer-events: none; } .NetworKit_Page .Measure .Stat { width: 500px; float: left; } .NetworKit_Page .Measure .Stat .Group { padding-left: 1.25em; margin-bottom: 0.75em; } .NetworKit_Page .Measure .Stat .Group .Title { font-size: 1.1em; display: block; margin-bottom: 0.3em; margin-left: -0.75em; border-right-style: dotted; border-right-width: 1px; border-bottom-style: dotted; border-bottom-width: 1px; background-color: #D0D0D0; padding-left: 0.2em; } .NetworKit_Page .Measure .Stat .Group .List { -webkit-column-count: 3; -moz-column-count: 3; column-count: 3; } .NetworKit_Page .Measure .Stat .Group .List .Entry { position: relative; line-height: 1.75em; } .NetworKit_Page .Measure .Stat .Group .List .Entry[data-tooltip]:before { position: absolute; left: 0; top: -40px; background-color: #808080; color: #ffffff; height: 30px; line-height: 30px; border-radius: 5px; padding: 0 15px; content: attr(data-tooltip); white-space: nowrap; display: none; } .NetworKit_Page .Measure .Stat .Group .List .Entry[data-tooltip]:after { position: absolute; left: 15px; top: -10px; border-top: 7px solid #808080; border-left: 7px solid transparent; border-right: 7px solid transparent; content: \"\"; display: none; } .NetworKit_Page .Measure .Stat .Group .List .Entry[data-tooltip]:hover:after, .NetworKit_Page .Measure .Stat .Group .List .Entry[data-tooltip]:hover:before { display: block; } .NetworKit_Page .Measure .Stat .Group .List .Entry .MathValue { font-family: \"Courier New\", Courier, monospace; } .NetworKit_Page .Measure:after { content: \".\"; visibility: hidden; display: block; height: 0; clear: both; } .NetworKit_Page .PartitionPie { clear: both; } .NetworKit_Page .PartitionPie img { width: 600px; } #NetworKit_Overlay { left: 0px; top: 0px; display: none; position: absolute; width: 100%; height: 100%; background-color: rgba(0,0,0,0.6); z-index: 1000; } #NetworKit_Overlay_Title { position: absolute; color: white; transform: rotate(-90deg); width: 32em; height: 32em; padding-right: 0.5em; padding-top: 0.5em; text-align: right; font-size: 40px; } #NetworKit_Overlay .button { background: white; cursor: pointer; } #NetworKit_Overlay .button:before { size: 13px; display: inline-block; text-align: center; margin-top: 0.5em; margin-bottom: 0.5em; width: 1.5em; height: 1.5em; } #NetworKit_Overlay .icon-close:before { content: \"X\"; } #NetworKit_Overlay .icon-previous:before { content: \"P\"; } #NetworKit_Overlay .icon-next:before { content: \"N\"; } #NetworKit_Overlay .icon-save:before { content: \"S\"; } #NetworKit_Overlay_Toolbar_Top, #NetworKit_Overlay_Toolbar_Bottom { position: absolute; width: 40px; right: 13px; text-align: right; z-index: 1100; } #NetworKit_Overlay_Toolbar_Top { top: 0.5em; } #NetworKit_Overlay_Toolbar_Bottom { Bottom: 0.5em; } #NetworKit_Overlay_ImageContainer { position: absolute; top: 5%; left: 5%; height: 90%; width: 90%; background-repeat: no-repeat; background-position: center center; background-size: contain; } #NetworKit_Overlay_Image { height: 100%; width: 100%; background-repeat: no-repeat; background-position: center center; background-size: contain; }';\n",
       "\t\t\t\telement.setAttribute('id', 'NetworKit_style');\n",
       "\t\t\t\tdocument.head.appendChild(element);\n",
       "\t\t\t}\n",
       "\t\t\n",
       "\t\t\t\t\n",
       "\t\t\t{\n",
       "\t\t\t\tvar element = document.getElementById('NetworKit_Overlay');\n",
       "\t\t\t\tif (element) {\n",
       "\t\t\t\t\telement.parentNode.removeChild(element);\n",
       "\t\t\t\t}\n",
       "\t\t\t\telement = document.createElement('div');\n",
       "\t\t\t\telement.innerHTML = '<div id=\"NetworKit_Overlay_Toolbar_Top\"><div class=\"button icon-close\" id=\"NetworKit_Overlay_Close\" /></div><div id=\"NetworKit_Overlay_Title\" /> <div id=\"NetworKit_Overlay_ImageContainer\"> <div id=\"NetworKit_Overlay_Image\" /> </div> <div id=\"NetworKit_Overlay_Toolbar_Bottom\"> <div class=\"button icon-previous\" onclick=\"NetworKit_overlayImageShift(-1)\" /> <div class=\"button icon-next\" onclick=\"NetworKit_overlayImageShift(1)\" /> <a id=\"NetworKit_Overlay_Toolbar_Bottom_Save\"><div class=\"button icon-save\" /></a> </div>';\n",
       "\t\t\t\telement.setAttribute('id', 'NetworKit_Overlay');\n",
       "\t\t\t\tdocument.body.appendChild(element);\n",
       "\t\t\t\tdocument.getElementById('NetworKit_Overlay_Close').onclick = function (e) {\n",
       "\t\t\t\t\tdocument.getElementById('NetworKit_Overlay').style.display = 'none';\n",
       "\t\t\t\t}\n",
       "\t\t\t}\n",
       "\t\t\n",
       "\t\t\t-->\n",
       "\t\t\t</script>\n",
       "\t\t"
      ]
     },
     "metadata": {},
     "output_type": "display_data"
    }
   ],
   "source": [
    "# FINDSPARK\n",
    "import findspark\n",
    "findspark.init()\n",
    "\n",
    "# BASIC IMPORTS\n",
    "import re\n",
    "import pandas as pd\n",
    "import numpy as np\n",
    "import seaborn as sns\n",
    "import matplotlib.pyplot as plt\n",
    "\n",
    "from tqdm import tqdm\n",
    "\n",
    "import scipy.stats as stats\n",
    "from scipy.stats import ttest_ind, ttest_rel\n",
    "\n",
    "import statsmodels.api as sm\n",
    "import statsmodels.formula.api as smf\n",
    "\n",
    "import networkit as nk\n",
    "\n",
    "# PYSPARK\n",
    "from pyspark.sql.functions import col, udf, explode, when, collect_list, size, mean\n",
    "from pyspark.sql.column import Column, _to_java_column\n",
    "from pyspark.sql.types import StructType, StructField, IntegerType, DoubleType, LongType, StringType, DateType, ArrayType, BooleanType, FloatType\n",
    "\n",
    "from pyspark.sql import SparkSession\n",
    "import pyspark as ps\n",
    "config = ps.SparkConf()\n",
    "config.set('spark.executor.heartbeatInterval', '3600s')\n",
    "config.set('spark.network.timeout', '7200s')\n",
    "config.set('spark.driver.memory', '16g') # Increase the driver memory to avoid HeapOverflow when repartitioning.\n",
    "config.set('spark.driver.maxResultSize', '16g')\n",
    "sc = ps.SparkContext('local[*]', '', conf=config) # write 'local' for single-threaded execution and 'local[*]' for multi-threaded execution.\n",
    "spark = SparkSession(sc)\n",
    "\n",
    "plt.style.use('ggplot')"
   ]
  },
  {
   "cell_type": "code",
   "execution_count": 2,
   "id": "195b0a52",
   "metadata": {},
   "outputs": [],
   "source": [
    "PATH_ALL_METADATAS_SRC = '../data/generated/all_metadatas_en.parquet'\n",
    "PATH_ANALYSIS_DF = '../data/generated/sponsor_regression_df.parquet'"
   ]
  },
  {
   "cell_type": "code",
   "execution_count": 3,
   "id": "45672296",
   "metadata": {},
   "outputs": [],
   "source": [
    "all_metadatas = spark.read.parquet(PATH_ALL_METADATAS_SRC)"
   ]
  },
  {
   "cell_type": "code",
   "execution_count": 4,
   "id": "95346b59",
   "metadata": {},
   "outputs": [],
   "source": [
    "all_metadatas = all_metadatas \\\n",
    "    .withColumn('like_view_ratio', col('like_count') / col('view_count')) \\\n",
    "    .withColumn('dislike_view_ratio', col('dislike_count') / col('view_count')) \\\n",
    "    .withColumn('like_dislike_ratio', col('like_count') / col('dislike_count'))\n",
    "\n",
    "all_metadatas = all_metadatas \\\n",
    "    .where(col('like_view_ratio').isNotNull()) \\\n",
    "    .where(col('dislike_view_ratio').isNotNull()) \\\n",
    "    .where(col('like_dislike_ratio').isNotNull())"
   ]
  },
  {
   "cell_type": "code",
   "execution_count": 5,
   "id": "dd9a1656",
   "metadata": {},
   "outputs": [
    {
     "data": {
      "text/plain": [
       "[('display_id', 'string'),\n",
       " ('domains', 'array<string>'),\n",
       " ('domain_categories', 'array<string>'),\n",
       " ('is_sponsored', 'boolean'),\n",
       " ('categories', 'string'),\n",
       " ('channel_id', 'string'),\n",
       " ('crawl_date', 'date'),\n",
       " ('description', 'string'),\n",
       " ('dislike_count', 'int'),\n",
       " ('duration', 'int'),\n",
       " ('like_count', 'int'),\n",
       " ('tags', 'string'),\n",
       " ('title', 'string'),\n",
       " ('upload_date', 'date'),\n",
       " ('view_count', 'bigint'),\n",
       " ('diff_month', 'int'),\n",
       " ('like_view_ratio', 'double'),\n",
       " ('dislike_view_ratio', 'double'),\n",
       " ('like_dislike_ratio', 'double')]"
      ]
     },
     "execution_count": 5,
     "metadata": {},
     "output_type": "execute_result"
    }
   ],
   "source": [
    "all_metadatas.dtypes"
   ]
  },
  {
   "cell_type": "code",
   "execution_count": 7,
   "id": "fe1675e5",
   "metadata": {},
   "outputs": [],
   "source": [
    "df_reg = all_metadatas.select('is_sponsored', 'like_view_ratio')"
   ]
  },
  {
   "cell_type": "code",
   "execution_count": 9,
   "id": "65b8ce49",
   "metadata": {},
   "outputs": [],
   "source": [
    "# Run this cell to write the parquet file regression_urls with the columns you want to fit on :\n",
    "all_metadatas.write.parquet(PATH_ANALYSIS_DF)"
   ]
  },
  {
   "cell_type": "code",
   "execution_count": 10,
   "id": "a4fdb75f",
   "metadata": {},
   "outputs": [],
   "source": [
    "import pyarrow.parquet as pq\n",
    "import statsmodels.formula.api as smf\n",
    "\n",
    "class DataSet(dict):\n",
    "    def __init__(self, path):\n",
    "        self.parquet = pq.ParquetDataset(path)\n",
    "\n",
    "    def __getitem__(self, key):\n",
    "        try:\n",
    "            return self.parquet.read([key]).to_pandas()[key]\n",
    "        except:\n",
    "            raise KeyError\n",
    "\n",
    "pd_df_reg = DataSet(PATH_ANALYSIS_DF)"
   ]
  },
  {
   "cell_type": "code",
   "execution_count": 11,
   "id": "93c7598c",
   "metadata": {},
   "outputs": [],
   "source": [
    "pd_df_reg[\"is_sponsored\"] = pd_df_reg[\"is_sponsored\"].astype(int)"
   ]
  },
  {
   "cell_type": "code",
   "execution_count": 13,
   "id": "d3e995a5",
   "metadata": {},
   "outputs": [
    {
     "name": "stdout",
     "output_type": "stream",
     "text": [
      "                            OLS Regression Results                            \n",
      "==============================================================================\n",
      "Dep. Variable:        like_view_ratio   R-squared:                       0.000\n",
      "Model:                            OLS   Adj. R-squared:                  0.000\n",
      "Method:                 Least Squares   F-statistic:                     4707.\n",
      "Date:                Sun, 18 Dec 2022   Prob (F-statistic):               0.00\n",
      "Time:                        14:45:52   Log-Likelihood:            -5.1947e+06\n",
      "No. Observations:            25585154   AIC:                         1.039e+07\n",
      "Df Residuals:                25585152   BIC:                         1.039e+07\n",
      "Df Model:                           1                                         \n",
      "Covariance Type:            nonrobust                                         \n",
      "===========================================================================================\n",
      "                              coef    std err          t      P>|t|      [0.025      0.975]\n",
      "-------------------------------------------------------------------------------------------\n",
      "Intercept                   0.0222   6.65e-05    333.006      0.000       0.022       0.022\n",
      "C(is_sponsored)[T.True]     0.0096      0.000     68.610      0.000       0.009       0.010\n",
      "=====================================================================================\n",
      "Omnibus:                268831906.203   Durbin-Watson:                          2.000\n",
      "Prob(Omnibus):                  0.000   Jarque-Bera (JB):   677093342197511880704.000\n",
      "Skew:                        5001.312   Prob(JB):                                0.00\n",
      "Kurtosis:                25202051.365   Cond. No.                                2.54\n",
      "=====================================================================================\n",
      "\n",
      "Notes:\n",
      "[1] Standard Errors assume that the covariance matrix of the errors is correctly specified.\n"
     ]
    }
   ],
   "source": [
    "mod = smf.ols('like_view_ratio ~ C(is_sponsored)', data=pd_df_reg)\n",
    "np.random.seed(2)\n",
    "res = mod.fit()\n",
    "print(res.summary())"
   ]
  },
  {
   "cell_type": "markdown",
   "id": "b28fcb30",
   "metadata": {},
   "source": [
    "We observe that the p-values and confidence intervals are coherent (p-value < 0.05); If we take the entire dataset, we observe that in average we have : ${LikePerView = 0.0212 + IsSponsored*0.0096}$ \n",
    "\n",
    "\n",
    "We can thus see that on average the fact that a video is sponsored account for $\\frac{0.0096}{0.0212}*100 = 45$% of the likes per view on a video if we consider this simple model. \n",
    "\n",
    "\n",
    "Although we get a pretty positive analysis for the effect of sponsorship on videos we still need to keep in mind that we are only using a simple model and that lots of non-identified confounder could have some impact on the \"popularity\" metrics we use, just as a simple exemple we could take a look at the \"popularity\" of creator that tells their audience to \"like, comment and subscribe\" versus those that don't.\n",
    "\n",
    "Another key point that needs to be talked upon is akin to the question of the egg and the chicken, is the fact that sponsored videos tends to do better than un-sponsored one because the creator was already popular at the beginning or because sponsors have a significant effects, we will now try to see the effet at the individual channel level."
   ]
  },
  {
   "cell_type": "code",
   "execution_count": 14,
   "id": "4098076c",
   "metadata": {},
   "outputs": [],
   "source": [
    "#Since we will work at the channel level, we groupby each individual channel (defined by its id)\n",
    "gb_channel = all_metadatas.groupby('channel_id')"
   ]
  },
  {
   "cell_type": "code",
   "execution_count": 15,
   "id": "346e50d9",
   "metadata": {},
   "outputs": [
    {
     "data": {
      "text/plain": [
       "115941"
      ]
     },
     "execution_count": 15,
     "metadata": {},
     "output_type": "execute_result"
    }
   ],
   "source": [
    "list_channel = []\n",
    "list_channel = all_metadatas.select('channel_id').distinct().collect()\n",
    "len(list_channel)"
   ]
  },
  {
   "cell_type": "code",
   "execution_count": 35,
   "id": "81299337",
   "metadata": {},
   "outputs": [
    {
     "data": {
      "text/html": [
       "<div>\n",
       "<style scoped>\n",
       "    .dataframe tbody tr th:only-of-type {\n",
       "        vertical-align: middle;\n",
       "    }\n",
       "\n",
       "    .dataframe tbody tr th {\n",
       "        vertical-align: top;\n",
       "    }\n",
       "\n",
       "    .dataframe thead th {\n",
       "        text-align: right;\n",
       "    }\n",
       "</style>\n",
       "<table border=\"1\" class=\"dataframe\">\n",
       "  <thead>\n",
       "    <tr style=\"text-align: right;\">\n",
       "      <th></th>\n",
       "      <th>is_sponsored</th>\n",
       "      <th>like_view_ratio</th>\n",
       "      <th>channel_id</th>\n",
       "    </tr>\n",
       "  </thead>\n",
       "  <tbody>\n",
       "    <tr>\n",
       "      <th>0</th>\n",
       "      <td>0</td>\n",
       "      <td>0.002967</td>\n",
       "      <td>UCarI394EclOjlRrm6dUU5Yw</td>\n",
       "    </tr>\n",
       "    <tr>\n",
       "      <th>1</th>\n",
       "      <td>0</td>\n",
       "      <td>0.039630</td>\n",
       "      <td>UCAR3h_9fLV82N2FH4cE4RKw</td>\n",
       "    </tr>\n",
       "    <tr>\n",
       "      <th>2</th>\n",
       "      <td>0</td>\n",
       "      <td>0.154614</td>\n",
       "      <td>UCOy6tj7wcFiBOrW2oVsOF7Q</td>\n",
       "    </tr>\n",
       "    <tr>\n",
       "      <th>3</th>\n",
       "      <td>0</td>\n",
       "      <td>0.022042</td>\n",
       "      <td>UCwiaPYufmQOq5F1TI-FzQhw</td>\n",
       "    </tr>\n",
       "    <tr>\n",
       "      <th>4</th>\n",
       "      <td>0</td>\n",
       "      <td>0.009409</td>\n",
       "      <td>UChHBLdA2z3_PNDXYWfLCAmQ</td>\n",
       "    </tr>\n",
       "    <tr>\n",
       "      <th>...</th>\n",
       "      <td>...</td>\n",
       "      <td>...</td>\n",
       "      <td>...</td>\n",
       "    </tr>\n",
       "    <tr>\n",
       "      <th>25585149</th>\n",
       "      <td>1</td>\n",
       "      <td>0.052764</td>\n",
       "      <td>UCmRm1xtLIpBhuWjTyD411pA</td>\n",
       "    </tr>\n",
       "    <tr>\n",
       "      <th>25585150</th>\n",
       "      <td>1</td>\n",
       "      <td>0.005825</td>\n",
       "      <td>UCsaoYBUHz_lVB_dOmFwA9Zw</td>\n",
       "    </tr>\n",
       "    <tr>\n",
       "      <th>25585151</th>\n",
       "      <td>0</td>\n",
       "      <td>0.024965</td>\n",
       "      <td>UCi5HeQ29ohu60PUIN8CZmqA</td>\n",
       "    </tr>\n",
       "    <tr>\n",
       "      <th>25585152</th>\n",
       "      <td>0</td>\n",
       "      <td>0.030554</td>\n",
       "      <td>UCthjjEowaInDmJsrT-Mn3xQ</td>\n",
       "    </tr>\n",
       "    <tr>\n",
       "      <th>25585153</th>\n",
       "      <td>0</td>\n",
       "      <td>0.042539</td>\n",
       "      <td>UCjXB7nX8bL2U2sje8d212Yw</td>\n",
       "    </tr>\n",
       "  </tbody>\n",
       "</table>\n",
       "<p>25585154 rows × 3 columns</p>\n",
       "</div>"
      ],
      "text/plain": [
       "          is_sponsored  like_view_ratio                channel_id\n",
       "0                    0         0.002967  UCarI394EclOjlRrm6dUU5Yw\n",
       "1                    0         0.039630  UCAR3h_9fLV82N2FH4cE4RKw\n",
       "2                    0         0.154614  UCOy6tj7wcFiBOrW2oVsOF7Q\n",
       "3                    0         0.022042  UCwiaPYufmQOq5F1TI-FzQhw\n",
       "4                    0         0.009409  UChHBLdA2z3_PNDXYWfLCAmQ\n",
       "...                ...              ...                       ...\n",
       "25585149             1         0.052764  UCmRm1xtLIpBhuWjTyD411pA\n",
       "25585150             1         0.005825  UCsaoYBUHz_lVB_dOmFwA9Zw\n",
       "25585151             0         0.024965  UCi5HeQ29ohu60PUIN8CZmqA\n",
       "25585152             0         0.030554  UCthjjEowaInDmJsrT-Mn3xQ\n",
       "25585153             0         0.042539  UCjXB7nX8bL2U2sje8d212Yw\n",
       "\n",
       "[25585154 rows x 3 columns]"
      ]
     },
     "execution_count": 35,
     "metadata": {},
     "output_type": "execute_result"
    }
   ],
   "source": [
    "all_metadatas_pd = all_metadatas.select('is_sponsored', 'like_view_ratio', 'channel_id') \\\n",
    "    .toPandas()\n",
    "all_metadatas_pd[\"is_sponsored\"] = all_metadatas_pd[\"is_sponsored\"].astype(int)\n",
    "\n",
    "all_metadatas_pd"
   ]
  },
  {
   "cell_type": "code",
   "execution_count": null,
   "id": "63c9d627",
   "metadata": {},
   "outputs": [],
   "source": [
    "# Now we do the regression based on the datas for each channel to get the coefficient we want\n",
    "list_coeff = []\n",
    "for channel in list_channel: \n",
    "    reg_channel = all_metadatas_pd[all_metadatas_pd.channel_id == channel[0]].copy()\n",
    "    reg_channel[\"is_sponsored\"] = reg_channel[\"is_sponsored\"].astype(int)\n",
    "\n",
    "    mod = smf.ols('like_view_ratio ~ C(is_sponsored)', data=reg_channel)\n",
    "    np.random.seed(2)\n",
    "    res = mod.fit()\n",
    "\n",
    "    if len(res.params.values) > 1: # some channels only have sponsored or non-sponsored videos but not both\n",
    "        list_coeff.append(res.params.values[1])\n",
    "\n",
    "# We plot the distribution of the coefficients\n",
    "plt.hist(list_coeff, bins=100)\n",
    "plt.show()"
   ]
  },
  {
   "cell_type": "code",
   "execution_count": 53,
   "id": "450e35aa",
   "metadata": {},
   "outputs": [],
   "source": [
    "# Remove outliers\n",
    "list_coeff_std = np.std(list_coeff)\n",
    "list_coeff_mean = np.mean(list_coeff)\n",
    "list_coeff_clean = [x for x in list_coeff if x < list_coeff_mean + 3*list_coeff_std]"
   ]
  },
  {
   "cell_type": "code",
   "execution_count": 76,
   "id": "9d30f0e1",
   "metadata": {},
   "outputs": [
    {
     "data": {
      "image/png": "[encoded data removed]",
      "text/plain": [
       "<Figure size 640x480 with 1 Axes>"
      ]
     },
     "metadata": {},
     "output_type": "display_data"
    }
   ],
   "source": [
    "plt.style.use('ggplot')\n",
    "\n",
    "plt.hist(list_coeff_clean, bins=100)\n",
    "plt.title(\"Distribution of the coefficients of 'is_sponsored' for each channel\")\n",
    "plt.xlabel(\"Value of the coefficient of 'is_sponsored'\")\n",
    "plt.ylabel(\"Counts\")\n",
    "plt.show()"
   ]
  },
  {
   "cell_type": "code",
   "execution_count": 57,
   "id": "91d369cb",
   "metadata": {},
   "outputs": [
    {
     "data": {
      "text/plain": [
       "KstestResult(statistic=0.47237026544940036, pvalue=0.0)"
      ]
     },
     "execution_count": 57,
     "metadata": {},
     "output_type": "execute_result"
    }
   ],
   "source": [
    "# Check if it is a laplacian distribution\n",
    "stats.kstest(list_coeff, 'laplace')"
   ]
  },
  {
   "cell_type": "code",
   "execution_count": 61,
   "id": "baf85eb5",
   "metadata": {
    "vscode": {
     "languageId": "powershell"
    }
   },
   "outputs": [
    {
     "data": {
      "text/plain": [
       "[<matplotlib.lines.Line2D at 0x28ad940aaf0>]"
      ]
     },
     "execution_count": 61,
     "metadata": {},
     "output_type": "execute_result"
    },
    {
     "data": {
      "image/png": "[encoded data removed]",
      "text/plain": [
       "<Figure size 640x480 with 1 Axes>"
      ]
     },
     "metadata": {},
     "output_type": "display_data"
    }
   ],
   "source": [
    "from scipy.stats import laplace\n",
    "\n",
    "## plot qqplot for list_coeff laplacian distribution\n",
    "plt.figure()\n",
    "plt.title('QQ plot for laplacian distribution')\n",
    "plt.ylabel('Observed quantiles')\n",
    "plt.xlabel('Theoretical quantiles')\n",
    "\n",
    "theoretical_quantiles = laplace.ppf(np.linspace(0, 1, len(list_coeff)))\n",
    "observed_quantiles = np.sort(list_coeff)\n",
    "plt.plot(theoretical_quantiles, observed_quantiles, 'o')"
   ]
  },
  {
   "attachments": {},
   "cell_type": "markdown",
   "id": "e0c9c067",
   "metadata": {},
   "source": [
    "The distribution of the slope of the regression line seems to follow a **Laplace distribution**."
   ]
  },
  {
   "cell_type": "code",
   "execution_count": 75,
   "id": "53b19c68",
   "metadata": {},
   "outputs": [
    {
     "name": "stdout",
     "output_type": "stream",
     "text": [
      "The mean of the slope of the regression line is 0.0032\n",
      "The mean of the like_view_ratio for non-sponsored videos is 0.022\n"
     ]
    },
    {
     "data": {
      "text/plain": [
       "0.14466702934259612"
      ]
     },
     "execution_count": 75,
     "metadata": {},
     "output_type": "execute_result"
    }
   ],
   "source": [
    "print(f\"The mean of the slope of the regression line is {np.mean(list_coeff):.2}\")\n",
    "mean_like_view_ratio_nsp = all_metadatas_pd[all_metadatas_pd.is_sponsored == 0].like_view_ratio.mean()\n",
    "print(f\"The mean of the like_view_ratio for non-sponsored videos is {mean_like_view_ratio_nsp:.2}\")\n",
    "np.mean(list_coeff)/mean_like_view_ratio_nsp"
   ]
  },
  {
   "attachments": {},
   "cell_type": "markdown",
   "id": "c7c0ed4f",
   "metadata": {},
   "source": [
    "In general, channels have an increase of $14.47\\%$ in the like_view_ratio when they post a sponsored video."
   ]
  }
 ],
 "metadata": {
  "kernelspec": {
   "display_name": "spark",
   "language": "python",
   "name": "python3"
  },
  "language_info": {
   "codemirror_mode": {
    "name": "ipython",
    "version": 3
   },
   "file_extension": ".py",
   "mimetype": "text/x-python",
   "name": "python",
   "nbconvert_exporter": "python",
   "pygments_lexer": "ipython3",
   "version": "3.9.15"
  },
  "vscode": {
   "interpreter": {
    "hash": "58222ebbc97bc15a7dd406d2f7b4dd2466104a906450c8e9dcb294b8e2a99cab"
   }
  }
 },
 "nbformat": 4,
 "nbformat_minor": 5
}
