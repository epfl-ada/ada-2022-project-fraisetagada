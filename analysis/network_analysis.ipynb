{
 "cells": [
  {
   "attachments": {},
   "cell_type": "markdown",
   "metadata": {},
   "source": [
    "## Network Analysis\n",
    "\n",
    "In this notebook, we represent two specific networks to have a better understanding of the data. We use the [Gephi](https://gephi.org/) software to visualize the networks.\n",
    "\n",
    "1. The first network is an undirected graph with nodes as videos ans sponsors, and edges appear between them if a video is sponsored by a sponsor.\n",
    "\n",
    "2. The second network is an weighted undirected graph with nodes as sponsors, and edges appear between them if they sponsor videos together. The weights describe the number of videos they sponsor together, normalized."
   ]
  },
  {
   "cell_type": "code",
   "execution_count": 1,
   "metadata": {},
   "outputs": [],
   "source": [
    "import findspark\n",
    "findspark.init()\n",
    "\n",
    "import os\n",
    "import glob\n",
    "import pandas as pd\n",
    "from itertools import combinations\n",
    "\n",
    "from pyspark.sql.functions import udf, explode, collect_list, count\n",
    "from pyspark.sql.types import StructType, StructField, IntegerType, DoubleType, LongType, StringType, DateType, ArrayType, BooleanType, FloatType\n",
    "\n",
    "from pyspark.sql import SparkSession\n",
    "import pyspark as ps\n",
    "config = ps.SparkConf()\n",
    "config.set('spark.executor.heartbeatInterval', '3600s')\n",
    "config.set('spark.network.timeout', '7200s')\n",
    "config.set('spark.driver.memory', '16g')\n",
    "sc = ps.SparkContext('local[*]', '', conf=config) # write 'local' for single-threaded execution and 'local[*]' for multi-threaded execution\n",
    "spark = SparkSession(sc)"
   ]
  },
  {
   "attachments": {},
   "cell_type": "markdown",
   "metadata": {},
   "source": [
    "### Load the Data "
   ]
  },
  {
   "cell_type": "code",
   "execution_count": 2,
   "metadata": {},
   "outputs": [],
   "source": [
    "PATH_METADATAS_CLASSIFIED_DOMAINS_SRC = '../data/domains_classification.csv'\n",
    "PATH_METADATAS_DOMAINS_SRC = '../data/generated/yt_metadata_en_domains.parquet'"
   ]
  },
  {
   "cell_type": "code",
   "execution_count": 3,
   "metadata": {},
   "outputs": [],
   "source": [
    "schema_top_domains = ps.sql.types.StructType([\n",
    "    StructField('domain', StringType(), True),\n",
    "    StructField('count', IntegerType(), True),\n",
    "    StructField('median_sponsor_score', FloatType(), True),\n",
    "    StructField('is_sponsored', IntegerType(), True),\n",
    "    StructField('domain_category', StringType(), True),\n",
    "])\n",
    "\n",
    "schema_domain_metadatas = StructType([\n",
    "    StructField(\"categories\",    StringType(),            True),\n",
    "    StructField(\"channel_id\",    StringType(),            True),\n",
    "    StructField(\"dislike_count\", DoubleType(),            True), # This field must be specified as a double as it is represented as a floating point number\n",
    "    StructField(\"display_id\",    StringType(),            True),\n",
    "    StructField(\"duration\",      IntegerType(),           True),\n",
    "    StructField(\"like_count\",    DoubleType(),            True), # This field must be specified as a double as it is represented as a floating point number\n",
    "    StructField(\"tags\",          StringType(),            True),\n",
    "    StructField(\"title\",         StringType(),            True),\n",
    "    StructField(\"upload_date\",   DateType(),              True),\n",
    "    StructField(\"view_count\",    DoubleType(),            True),  # This field must be specified as a double as it is represented as a floating point number\n",
    "    StructField(\"domains\",       ArrayType(StringType()), True), \n",
    "    StructField(\"domains_count\", IntegerType(),           True),\n",
    "    StructField(\"has_domains\",   BooleanType(),           True),\n",
    "])\n",
    "\n",
    "classified_domains = spark.read.csv(PATH_METADATAS_CLASSIFIED_DOMAINS_SRC, header=True, schema=schema_top_domains)\n",
    "domain_metadatas = spark.read.parquet(PATH_METADATAS_DOMAINS_SRC, schema=schema_domain_metadatas)\n",
    "\n",
    "domain_metadatas = domain_metadatas \\\n",
    "    .withColumn(\"dislike_count\", domain_metadatas.dislike_count.cast(IntegerType())) \\\n",
    "    .withColumn(\"like_count\", domain_metadatas.like_count.cast(IntegerType())) \\\n",
    "    .withColumn(\"view_count\", domain_metadatas.view_count.cast(LongType()))\n",
    "\n",
    "classified_domains = classified_domains \\\n",
    "    .withColumn(\"median_sponsor_score\", classified_domains.is_sponsored.cast(IntegerType())) \\\n",
    "    .withColumn(\"is_sponsored\", classified_domains.is_sponsored.cast(BooleanType()))"
   ]
  },
  {
   "attachments": {},
   "cell_type": "markdown",
   "metadata": {},
   "source": [
    "### Generate the Video-Sponsor Network"
   ]
  },
  {
   "cell_type": "code",
   "execution_count": 4,
   "metadata": {},
   "outputs": [],
   "source": [
    "# Retrieve the sponsored domains\n",
    "sp_domains = classified_domains.select('domain').where(classified_domains.is_sponsored).collect()\n",
    "sp_domains = [domain.domain for domain in sp_domains]"
   ]
  },
  {
   "cell_type": "code",
   "execution_count": 5,
   "metadata": {},
   "outputs": [],
   "source": [
    "# Retrieve the sponsored domains with their category\n",
    "sp_domains_cat = classified_domains.select('domain', 'domain_category').where(classified_domains.is_sponsored).collect()\n",
    "sp_domains_cat = [(domain.domain, domain.domain_category) for domain in sp_domains_cat]\n",
    "# Create a dictionary with the sponsored domains as keys and their category as values\n",
    "sp_domains_cat = dict(sp_domains_cat)"
   ]
  },
  {
   "cell_type": "code",
   "execution_count": 6,
   "metadata": {},
   "outputs": [
    {
     "name": "stdout",
     "output_type": "stream",
     "text": [
      "+----------------+--------------------+-------------+-----------+--------+----------+--------------------+--------------------+-----------+----------+--------------------+-------------+-----------+\n",
      "|      categories|          channel_id|dislike_count| display_id|duration|like_count|                tags|               title|upload_date|view_count|             domains|domains_count|has_domains|\n",
      "+----------------+--------------------+-------------+-----------+--------+----------+--------------------+--------------------+-----------+----------+--------------------+-------------+-----------+\n",
      "|                |UCD8GawxPXpJnql46...|         null|Gt_r6SrOxv8|    6183|      null|                    |Los Angeles to Sa...| 2019-09-28|     13695|  [tipeeestream.com]|            1|       true|\n",
      "|Autos & Vehicles|UC-9IhqrFTkc53Dx1...|            6|xNoMrPUlBzw|     230|       134|new cars,new york...|First Look at the...| 2019-04-22|      2194|[creativecommons....|            1|       true|\n",
      "|Autos & Vehicles|UC-9rZ03WrFB3c4qo...|            8|HBtx33c7WDE|     457|       734|p0496 chevy subur...|P0496 EVAP canist...| 2018-09-08|     25596|[ebay.com, fxo.co...|           10|       true|\n",
      "|Autos & Vehicles|UC-9rZ03WrFB3c4qo...|           15|r5JH6DDTpV8|     168|       638|passenger side re...|QUICK EASY replac...| 2019-02-16|     18554|[ebay.com, fxo.co...|            8|       true|\n",
      "|Autos & Vehicles|UC-GJbheknHZhSM7-...|           24|0ZoegwnAF_w|     347|       265|review,honda,hond...|2019 Honda Civic ...| 2018-04-06|     34683|[whatcar.com, wha...|            3|       true|\n",
      "|Autos & Vehicles|UC-GJbheknHZhSM7-...|           29|d2mfhzj1aOI|     223|       345|What Car?,Car,Rev...|2018 Mercedes-Ben...| 2017-07-18|     42696|[whatcar.com, wha...|            3|       true|\n",
      "|Autos & Vehicles|UC-GJbheknHZhSM7-...|          149|L4scxmMJ-Dc|     469|      1099|Toyota C-HR,Toyot...|Toyota C-HR 2018 ...| 2017-09-08|    290386|[whatcar.com, wha...|            4|       true|\n",
      "|Autos & Vehicles|UC-Lh5siLMDIswOVk...|            2|IPgkXz7679Y|     196|       107|hillclimbfans,HCF...|Subaru Impreza WR...| 2018-01-29|      3622|[hillclimbfans.co...|            2|       true|\n",
      "|Autos & Vehicles|UC-Lh5siLMDIswOVk...|            3|uLL-UgbKEeo|     152|       284|hillclimbfans,HCF...|Erich Edlinger - ...| 2015-09-28|     30897|[hillclimbfans.co...|            2|       true|\n",
      "|Autos & Vehicles|UC-Mn08oyWWvjNELc...|           32|ldLEzO4bAFM|     605|       754|motovlog,moto sta...|Daily Moto Observ...| 2018-10-01|     40056|[moto-stars.info,...|            2|       true|\n",
      "+----------------+--------------------+-------------+-----------+--------+----------+--------------------+--------------------+-----------+----------+--------------------+-------------+-----------+\n",
      "only showing top 10 rows\n",
      "\n"
     ]
    }
   ],
   "source": [
    "domain_metadatas.show(10)"
   ]
  },
  {
   "cell_type": "code",
   "execution_count": 6,
   "metadata": {},
   "outputs": [],
   "source": [
    "def is_in_top_domains(domain):\n",
    "    return domain in sp_domains"
   ]
  },
  {
   "cell_type": "code",
   "execution_count": 7,
   "metadata": {},
   "outputs": [],
   "source": [
    "# Explode the domains and keep only the rows with a sponsored domain\n",
    "is_in_top_domains_udf = udf(is_in_top_domains, BooleanType())\n",
    "domain_metadatas_vs = domain_metadatas \\\n",
    "    .withColumn('domain', explode(domain_metadatas.domains).alias('domain'))\n",
    "domain_metadatas_vs = domain_metadatas_vs.select('display_id', 'domain') \\\n",
    "    .withColumn('is_in_top_domains', is_in_top_domains_udf(domain_metadatas_vs.domain))\n",
    "domain_metadatas_vs = domain_metadatas_vs \\\n",
    "    .where(domain_metadatas_vs.is_in_top_domains) \\\n",
    "    .drop('is_in_top_domains') \\\n",
    "    .distinct()"
   ]
  },
  {
   "cell_type": "code",
   "execution_count": 9,
   "metadata": {},
   "outputs": [
    {
     "name": "stdout",
     "output_type": "stream",
     "text": [
      "+-----------+---------------+\n",
      "| display_id|         domain|\n",
      "+-----------+---------------+\n",
      "|CcJtdkaf0Hk|     newegg.com|\n",
      "|Hgzonw__mUI|play.google.com|\n",
      "|3ZMPz2K5uJ8|play.google.com|\n",
      "|gjg66FPuXME|     zazzle.com|\n",
      "|6bQ17PH-iWk|play.google.com|\n",
      "|z9Mqj9EXaBg|   spreaker.com|\n",
      "|ZQ7OiOISmMU|   spreaker.com|\n",
      "|I7ODh021stA|     artlist.io|\n",
      "|zSLPIRY9srU|   testbook.com|\n",
      "|b7T7ej5G84w|play.google.com|\n",
      "+-----------+---------------+\n",
      "only showing top 10 rows\n",
      "\n"
     ]
    }
   ],
   "source": [
    "domain_metadatas_vs.show(10)"
   ]
  },
  {
   "cell_type": "code",
   "execution_count": 8,
   "metadata": {},
   "outputs": [],
   "source": [
    "# Add the domain category\n",
    "def get_domain_category(domain):\n",
    "    if domain in sp_domains_cat:\n",
    "        return sp_domains_cat[domain]\n",
    "    return None \n",
    "\n",
    "get_domain_category_udf = udf(get_domain_category, StringType())\n",
    "domain_metadatas_vs = domain_metadatas_vs \\\n",
    "    .withColumn('domain_category', get_domain_category_udf(domain_metadatas_vs.domain))"
   ]
  },
  {
   "cell_type": "code",
   "execution_count": 11,
   "metadata": {},
   "outputs": [
    {
     "name": "stdout",
     "output_type": "stream",
     "text": [
      "+-----------+---------------+---------------+\n",
      "| display_id|         domain|domain_category|\n",
      "+-----------+---------------+---------------+\n",
      "|CcJtdkaf0Hk|     newegg.com|     Technology|\n",
      "|Hgzonw__mUI|play.google.com|    Application|\n",
      "|3ZMPz2K5uJ8|play.google.com|    Application|\n",
      "|gjg66FPuXME|     zazzle.com|           Shop|\n",
      "|6bQ17PH-iWk|play.google.com|    Application|\n",
      "|z9Mqj9EXaBg|   spreaker.com|         Agency|\n",
      "|ZQ7OiOISmMU|   spreaker.com|         Agency|\n",
      "|I7ODh021stA|     artlist.io|          Music|\n",
      "|zSLPIRY9srU|   testbook.com|      Education|\n",
      "|b7T7ej5G84w|play.google.com|    Application|\n",
      "+-----------+---------------+---------------+\n",
      "only showing top 10 rows\n",
      "\n"
     ]
    }
   ],
   "source": [
    "domain_metadatas_vs.show(10)"
   ]
  },
  {
   "attachments": {},
   "cell_type": "markdown",
   "metadata": {},
   "source": [
    "This final dataframe describes the edges of the network, from the video described as its `display_id` to the sponsor described as its `domain`. The `domain_category` is the category of the sponsor. We only take a sample of the data to avoid memory issues, while still having a good representation of the data."
   ]
  },
  {
   "cell_type": "code",
   "execution_count": 9,
   "metadata": {},
   "outputs": [],
   "source": [
    "SAMPLE_RATIO = 0.01\n",
    "SAMPLE_SEED = 0\n",
    "domain_metadatas_vs = domain_metadatas_vs.sample(False, SAMPLE_RATIO, seed=SAMPLE_SEED)"
   ]
  },
  {
   "cell_type": "code",
   "execution_count": 10,
   "metadata": {},
   "outputs": [],
   "source": [
    "domain_metadatas_vs.write.csv('../data/generated/yt_network.csv', mode='overwrite')"
   ]
  },
  {
   "cell_type": "code",
   "execution_count": 11,
   "metadata": {},
   "outputs": [],
   "source": [
    "NETWORK_PATH = \"../data/generated/yt_network.csv/\"\n",
    "\n",
    "all_files = glob.glob(os.path.join(NETWORK_PATH, \"part-*.csv\"))\n",
    "df_from_each_file = [pd.read_csv(f, sep=',', header=None) for f in all_files]\n",
    "df_merged = pd.concat(df_from_each_file, ignore_index=True)\n",
    "df_merged.to_csv(NETWORK_PATH + \"merged.csv\")"
   ]
  },
  {
   "attachments": {},
   "cell_type": "markdown",
   "metadata": {},
   "source": [
    "### Generate the Sponsor-Sponsor Network"
   ]
  },
  {
   "cell_type": "code",
   "execution_count": 14,
   "metadata": {},
   "outputs": [],
   "source": [
    "# Get all distinct pairs of domains from the same video\n",
    "combinations_udf = udf(lambda x: list(combinations(list(set(x)), 2)), \"array<struct<domain1:string,domain2:string>>\")"
   ]
  },
  {
   "cell_type": "code",
   "execution_count": 15,
   "metadata": {},
   "outputs": [],
   "source": [
    "# Explode the domains and keep only the rows with a sponsored domain\n",
    "is_in_top_domains_udf = udf(is_in_top_domains, BooleanType())\n",
    "domain_metadatas_ss = domain_metadatas \\\n",
    "    .withColumn('domain', explode(domain_metadatas.domains).alias('domain'))\n",
    "domain_metadatas_ss = domain_metadatas_ss.select('display_id', 'domain') \\\n",
    "    .withColumn('is_in_top_domains', is_in_top_domains_udf(domain_metadatas_ss.domain))\n",
    "domain_metadatas_ss = domain_metadatas_ss \\\n",
    "    .where(domain_metadatas_ss.is_in_top_domains) \\\n",
    "    .drop('is_in_top_domains') \\\n",
    "    .distinct()"
   ]
  },
  {
   "cell_type": "code",
   "execution_count": 16,
   "metadata": {},
   "outputs": [],
   "source": [
    "# List them back together\n",
    "domain_metadatas_ss = domain_metadatas_ss \\\n",
    "    .groupBy('display_id') \\\n",
    "    .agg(collect_list('domain').alias('domains'))"
   ]
  },
  {
   "cell_type": "code",
   "execution_count": 16,
   "metadata": {},
   "outputs": [
    {
     "name": "stdout",
     "output_type": "stream",
     "text": [
      "+-----------+-----------------------------------------------------------------------+\n",
      "|display_id |domains                                                                |\n",
      "+-----------+-----------------------------------------------------------------------+\n",
      "|---jqfcks4Y|[gamewisp.com]                                                         |\n",
      "|---rKGl6b6k|[play.google.com]                                                      |\n",
      "|--1-YLWkQgc|[e.lga.to]                                                             |\n",
      "|--1udHoGWFY|[fr.shopping.rakuten.com, sigma-beauty.7eer.net, rstyle.me, ebates.com]|\n",
      "|--2qGzZS0cc|[wattpad.com]                                                          |\n",
      "|--322IagBXo|[epidemicsound.com)]                                                   |\n",
      "|--3gtM7gnCQ|[fiverr.com]                                                           |\n",
      "|--4TsCinz9Y|[teespring.com, streamlabs.com]                                        |\n",
      "|--4qhrXSuTs|[sellfy.com]                                                           |\n",
      "|--6bIzrgY3I|[play.google.com]                                                      |\n",
      "+-----------+-----------------------------------------------------------------------+\n",
      "only showing top 10 rows\n",
      "\n"
     ]
    }
   ],
   "source": [
    "domain_metadatas_ss.select('display_id', 'domains').show(10, False)"
   ]
  },
  {
   "cell_type": "code",
   "execution_count": 17,
   "metadata": {},
   "outputs": [],
   "source": [
    "domain_metadatas_ss = domain_metadatas_ss.withColumn('domains', explode(combinations_udf(domain_metadatas_ss.domains)).alias('domains'))"
   ]
  },
  {
   "cell_type": "code",
   "execution_count": 14,
   "metadata": {},
   "outputs": [
    {
     "name": "stdout",
     "output_type": "stream",
     "text": [
      "+-----------+------------------------------------------------+\n",
      "|display_id |domains                                         |\n",
      "+-----------+------------------------------------------------+\n",
      "|--1udHoGWFY|{fr.shopping.rakuten.com, rstyle.me}            |\n",
      "|--1udHoGWFY|{fr.shopping.rakuten.com, sigma-beauty.7eer.net}|\n",
      "|--1udHoGWFY|{fr.shopping.rakuten.com, ebates.com}           |\n",
      "|--1udHoGWFY|{rstyle.me, sigma-beauty.7eer.net}              |\n",
      "|--1udHoGWFY|{rstyle.me, ebates.com}                         |\n",
      "|--1udHoGWFY|{sigma-beauty.7eer.net, ebates.com}             |\n",
      "|--4TsCinz9Y|{streamlabs.com, teespring.com}                 |\n",
      "|--AT5_SIBBg|{hautelook.com, sigmabeauty.com}                |\n",
      "|--AeWbCVaNA|{etsy.com, ebates.com}                          |\n",
      "|--E5fYurbTk|{teespring.com, play.google.com}                |\n",
      "+-----------+------------------------------------------------+\n",
      "only showing top 10 rows\n",
      "\n"
     ]
    }
   ],
   "source": [
    "domain_metadatas_ss.select('display_id', 'domains').show(10, False)"
   ]
  },
  {
   "cell_type": "code",
   "execution_count": 18,
   "metadata": {},
   "outputs": [],
   "source": [
    "# Get the 2 domains in separate columns\n",
    "domain_metadatas_ss = domain_metadatas_ss \\\n",
    "    .withColumn('domain1', domain_metadatas_ss.domains.domain1) \\\n",
    "    .withColumn('domain2', domain_metadatas_ss.domains.domain2) \\\n",
    "    .drop('domains') \\\n",
    "    .select('domain1', 'domain2')\n",
    "\n",
    "# Get weights\n",
    "domain_metadatas_ss = domain_metadatas_ss \\\n",
    "    .groupBy('domain1', 'domain2') \\\n",
    "    .agg(count('domain1').alias('weight'))\n",
    "\n",
    "# Normalize the weights\n",
    "max_weight = domain_metadatas_ss.agg({'weight': 'max'}).collect()[0][0]\n",
    "domain_metadatas_ss = domain_metadatas_ss \\\n",
    "    .withColumn('weight', domain_metadatas_ss.weight / max_weight)"
   ]
  },
  {
   "cell_type": "code",
   "execution_count": 19,
   "metadata": {},
   "outputs": [
    {
     "name": "stdout",
     "output_type": "stream",
     "text": [
      "+------------------+--------------------+--------------------+\n",
      "|           domain1|             domain2|              weight|\n",
      "+------------------+--------------------+--------------------+\n",
      "|        airbnb.com|      shareasale.com|0.003622562610790...|\n",
      "|     tubebuddy.com|     erincondren.com|0.001918094632062179|\n",
      "|           seph.me|            ulta.com|0.004986136993773...|\n",
      "|noscopeglasses.com|          cdkeys.com|0.002249897731921...|\n",
      "|      coinbase.com|          medium.com|0.004049815917458298|\n",
      "|         rstyle.me|fr.shopping.rakut...|0.013667560565428845|\n",
      "|     teespring.com|         audible.com| 0.00974955683832553|\n",
      "|        ebates.com|    m.freemyapps.com|3.363483478023726E-4|\n",
      "|     tubebuddy.com|             bstk.me|0.002268078723694...|\n",
      "|    rover.ebay.com|            bhpho.to|0.001290850415890...|\n",
      "+------------------+--------------------+--------------------+\n",
      "only showing top 10 rows\n",
      "\n"
     ]
    }
   ],
   "source": [
    "domain_metadatas_ss.show(10)"
   ]
  },
  {
   "attachments": {},
   "cell_type": "markdown",
   "metadata": {},
   "source": [
    "The final dataframe describes the edges of the network, from a sponsor `domain1` to another sponsor `domain2`. The `weight` is the number of videos they sponsor together, normalized."
   ]
  },
  {
   "cell_type": "code",
   "execution_count": 20,
   "metadata": {},
   "outputs": [],
   "source": [
    "domain_metadatas_ss.write.csv('../data/generated/yt_network_ss.csv', mode='overwrite')"
   ]
  },
  {
   "cell_type": "code",
   "execution_count": 21,
   "metadata": {},
   "outputs": [],
   "source": [
    "NETWORK_PATH = \"../data/generated/yt_network_ss.csv/\"\n",
    "\n",
    "all_files = glob.glob(os.path.join(NETWORK_PATH, \"part-*.csv\"))\n",
    "df_from_each_file = [pd.read_csv(f, sep=',', header=None) for f in all_files]\n",
    "df_merged = pd.concat(df_from_each_file, ignore_index=True)\n",
    "df_merged.to_csv(NETWORK_PATH + \"merged.csv\")"
   ]
  },
  {
   "attachments": {},
   "cell_type": "markdown",
   "metadata": {},
   "source": [
    "## Visualize the Networks"
   ]
  },
  {
   "attachments": {},
   "cell_type": "markdown",
   "metadata": {},
   "source": [
    "The first network has nodes representing both the videos and the domains. Every video has an edge to every sponsored domain it contains in its description. Using Yifan Hu's algorithm to layout the graph, we get the following visualization:"
   ]
  },
  {
   "attachments": {},
   "cell_type": "markdown",
   "metadata": {},
   "source": [
    "<img title=\"network_01_visualization\" alt=\"Network 01 visualization\" width=\"800\" src=\"../generated/network/vs/01.png\">\n",
    "<img title=\"network_01_legend\" alt=\"Network 01 legend\" width=\"100\" src=\"../generated/network/vs/legend.png\">"
   ]
  },
  {
   "attachments": {},
   "cell_type": "markdown",
   "metadata": {},
   "source": [
    "This network shows us that the **videos rarely have more than one sponsor** in their description. Indeed, the vast majority of the sponsor nodes are pushed outwards since they only have their own video community. Also note that we took a sample of $\\frac{1}{100}\\text{th}$ of the full dataset. Taking only a subset of the data might be discriminatory towards the videos with many sponsors, since they are rarely present in the full dataset.\n",
    "\n",
    "We still have some interesting findings comming out of this graph. Indeed, it seems that `play.google.com` and `apps.apple.com` share a non-negligible number of videos. This is probably due to the fact that they are both app stores, and videos link them together since many applications are available for both Android and iOS.\n",
    "\n",
    "Also, clusters in the middle tend to be related to the same domain. For example, `sephora.com`, `ipsy.com` and some other cosmetic websites are close to each other. This is probably due to the fact that some beauty-related videos are sponsored by many of these types of websites. Here is a close-up of the specific cluster:"
   ]
  },
  {
   "attachments": {},
   "cell_type": "markdown",
   "metadata": {},
   "source": [
    "<img title=\"network_01_visualization\" alt=\"Network 01 visualization\" width=\"500\" src=\"../generated/network/vs/02.png\">"
   ]
  },
  {
   "attachments": {},
   "cell_type": "markdown",
   "metadata": {},
   "source": [
    "We now take a look at a second network. This time, we only have nodes representing the domains, and edges exists between two domains if they sponsor videos together. Using Force Atlas to layout the graph, we get the following visualization:"
   ]
  },
  {
   "cell_type": "markdown",
   "metadata": {},
   "source": [
    "<img title=\"network_02_visualization\" alt=\"Network 02 visualization\" width=\"800\" src=\"../generated/network/ss/01.png\">\n",
    "<img title=\"network_02_legend\" alt=\"Network 02 legend\" width=\"100\" src=\"../generated/network/ss/legend.png\">"
   ]
  },
  {
   "attachments": {},
   "cell_type": "markdown",
   "metadata": {},
   "source": [
    "We now do not take into account videos that only have one sponsor in their description, since no edge would be created. The graph is now much more dense, and clusters are more visible. We can still see that **`play.google.com` and `apps.apple.com` are very related to each other**, since they are close to each other. Also, being in the center of the graph is a good indicator that **these domains sponsor many diverse videos**! Here is a close-up of the region of interest:"
   ]
  },
  {
   "attachments": {},
   "cell_type": "markdown",
   "metadata": {},
   "source": [
    "<img title=\"network_02_visualization\" alt=\"Network 02 visualization\" width=\"500\" src=\"../generated/network/ss/02.png\">"
   ]
  },
  {
   "attachments": {},
   "cell_type": "markdown",
   "metadata": {},
   "source": [
    "The agencies seem to appear everywhere in the graph and there are a good number of them in the center. This tells us that **agencies are omnipresent** in the data, sponsoring and **targetting a broad range of videos**.\n",
    "\n",
    "Interestingly enough, **there seems to be two main clusters**: a big one in the top left, and a smaller one in the bottom right. The bigger cluster groups together many sponsors related to **video games, technology and applications**. The smaller cluster is more related to **beauty and fashion**. This gives us reasonable insights about the data: fashion-related and tech-related videos tend to form different communities on YouTube, which can directly be seen with the relation between sponsors! Here is a close-up of the specific clusters:"
   ]
  },
  {
   "attachments": {},
   "cell_type": "markdown",
   "metadata": {},
   "source": [
    "<img title=\"network_02_visualization\" alt=\"Network 02 visualization\" width=\"500\" src=\"../generated/network/ss/04.png\">\n",
    "<img title=\"network_02_visualization\" alt=\"Network 02 visualization\" width=\"350\" src=\"../generated/network/ss/03.png\">"
   ]
  },
  {
   "attachments": {},
   "cell_type": "markdown",
   "metadata": {},
   "source": [
    "Finally, **shops** are noticeably placed in the outer part of the graph. This could tell us that they might tend to target a broader audience, and not only a specific community. Having low weights between many different nodes could lead to such a configuration. Such examples are `aliexpress.com` or `bangood.com`, which are both e-commerce websites. Both of them sell a wide range of products, from electronics to fashion."
   ]
  },
  {
   "attachments": {},
   "cell_type": "markdown",
   "metadata": {},
   "source": [
    "Here is a graph showing the clustering coefficient distribution of the nodes:\n",
    "\n",
    "<img title=\"network_02_cluster_coeff\" alt=\"Network 02 clustering coefficient\" width=\"600\" src=\"../generated/network/ss/clustering-coefficient.png\">\n",
    "\n",
    "Here is a graph of the closeness centrality distribution of the nodes:\n",
    "\n",
    "<img title=\"network_02_cluster_coeff\" alt=\"Network 02 clustering coefficient\" width=\"600\" src=\"../generated/network/ss/closeness.png\">"
   ]
  },
  {
   "attachments": {},
   "cell_type": "markdown",
   "metadata": {},
   "source": [
    "The mean clustering coefficient is $\\approx 0.65$. This means that **communities of sponsors are quite common** when taking into account only the interraction between them. Indeed for example, the domain `sephora.com` is often found alongside `ipsy.com` but also `ulta.com`, which together form a community of cosmetic-related sponsors.\n",
    "\n",
    "The closeness centrality distribution also shows us that **the graph is well connected**. Indeed, the mean closeness centrality is $\\approx 0.6$. Besides some outliers, this metric is quite high, which means that sponsors are often found in communities.\n",
    "\n",
    "Since many shops and agencies tend to target vast audiences, they also may be the nodes connecting some more specific communities. This could explain why we see that the closeness centrality of the agencies is quite high."
   ]
  }
 ],
 "metadata": {
  "kernelspec": {
   "display_name": "spark",
   "language": "python",
   "name": "python3"
  },
  "language_info": {
   "codemirror_mode": {
    "name": "ipython",
    "version": 3
   },
   "file_extension": ".py",
   "mimetype": "text/x-python",
   "name": "python",
   "nbconvert_exporter": "python",
   "pygments_lexer": "ipython3",
   "version": "3.9.15 (main, Nov 24 2022, 14:39:17) [MSC v.1916 64 bit (AMD64)]"
  },
  "orig_nbformat": 4,
  "vscode": {
   "interpreter": {
    "hash": "58222ebbc97bc15a7dd406d2f7b4dd2466104a906450c8e9dcb294b8e2a99cab"
   }
  }
 },
 "nbformat": 4,
 "nbformat_minor": 2
}
