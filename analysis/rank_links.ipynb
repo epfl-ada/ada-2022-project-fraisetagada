{
 "cells": [
  {
   "cell_type": "code",
   "execution_count": 1,
   "metadata": {},
   "outputs": [],
   "source": [
    "import findspark\n",
    "findspark.init()\n",
    "\n",
    "import re\n",
    "from pyspark.sql.functions import col, udf, explode, when\n",
    "from pyspark.sql.types import StructType, StructField, IntegerType, DoubleType, LongType, StringType, DateType, ArrayType, BooleanType\n",
    "\n",
    "from pyspark.sql import SparkSession\n",
    "import pyspark as ps\n",
    "config = ps.SparkConf().setAll([\n",
    "    ('spark.network.timeout', '3601s'),\n",
    "    ('spark.executor.heartbeatInterval', '3600s'),\n",
    "])\n",
    "sc = ps.SparkContext('local[*]', '', conf=config)\n",
    "spark = SparkSession(sc)"
   ]
  },
  {
   "cell_type": "code",
   "execution_count": 3,
   "metadata": {},
   "outputs": [],
   "source": [
    "from urllib.parse import urlparse\n",
    "import pyspark.sql.functions as f"
   ]
  },
  {
   "cell_type": "code",
   "execution_count": 4,
   "metadata": {},
   "outputs": [],
   "source": [
    "FILE = \"../data/generated/yt_metadata_en_urls.parquet\"\n",
    "schema = StructType([\n",
    "    StructField(\"categories\",    StringType(),  True),\n",
    "    StructField(\"channel_id\",    StringType(),  True),\n",
    "    StructField(\"crawl_date\",    DateType(),    True),\n",
    "    StructField(\"dislike_count\", DoubleType(),  True), # This field must be specified as a double as it is represented as a floating point number\n",
    "    StructField(\"display_id\",    StringType(),  True),\n",
    "    StructField(\"duration\",      IntegerType(), True),\n",
    "    StructField(\"like_count\",    DoubleType(),  True), # This field must be specified as a double as it is represented as a floating point number\n",
    "    StructField(\"tags\",          StringType(),  True),\n",
    "    StructField(\"title\",         StringType(),  True),\n",
    "    StructField(\"upload_date\",   DateType(),    True),\n",
    "    StructField(\"view_count\",    DoubleType(),  True),  # This field must be specified as a double as it is represented as a floating point number\n",
    "    StructField(\"urls\", ArrayType(StringType()), True),\n",
    "    StructField(\"urls_count\", IntegerType(), True),\n",
    "    StructField(\"has_urls\", BooleanType(), True),\n",
    "])\n"
   ]
  },
  {
   "cell_type": "code",
   "execution_count": 5,
   "metadata": {},
   "outputs": [],
   "source": [
    "df = spark.read.parquet(FILE, schema=schema)\n",
    "# Cast the dislike_count, like_count and view_count to their respective integer type\n",
    "df = df \\\n",
    "    .withColumn(\"dislike_count\", df.dislike_count.cast(IntegerType())) \\\n",
    "    .withColumn(\"like_count\", df.like_count.cast(IntegerType())) \\\n",
    "    .withColumn(\"view_count\", df.view_count.cast(LongType()))\\\n",
    "        \n",
    "df_urls = df.where(df[\"has_urls\"] == \"true\")"
   ]
  },
  {
   "cell_type": "code",
   "execution_count": 6,
   "metadata": {},
   "outputs": [
    {
     "data": {
      "text/plain": [
       "<pyspark.sql.group.GroupedData at 0x1cd42a5a160>"
      ]
     },
     "execution_count": 6,
     "metadata": {},
     "output_type": "execute_result"
    }
   ],
   "source": [
    "df_urls.groupby('urls')"
   ]
  },
  {
   "cell_type": "code",
   "execution_count": 8,
   "metadata": {},
   "outputs": [],
   "source": [
    "def isolate_name_site(list_site):\n",
    "    shorten_name = []\n",
    "    for i, site in enumerate(list_site):\n",
    "        link = urlparse(site)[1]\n",
    "        if ((link != 'spoti.fi') and (link != 'goo.gl')):\n",
    "\n",
    "            shorten_name.append(link)\n",
    "    \n",
    "    return shorten_name\n",
    "my_udf = f.udf(isolate_name_site, ArrayType(StringType()))"
   ]
  },
  {
   "cell_type": "code",
   "execution_count": 9,
   "metadata": {},
   "outputs": [],
   "source": [
    "df_urls = df_urls.withColumn('urls_shorten', my_udf(f.col(\"urls\")))"
   ]
  },
  {
   "cell_type": "code",
   "execution_count": 10,
   "metadata": {},
   "outputs": [],
   "source": [
    "df_long = df_urls.withColumn(\"list_site\", explode(df_urls.urls_shorten))\n"
   ]
  },
  {
   "cell_type": "code",
   "execution_count": 11,
   "metadata": {},
   "outputs": [],
   "source": [
    "list_site_frequency = df_long.groupBy(\"list_site\").count().filter(\"`count` >= 10000\").sort(col(\"count\").desc())\n",
    "list_site_frequency.show()"
   ]
  },
  {
   "cell_type": "code",
   "execution_count": 32,
   "metadata": {},
   "outputs": [],
   "source": []
  }
 ],
 "metadata": {
  "kernelspec": {
   "display_name": "Python 3.9.15 ('spark')",
   "language": "python",
   "name": "python3"
  },
  "language_info": {
   "codemirror_mode": {
    "name": "ipython",
    "version": 3
   },
   "file_extension": ".py",
   "mimetype": "text/x-python",
   "name": "python",
   "nbconvert_exporter": "python",
   "pygments_lexer": "ipython3",
   "version": "3.9.15"
  },
  "orig_nbformat": 4,
  "vscode": {
   "interpreter": {
    "hash": "58222ebbc97bc15a7dd406d2f7b4dd2466104a906450c8e9dcb294b8e2a99cab"
   }
  }
 },
 "nbformat": 4,
 "nbformat_minor": 2
}
