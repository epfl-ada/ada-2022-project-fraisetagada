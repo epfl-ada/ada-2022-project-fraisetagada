{
 "cells": [
  {
   "attachments": {},
   "cell_type": "markdown",
   "metadata": {},
   "source": [
    "## Add Features to the Metadata Dataset\n",
    "\n",
    "In this notebook, we add new features together to continue our analysis. We have the following features:\n",
    "* `diff_month`: the number of elapsed months from the creation of the first video.\n",
    "* `domains`: the domains of the video.\n",
    "* `comain_categories`: the categories of the sponsored domains of the video.\n",
    "* `is_sponsored`: whether the video is sponsored or not (i.e. contains sponsored domains)."
   ]
  },
  {
   "cell_type": "code",
   "execution_count": 1,
   "metadata": {},
   "outputs": [],
   "source": [
    "from pyspark.sql.types import StructField, StructType, FloatType, BooleanType, StringType, DateType, IntegerType, DoubleType, ArrayType, LongType\n",
    "from pyspark.sql.functions import udf, lit, explode, collect_list\n",
    "from pyspark.sql import SparkSession\n",
    "import pyspark as ps\n",
    "\n",
    "import pandas as pd\n",
    "\n",
    "from pyspark.sql import SparkSession\n",
    "import pyspark as ps\n",
    "config = ps.SparkConf()\n",
    "config.set('spark.executor.heartbeatInterval', '3600s')\n",
    "config.set('spark.network.timeout', '7200s')\n",
    "config.set('spark.driver.memory', '16g') # Increase the driver memory to avoid HeapOverflow when repartitioning.\n",
    "sc = ps.SparkContext('local[*]', '', conf=config) # write 'local' for single-threaded execution and 'local[*]' for multi-threaded execution.\n",
    "spark = SparkSession(sc)"
   ]
  },
  {
   "attachments": {},
   "cell_type": "markdown",
   "metadata": {},
   "source": [
    "### Add Sponsored Domains to Videos"
   ]
  },
  {
   "cell_type": "code",
   "execution_count": 2,
   "id": "2a94b250",
   "metadata": {},
   "outputs": [],
   "source": [
    "PATH_METADATAS_DOMAINS_SRC = 'data/generated/yt_metadata_en_domains.parquet'\n",
    "PATH_DOMAIN_CLASSIFICATION = \"data/domains_classification.csv\""
   ]
  },
  {
   "cell_type": "code",
   "execution_count": 3,
   "id": "9c4adf3d",
   "metadata": {},
   "outputs": [],
   "source": [
    "metadatas_domains = spark.read.parquet(PATH_METADATAS_DOMAINS_SRC)\n",
    "\n",
    "# Get a dict of sponsored domains with their category\n",
    "domain_class = pd.read_csv(PATH_DOMAIN_CLASSIFICATION)\n",
    "domain_class = domain_class[domain_class.is_sponsored == 1].set_index('domain')['domain_category'].to_dict()"
   ]
  },
  {
   "cell_type": "code",
   "execution_count": 4,
   "id": "3d445ab4",
   "metadata": {},
   "outputs": [
    {
     "name": "stdout",
     "output_type": "stream",
     "text": [
      "+-----------+----------------------------------------------------------------------------------------------------------+\n",
      "|display_id |domains                                                                                                   |\n",
      "+-----------+----------------------------------------------------------------------------------------------------------+\n",
      "|Gt_r6SrOxv8|[tipeeestream.com]                                                                                        |\n",
      "|xNoMrPUlBzw|[creativecommons.org]                                                                                     |\n",
      "|HBtx33c7WDE|[ebay.com, fxo.co, cafepress.com, ebay.com, tinyurl.com, ebay.com, ebay.com, ebay.com, ebay.com, ebay.com]|\n",
      "|r5JH6DDTpV8|[ebay.com, fxo.co, cafepress.com, ebay.com, ebay.com, ebay.com, ebay.com, tinyurl.com]                    |\n",
      "|0ZoegwnAF_w|[whatcar.com, whatcar.com, whatcar.com]                                                                   |\n",
      "|d2mfhzj1aOI|[whatcar.com, whatcar.com, whatcar.com]                                                                   |\n",
      "|L4scxmMJ-Dc|[whatcar.com, whatcar.com, whatcar.com, whatcar.com]                                                      |\n",
      "|IPgkXz7679Y|[hillclimbfans.com, hillclimbfans.com]                                                                    |\n",
      "|uLL-UgbKEeo|[hillclimbfans.com, hillclimbfans.com]                                                                    |\n",
      "|ldLEzO4bAFM|[moto-stars.info, teespring.com]                                                                          |\n",
      "+-----------+----------------------------------------------------------------------------------------------------------+\n",
      "only showing top 10 rows\n",
      "\n"
     ]
    }
   ],
   "source": [
    "metadatas_domains.select('display_id', 'domains').show(10, False)"
   ]
  },
  {
   "cell_type": "code",
   "execution_count": 5,
   "id": "8ae2db0d",
   "metadata": {},
   "outputs": [],
   "source": [
    "def domain_is_sponsor(domain):\n",
    "    return domain in domain_class\n",
    "\n",
    "def get_domain_category(domain):\n",
    "    if domain in domain_class:\n",
    "        return domain_class[domain]\n",
    "    else:\n",
    "        return None\n",
    "\n",
    "domain_is_sponsor_udf = udf(domain_is_sponsor, BooleanType())\n",
    "get_domain_category_udf = udf(get_domain_category, StringType())\n",
    "\n",
    "# We first explode de domains and add the missing information about sponsorships for each domain in each video\n",
    "metadatas_domains = metadatas_domains.withColumn(\"domain\", explode(\"domains\")) \\\n",
    "    .drop(\"domains\")\n",
    "metadatas_domains = metadatas_domains.withColumn(\"is_sponsored\", domain_is_sponsor_udf(\"domain\")) \\\n",
    "    .withColumn('domain_category', get_domain_category_udf(\"domain\")) \\\n",
    "\n",
    "# We regroup the information back together to have a list of distinct sponsored domains\n",
    "# and a sponsor flag for each video if at least one of the domains is sponsored\n",
    "metadatas_domains = metadatas_domains.groupby(\"display_id\") \\\n",
    "    .agg(\n",
    "        collect_list(\"domain\").alias(\"domains\"),\n",
    "        collect_list(\"domain_category\").alias(\"domain_categories\"),\n",
    "        collect_list(\"is_sponsored\").alias(\"is_sponsoreds\")\n",
    "    ) \\\n",
    "    .withColumn(\"is_sponsored\", udf(lambda x: any(x), BooleanType())(\"is_sponsoreds\")) \\\n",
    "    .withColumn(\"domain_categories\", udf(lambda x: list(set(x)), StringType())(\"domain_categories\")) \\\n",
    "    .drop(\"domain\", \"domain_category\", \"is_sponsoreds\")"
   ]
  },
  {
   "cell_type": "code",
   "execution_count": 11,
   "id": "29ea413e",
   "metadata": {},
   "outputs": [
    {
     "name": "stdout",
     "output_type": "stream",
     "text": [
      "+-----------+--------------------+------------+--------------------+\n",
      "| display_id|             domains|is_sponsored|   domain_categories|\n",
      "+-----------+--------------------+------------+--------------------+\n",
      "|---jqfcks4Y|      [gamewisp.com]|        true|            [Agency]|\n",
      "|--1udHoGWFY|[rstyle.me, rstyl...|        true|[Agency, Beauty, ...|\n",
      "|--6bIzrgY3I|[play.google.com,...|        true|       [Application]|\n",
      "|--7kvpZtKDE|    [streamlabs.com]|        true|       [Application]|\n",
      "|--8bLO31olY|[google.com, even...|        true|            [Agency]|\n",
      "|--BJEQK3lZ8| [doubtnut.app.link]|        true|       [Application]|\n",
      "|--Bu6_czcUw|[play.google.com,...|        true|       [Application]|\n",
      "|--D9SNFXu4k|[apps.apple.com, ...|        true|       [Application]|\n",
      "|--F-0qN4gXU|[psnprofiles.com,...|        true|              [Shop]|\n",
      "|--HsbU1M3rY|[play.google.com,...|        true|       [Application]|\n",
      "+-----------+--------------------+------------+--------------------+\n",
      "only showing top 10 rows\n",
      "\n"
     ]
    }
   ],
   "source": [
    "metadatas_domains.select('display_id', 'domains', 'is_sponsored', 'domain_categories').filter(metadatas_domains.is_sponsored).show(10)"
   ]
  },
  {
   "cell_type": "code",
   "execution_count": 12,
   "id": "f81013fb",
   "metadata": {},
   "outputs": [
    {
     "name": "stdout",
     "output_type": "stream",
     "text": [
      "+-----------+--------------------+------------+-----------------+\n",
      "| display_id|             domains|is_sponsored|domain_categories|\n",
      "+-----------+--------------------+------------+-----------------+\n",
      "|---1Yr75DDo|[pond5.com, foota...|       false|               []|\n",
      "|---SLoSKUoc|[plus.google.com,...|       false|               []|\n",
      "|---y_F0JOYY|[worldbossteam.co...|       false|               []|\n",
      "|--1mZyOoA9o|[TheMelaninCode.c...|       false|               []|\n",
      "|--1wdNZnvY8|[roblox.com, robl...|       false|               []|\n",
      "|--2aaCq_Rg8|[store.playstatio...|       false|               []|\n",
      "|--2lK1tBnY4|         [newsx.com]|       false|               []|\n",
      "|--2nX2IK1fY|      [musicfog.com]|       false|               []|\n",
      "|--34oO-c1zA|[wecrafter.com, w...|       false|               []|\n",
      "|--3XHHGVZTg|[bhaarattoday.com...|       false|               []|\n",
      "+-----------+--------------------+------------+-----------------+\n",
      "only showing top 10 rows\n",
      "\n"
     ]
    }
   ],
   "source": [
    "metadatas_domains.select('display_id', 'domains', 'is_sponsored', 'domain_categories').filter(~metadatas_domains.is_sponsored).show(10)"
   ]
  },
  {
   "attachments": {},
   "cell_type": "markdown",
   "metadata": {},
   "source": [
    "### Add Months to Videos"
   ]
  },
  {
   "cell_type": "code",
   "execution_count": 6,
   "metadata": {},
   "outputs": [],
   "source": [
    "def diff_month(d1,d2):\n",
    "    \n",
    "    return (d1.year - d2.year) * 12 + d1.month - d2.month\n",
    "\n",
    "diff_month_udf = udf(lambda d1,d2: diff_month(d1,d2), IntegerType())\n",
    "start_date = metadatas_domains.select('upload_date').agg({'upload_date': 'min'}).collect()[0][0]\n",
    "metadatas_domains = metadatas_domains.withColumn('diff_month', diff_month_udf('upload_date', lit(start_date)))"
   ]
  },
  {
   "cell_type": "code",
   "execution_count": 7,
   "metadata": {},
   "outputs": [
    {
     "name": "stdout",
     "output_type": "stream",
     "text": [
      "+-----------+--------------------+-----------------+------------+----------------+--------------------+----------+--------------------+-------------+--------+----------+--------------------+--------------------+-----------+----------+----------+\n",
      "| display_id|             domains|domain_categories|is_sponsored|      categories|          channel_id|crawl_date|         description|dislike_count|duration|like_count|                tags|               title|upload_date|view_count|diff_month|\n",
      "+-----------+--------------------+-----------------+------------+----------------+--------------------+----------+--------------------+-------------+--------+----------+--------------------+--------------------+-----------+----------+----------+\n",
      "|---1Yr75DDo|[pond5.com, foota...|               []|       false|Film & Animation|UCarI394EclOjlRrm...|2019-11-18|http://www.pond5....|            2|      47|        11|free Chroma Key E...|Explosion 1 - gre...| 2012-07-14|      3708|        84|\n",
      "|---SLoSKUoc|[plus.google.com,...|               []|       false| News & Politics|UCAR3h_9fLV82N2FH...|2019-11-22|దేవుడి ఫోటోలతో సో...|            1|     231|        30|tv5,tv5 news,telu...|దేవుడి ఫోటోలతో సో...| 2019-09-03|       757|       170|\n",
      "|--1mZyOoA9o|[TheMelaninCode.c...|               []|       false|  People & Blogs|UCOy6tj7wcFiBOrW2...|2019-11-15|https://www.TheMe...|            4|     256|       449|spoken word,spoke...|BLACK PEOPLE MUST...| 2019-02-07|      2904|       163|\n",
      "|--2aaCq_Rg8|[store.playstatio...|               []|       false|          Gaming|UCfkN0EUMAVOoBriQ...|2019-11-20|It took me a long...|            0|     386|         1|#PS4share,PlaySta...|METAL GEAR SOLID ...| 2019-04-21|        11|       165|\n",
      "|--41blMQ4FM|   [wow.joystiq.com]|               []|       false|          Gaming|UCwiaPYufmQOq5F1T...|2019-10-31|●I Stream on Twit...|            8|     445|       372|warlords of draen...|WoW News:10 Milli...| 2014-11-21|     16877|       112|\n",
      "|--5QCYzbE4U|      [mixcloud.com]|               []|       false|           Music|UChHBLdA2z3_PNDXY...|2019-11-01|After a 1 month b...|           19|    1983|       293|DJFlyBeatMusic,DJ...|Best New Techno 2...| 2016-10-30|     31140|       135|\n",
      "|--8bLO31olY|[google.com, even...|         [Agency]|        true| Travel & Events|UCbMCXJYFeShO0VE-...|2019-11-03|expand me owo\\n\\n...|            3|     542|       248|osu,osu event,coe...|[COE2019] Guide t...| 2019-07-12|      4280|       168|\n",
      "|--BJEQK3lZ8| [doubtnut.app.link]|    [Application]|        true|       Education|UCcv7pspGHmM7AOyw...|2019-11-14|This is the Solut...|            0|      86|         0|IIT JEE,jee advan...|IIT JEE COMPLEX N...| 2017-09-22|        19|       146|\n",
      "|--D9SNFXu4k|[apps.apple.com, ...|    [Application]|        true|          Sports|UCb6yvgicm35fe4Jo...|2019-11-19|NFL Network's Dav...|            1|     133|        21|David Carr,New Yo...|David Carr uses g...| 2019-05-16|      1183|       166|\n",
      "|--Hb7ErpanI|[bccgaming.com, b...|               []|       false|          Gaming|UCBw-Dz6wHRkxiXKC...|2019-11-02|Support us on For...|         1195|     605|     40728|Bcc,bcc trolling,...|*BROKEN* GET LOOT...| 2019-09-08|   1987511|       170|\n",
      "+-----------+--------------------+-----------------+------------+----------------+--------------------+----------+--------------------+-------------+--------+----------+--------------------+--------------------+-----------+----------+----------+\n",
      "only showing top 10 rows\n",
      "\n"
     ]
    }
   ],
   "source": [
    "metadatas_domains.show(10)"
   ]
  },
  {
   "cell_type": "code",
   "execution_count": 9,
   "metadata": {},
   "outputs": [],
   "source": [
    "PATH_ALL_METADATAS_SRC = '../data/generated/all_metadatas_en.parquet'\n",
    "\n",
    "metadatas_domains.write.parquet(PATH_ALL_METADATAS_SRC)"
   ]
  }
 ],
 "metadata": {
  "kernelspec": {
   "display_name": "spark",
   "language": "python",
   "name": "python3"
  },
  "language_info": {
   "codemirror_mode": {
    "name": "ipython",
    "version": 3
   },
   "file_extension": ".py",
   "mimetype": "text/x-python",
   "name": "python",
   "nbconvert_exporter": "python",
   "pygments_lexer": "ipython3",
   "version": "3.9.15 (main, Nov 24 2022, 14:39:17) [MSC v.1916 64 bit (AMD64)]"
  },
  "orig_nbformat": 4,
  "vscode": {
   "interpreter": {
    "hash": "58222ebbc97bc15a7dd406d2f7b4dd2466104a906450c8e9dcb294b8e2a99cab"
   }
  }
 },
 "nbformat": 4,
 "nbformat_minor": 2
}
