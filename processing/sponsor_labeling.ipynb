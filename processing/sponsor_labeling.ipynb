{
 "cells": [
  {
   "attachments": {},
   "cell_type": "markdown",
   "id": "fdd7a8c6",
   "metadata": {},
   "source": [
    "### Adding the sponsors and their categories to our big dataset\n",
    "\n",
    "In this notebook we aim to add a column called \"is_sponsored\" which is 1 if the domains contained in the video's description are a sponsor or not, based on our classification of the first 1000 more referenced domains, and 0 otherwise. Then we also want to add a column \"sponsor_categories\" which will contain the categories of the sponsors present in a video's description."
   ]
  },
  {
   "cell_type": "code",
   "execution_count": 1,
   "id": "1cb86114",
   "metadata": {},
   "outputs": [],
   "source": [
    "import re\n",
    "from pyspark.sql.functions import col, udf, explode, collect_list\n",
    "from pyspark.sql.types import FloatType, BooleanType, StringType\n",
    "\n",
    "import numpy as np\n",
    "\n",
    "from pyspark.sql import SparkSession\n",
    "import pyspark as ps\n",
    "\n",
    "from pyspark.ml.regression import LinearRegression\n",
    "from pyspark.ml.feature import VectorAssembler\n",
    "\n",
    "import pandas as pd\n",
    "\n",
    "from pyspark.sql import SparkSession\n",
    "import pyspark as ps\n",
    "config = ps.SparkConf()\n",
    "config.set('spark.executor.heartbeatInterval', '3600s')\n",
    "config.set('spark.network.timeout', '7200s')\n",
    "config.set('spark.driver.memory', '16g') # Increase the driver memory to avoid HeapOverflow when repartitioning.\n",
    "sc = ps.SparkContext('local[*]', '', conf=config) # write 'local' for single-threaded execution and 'local[*]' for multi-threaded execution.\n",
    "spark = SparkSession(sc)"
   ]
  },
  {
   "cell_type": "code",
   "execution_count": 2,
   "id": "2a94b250",
   "metadata": {},
   "outputs": [],
   "source": [
    "PATH_METADATAS_DOMAINS_SRC = 'data/generated/yt_metadata_en_domains.parquet'\n",
    "PATH_DOMAIN_CLASSIFICATION = \"data/domains_classification.csv\""
   ]
  },
  {
   "cell_type": "code",
   "execution_count": 3,
   "id": "9c4adf3d",
   "metadata": {},
   "outputs": [],
   "source": [
    "metadatas_domains = spark.read.parquet(PATH_METADATAS_DOMAINS_SRC)\n",
    "\n",
    "# Get a dict of sponsored domains with their category\n",
    "domain_class = pd.read_csv(PATH_DOMAIN_CLASSIFICATION)\n",
    "domain_class = domain_class[domain_class.is_sponsored == 1].set_index('domain')['domain_category'].to_dict()"
   ]
  },
  {
   "cell_type": "code",
   "execution_count": 4,
   "id": "3d445ab4",
   "metadata": {},
   "outputs": [
    {
     "name": "stdout",
     "output_type": "stream",
     "text": [
      "+-----------+----------------------------------------------------------------------------------------------------------+\n",
      "|display_id |domains                                                                                                   |\n",
      "+-----------+----------------------------------------------------------------------------------------------------------+\n",
      "|Gt_r6SrOxv8|[tipeeestream.com]                                                                                        |\n",
      "|xNoMrPUlBzw|[creativecommons.org]                                                                                     |\n",
      "|HBtx33c7WDE|[ebay.com, fxo.co, cafepress.com, ebay.com, tinyurl.com, ebay.com, ebay.com, ebay.com, ebay.com, ebay.com]|\n",
      "|r5JH6DDTpV8|[ebay.com, fxo.co, cafepress.com, ebay.com, ebay.com, ebay.com, ebay.com, tinyurl.com]                    |\n",
      "|0ZoegwnAF_w|[whatcar.com, whatcar.com, whatcar.com]                                                                   |\n",
      "|d2mfhzj1aOI|[whatcar.com, whatcar.com, whatcar.com]                                                                   |\n",
      "|L4scxmMJ-Dc|[whatcar.com, whatcar.com, whatcar.com, whatcar.com]                                                      |\n",
      "|IPgkXz7679Y|[hillclimbfans.com, hillclimbfans.com]                                                                    |\n",
      "|uLL-UgbKEeo|[hillclimbfans.com, hillclimbfans.com]                                                                    |\n",
      "|ldLEzO4bAFM|[moto-stars.info, teespring.com]                                                                          |\n",
      "+-----------+----------------------------------------------------------------------------------------------------------+\n",
      "only showing top 10 rows\n",
      "\n"
     ]
    }
   ],
   "source": [
    "metadatas_domains.select('display_id', 'domains').show(10, False)"
   ]
  },
  {
   "cell_type": "code",
   "execution_count": 5,
   "id": "8ae2db0d",
   "metadata": {},
   "outputs": [],
   "source": [
    "def domain_is_sponsor(domain):\n",
    "    return domain in domain_class\n",
    "\n",
    "def get_domain_category(domain):\n",
    "    if domain in domain_class:\n",
    "        return domain_class[domain]\n",
    "    else:\n",
    "        return None\n",
    "\n",
    "domain_is_sponsor_udf = udf(domain_is_sponsor, BooleanType())\n",
    "get_domain_category_udf = udf(get_domain_category, StringType())\n",
    "\n",
    "# We first explode de domains and add the missing information about sponsorships for each domain in each video\n",
    "metadatas_domains = metadatas_domains.withColumn(\"domain\", explode(\"domains\")) \\\n",
    "    .drop(\"domains\")\n",
    "metadatas_domains = metadatas_domains.withColumn(\"is_sponsored\", domain_is_sponsor_udf(\"domain\")) \\\n",
    "    .withColumn('domain_category', get_domain_category_udf(\"domain\")) \\\n",
    "\n",
    "# We regroup the information back together to have a list of distinct sponsored domains\n",
    "# and a sponsor flag for each video if at least one of the domains is sponsored\n",
    "metadatas_domains = metadatas_domains.groupby(\"display_id\") \\\n",
    "    .agg(\n",
    "        collect_list(\"domain\").alias(\"domains\"),\n",
    "        collect_list(\"domain_category\").alias(\"domain_categories\"),\n",
    "        collect_list(\"is_sponsored\").alias(\"is_sponsoreds\")\n",
    "    ) \\\n",
    "    .withColumn(\"is_sponsored\", udf(lambda x: any(x), BooleanType())(\"is_sponsoreds\")) \\\n",
    "    .withColumn(\"domain_categories\", udf(lambda x: list(set(x)), StringType())(\"domain_categories\")) \\\n",
    "    .drop(\"domain\", \"domain_category\", \"is_sponsoreds\")"
   ]
  },
  {
   "cell_type": "code",
   "execution_count": 11,
   "id": "29ea413e",
   "metadata": {},
   "outputs": [
    {
     "name": "stdout",
     "output_type": "stream",
     "text": [
      "+-----------+--------------------+------------+--------------------+\n",
      "| display_id|             domains|is_sponsored|   domain_categories|\n",
      "+-----------+--------------------+------------+--------------------+\n",
      "|---jqfcks4Y|      [gamewisp.com]|        true|            [Agency]|\n",
      "|--1udHoGWFY|[rstyle.me, rstyl...|        true|[Agency, Beauty, ...|\n",
      "|--6bIzrgY3I|[play.google.com,...|        true|       [Application]|\n",
      "|--7kvpZtKDE|    [streamlabs.com]|        true|       [Application]|\n",
      "|--8bLO31olY|[google.com, even...|        true|            [Agency]|\n",
      "|--BJEQK3lZ8| [doubtnut.app.link]|        true|       [Application]|\n",
      "|--Bu6_czcUw|[play.google.com,...|        true|       [Application]|\n",
      "|--D9SNFXu4k|[apps.apple.com, ...|        true|       [Application]|\n",
      "|--F-0qN4gXU|[psnprofiles.com,...|        true|              [Shop]|\n",
      "|--HsbU1M3rY|[play.google.com,...|        true|       [Application]|\n",
      "+-----------+--------------------+------------+--------------------+\n",
      "only showing top 10 rows\n",
      "\n"
     ]
    }
   ],
   "source": [
    "metadatas_domains.select('display_id', 'domains', 'is_sponsored', 'domain_categories').filter(metadatas_domains.is_sponsored).show(10)"
   ]
  },
  {
   "cell_type": "code",
   "execution_count": 12,
   "id": "f81013fb",
   "metadata": {},
   "outputs": [
    {
     "name": "stdout",
     "output_type": "stream",
     "text": [
      "+-----------+--------------------+------------+-----------------+\n",
      "| display_id|             domains|is_sponsored|domain_categories|\n",
      "+-----------+--------------------+------------+-----------------+\n",
      "|---1Yr75DDo|[pond5.com, foota...|       false|               []|\n",
      "|---SLoSKUoc|[plus.google.com,...|       false|               []|\n",
      "|---y_F0JOYY|[worldbossteam.co...|       false|               []|\n",
      "|--1mZyOoA9o|[TheMelaninCode.c...|       false|               []|\n",
      "|--1wdNZnvY8|[roblox.com, robl...|       false|               []|\n",
      "|--2aaCq_Rg8|[store.playstatio...|       false|               []|\n",
      "|--2lK1tBnY4|         [newsx.com]|       false|               []|\n",
      "|--2nX2IK1fY|      [musicfog.com]|       false|               []|\n",
      "|--34oO-c1zA|[wecrafter.com, w...|       false|               []|\n",
      "|--3XHHGVZTg|[bhaarattoday.com...|       false|               []|\n",
      "+-----------+--------------------+------------+-----------------+\n",
      "only showing top 10 rows\n",
      "\n"
     ]
    }
   ],
   "source": [
    "metadatas_domains.select('display_id', 'domains', 'is_sponsored', 'domain_categories').filter(~metadatas_domains.is_sponsored).show(10)"
   ]
  },
  {
   "cell_type": "code",
   "execution_count": 14,
   "id": "84bc4a9b",
   "metadata": {},
   "outputs": [],
   "source": [
    "PATH_METADATAS_SPONSOR_SRC = 'data/generated/yt_metadata_sponsor_en_domains.parquet'"
   ]
  },
  {
   "cell_type": "code",
   "execution_count": 16,
   "id": "6850549b",
   "metadata": {},
   "outputs": [],
   "source": [
    "# Delete the output folder if it already exists\n",
    "#!rm -f $PATH_METADATAS_SPONSOR_SRC # Linux\n",
    "!PowerShell.exe -Command \"Remove-Item -Path $PATH_METADATAS_SPONSOR_SRC -Recurse -Force\" # Windows"
   ]
  },
  {
   "cell_type": "code",
   "execution_count": 17,
   "id": "1a7be723",
   "metadata": {},
   "outputs": [],
   "source": [
    "metadatas_domains.write.parquet(PATH_METADATAS_SPONSOR_SRC)"
   ]
  },
  {
   "cell_type": "code",
   "execution_count": null,
   "id": "26f268b9",
   "metadata": {},
   "outputs": [],
   "source": []
  }
 ],
 "metadata": {
  "kernelspec": {
   "display_name": "spark",
   "language": "python",
   "name": "python3"
  },
  "language_info": {
   "codemirror_mode": {
    "name": "ipython",
    "version": 3
   },
   "file_extension": ".py",
   "mimetype": "text/x-python",
   "name": "python",
   "nbconvert_exporter": "python",
   "pygments_lexer": "ipython3",
   "version": "3.9.15"
  },
  "vscode": {
   "interpreter": {
    "hash": "58222ebbc97bc15a7dd406d2f7b4dd2466104a906450c8e9dcb294b8e2a99cab"
   }
  }
 },
 "nbformat": 4,
 "nbformat_minor": 5
}
