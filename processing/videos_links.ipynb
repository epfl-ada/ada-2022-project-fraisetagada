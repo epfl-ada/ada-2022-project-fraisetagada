{
 "cells": [
  {
   "cell_type": "markdown",
   "metadata": {},
   "source": [
    "# Preprocessing: links in video descriptions\n",
    "\n",
    "This notebook processes links in video descriptions. Our goal is to extract URLs that may be related to sponsors, hence giving us a way to identify sponsorships in videos."
   ]
  },
  {
   "cell_type": "code",
   "execution_count": 1,
   "metadata": {},
   "outputs": [],
   "source": [
    "import findspark\n",
    "findspark.init()\n",
    "\n",
    "import re\n",
    "from pyspark.sql.functions import col, udf, explode, when\n",
    "from pyspark.sql.types import StructType, StructField, IntegerType, DoubleType, LongType, StringType, DateType, ArrayType, BooleanType\n",
    "\n",
    "from pyspark.sql import SparkSession\n",
    "import pyspark as ps\n",
    "config = ps.SparkConf().setAll([\n",
    "    ('spark.network.timeout', '3601s'),\n",
    "    ('spark.executor.heartbeatInterval', '3600s'),\n",
    "])\n",
    "sc = ps.SparkContext('local', '', conf=config)\n",
    "spark = SparkSession(sc)"
   ]
  },
  {
   "cell_type": "code",
   "execution_count": 2,
   "metadata": {},
   "outputs": [],
   "source": [
    "USE_SUBDATASETS = True\n",
    "PATH_METADATAS_SRC = '../data/subdata/yt_metadata_en_sub' if USE_SUBDATASETS else '../data/yt_metadata_en.jsonl'"
   ]
  },
  {
   "cell_type": "markdown",
   "metadata": {},
   "source": [
    "## Extract links from video descriptions\n",
    "\n",
    "Firstly, we extract links using regular expressions. We perform a first filtering to remove urls from sites that are generally not related to sponsors such as Youtube, Twitter, Facebook, Wikipedia, Discord, etc..."
   ]
  },
  {
   "cell_type": "code",
   "execution_count": 3,
   "metadata": {},
   "outputs": [],
   "source": [
    "PATH_METADATAS_URLS_DST = '../data/generated/yt_metadata_en_urls.parquet'"
   ]
  },
  {
   "cell_type": "code",
   "execution_count": 4,
   "metadata": {},
   "outputs": [],
   "source": [
    "# Load the invalid URLs\n",
    "PATH_INVALID_URLS = '../data/invalid_urls.csv'\n",
    "\n",
    "invalid_urls_reg = []\n",
    "with open(PATH_INVALID_URLS, 'r') as f:\n",
    "    for line in f:\n",
    "        invalid_urls_reg.append(fr\"(?i)({line.strip()})\")"
   ]
  },
  {
   "cell_type": "code",
   "execution_count": 5,
   "metadata": {},
   "outputs": [],
   "source": [
    "def get_urls(description):\n",
    "    if description is None:\n",
    "        return []\n",
    "        \n",
    "    url_regex = r\"https?:\\/\\/(www\\.)?[-a-zA-Z0-9@:%._\\+~#=]{1,256}\\.[a-zA-Z0-9()]{1,6}\\b([-a-zA-Z0-9()@:%_\\+.~#?&//=]*)\"\n",
    "    urls = []\n",
    "    for line in description.split(\"\\n\"):\n",
    "        if re.search(url_regex, line):\n",
    "            urlss = [x.group() for x in re.finditer(url_regex, line)] # Find all urls in the line\n",
    "            urlss = [x for x in urlss if not any([re.search(reg, x) for reg in invalid_urls_reg])] # Filter out invalid urls\n",
    "            urls.extend(urlss)\n",
    "    urls = list(set(urls)) # Remove duplicates\n",
    "    return urls\n",
    "\n",
    "# Test the function on basic examples\n",
    "assert(get_urls('There is no link.') == [])\n",
    "assert(get_urls('This is not a valid link: www.special.com/') == [])\n",
    "assert(get_urls('This is a link: https://www.special.com/ and this is another link: https://www.youtube.com/watch?v=2') == ['https://www.special.com/'])\n",
    "assert(get_urls('This is a link: https://www.special.com/ \\n and this is an invalid link: www.special.com/') == ['https://www.special.com/'])"
   ]
  },
  {
   "cell_type": "code",
   "execution_count": 6,
   "metadata": {},
   "outputs": [],
   "source": [
    "schema = StructType([\n",
    "    StructField(\"categories\",    StringType(),  True),\n",
    "    StructField(\"channel_id\",    StringType(),  True),\n",
    "    StructField(\"crawl_date\",    DateType(),    True),\n",
    "    StructField(\"description\",   StringType(),  True),\n",
    "    StructField(\"dislike_count\", DoubleType(),  True), # This field must be specified as a double as it is represented as a floating point number\n",
    "    StructField(\"display_id\",    StringType(),  True),\n",
    "    StructField(\"duration\",      IntegerType(), True),\n",
    "    StructField(\"like_count\",    DoubleType(),  True), # This field must be specified as a double as it is represented as a floating point number\n",
    "    StructField(\"tags\",          StringType(),  True),\n",
    "    StructField(\"title\",         StringType(),  True),\n",
    "    StructField(\"upload_date\",   DateType(),    True),\n",
    "    StructField(\"view_count\",    DoubleType(),  True)  # This field must be specified as a double as it is represented as a floating point number\n",
    "])\n",
    "    \n",
    "metadatas = spark.read.json(PATH_METADATAS_SRC, schema=schema)\n",
    "\n",
    "# Cast the dislike_count, like_count and view_count to their respective integer type\n",
    "metadatas = metadatas \\\n",
    "    .withColumn(\"dislike_count\", metadatas.dislike_count.cast(IntegerType())) \\\n",
    "    .withColumn(\"like_count\", metadatas.like_count.cast(IntegerType())) \\\n",
    "    .withColumn(\"view_count\", metadatas.view_count.cast(LongType()))\n",
    "\n",
    "# Get urls and count of urls in the description\n",
    "get_urls_udf = udf(lambda x: get_urls(x), ArrayType(StringType()))\n",
    "metadatas = metadatas.withColumn('urls', get_urls_udf(col('description')))\n",
    "len_udf = udf(lambda x: len(x), IntegerType())\n",
    "metadatas = metadatas.withColumn('urls_count', len_udf(col('urls')))\n",
    "has_urls_udf = udf(lambda x: x > 0, BooleanType())\n",
    "metadatas = metadatas.withColumn('has_urls', has_urls_udf(col('urls_count')))\n",
    "\n",
    "# Drop the description and take only the videos with at least one url\n",
    "metadatas_urls = metadatas.drop('description')"
   ]
  },
  {
   "cell_type": "code",
   "execution_count": 7,
   "metadata": {},
   "outputs": [
    {
     "name": "stdout",
     "output_type": "stream",
     "text": [
      "+-----------+--------------------+----------+\n",
      "| display_id|                urls|urls_count|\n",
      "+-----------+--------------------+----------+\n",
      "|VPqJmODeZyk|[https://goo.gl/J...|         1|\n",
      "|xLYGF-aCEHk|[https://goo.gl/J...|         1|\n",
      "|TqzfdwSZdRc|[https://goo.gl/J...|         1|\n",
      "|C-dn3p-ZTrM|[https://goo.gl/J...|         1|\n",
      "|OP_njme3T84|[https://goo.gl/J...|         1|\n",
      "+-----------+--------------------+----------+\n",
      "only showing top 5 rows\n",
      "\n"
     ]
    }
   ],
   "source": [
    "metadatas_urls.filter(metadatas_urls.has_urls).select('display_id', 'urls', 'urls_count').show(5)"
   ]
  },
  {
   "cell_type": "code",
   "execution_count": 8,
   "metadata": {},
   "outputs": [
    {
     "name": "stdout",
     "output_type": "stream",
     "text": [
      "+-----------+----+----------+\n",
      "| display_id|urls|urls_count|\n",
      "+-----------+----+----------+\n",
      "|SBqSc91Hn9g|  []|         0|\n",
      "|UuugEl86ESY|  []|         0|\n",
      "|oB4c-yvnbjs|  []|         0|\n",
      "|ZaV-gTCMV8E|  []|         0|\n",
      "|cGvL7AvMfM0|  []|         0|\n",
      "+-----------+----+----------+\n",
      "only showing top 5 rows\n",
      "\n"
     ]
    }
   ],
   "source": [
    "metadatas_urls.filter(~metadatas_urls.has_urls).select('display_id', 'urls', 'urls_count').show(5)"
   ]
  },
  {
   "cell_type": "markdown",
   "metadata": {},
   "source": [
    "Run the two cells below if you want to write the current state of the dataframe to a parquet file."
   ]
  },
  {
   "cell_type": "code",
   "execution_count": 9,
   "metadata": {},
   "outputs": [],
   "source": [
    "# Delete the output folder if it already exists\n",
    "#!rm -f $PATH_METADATAS_URLS_DST # Linux\n",
    "!PowerShell.exe -Command \"Remove-Item -Path $PATH_METADATAS_URLS_DST -Recurse -Force\" # Windows"
   ]
  },
  {
   "cell_type": "code",
   "execution_count": 10,
   "metadata": {},
   "outputs": [],
   "source": [
    "metadatas_urls.write.parquet(PATH_METADATAS_URLS_DST, partitionBy=['has_urls'], mode='overwrite')"
   ]
  },
  {
   "cell_type": "markdown",
   "metadata": {},
   "source": [
    "## Analyse shortened URLs"
   ]
  },
  {
   "cell_type": "code",
   "execution_count": 45,
   "metadata": {},
   "outputs": [],
   "source": [
    "regs = {\n",
    "    'bitly'     : r'https?:\\/\\/bit\\.ly\\/[a-zA-Z0-9\\-\\_]+',\n",
    "    'google'    : r'https?:\\/\\/goo\\.gl\\/[a-zA-Z0-9\\-\\_]+',\n",
    "    'tinyurl'   : r'https?:\\/\\/tinyurl\\.com\\/[a-zA-Z0-9\\-\\_]+',\n",
    "    'adfly'     : r'https?:\\/\\/adf\\.ly\\/[a-zA-Z0-9\\-\\_]+',\n",
    "    'owly'      : r'https?:\\/\\/ow\\.ly\\/[a-zA-Z0-9\\-\\_]+',\n",
    "}"
   ]
  },
  {
   "cell_type": "code",
   "execution_count": 49,
   "metadata": {},
   "outputs": [
    {
     "name": "stdout",
     "output_type": "stream",
     "text": [
      "+------------------------------------------------------------------------------------------------------------------------------------------------------------------------------------------------------------------------------------------------------------------------------------------------------------------------------------------------------------------------------------------------------+\n",
      "|urls                                                                                                                                                                                                                                                                                                                                                                                                  |\n",
      "+------------------------------------------------------------------------------------------------------------------------------------------------------------------------------------------------------------------------------------------------------------------------------------------------------------------------------------------------------------------------------------------------------+\n",
      "|[http://geni.us/sva4iUY, http://goo.gl/N7LtwUEating, http://goo.gl/OZOQXi, http://goo.gl/1ECSlOHelp, http://amara.org/v/H88h/, http://goo.gl/1ECSlO__, http://goo.gl/DjOmkC__, http://amara.org/v/72H3/, http://goo.gl/WG8jcZ----------------------------------------------------------------------------------------------------------------KATIFAQ, http://goo.gl/DjOmkCLGTBQ, http://goo.gl/N7LtwU]|\n",
      "|[http://goo.gl/MQaEkT, http://goo.gl/xvvOnz, http://forums.mfgg.net/viewtopic.php?f=8&t=16561, http://on.fb.me/vqa7KZ, http://goo.gl/wqDOVX, https://www.redbubble.com/people/pksparkxx, https://gleam.io/competitions/pnDfT-toad-amiibo-giveaway, http://goo.gl/IMvyoE, http://goo.gl/8uJzMB, http://bit.ly/the1Xl, http://goo.gl/1EIRYp, http://goo.gl/3Zc16a]                                      |\n",
      "|[http://goo.gl/ebNJCp]                                                                                                                                                                                                                                                                                                                                                                                |\n",
      "|[http://creativecommons.org/licenses/b..., http://www.freepik.com, https://goo.gl/Znm2rp, https://www.behance.net/asmarif]                                                                                                                                                                                                                                                                            |\n",
      "|[https://goo.gl/y6wv8J, https://goo.gl/A3zKTx, https://goo.gl/pW9KD2, https://goo.gl/FcqjA7, https://goo.gl/kWgfyH, https://goo.gl/fAj7fk, https://goo.gl/k0fDE3, https://goo.gl/D9gQw8, https://goo.gl/69UIMs, https://goo.gl/1af9s3]                                                                                                                                                                |\n",
      "+------------------------------------------------------------------------------------------------------------------------------------------------------------------------------------------------------------------------------------------------------------------------------------------------------------------------------------------------------------------------------------------------------+\n",
      "only showing top 5 rows\n",
      "\n"
     ]
    }
   ],
   "source": [
    "for short_name, short_reg in regs.items():\n",
    "    reg_udf = udf(lambda x: len([y for y in x if re.search(short_reg, y)]), IntegerType())\n",
    "    metadatas_urls = metadatas_urls.withColumn(short_name + '_count', reg_udf(col('urls')))\n",
    "\n",
    "#metadatas_urls.select('display_id', 'urls', 'bitly_count', 'google_count', 'tinyurl_count', 'adfly_count').show(5)\n",
    "metadatas_urls.filter(metadatas_urls.google_count > 0).select('urls').show(5, False)\n"
   ]
  },
  {
   "cell_type": "code",
   "execution_count": 48,
   "metadata": {},
   "outputs": [
    {
     "data": {
      "text/plain": [
       "{'sum(bitly_count)': 2783,\n",
       " 'sum(adfly_count)': 9,\n",
       " 'sum(owly_count)': 11,\n",
       " 'sum(tinyurl_count)': 163,\n",
       " 'sum(google_count)': 2373}"
      ]
     },
     "execution_count": 48,
     "metadata": {},
     "output_type": "execute_result"
    }
   ],
   "source": [
    "short_urls_cnt = metadatas_urls.select('bitly_count', 'google_count', 'tinyurl_count', 'adfly_count', 'owly_count') \\\n",
    "    .agg({'bitly_count': 'sum', 'google_count': 'sum', 'tinyurl_count': 'sum', 'adfly_count': 'sum', 'owly_count': 'sum'}) \\\n",
    "    .collect()[0] \\\n",
    "    .asDict()\n",
    "\n",
    "short_urls_cnt"
   ]
  },
  {
   "cell_type": "markdown",
   "metadata": {},
   "source": [
    "## Resolve Bitly URLs\n",
    "\n",
    "To further enrich our dataset, we write in a separate file all the Bitly URLs found in the dataset. We will then use various tools such as the Bitly API, or simple HTTP requests to resolve the URLs."
   ]
  },
  {
   "cell_type": "code",
   "execution_count": 28,
   "metadata": {},
   "outputs": [],
   "source": [
    "PATH_BITLY_URLS = '../data/generated/bitly_urls.tsv'"
   ]
  },
  {
   "cell_type": "code",
   "execution_count": 12,
   "metadata": {},
   "outputs": [],
   "source": [
    "# Delete the output folder if it already exists\n",
    "#!rm -f $PATH_BITLY_URLS # Linux\n",
    "!PowerShell.exe -Command \"Remove-Item -Path $PATH_BITLY_URLS -Recurse -Force\" # Windows"
   ]
  },
  {
   "cell_type": "code",
   "execution_count": 13,
   "metadata": {},
   "outputs": [],
   "source": [
    "bitly_urls = metadatas_urls.select('display_id', explode('urls').alias('url'))\n",
    "bitly_urls = bitly_urls.filter(bitly_urls.url.like('%bit.ly%')).select('url').distinct()\n",
    "\n",
    "bitly_urls.write.csv(PATH_BITLY_URLS, sep='\\t', header=False)"
   ]
  },
  {
   "cell_type": "markdown",
   "metadata": {},
   "source": [
    "We now assume that the **Bitly URLs have been resolved** and we can replace them by their corresponding URLs."
   ]
  },
  {
   "cell_type": "code",
   "execution_count": 58,
   "metadata": {},
   "outputs": [],
   "source": [
    "PATH_BITLY_RESOLVED_URLS = '../data/generated/bitly_resolved_urls.tsv'"
   ]
  },
  {
   "cell_type": "code",
   "execution_count": 59,
   "metadata": {},
   "outputs": [
    {
     "name": "stdout",
     "output_type": "stream",
     "text": [
      "+--------------------+--------------------+\n",
      "|                 url|        resolved_url|\n",
      "+--------------------+--------------------+\n",
      "|http://bit.ly/2Cz...|http://www.musicn...|\n",
      "|http://bit.ly/2Cz...|                None|\n",
      "|https://bit.ly/2w...|https://www.audio...|\n",
      "|http://bit.ly/2Lq...|https://www.audio...|\n",
      "|http://bit.ly/2rw...|https://www.audio...|\n",
      "+--------------------+--------------------+\n",
      "only showing top 5 rows\n",
      "\n"
     ]
    }
   ],
   "source": [
    "schema = StructType([\n",
    "    StructField(\"url\",          StringType(), True),\n",
    "    StructField(\"resolved_url\", StringType(), True),\n",
    "])\n",
    "resolved_urls = spark.read.csv(PATH_BITLY_RESOLVED_URLS, sep='\\t', header=False, schema=schema)\n",
    "resolved_urls.show(5)"
   ]
  },
  {
   "cell_type": "code",
   "execution_count": 60,
   "metadata": {},
   "outputs": [
    {
     "name": "stdout",
     "output_type": "stream",
     "text": [
      "+-----------+--------------------+--------------------+\n",
      "| display_id|                 url|        resolved_url|\n",
      "+-----------+--------------------+--------------------+\n",
      "|FJMKM_TYLy8|http://NCS.lnk.to...|                null|\n",
      "|FJMKM_TYLy8|http://bit.ly/ALL...|https://www.youtu...|\n",
      "|FJMKM_TYLy8|http://bit.ly/Dre...|https://soundclou...|\n",
      "|FJMKM_TYLy8|http://bit.ly/NCS...|http://www.youtub...|\n",
      "|FJMKM_TYLy8|http://bit.ly/NCS...|http://www.youtub...|\n",
      "+-----------+--------------------+--------------------+\n",
      "only showing top 5 rows\n",
      "\n"
     ]
    }
   ],
   "source": [
    "metadatas_resolved_urls = metadatas_urls.withColumn('url', explode('urls')).join(resolved_urls, 'url', 'left')\n",
    "metadatas_resolved_urls.filter(metadatas_resolved_urls.display_id == 'FJMKM_TYLy8').select('display_id', 'url', 'resolved_url').show(5, True)"
   ]
  },
  {
   "cell_type": "code",
   "execution_count": 61,
   "metadata": {},
   "outputs": [
    {
     "name": "stdout",
     "output_type": "stream",
     "text": [
      "+-----------+--------------------+\n",
      "| display_id|                 url|\n",
      "+-----------+--------------------+\n",
      "|FJMKM_TYLy8|http://NCS.lnk.to...|\n",
      "|FJMKM_TYLy8|https://www.youtu...|\n",
      "|FJMKM_TYLy8|https://soundclou...|\n",
      "|FJMKM_TYLy8|http://www.youtub...|\n",
      "|FJMKM_TYLy8|http://www.youtub...|\n",
      "+-----------+--------------------+\n",
      "only showing top 5 rows\n",
      "\n"
     ]
    }
   ],
   "source": [
    "metadatas_resolved_urls = metadatas_resolved_urls \\\n",
    "    .withColumn('url', \\\n",
    "        when(metadatas_resolved_urls.resolved_url.isNotNull(), \n",
    "            metadatas_resolved_urls.resolved_url)\n",
    "        .otherwise(\n",
    "            metadatas_resolved_urls.url)) \\\n",
    "    .drop('resolved_url')\n",
    "metadatas_resolved_urls.filter(metadatas_resolved_urls.display_id == 'FJMKM_TYLy8').select('display_id', 'url').show(5, True)"
   ]
  },
  {
   "cell_type": "code",
   "execution_count": null,
   "metadata": {},
   "outputs": [],
   "source": []
  }
 ],
 "metadata": {
  "kernelspec": {
   "display_name": "Python 3.9.13 ('ada')",
   "language": "python",
   "name": "python3"
  },
  "language_info": {
   "codemirror_mode": {
    "name": "ipython",
    "version": 3
   },
   "file_extension": ".py",
   "mimetype": "text/x-python",
   "name": "python",
   "nbconvert_exporter": "python",
   "pygments_lexer": "ipython3",
   "version": "3.9.13"
  },
  "orig_nbformat": 4,
  "vscode": {
   "interpreter": {
    "hash": "d0662a494b2253db3bb976cfb5f0299b9f3e8f6fb30b7b3708db64640a69ca08"
   }
  }
 },
 "nbformat": 4,
 "nbformat_minor": 2
}
