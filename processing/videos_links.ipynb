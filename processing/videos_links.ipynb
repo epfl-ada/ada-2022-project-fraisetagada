{
 "cells": [
  {
   "cell_type": "markdown",
   "metadata": {},
   "source": [
    "# Process links in video descriptions\n",
    "\n",
    "This notebook processes links in video descriptions. The goal is to extract links that may be related to sponsors."
   ]
  },
  {
   "cell_type": "code",
   "execution_count": 30,
   "metadata": {},
   "outputs": [],
   "source": [
    "import re\n",
    "import requests\n",
    "from cachetools import cached, TTLCache\n",
    "from pyspark.sql.functions import col, udf, explode\n",
    "\n",
    "from pyspark.sql import SparkSession\n",
    "spark = SparkSession.builder.getOrCreate()\n",
    "\n",
    "# Setup a cache for the requests\n",
    "cache = TTLCache(maxsize=1024, ttl=86400)"
   ]
  },
  {
   "cell_type": "code",
   "execution_count": 2,
   "metadata": {},
   "outputs": [],
   "source": [
    "USE_SUBDATASETS = True\n",
    "\n",
    "PATH_METADATAS_SRC = '../data/subdata/yt_metadata_en_sub' if USE_SUBDATASETS else '../data/yt_metadata_en.tsv.gz'"
   ]
  },
  {
   "cell_type": "markdown",
   "metadata": {},
   "source": [
    "## Extract links from video descriptions"
   ]
  },
  {
   "cell_type": "markdown",
   "metadata": {},
   "source": [
    "Firstly, we extract links using regular expressions. We perform a first filtering to remove urls from sites that are generally not related to sponsors such as Youtube, Twitter, Facebook, Wikipedia, Discord, etc..."
   ]
  },
  {
   "cell_type": "code",
   "execution_count": 3,
   "metadata": {},
   "outputs": [],
   "source": [
    "PATH_METADATAS_URLS_DST = '../data/generated/yt_metadata_en_urls.parquet'\n",
    "PATH_METADATAS_NO_URLS_DST = '../data/generated/yt_metadata_en_no_urls.parquet'"
   ]
  },
  {
   "cell_type": "code",
   "execution_count": 4,
   "metadata": {},
   "outputs": [],
   "source": [
    "# Load the invalid URLs\n",
    "PATH_INVALID_URLS = '../data/invalid_urls.csv'\n",
    "\n",
    "invalid_urls_reg = []\n",
    "with open(PATH_INVALID_URLS, 'r') as f:\n",
    "    for line in f:\n",
    "        invalid_urls_reg.append(fr\"(?i)({line.strip()})\")"
   ]
  },
  {
   "cell_type": "code",
   "execution_count": 5,
   "metadata": {},
   "outputs": [],
   "source": [
    "def get_urls(description):\n",
    "    url_regex = r\"(https?:\\/\\/)?(www\\.)?[-a-zA-Z0-9@:%._\\+~#=]{1,256}\\.[a-zA-Z0-9()]{1,6}\\b([-a-zA-Z0-9()@:%_\\+.~#?&//=]*)\"\n",
    "    urls = []\n",
    "    for line in description.split(\"\\n\"):\n",
    "        if re.search(url_regex, line):\n",
    "            urlss = [x.group() for x in re.finditer(url_regex, line)] # Find all urls in the line\n",
    "            urlss = [x for x in urlss if not any([re.search(reg, x) for reg in invalid_urls_reg])] # Filter out invalid urls\n",
    "            urls.extend(urlss)\n",
    "    urls = set(urls) # Remove duplicates\n",
    "    return urls\n",
    "\n",
    "# Test the function on basic examples\n",
    "assert(not get_urls('There is no link.'))\n",
    "assert(get_urls('This is a link: www.special.com/') == {'www.special.com/'})\n",
    "assert(get_urls('This is a link: https://www.special.com/ and this is another link: https://www.youtube.com/watch?v=2') == {'https://www.special.com/'})\n",
    "assert(get_urls('This is a link: https://www.special.com/ \\n and this is another link: www.special.com/') == {'www.special.com/', 'https://www.special.com/'})"
   ]
  },
  {
   "cell_type": "markdown",
   "metadata": {},
   "source": [
    "### Write sponsored videos"
   ]
  },
  {
   "cell_type": "code",
   "execution_count": 17,
   "metadata": {},
   "outputs": [],
   "source": [
    "metadatas = spark.read.json(PATH_METADATAS_SRC)\n",
    "\n",
    "# Get urls and count of urls in the description\n",
    "get_urls_udf = udf(lambda x: get_urls(x))\n",
    "metadatas = metadatas.withColumn('urls', get_urls_udf(col('description')))\n",
    "len_udf = udf(lambda x: len(x))\n",
    "metadatas = metadatas.withColumn('urls_count', len_udf(col('urls')))\n",
    "\n",
    "# Drop unneeded columns and take only the videos with at least one url\n",
    "metadatas_urls = metadatas.drop('description').filter(metadatas.urls_count > 0)\n",
    "\n",
    "metadatas_urls.write.parquet(PATH_METADATAS_URLS_DST, mode=\"overwrite\")"
   ]
  },
  {
   "cell_type": "code",
   "execution_count": 23,
   "metadata": {},
   "outputs": [
    {
     "name": "stdout",
     "output_type": "stream",
     "text": [
      "+--------------------+--------------------+----------+\n",
      "|               title|                urls|urls_count|\n",
      "+--------------------+--------------------+----------+\n",
      "|Gravity Falls The...|[http://www.zolta...|         8|\n",
      "|DIY | VALENTINES ...|[iamDonareen@Gmai...|         1|\n",
      "|Snowboarder hit b...|[http://bit.ly/Ne...|         7|\n",
      "|Shah Rukh Khan Co...|[http://www.bolly...|         2|\n",
      "|How Well Do You K...|[http://www.bolly...|         2|\n",
      "+--------------------+--------------------+----------+\n",
      "only showing top 5 rows\n",
      "\n"
     ]
    }
   ],
   "source": [
    "metadatas_urls.select('title', 'urls', 'urls_count').show(5)"
   ]
  },
  {
   "cell_type": "markdown",
   "metadata": {},
   "source": [
    "### Write non-sponsored videos"
   ]
  },
  {
   "cell_type": "code",
   "execution_count": 25,
   "metadata": {},
   "outputs": [],
   "source": [
    "metadatas = spark.read.json(PATH_METADATAS_SRC)\n",
    "\n",
    "# Get urls and count of urls in the description\n",
    "get_urls_udf = udf(lambda x: get_urls(x))\n",
    "metadatas = metadatas.withColumn('urls', get_urls_udf(col('description')))\n",
    "len_udf = udf(lambda x: len(x))\n",
    "metadatas = metadatas.withColumn('urls_count', len_udf(col('urls')))\n",
    "\n",
    "# Drop unneeded columns and take only the videos with at least one url\n",
    "metadatas_no_urls = metadatas.drop('description').filter(metadatas.urls_count == 0)\n",
    "\n",
    "metadatas_no_urls.write.parquet(PATH_METADATAS_NO_URLS_DST, mode=\"overwrite\")"
   ]
  },
  {
   "cell_type": "code",
   "execution_count": 26,
   "metadata": {},
   "outputs": [
    {
     "name": "stdout",
     "output_type": "stream",
     "text": [
      "+--------------------+----+----------+\n",
      "|               title|urls|urls_count|\n",
      "+--------------------+----+----------+\n",
      "|LOLO #finaLDance ...|  []|         0|\n",
      "|Fresh Revelations...|  []|         0|\n",
      "|Uncut - Grand Sta...|  []|         0|\n",
      "|Boardwalk Bar Cra...|  []|         0|\n",
      "|SKUNK ANANSIE \"Be...|  []|         0|\n",
      "+--------------------+----+----------+\n",
      "only showing top 5 rows\n",
      "\n"
     ]
    }
   ],
   "source": [
    "metadatas_no_urls.select('title', 'urls', 'urls_count').show(5)"
   ]
  },
  {
   "cell_type": "markdown",
   "metadata": {},
   "source": [
    "## Resolve Bitly links (TODO)\n",
    "\n",
    "We resolve Bitly links to get the original url. This is done using the Bitly API."
   ]
  },
  {
   "cell_type": "code",
   "execution_count": 27,
   "metadata": {},
   "outputs": [],
   "source": [
    "BITLY_API_KEY = '6eb2a9c9ec5950c276bf91b89ef2b1f229408807'\n",
    "\n",
    "PATH_METADATAS_BITLY_DST = '../data/generated/yt_metadata_en_bitly.parquet'"
   ]
  },
  {
   "cell_type": "code",
   "execution_count": null,
   "metadata": {},
   "outputs": [],
   "source": [
    "# @cached(cache)\n",
    "# def resolve_app_adjust_url(url, debug_mode=False):\n",
    "#     if 'app.adjust.com' not in url:\n",
    "#         return url\n",
    "    \n",
    "#     if debug_mode: print(f'Resolving app adjust url: {url}')\n",
    "#     try:\n",
    "#         response = requests.get(url)\n",
    "        \n",
    "#         if response.status_code == 200:\n",
    "#             soup = bs4.BeautifulSoup(response.text, 'html.parser')\n",
    "#             new_url = soup.find('a', class_='product-header__title app-header__title')\n",
    "#             if debug_mode: print(f'Resolved adjust.com url: {new_url}')\n",
    "#             return new_url if new_url is not None else url\n",
    "#         else:\n",
    "#             if debug_mode: print(f'Could not resolve adjust.com url: {url}')\n",
    "#             return url\n",
    "\n",
    "#     except Exception as e:\n",
    "#         print(f'Could not resolve url {url}: {e}')\n",
    "#         return url"
   ]
  },
  {
   "cell_type": "code",
   "execution_count": 28,
   "metadata": {},
   "outputs": [],
   "source": [
    "@cached(cache)\n",
    "def resolve_bitly_url(url, debug_mode=False):\n",
    "    if 'bit.ly' not in url:\n",
    "        return url\n",
    "\n",
    "    # Remove http:// or https:// from the url\n",
    "    url = url.replace('http://', '').replace('https://', '')\n",
    "\n",
    "    if debug_mode: print(f'Resolving bit.ly url {url}...')\n",
    "    try:\n",
    "        # Post a request via the bit.ly API\n",
    "        response = requests.post('https://api-ssl.bitly.com/v4/expand', headers={'Authorization': f'Bearer {BITLY_API_KEY}'}, json={'bitlink_id': url})\n",
    "\n",
    "        # Retrieve the long url from the response\n",
    "        if response.status_code == 200:\n",
    "            new_url = response.json()['long_url']\n",
    "            if debug_mode: print(f'\\tResolved bit.ly url: {url} -> {new_url}')\n",
    "\n",
    "            #if re.search(r\"app.adjust.com\", new_url):\n",
    "            #    return resolve_app_adjust_url(new_url)\n",
    "                    \n",
    "            return new_url\n",
    "        else:\n",
    "            if debug_mode: print(f'\\tCould not resolve bit.ly url: {url}, status code: {response.status_code}')\n",
    "            return url\n",
    "\n",
    "    except Exception as e:\n",
    "        print(f'Could not resolve url {url}: {e}')\n",
    "        return url"
   ]
  },
  {
   "cell_type": "code",
   "execution_count": 32,
   "metadata": {},
   "outputs": [
    {
     "ename": "AnalysisException",
     "evalue": "cannot resolve 'explode(urls)' due to data type mismatch: input to function explode should be array or map type, not string;\n'Project [categories#962, channel_id#963, crawl_date#964, dislike_count#965, display_id#966, duration#967L, like_count#968, tags#969, title#970, upload_date#971, view_count#972, explode(urls#973) AS urls#988, urls_count#974]\n+- Relation [categories#962,channel_id#963,crawl_date#964,dislike_count#965,display_id#966,duration#967L,like_count#968,tags#969,title#970,upload_date#971,view_count#972,urls#973,urls_count#974] parquet\n",
     "output_type": "error",
     "traceback": [
      "\u001b[1;31m---------------------------------------------------------------------------\u001b[0m",
      "\u001b[1;31mAnalysisException\u001b[0m                         Traceback (most recent call last)",
      "\u001b[1;32mc:\\Users\\admin\\Documents\\ADA\\processing\\videos_links.ipynb Cellule 19\u001b[0m in \u001b[0;36m<cell line: 3>\u001b[1;34m()\u001b[0m\n\u001b[0;32m      <a href='vscode-notebook-cell:/c%3A/Users/admin/Documents/ADA/processing/videos_links.ipynb#X24sZmlsZQ%3D%3D?line=0'>1</a>\u001b[0m metadatas_urls \u001b[39m=\u001b[39m spark\u001b[39m.\u001b[39mread\u001b[39m.\u001b[39mparquet(PATH_METADATAS_URLS_DST)\n\u001b[0;32m      <a href='vscode-notebook-cell:/c%3A/Users/admin/Documents/ADA/processing/videos_links.ipynb#X24sZmlsZQ%3D%3D?line=1'>2</a>\u001b[0m resolve_bitly_url_udf \u001b[39m=\u001b[39m udf(\u001b[39mlambda\u001b[39;00m x: resolve_bitly_url(x))\n\u001b[1;32m----> <a href='vscode-notebook-cell:/c%3A/Users/admin/Documents/ADA/processing/videos_links.ipynb#X24sZmlsZQ%3D%3D?line=2'>3</a>\u001b[0m metadatas_bitly \u001b[39m=\u001b[39m metadatas_urls\u001b[39m.\u001b[39;49mwithColumn(\u001b[39m'\u001b[39;49m\u001b[39murls\u001b[39;49m\u001b[39m'\u001b[39;49m, explode(col(\u001b[39m'\u001b[39;49m\u001b[39murls\u001b[39;49m\u001b[39m'\u001b[39;49m)))\n\u001b[0;32m      <a href='vscode-notebook-cell:/c%3A/Users/admin/Documents/ADA/processing/videos_links.ipynb#X24sZmlsZQ%3D%3D?line=3'>4</a>\u001b[0m metadatas_bitly\u001b[39m.\u001b[39mwrite\u001b[39m.\u001b[39mparquet(PATH_METADATAS_BITLY_DST, mode\u001b[39m=\u001b[39m\u001b[39m\"\u001b[39m\u001b[39moverwrite\u001b[39m\u001b[39m\"\u001b[39m)\n",
      "File \u001b[1;32mc:\\Users\\admin\\anaconda3\\envs\\ada\\lib\\site-packages\\pyspark\\sql\\dataframe.py:3036\u001b[0m, in \u001b[0;36mDataFrame.withColumn\u001b[1;34m(self, colName, col)\u001b[0m\n\u001b[0;32m   3034\u001b[0m \u001b[39mif\u001b[39;00m \u001b[39mnot\u001b[39;00m \u001b[39misinstance\u001b[39m(col, Column):\n\u001b[0;32m   3035\u001b[0m     \u001b[39mraise\u001b[39;00m \u001b[39mTypeError\u001b[39;00m(\u001b[39m\"\u001b[39m\u001b[39mcol should be Column\u001b[39m\u001b[39m\"\u001b[39m)\n\u001b[1;32m-> 3036\u001b[0m \u001b[39mreturn\u001b[39;00m DataFrame(\u001b[39mself\u001b[39;49m\u001b[39m.\u001b[39;49m_jdf\u001b[39m.\u001b[39;49mwithColumn(colName, col\u001b[39m.\u001b[39;49m_jc), \u001b[39mself\u001b[39m\u001b[39m.\u001b[39msparkSession)\n",
      "File \u001b[1;32mc:\\Users\\admin\\anaconda3\\envs\\ada\\lib\\site-packages\\py4j\\java_gateway.py:1321\u001b[0m, in \u001b[0;36mJavaMember.__call__\u001b[1;34m(self, *args)\u001b[0m\n\u001b[0;32m   1315\u001b[0m command \u001b[39m=\u001b[39m proto\u001b[39m.\u001b[39mCALL_COMMAND_NAME \u001b[39m+\u001b[39m\\\n\u001b[0;32m   1316\u001b[0m     \u001b[39mself\u001b[39m\u001b[39m.\u001b[39mcommand_header \u001b[39m+\u001b[39m\\\n\u001b[0;32m   1317\u001b[0m     args_command \u001b[39m+\u001b[39m\\\n\u001b[0;32m   1318\u001b[0m     proto\u001b[39m.\u001b[39mEND_COMMAND_PART\n\u001b[0;32m   1320\u001b[0m answer \u001b[39m=\u001b[39m \u001b[39mself\u001b[39m\u001b[39m.\u001b[39mgateway_client\u001b[39m.\u001b[39msend_command(command)\n\u001b[1;32m-> 1321\u001b[0m return_value \u001b[39m=\u001b[39m get_return_value(\n\u001b[0;32m   1322\u001b[0m     answer, \u001b[39mself\u001b[39;49m\u001b[39m.\u001b[39;49mgateway_client, \u001b[39mself\u001b[39;49m\u001b[39m.\u001b[39;49mtarget_id, \u001b[39mself\u001b[39;49m\u001b[39m.\u001b[39;49mname)\n\u001b[0;32m   1324\u001b[0m \u001b[39mfor\u001b[39;00m temp_arg \u001b[39min\u001b[39;00m temp_args:\n\u001b[0;32m   1325\u001b[0m     temp_arg\u001b[39m.\u001b[39m_detach()\n",
      "File \u001b[1;32mc:\\Users\\admin\\anaconda3\\envs\\ada\\lib\\site-packages\\pyspark\\sql\\utils.py:196\u001b[0m, in \u001b[0;36mcapture_sql_exception.<locals>.deco\u001b[1;34m(*a, **kw)\u001b[0m\n\u001b[0;32m    192\u001b[0m converted \u001b[39m=\u001b[39m convert_exception(e\u001b[39m.\u001b[39mjava_exception)\n\u001b[0;32m    193\u001b[0m \u001b[39mif\u001b[39;00m \u001b[39mnot\u001b[39;00m \u001b[39misinstance\u001b[39m(converted, UnknownException):\n\u001b[0;32m    194\u001b[0m     \u001b[39m# Hide where the exception came from that shows a non-Pythonic\u001b[39;00m\n\u001b[0;32m    195\u001b[0m     \u001b[39m# JVM exception message.\u001b[39;00m\n\u001b[1;32m--> 196\u001b[0m     \u001b[39mraise\u001b[39;00m converted \u001b[39mfrom\u001b[39;00m \u001b[39mNone\u001b[39m\n\u001b[0;32m    197\u001b[0m \u001b[39melse\u001b[39;00m:\n\u001b[0;32m    198\u001b[0m     \u001b[39mraise\u001b[39;00m\n",
      "\u001b[1;31mAnalysisException\u001b[0m: cannot resolve 'explode(urls)' due to data type mismatch: input to function explode should be array or map type, not string;\n'Project [categories#962, channel_id#963, crawl_date#964, dislike_count#965, display_id#966, duration#967L, like_count#968, tags#969, title#970, upload_date#971, view_count#972, explode(urls#973) AS urls#988, urls_count#974]\n+- Relation [categories#962,channel_id#963,crawl_date#964,dislike_count#965,display_id#966,duration#967L,like_count#968,tags#969,title#970,upload_date#971,view_count#972,urls#973,urls_count#974] parquet\n"
     ]
    }
   ],
   "source": [
    "metadatas_urls = spark.read.parquet(PATH_METADATAS_URLS_DST)\n",
    "resolve_bitly_url_udf = udf(lambda x: resolve_bitly_url(x))\n",
    "metadatas_bitly = metadatas_urls.withColumn('urls', explode(col('urls')))\n",
    "metadatas_bitly.write.parquet(PATH_METADATAS_BITLY_DST, mode=\"overwrite\")"
   ]
  },
  {
   "cell_type": "code",
   "execution_count": null,
   "metadata": {},
   "outputs": [],
   "source": []
  }
 ],
 "metadata": {
  "kernelspec": {
   "display_name": "Python 3.9.13 ('ada')",
   "language": "python",
   "name": "python3"
  },
  "language_info": {
   "codemirror_mode": {
    "name": "ipython",
    "version": 3
   },
   "file_extension": ".py",
   "mimetype": "text/x-python",
   "name": "python",
   "nbconvert_exporter": "python",
   "pygments_lexer": "ipython3",
   "version": "3.9.13"
  },
  "orig_nbformat": 4,
  "vscode": {
   "interpreter": {
    "hash": "93474a10e1612df951114730cd5f83d078f687a48e5e0a7160d033353df33aec"
   }
  }
 },
 "nbformat": 4,
 "nbformat_minor": 2
}
