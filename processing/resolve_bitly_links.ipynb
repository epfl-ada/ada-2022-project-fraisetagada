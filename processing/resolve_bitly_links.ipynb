{
 "cells": [
  {
   "cell_type": "code",
   "execution_count": 3,
   "metadata": {},
   "outputs": [
    {
     "name": "stdout",
     "output_type": "stream",
     "text": [
      "Starting API gateways in 10 regions.\n",
      "Using 10 endpoints with name 'https://api-ssl.bitly.com - IP Rotate API' (0 new).\n"
     ]
    }
   ],
   "source": [
    "import re\n",
    "import os\n",
    "import time\n",
    "import requests\n",
    "import subprocess\n",
    "from tqdm import tqdm\n",
    "from bs4 import BeautifulSoup\n",
    "from concurrent.futures import ThreadPoolExecutor\n",
    "\n",
    "from requests_ip_rotator import ApiGateway\n",
    "gateway = ApiGateway('https://api-ssl.bitly.com')\n",
    "gateway.start()\n",
    "session = requests.Session()\n",
    "session.mount('https://api-ssl.bitly.com', gateway)\n",
    "\n",
    "from pyspark.sql import SparkSession\n",
    "spark = SparkSession.builder.getOrCreate()"
   ]
  },
  {
   "cell_type": "code",
   "execution_count": 4,
   "metadata": {},
   "outputs": [],
   "source": [
    "BITLY_API_KEY = '6eb2a9c9ec5950c276bf91b89ef2b1f229408807'\n",
    "MAX_FIX_RESOLVED_URLS = 1000    # The maximum number of URLs to fix in a single run\n",
    "REQUEST_TIMEOUT = 5             # The timeout for get requests\n",
    "\n",
    "NB_SECONDS_IN_HOUR = 3600\n",
    "NP_SECONDS_IN_MINUTE = 60\n",
    "\n",
    "API_AVAILABLE_AT = -1           # The time at which the API will be available again\n",
    "API_LIMIT_REACHED = False       # Whether the API limit has been reached\n",
    "\n",
    "TOTAL_API = 0\n",
    "TOTAL_CURL = 0\n",
    "TOTAL_GET = 0\n",
    "\n",
    "PATH_BITLY_URLS = '../data/generated/bitly_urls.tsv/part-00000-63bb4631-8cc4-485b-b648-9896615d94d4-c000.csv'\n",
    "PATH_BITLY_RESOLVED_URLS = '../data/generated/bitly_resolved_urls.tsv'\n",
    "PATH_BITLY_RESOLVED_URLS_TMP = '../data/generated/bitly_resolved_urls_tmp.tsv'"
   ]
  },
  {
   "cell_type": "code",
   "execution_count": 5,
   "metadata": {},
   "outputs": [],
   "source": [
    "def resolve_bitly_url_api(url: str) -> str:\n",
    "    \"\"\" Resolves a bitly URL to its original URL\n",
    "\n",
    "    Args:\n",
    "        url (str): the bitly URL to resolve\n",
    "\n",
    "    Returns:\n",
    "        str: the original URL, or None if the URL could not be resolved\n",
    "    \"\"\"\n",
    "    global API_LIMIT_REACHED\n",
    "    global API_LIMIT_REACHED_AT\n",
    "    \n",
    "    # Do no call the API if the limit has been reached not long ago\n",
    "    if API_LIMIT_REACHED and API_AVAILABLE_AT > time.time():\n",
    "        return None\n",
    "    else:\n",
    "        API_LIMIT_REACHED = False\n",
    "    \n",
    "    if url is None: \n",
    "        return None\n",
    "    \n",
    "    url = url.replace('http://', '').replace('https://', '')\n",
    "    try:\n",
    "        # Post a request via the bit.ly API and retrieve the long url from the response\n",
    "        response = session.post('https://api-ssl.bitly.com/v4/expand', headers={'Authorization': f'Bearer {BITLY_API_KEY}'}, json={'bitlink_id': url})\n",
    "        \n",
    "        # Notice the program if the API limit has been reached\n",
    "        if response.status_code == 429:\n",
    "            message = response.json()['message']\n",
    "            API_LIMIT_REACHED_AT = time.time()\n",
    "            API_LIMIT_REACHED_AT += NB_SECONDS_IN_HOUR if message == 'HOURLY_RATE_LIMIT_EXCEEDED' else NP_SECONDS_IN_MINUTE\n",
    "            API_LIMIT_REACHED = True\n",
    "            return None\n",
    "        else:\n",
    "            return response.json()['long_url'] if response.status_code == 200 else None\n",
    "    except:\n",
    "        return None"
   ]
  },
  {
   "cell_type": "code",
   "execution_count": 6,
   "metadata": {},
   "outputs": [],
   "source": [
    "def resolve_bitly_url_curl(url):\n",
    "    \"\"\" Resolves a bitly URL to its original URL using curl\n",
    "    \n",
    "    Args:\n",
    "        url (str): the bitly URL to resolve\n",
    "        \n",
    "    Returns:\n",
    "        str: the original URL, or None if the URL could not be resolved\n",
    "    \"\"\"\n",
    "    global API_LIMIT_REACHED\n",
    "    global API_LIMIT_REACHED_AT\n",
    "\n",
    "    # Do no call the curl method if the limit has been reached not long ago\n",
    "    # We do so also there to avoid sending too many requests to the Bitly website,\n",
    "    # which blocks the IP address based on the same criteria as the API.\n",
    "    if API_LIMIT_REACHED and API_AVAILABLE_AT > time.time():\n",
    "        return None\n",
    "    else:\n",
    "        API_LIMIT_REACHED = False\n",
    "        \n",
    "    if url is None:\n",
    "        return None\n",
    "        \n",
    "    url = url + '+'\n",
    "    cmd = f'curl -s -L {url}'\n",
    "    try:\n",
    "        output = subprocess.check_output(cmd, shell=True).decode('utf-8')\n",
    "        soup = BeautifulSoup(output, 'html.parser')\n",
    "        url = soup.find('a', {'class': 'item-detail--url'})\n",
    "        return url.get('href') if url is not None else None\n",
    "    except:\n",
    "        return None"
   ]
  },
  {
   "cell_type": "code",
   "execution_count": 7,
   "metadata": {},
   "outputs": [],
   "source": [
    "def resolve_bitly_url_get(url):\n",
    "    \"\"\" Resolves a bitly URL to its original URL using get requests\n",
    "    \n",
    "    Args:\n",
    "        url (str): the bitly URL to resolve\n",
    "    \n",
    "    Returns:\n",
    "        str: the original URL, or None if the URL could not be resolved\n",
    "    \"\"\"\n",
    "    if url is None:\n",
    "        return None\n",
    "        \n",
    "    try:\n",
    "        output = requests.get(url, allow_redirects=True, timeout=REQUEST_TIMEOUT)\n",
    "        return output.url\n",
    "    except:\n",
    "        return None"
   ]
  },
  {
   "cell_type": "code",
   "execution_count": 8,
   "metadata": {},
   "outputs": [],
   "source": [
    "def resolve_bitly_url(url):\n",
    "    \"\"\" Resolves a bitly URL to its original URL using the API, curl and get requests\n",
    "    \n",
    "    Args:\n",
    "        url (str): the bitly URL to resolve\n",
    "    \n",
    "    Returns:\n",
    "        str: the original URL, or None if the URL could not be resolved\n",
    "    \"\"\"\n",
    "    global TOTAL_API\n",
    "    global TOTAL_CURL\n",
    "    global TOTAL_GET\n",
    "\n",
    "    retrieved_url = resolve_bitly_url_api(url)\n",
    "    if retrieved_url is None:\n",
    "        retrieved_url = resolve_bitly_url_curl(url)\n",
    "    else: \n",
    "        TOTAL_API += 1\n",
    "        return retrieved_url\n",
    "\n",
    "    if retrieved_url is None:\n",
    "        retrieved_url = resolve_bitly_url_get(url)\n",
    "        TOTAL_GET += 1\n",
    "    else:\n",
    "        TOTAL_CURL += 1\n",
    "    return retrieved_url"
   ]
  },
  {
   "cell_type": "code",
   "execution_count": 9,
   "metadata": {},
   "outputs": [],
   "source": [
    "def fix_bitly_url(url: str) -> str:\n",
    "    \"\"\" Fixes in a second step the bitly URLs before passing them to the resolve_bitly_url function\n",
    "    \n",
    "    Args:\n",
    "        url (str): the bitly URL to resolve\n",
    "        \n",
    "    Returns:\n",
    "        str: the original URL, or None if the URL could not be resolved\n",
    "    \"\"\"\n",
    "    if url is None:\n",
    "        return None\n",
    "\n",
    "    url = url.replace('www.', '')\n",
    "    bitly_reg = r'https?:\\/\\/bit\\.ly\\/[a-zA-Z0-9\\-\\_]+'\n",
    "    bitly_urls = re.findall(bitly_reg, url)\n",
    "    if len(bitly_urls) == 0:\n",
    "        return None\n",
    "    else:\n",
    "        return bitly_urls[0]"
   ]
  },
  {
   "cell_type": "code",
   "execution_count": 10,
   "metadata": {},
   "outputs": [],
   "source": [
    "def write_future_results(url_futures, file, use_tqdm=True):\n",
    "    n_retrieved_urls = 0\n",
    "    n_errors = 0\n",
    "    for (url, future) in tqdm(url_futures) if use_tqdm else url_futures:\n",
    "        long_url = future.result()\n",
    "        file.write(f'{url}\\t{long_url}\\n')\n",
    "        if long_url is None:\n",
    "            n_errors += 1\n",
    "        else:\n",
    "            n_retrieved_urls += 1\n",
    "    return n_retrieved_urls, n_errors\n",
    "\n",
    "def resolve_bitly_urls(batch_size):\n",
    "    \"\"\" Resolves a batch of bitly URLs to their original URLs, and append the results to the resolved bitly URLs file\n",
    "    \n",
    "    Args:\n",
    "        batch_size (int): the number of URLs to resolve in this batch\n",
    "    \"\"\"\n",
    "    global TOTAL_API\n",
    "    global TOTAL_CURL\n",
    "    global TOTAL_GET\n",
    "    TOTAL_API = 0\n",
    "    TOTAL_CURL = 0\n",
    "    TOTAL_GET = 0\n",
    "\n",
    "    with open(PATH_BITLY_RESOLVED_URLS, 'r', encoding='utf-8') as f_res:\n",
    "        n_resolved_urls = sum(1 for _ in f_res)\n",
    "\n",
    "    with open(PATH_BITLY_URLS, 'r', encoding='utf-8') as f_res:\n",
    "        n_to_resolve_urls = sum(1 for _ in f_res)\n",
    "\n",
    "    with open(PATH_BITLY_URLS, 'r', encoding='utf-8') as f:\n",
    "        with open(PATH_BITLY_RESOLVED_URLS, 'a', encoding='utf-8') as f_res:\n",
    "\n",
    "            with ThreadPoolExecutor() as executor:\n",
    "                n_retrieved_urls = 0\n",
    "                n_errors = 0\n",
    "\n",
    "                url_futures = []\n",
    "                reached_max = False\n",
    "                for idx, url in tqdm(enumerate(f.read().splitlines())):\n",
    "                    if idx < n_resolved_urls:\n",
    "                        continue\n",
    "                    if idx >= n_resolved_urls + batch_size:\n",
    "                        reached_max = True\n",
    "                        break\n",
    "\n",
    "                    fixed_url = fix_bitly_url(url)\n",
    "                    url_futures.append((url, executor.submit(resolve_bitly_url, fixed_url)))\n",
    "                \n",
    "                n_retrieved_urls, n_errors = write_future_results(url_futures, f_res)\n",
    "                \n",
    "                if reached_max:\n",
    "                    print(f'Reached max lines read: {batch_size}, {n_resolved_urls + batch_size} urls resolved out of {n_to_resolve_urls} in total.')\n",
    "                else:\n",
    "                    print(f'Finished resolving all urls.')\n",
    "                print(f'Retrieved {n_retrieved_urls} urls, {n_errors} urls could not be retrieved. If the number of errors is too high, consider waiting a few moments before retrying.')\n",
    "                print(f'API: {TOTAL_API}, CURL: {TOTAL_CURL}, GET: {TOTAL_GET}')"
   ]
  },
  {
   "cell_type": "code",
   "execution_count": 11,
   "metadata": {},
   "outputs": [],
   "source": [
    "def fix_resolved_bitly_urls():\n",
    "    \"\"\" Fixes the remaining bitly URLs that could not be resolved in the first step, and overwrite the resolved bitly URLs file \"\"\"\n",
    "    global TOTAL_API\n",
    "    global TOTAL_CURL\n",
    "    global TOTAL_GET\n",
    "    TOTAL_API = 0\n",
    "    TOTAL_CURL = 0\n",
    "    TOTAL_GET = 0\n",
    "\n",
    "    # Delete the tmp file if it exists\n",
    "    try:\n",
    "        os.remove(PATH_BITLY_RESOLVED_URLS_TMP)\n",
    "    except:\n",
    "        pass\n",
    "\n",
    "    with open(PATH_BITLY_RESOLVED_URLS, 'r', encoding='utf-8') as f_res:\n",
    "        with open(PATH_BITLY_RESOLVED_URLS_TMP, 'w', encoding='utf-8') as f_tmp:\n",
    "            with ThreadPoolExecutor() as executor:\n",
    "                n_retrieved_urls = 0\n",
    "                n_errors = 0\n",
    "\n",
    "                url_futures = []\n",
    "                for idx, url_rurl in tqdm(enumerate(f_res.read().splitlines())):\n",
    "                    url, rurl = url_rurl.split('\\t')\n",
    "                    if rurl == 'None':\n",
    "                        fixed_url = fix_bitly_url(url)\n",
    "                        url_futures.append((url, executor.submit(resolve_bitly_url, fixed_url)))\n",
    "                    else:\n",
    "                        f_tmp.write(f'{url}\\t{rurl}\\n')\n",
    "                    \n",
    "                    if idx % MAX_FIX_RESOLVED_URLS == 0 and idx != 0:\n",
    "                        n_retrieved_urls_batch, n_errors_batch = write_future_results(url_futures, f_tmp, use_tqdm=False)\n",
    "                        n_retrieved_urls += n_retrieved_urls_batch\n",
    "                        n_errors += n_errors_batch\n",
    "                        url_futures = []\n",
    "                    \n",
    "                n_retrieved_urls_batch, n_errors_batch = write_future_results(url_futures, f_tmp, use_tqdm=False)\n",
    "                n_retrieved_urls += n_retrieved_urls_batch\n",
    "                n_errors += n_errors_batch\n",
    "                \n",
    "    # Replace the old file with the new one\n",
    "    os.remove(PATH_BITLY_RESOLVED_URLS)\n",
    "    os.rename(PATH_BITLY_RESOLVED_URLS_TMP, PATH_BITLY_RESOLVED_URLS)\n",
    "\n",
    "    print(f'Retrieved {n_retrieved_urls} urls, {n_errors} urls could not be retrieved. If the number of errors is too high, consider waiting a few moments before retrying.')\n",
    "    print(f'API: {TOTAL_API}, CURL: {TOTAL_CURL}, GET: {TOTAL_GET}')"
   ]
  },
  {
   "cell_type": "code",
   "execution_count": 12,
   "metadata": {},
   "outputs": [],
   "source": [
    "def get_none_urls_count():\n",
    "    with open(PATH_BITLY_RESOLVED_URLS, 'r', encoding='utf-8') as f_res:\n",
    "        n_none_urls = 0\n",
    "        for url_rurl in f_res.read().splitlines():\n",
    "            _, rurl = url_rurl.split('\\t')\n",
    "            if rurl == 'None':\n",
    "                n_none_urls += 1\n",
    "        return n_none_urls"
   ]
  },
  {
   "cell_type": "code",
   "execution_count": 15,
   "metadata": {},
   "outputs": [
    {
     "name": "stdout",
     "output_type": "stream",
     "text": [
      "There are 12 urls that could not have been resolved.\n"
     ]
    }
   ],
   "source": [
    "n_none = get_none_urls_count()\n",
    "print(f'There are {n_none} urls that could not have been resolved.')"
   ]
  },
  {
   "cell_type": "code",
   "execution_count": 14,
   "metadata": {},
   "outputs": [
    {
     "ename": "KeyboardInterrupt",
     "evalue": "",
     "output_type": "error",
     "traceback": [
      "\u001b[1;31m---------------------------------------------------------------------------\u001b[0m",
      "\u001b[1;31mKeyboardInterrupt\u001b[0m                         Traceback (most recent call last)",
      "\u001b[1;32mc:\\Users\\admin\\Documents\\ADA\\Project\\processing\\resolve_bitly_links.ipynb Cellule 12\u001b[0m in \u001b[0;36m<cell line: 6>\u001b[1;34m()\u001b[0m\n\u001b[0;32m      <a href='vscode-notebook-cell:/c%3A/Users/admin/Documents/ADA/Project/processing/resolve_bitly_links.ipynb#X14sZmlsZQ%3D%3D?line=6'>7</a>\u001b[0m resolve_bitly_urls(\u001b[39m100\u001b[39m)\n\u001b[0;32m      <a href='vscode-notebook-cell:/c%3A/Users/admin/Documents/ADA/Project/processing/resolve_bitly_links.ipynb#X14sZmlsZQ%3D%3D?line=7'>8</a>\u001b[0m clear_output(wait\u001b[39m=\u001b[39m\u001b[39mTrue\u001b[39;00m)\n\u001b[1;32m----> <a href='vscode-notebook-cell:/c%3A/Users/admin/Documents/ADA/Project/processing/resolve_bitly_links.ipynb#X14sZmlsZQ%3D%3D?line=8'>9</a>\u001b[0m sleep(\u001b[39m5\u001b[39;49m)\n\u001b[0;32m     <a href='vscode-notebook-cell:/c%3A/Users/admin/Documents/ADA/Project/processing/resolve_bitly_links.ipynb#X14sZmlsZQ%3D%3D?line=9'>10</a>\u001b[0m \u001b[39miter\u001b[39m \u001b[39m+\u001b[39m\u001b[39m=\u001b[39m \u001b[39m1\u001b[39m\n",
      "\u001b[1;31mKeyboardInterrupt\u001b[0m: "
     ]
    }
   ],
   "source": [
    "from IPython.display import clear_output\n",
    "from time import sleep\n",
    "\n",
    "iter = 0\n",
    "while True:\n",
    "    print(f'Iteration {iter}')\n",
    "    resolve_bitly_urls(100)\n",
    "    clear_output(wait=True)\n",
    "    iter += 1"
   ]
  },
  {
   "cell_type": "code",
   "execution_count": 16,
   "metadata": {},
   "outputs": [
    {
     "name": "stderr",
     "output_type": "stream",
     "text": [
      "188416it [00:00, 514797.90it/s]"
     ]
    },
    {
     "name": "stdout",
     "output_type": "stream",
     "text": [
      "Retrieved 0 urls, 12 urls could not be retrieved. If the number of errors is too high, consider waiting a few moments before retrying.\n",
      "API: 0, CURL: 0, GET: 12\n"
     ]
    },
    {
     "name": "stderr",
     "output_type": "stream",
     "text": [
      "\n"
     ]
    }
   ],
   "source": [
    "fix_resolved_bitly_urls()"
   ]
  },
  {
   "cell_type": "code",
   "execution_count": 17,
   "metadata": {},
   "outputs": [
    {
     "name": "stdout",
     "output_type": "stream",
     "text": [
      "Deleting gateways for site 'https://api-ssl.bitly.com'.\n",
      "Deleted 10 endpoints with for site 'https://api-ssl.bitly.com'.\n"
     ]
    },
    {
     "data": {
      "text/plain": [
       "['c4cocnkdsb',\n",
       " 'zee77v08qj',\n",
       " '1xzrocfnil',\n",
       " 'khl60ehvzf',\n",
       " 'j569f1l9a4',\n",
       " 'y9hpx5sok4',\n",
       " 'sdgbcf9yn9',\n",
       " 'ohyq4u0306',\n",
       " '444lqx77g2',\n",
       " '3e8i7movad']"
      ]
     },
     "execution_count": 17,
     "metadata": {},
     "output_type": "execute_result"
    }
   ],
   "source": [
    "gateway.shutdown()"
   ]
  },
  {
   "cell_type": "code",
   "execution_count": null,
   "metadata": {},
   "outputs": [],
   "source": []
  }
 ],
 "metadata": {
  "kernelspec": {
   "display_name": "Python 3.9.13 ('ada')",
   "language": "python",
   "name": "python3"
  },
  "language_info": {
   "codemirror_mode": {
    "name": "ipython",
    "version": 3
   },
   "file_extension": ".py",
   "mimetype": "text/x-python",
   "name": "python",
   "nbconvert_exporter": "python",
   "pygments_lexer": "ipython3",
   "version": "3.9.13"
  },
  "orig_nbformat": 4,
  "vscode": {
   "interpreter": {
    "hash": "93474a10e1612df951114730cd5f83d078f687a48e5e0a7160d033353df33aec"
   }
  }
 },
 "nbformat": 4,
 "nbformat_minor": 2
}
