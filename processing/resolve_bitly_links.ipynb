{
 "cells": [
  {
   "cell_type": "code",
   "execution_count": 1,
   "metadata": {},
   "outputs": [],
   "source": [
    "import re\n",
    "import os\n",
    "import requests\n",
    "import subprocess\n",
    "from tqdm import tqdm\n",
    "from bs4 import BeautifulSoup\n",
    "from concurrent.futures import ThreadPoolExecutor\n",
    "\n",
    "from pyspark.sql import SparkSession\n",
    "spark = SparkSession.builder.getOrCreate()"
   ]
  },
  {
   "cell_type": "code",
   "execution_count": 2,
   "metadata": {},
   "outputs": [],
   "source": [
    "BITLY_API_KEY = '6eb2a9c9ec5950c276bf91b89ef2b1f229408807'\n",
    "MAX_FIX_RESOLVED_URLS = 1000\n",
    "\n",
    "PATH_BITLY_URLS = '../data/generated/bitly_urls.tsv/part-00000-63bb4631-8cc4-485b-b648-9896615d94d4-c000.csv'\n",
    "PATH_BITLY_RESOLVED_URLS = '../data/generated/bitly_resolved_urls.tsv'\n",
    "PATH_BITLY_RESOLVED_URLS_TMP = '../data/generated/bitly_resolved_urls_tmp.tsv'"
   ]
  },
  {
   "cell_type": "code",
   "execution_count": 3,
   "metadata": {},
   "outputs": [],
   "source": [
    "def resolve_bitly_url_api(url: str) -> str:\n",
    "    \"\"\" Resolves a bitly URL to its original URL\n",
    "\n",
    "    Args:\n",
    "        url (str): the bitly URL to resolve\n",
    "\n",
    "    Returns:\n",
    "        str: the original URL, or None if the URL could not be resolved\n",
    "    \"\"\"\n",
    "    if url is None: \n",
    "        return None\n",
    "\n",
    "    url = url.replace('http://', '').replace('https://', '')\n",
    "    try:\n",
    "        # Post a request via the bit.ly API and retrieve the long url from the response\n",
    "        response = requests.post('https://api-ssl.bitly.com/v4/expand', headers={'Authorization': f'Bearer {BITLY_API_KEY}'}, json={'bitlink_id': url})\n",
    "        return response.json()['long_url'] if response.status_code == 200 else None\n",
    "\n",
    "    except Exception as e:\n",
    "        print(f'Could not resolve url {url}: {e}')\n",
    "        return None"
   ]
  },
  {
   "cell_type": "code",
   "execution_count": 4,
   "metadata": {},
   "outputs": [],
   "source": [
    "def resolve_bitly_url_curl(url):\n",
    "    if url is None:\n",
    "        return None\n",
    "        \n",
    "    url = url + '+'\n",
    "    cmd = f'curl -s -L {url}'\n",
    "    try:\n",
    "        output = subprocess.check_output(cmd, shell=True).decode('utf-8')\n",
    "        soup = BeautifulSoup(output, 'html.parser')\n",
    "        url = soup.find('a', {'class': 'item-detail--url'})\n",
    "        return url.get('href') if url is not None else None\n",
    "    except Exception as e:\n",
    "        print(f'Could not resolve url {url} with curl: {e}')\n",
    "        return None"
   ]
  },
  {
   "cell_type": "code",
   "execution_count": 5,
   "metadata": {},
   "outputs": [],
   "source": [
    "def resolve_bitly_url_get(url):\n",
    "    if url is None:\n",
    "        return None\n",
    "        \n",
    "    cmd = f'curl -s -L {url}'\n",
    "    try:\n",
    "        output = requests.get(url, allow_redirects=True)\n",
    "        return output.url\n",
    "    except Exception as e:\n",
    "        print(f'Could not resolve url {url} with curl: {e}')\n",
    "        return None"
   ]
  },
  {
   "cell_type": "code",
   "execution_count": 6,
   "metadata": {},
   "outputs": [],
   "source": [
    "def resolve_bitly_url(url):\n",
    "    retrieved_url = resolve_bitly_url_api(url)\n",
    "    if retrieved_url is None:\n",
    "        retrieved_url = resolve_bitly_url_curl(url)\n",
    "    if retrieved_url is None:\n",
    "        retrieved_url = resolve_bitly_url_get(url)\n",
    "    return retrieved_url"
   ]
  },
  {
   "cell_type": "code",
   "execution_count": 7,
   "metadata": {},
   "outputs": [],
   "source": [
    "def fix_bitly_url(url: str) -> str:\n",
    "    \"\"\" Fixes in a second step the bitly URLs before passing them to the resolve_bitly_url function\n",
    "    \n",
    "    Args:\n",
    "        url (str): the bitly URL to resolve\n",
    "        \n",
    "    Returns:\n",
    "        str: the original URL, or None if the URL could not be resolved\n",
    "    \"\"\"\n",
    "    if url is None:\n",
    "        return None\n",
    "\n",
    "    bitly_reg = r'https?:\\/\\/bit\\.ly\\/[a-zA-Z0-9\\-\\_]+'\n",
    "    # take substring that match the reg\n",
    "    bitly_urls = re.findall(bitly_reg, url)\n",
    "    if len(bitly_urls) == 0:\n",
    "        return None\n",
    "    else:\n",
    "        return bitly_urls[0]"
   ]
  },
  {
   "cell_type": "code",
   "execution_count": 8,
   "metadata": {},
   "outputs": [],
   "source": [
    "def write_future_results(url_futures, file, use_tqdm=True):\n",
    "    n_retrieved_urls = 0\n",
    "    n_errors = 0\n",
    "    for (url, future) in tqdm(url_futures) if use_tqdm else url_futures:\n",
    "        long_url = future.result()\n",
    "        file.write(f'{url}\\t{long_url}\\n')\n",
    "        if long_url is None:\n",
    "            n_errors += 1\n",
    "        else:\n",
    "            n_retrieved_urls += 1\n",
    "    return n_retrieved_urls, n_errors\n",
    "\n",
    "def resolve_bitly_urls(batch_size):\n",
    "    \"\"\" Resolves a batch of bitly URLs to their original URLs, and append the results to the resolved bitly URLs file\n",
    "    \n",
    "    Args:\n",
    "        batch_size (int): the number of URLs to resolve in this batch\n",
    "    \"\"\"\n",
    "    with open(PATH_BITLY_RESOLVED_URLS, 'r', encoding='utf-8') as f_res:\n",
    "        n_resolved_urls = sum(1 for _ in f_res)\n",
    "\n",
    "    with open(PATH_BITLY_URLS, 'r', encoding='utf-8') as f_res:\n",
    "        n_to_resolve_urls = sum(1 for _ in f_res)\n",
    "\n",
    "    with open(PATH_BITLY_URLS, 'r', encoding='utf-8') as f:\n",
    "        with open(PATH_BITLY_RESOLVED_URLS, 'a', encoding='utf-8') as f_res:\n",
    "\n",
    "            with ThreadPoolExecutor() as executor:\n",
    "                n_retrieved_urls = 0\n",
    "                n_errors = 0\n",
    "\n",
    "                url_futures = []\n",
    "                reached_max = False\n",
    "                for idx, url in tqdm(enumerate(f.read().splitlines())):\n",
    "                    if idx < n_resolved_urls:\n",
    "                        continue\n",
    "                    if idx >= n_resolved_urls + batch_size:\n",
    "                        reached_max = True\n",
    "                        break\n",
    "\n",
    "                    fixed_url = fix_bitly_url(url)\n",
    "                    url_futures.append((url, executor.submit(resolve_bitly_url, fixed_url)))\n",
    "                \n",
    "                n_retrieved_urls, n_errors = write_future_results(url_futures, f_res)\n",
    "                \n",
    "                if reached_max:\n",
    "                    print(f'Reached max lines read: {batch_size}, {n_resolved_urls + batch_size} urls resolved out of {n_to_resolve_urls} in total.')\n",
    "                else:\n",
    "                    print(f'Finished resolving all urls.')\n",
    "                print(f'Retrieved {n_retrieved_urls} urls, {n_errors} urls could not be retrieved. If the number of errors is too high, consider waiting a few moments before retrying.')"
   ]
  },
  {
   "cell_type": "code",
   "execution_count": 9,
   "metadata": {},
   "outputs": [],
   "source": [
    "def fix_resolved_bitly_urls():\n",
    "    \"\"\" Fixes the remaining bitly URLs that could not be resolved in the first step, and overwrite the resolved bitly URLs file \"\"\"\n",
    "    # Delete the tmp file if it exists\n",
    "    try:\n",
    "        os.remove(PATH_BITLY_RESOLVED_URLS_TMP)\n",
    "    except:\n",
    "        pass\n",
    "\n",
    "    with open(PATH_BITLY_RESOLVED_URLS, 'r', encoding='utf-8') as f_res:\n",
    "        with open(PATH_BITLY_RESOLVED_URLS_TMP, 'w', encoding='utf-8') as f_tmp:\n",
    "            with ThreadPoolExecutor() as executor:\n",
    "                n_retrieved_urls = 0\n",
    "                n_errors = 0\n",
    "\n",
    "                url_futures = []\n",
    "                for idx, url_rurl in tqdm(enumerate(f_res.read().splitlines())):\n",
    "                    url, rurl = url_rurl.split('\\t')\n",
    "                    if rurl == 'None':\n",
    "                        fixed_url = fix_bitly_url(url)\n",
    "                        url_futures.append((url, executor.submit(resolve_bitly_url, fixed_url)))\n",
    "                    else:\n",
    "                        f_tmp.write(f'{url}\\t{rurl}\\n')\n",
    "                    \n",
    "                    if idx % MAX_FIX_RESOLVED_URLS == 0 and idx != 0:\n",
    "                        n_retrieved_urls_batch, n_errors_batch = write_future_results(url_futures, f_tmp, use_tqdm=False)\n",
    "                        n_retrieved_urls += n_retrieved_urls_batch\n",
    "                        n_errors += n_errors_batch\n",
    "                        url_futures = []\n",
    "                    \n",
    "                n_retrieved_urls_batch, n_errors_batch = write_future_results(url_futures, f_tmp, use_tqdm=False)\n",
    "                n_retrieved_urls += n_retrieved_urls_batch\n",
    "                n_errors += n_errors_batch\n",
    "                \n",
    "    # Replace the old file with the new one\n",
    "    os.remove(PATH_BITLY_RESOLVED_URLS)\n",
    "    os.rename(PATH_BITLY_RESOLVED_URLS_TMP, PATH_BITLY_RESOLVED_URLS)\n",
    "\n",
    "    print(f'Retrieved {n_retrieved_urls} urls, {n_errors} urls could not be retrieved. If the number of errors is too high, consider waiting a few moments before retrying.')"
   ]
  },
  {
   "cell_type": "code",
   "execution_count": 10,
   "metadata": {},
   "outputs": [],
   "source": [
    "def get_none_urls_count():\n",
    "    with open(PATH_BITLY_RESOLVED_URLS, 'r', encoding='utf-8') as f_res:\n",
    "        n_none_urls = 0\n",
    "        for url_rurl in f_res.read().splitlines():\n",
    "            _, rurl = url_rurl.split('\\t')\n",
    "            if rurl == 'None':\n",
    "                n_none_urls += 1\n",
    "        return n_none_urls"
   ]
  },
  {
   "cell_type": "code",
   "execution_count": 11,
   "metadata": {},
   "outputs": [
    {
     "name": "stdout",
     "output_type": "stream",
     "text": [
      "There are 4409 urls that could not have been resolved.\n"
     ]
    }
   ],
   "source": [
    "n_none = get_none_urls_count()\n",
    "print(f'There are {n_none} urls that could not have been resolved.')"
   ]
  },
  {
   "cell_type": "code",
   "execution_count": 102,
   "metadata": {},
   "outputs": [
    {
     "name": "stderr",
     "output_type": "stream",
     "text": [
      "39237it [00:00, 143200.39it/s]\n",
      "100%|██████████| 5000/5000 [06:33<00:00, 12.71it/s]"
     ]
    },
    {
     "name": "stdout",
     "output_type": "stream",
     "text": [
      "Reached max lines read: 5000, 39237 urls resolved out of 2603507 in total.\n",
      "Retrieved 1552 urls, 3448 urls could not be retrieved. If the number of errors is too high, consider waiting a few moments before retrying.\n"
     ]
    },
    {
     "name": "stderr",
     "output_type": "stream",
     "text": [
      "\n"
     ]
    }
   ],
   "source": [
    "resolve_bitly_urls(5000)"
   ]
  },
  {
   "cell_type": "code",
   "execution_count": 12,
   "metadata": {},
   "outputs": [
    {
     "name": "stderr",
     "output_type": "stream",
     "text": [
      "27001it [00:04, 3307.06it/s] "
     ]
    },
    {
     "name": "stdout",
     "output_type": "stream",
     "text": [
      "Could not resolve url https://bit.ly/2HqUVNN with curl: HTTPSConnectionPool(host='bitsonar.live', port=443): Max retries exceeded with url: /215d638c185c249 (Caused by NewConnectionError('<urllib3.connection.HTTPSConnection object at 0x000002BCD546E460>: Failed to establish a new connection: [Errno 11001] getaddrinfo failed'))\n",
      "Could not resolve url http://bit.ly/1YD9GBr with curl: HTTPConnectionPool(host='www.newfrog.com', port=80): Max retries exceeded with url: /p/syma-x5sw-2-4ghz-rc-quadcopter-with-2mp-camera-headless-mode-fpv-app-98544.html?utm_source=youtubere&utm_medium=rcgutt&utm_campaign=90014xu (Caused by NewConnectionError('<urllib3.connection.HTTPConnection object at 0x000002BCD64887C0>: Failed to establish a new connection: [Errno 11001] getaddrinfo failed'))\n",
      "Could not resolve url http://bit.ly/TRAX0210-GanjaKidz with curl: HTTPSConnectionPool(host='hardcoreitalia.life', port=443): Max retries exceeded with url: /music/809/yoshiko-x-redrums-ganja-kidz (Caused by SSLError(CertificateError(\"hostname 'hardcoreitalia.life' doesn't match either of 'hardcoreitalia.it', 'mail.hardcoreitalia.it', 'www.hardcoreitalia.it'\")))\n",
      "Could not resolve url http://bit.ly/traxtorm-trax0136 with curl: HTTPSConnectionPool(host='hardcoreitalia.life', port=443): Max retries exceeded with url: /discography/traxtorm.php?idpr=626&lang=en (Caused by SSLError(CertificateError(\"hostname 'hardcoreitalia.life' doesn't match either of 'hardcoreitalia.it', 'mail.hardcoreitalia.it', 'www.hardcoreitalia.it'\")))\n"
     ]
    },
    {
     "name": "stderr",
     "output_type": "stream",
     "text": [
      "27001it [00:20, 3307.06it/s]"
     ]
    }
   ],
   "source": [
    "fix_resolved_bitly_urls()"
   ]
  },
  {
   "cell_type": "code",
   "execution_count": null,
   "metadata": {},
   "outputs": [],
   "source": []
  }
 ],
 "metadata": {
  "kernelspec": {
   "display_name": "Python 3.9.13 ('ada')",
   "language": "python",
   "name": "python3"
  },
  "language_info": {
   "codemirror_mode": {
    "name": "ipython",
    "version": 3
   },
   "file_extension": ".py",
   "mimetype": "text/x-python",
   "name": "python",
   "nbconvert_exporter": "python",
   "pygments_lexer": "ipython3",
   "version": "3.9.13"
  },
  "orig_nbformat": 4,
  "vscode": {
   "interpreter": {
    "hash": "93474a10e1612df951114730cd5f83d078f687a48e5e0a7160d033353df33aec"
   }
  }
 },
 "nbformat": 4,
 "nbformat_minor": 2
}
