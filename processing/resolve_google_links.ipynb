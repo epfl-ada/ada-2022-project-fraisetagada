{
 "cells": [
  {
   "cell_type": "code",
   "execution_count": null,
   "metadata": {},
   "outputs": [],
   "source": [
    "import re\n",
    "import os\n",
    "import time\n",
    "import requests\n",
    "from tqdm import tqdm\n",
    "from bs4 import BeautifulSoup\n",
    "from concurrent.futures import ThreadPoolExecutor\n",
    "\n",
    "from pyspark.sql import SparkSession\n",
    "spark = SparkSession.builder.getOrCreate()"
   ]
  },
  {
   "cell_type": "code",
   "execution_count": null,
   "metadata": {},
   "outputs": [],
   "source": [
    "from requests_ip_rotator import ApiGateway\n",
    "\n",
    "session_urls = [\n",
    "    'https://unshorten.me'\n",
    "]\n",
    "url_gateways = [(session_url, ApiGateway(session_url)) for session_url in session_urls]\n",
    "\n",
    "sess = requests.Session()\n",
    "for url, gateway in url_gateways:\n",
    "    gateway.start()\n",
    "    sess.mount(url, gateway)"
   ]
  },
  {
   "cell_type": "code",
   "execution_count": null,
   "metadata": {},
   "outputs": [],
   "source": [
    "UNSHORTEN = 'https://unshorten.me/raw/{short_url}'"
   ]
  },
  {
   "cell_type": "code",
   "execution_count": null,
   "metadata": {},
   "outputs": [],
   "source": [
    "# session get\n",
    "def resolve_google_url_api(url):\n",
    "    response = sess.get(UNSHORTEN.format(short_url=url))\n",
    "    if response.status_code == 200:\n",
    "        json = response.json()\n",
    "        if 'error' in json:\n",
    "            return None\n",
    "        return json['resolved_url'] "
   ]
  }
 ],
 "metadata": {
  "kernelspec": {
   "display_name": "Python 3.9.13 ('ada')",
   "language": "python",
   "name": "python3"
  },
  "language_info": {
   "name": "python",
   "version": "3.9.13"
  },
  "orig_nbformat": 4,
  "vscode": {
   "interpreter": {
    "hash": "d0662a494b2253db3bb976cfb5f0299b9f3e8f6fb30b7b3708db64640a69ca08"
   }
  }
 },
 "nbformat": 4,
 "nbformat_minor": 2
}
