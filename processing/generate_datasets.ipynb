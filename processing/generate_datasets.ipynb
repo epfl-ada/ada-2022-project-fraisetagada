{
 "cells": [
  {
   "cell_type": "markdown",
   "metadata": {},
   "source": [
    "# Generate parquet datasets from original datasets\n",
    "\n",
    "This notebook generates parquet datasets from original datasets, which ar stored in the data folder."
   ]
  },
  {
   "cell_type": "code",
   "execution_count": 20,
   "metadata": {},
   "outputs": [],
   "source": [
    "import pandas as pd\n",
    "import dask.dataframe as dd\n",
    "\n",
    "from dask.diagnostics import ProgressBar\n",
    "ProgressBar().register()"
   ]
  },
  {
   "cell_type": "markdown",
   "metadata": {},
   "source": [
    "## Metadata"
   ]
  },
  {
   "cell_type": "code",
   "execution_count": 21,
   "metadata": {},
   "outputs": [],
   "source": [
    "METADATA_BLOCKSIZE = 2**27 # 128 MB\n",
    "\n",
    "PATH_DATA = '../data/'\n",
    "\n",
    "PATH_METADATA_SRC  = PATH_DATA + 'yt_metadata_en.jsonl'\n",
    "PATH_METADATA_DST  = PATH_DATA + 'yt_metadata_en.parquet/'"
   ]
  },
  {
   "cell_type": "markdown",
   "metadata": {},
   "source": [
    "### Write to file"
   ]
  },
  {
   "cell_type": "code",
   "execution_count": 22,
   "metadata": {},
   "outputs": [],
   "source": [
    "# dtype = {\n",
    "#     'categories'    : 'str',\n",
    "#     'channel_id'    : 'str',\n",
    "#     'crawl_date'    : 'str',\n",
    "#     'description'   : 'str',\n",
    "#     'dislike_count' : 'int32',\n",
    "#     'display_id'    : 'str',\n",
    "#     'duration'      : 'int32',\n",
    "#     'like_count'    : 'int32',\n",
    "#     'tags'          : 'str',\n",
    "#     'title'         : 'str',\n",
    "#     'upload_date'   : 'str',\n",
    "#     'view_count'    : 'int32'\n",
    "# }\n",
    "# df = dd.read_json(PATH_METADATA_SRC, lines=True, blocksize=METADATA_BLOCKSIZE, dtype=dtype, convert_dates=['crawl_date', 'upload_date'])\n",
    "# df['categories'] = df['categories'].astype('category')"
   ]
  },
  {
   "cell_type": "code",
   "execution_count": 23,
   "metadata": {},
   "outputs": [
    {
     "name": "stdout",
     "output_type": "stream",
     "text": [
      "[                                        ] | 0% Completed |  7min 13.2s"
     ]
    }
   ],
   "source": [
    "# df.to_parquet(PATH_METADATA_DST, engine='pyarrow', compression='snappy')"
   ]
  },
  {
   "cell_type": "code",
   "execution_count": 1,
   "metadata": {},
   "outputs": [
    {
     "ename": "NameError",
     "evalue": "name 'pd' is not defined",
     "output_type": "error",
     "traceback": [
      "\u001b[1;31m---------------------------------------------------------------------------\u001b[0m",
      "\u001b[1;31mNameError\u001b[0m                                 Traceback (most recent call last)",
      "\u001b[1;32md:\\Cours\\EPFL\\IN Master 1\\Applied Data Analysis [CS401]\\Project\\processing\\generate_datasets.ipynb Cellule 8\u001b[0m in \u001b[0;36m<cell line: 2>\u001b[1;34m()\u001b[0m\n\u001b[0;32m      <a href='vscode-notebook-cell:/d%3A/Cours/EPFL/IN%20Master%201/Applied%20Data%20Analysis%20%5BCS401%5D/Project/processing/generate_datasets.ipynb#X12sZmlsZQ%3D%3D?line=0'>1</a>\u001b[0m dfs \u001b[39m=\u001b[39m []\n\u001b[1;32m----> <a href='vscode-notebook-cell:/d%3A/Cours/EPFL/IN%20Master%201/Applied%20Data%20Analysis%20%5BCS401%5D/Project/processing/generate_datasets.ipynb#X12sZmlsZQ%3D%3D?line=1'>2</a>\u001b[0m \u001b[39mfor\u001b[39;00m df_json \u001b[39min\u001b[39;00m pd\u001b[39m.\u001b[39mread_json(PATH_METADATA_DST, compression\u001b[39m=\u001b[39m\u001b[39m\"\u001b[39m\u001b[39minfer\u001b[39m\u001b[39m\"\u001b[39m, chunksize\u001b[39m=\u001b[39m\u001b[39m5000000\u001b[39m, lines\u001b[39m=\u001b[39m\u001b[39mTrue\u001b[39;00m):\n\u001b[0;32m      <a href='vscode-notebook-cell:/d%3A/Cours/EPFL/IN%20Master%201/Applied%20Data%20Analysis%20%5BCS401%5D/Project/processing/generate_datasets.ipynb#X12sZmlsZQ%3D%3D?line=3'>4</a>\u001b[0m     dfs\u001b[39m.\u001b[39mappend(df_json)\n\u001b[0;32m      <a href='vscode-notebook-cell:/d%3A/Cours/EPFL/IN%20Master%201/Applied%20Data%20Analysis%20%5BCS401%5D/Project/processing/generate_datasets.ipynb#X12sZmlsZQ%3D%3D?line=4'>5</a>\u001b[0m df_final \u001b[39m=\u001b[39m pd\u001b[39m.\u001b[39mconcat(dfs)\n",
      "\u001b[1;31mNameError\u001b[0m: name 'pd' is not defined"
     ]
    }
   ],
   "source": [
    "dfs = []\n",
    "for df_json in pd.read_json(PATH_METADATA_SRC, compression=\"infer\", chunksize=METADATA_BLOCKSIZE, lines=True):\n",
    "\n",
    "    dfs.append(df_json)\n",
    "df_final = pd.concat(dfs)\n",
    "df_final.to_parquet(PATH_METADATA_DST)"
   ]
  },
  {
   "cell_type": "markdown",
   "metadata": {},
   "source": [
    "### Read from file"
   ]
  },
  {
   "cell_type": "code",
   "execution_count": null,
   "metadata": {},
   "outputs": [],
   "source": []
  }
 ],
 "metadata": {
  "kernelspec": {
   "display_name": "Python 3.9.13 ('ada')",
   "language": "python",
   "name": "python3"
  },
  "language_info": {
   "codemirror_mode": {
    "name": "ipython",
    "version": 3
   },
   "file_extension": ".py",
   "mimetype": "text/x-python",
   "name": "python",
   "nbconvert_exporter": "python",
   "pygments_lexer": "ipython3",
   "version": "3.9.13"
  },
  "orig_nbformat": 4,
  "vscode": {
   "interpreter": {
    "hash": "93474a10e1612df951114730cd5f83d078f687a48e5e0a7160d033353df33aec"
   }
  }
 },
 "nbformat": 4,
 "nbformat_minor": 2
}
