{
 "cells": [
  {
   "cell_type": "markdown",
   "metadata": {},
   "source": [
    "## Detect Sponsorship Theme in Video Descriptions\n",
    "\n",
    "This notebook adds a new feature `sponsor_score` letting us know if a video description contains a sponsorship theme. \n",
    "\n",
    "When a video is sponsored, the description often contains a link to the sponsor's webside along with a short description of the product or service being promoted. Many of these descriptions are similar and contain the same keywords such as **sponsored**, **promotion** or **code**. To detect this, we perform the following:\n",
    "\n",
    "1. For each video description, we tokenize the description, remove stop words and stem the remaining words.\n",
    "\n",
    "2. From a list of keywords related to sponsorship, we create a list of stemmed keywords and count the number of words in the description that match the stemmed keywords. The keywords can be found in [sponsor_vocabulary.csv](../data/sponsor_vocabulary.csv)."
   ]
  },
  {
   "cell_type": "code",
   "execution_count": 1,
   "metadata": {},
   "outputs": [
    {
     "name": "stderr",
     "output_type": "stream",
     "text": [
      "[nltk_data] Downloading package punkt to\n",
      "[nltk_data]     C:\\Users\\arnau\\AppData\\Roaming\\nltk_data...\n",
      "[nltk_data]   Package punkt is already up-to-date!\n",
      "[nltk_data] Downloading package stopwords to\n",
      "[nltk_data]     C:\\Users\\arnau\\AppData\\Roaming\\nltk_data...\n",
      "[nltk_data]   Package stopwords is already up-to-date!\n"
     ]
    }
   ],
   "source": [
    "import pandas as pd\n",
    "import numpy as np\n",
    "import seaborn as sns\n",
    "import matplotlib.pyplot as plt\n",
    "\n",
    "from pyspark.sql.functions import udf, mean, stddev\n",
    "from pyspark.sql.types import StructType, StructField, IntegerType, DoubleType, LongType, StringType, DateType, ArrayType, BooleanType\n",
    "\n",
    "from pyspark.sql import SparkSession\n",
    "import pyspark as ps\n",
    "config = ps.SparkConf()\n",
    "config.set('spark.executor.heartbeatInterval', '3600s')\n",
    "config.set('spark.network.timeout', '7200s')\n",
    "config.set('spark.driver.memory', '16g') # Increase the driver memory to avoid HeapOverflow with repartitioning.\n",
    "sc = ps.SparkContext('local[*]', '', conf=config) # write 'local' for single-threaded execution and 'local[*]' for multi-threaded execution.\n",
    "spark = SparkSession(sc)\n",
    "\n",
    "import nltk\n",
    "from nltk.tokenize import word_tokenize\n",
    "\n",
    "from nltk.stem import PorterStemmer\n",
    "stemmer = PorterStemmer()\n",
    "\n",
    "nltk.download('punkt')\n",
    "nltk.download('stopwords')\n",
    "\n",
    "from nltk.corpus import stopwords\n",
    "stop_words = set(stopwords.words('english'))"
   ]
  },
  {
   "cell_type": "code",
   "execution_count": 2,
   "metadata": {},
   "outputs": [],
   "source": [
    "USE_SUBDATASETS = False # Set to True to use the subdatasets, only for testing purposes.\n",
    "PATH_METADATAS_SRC = '../data/subdata/yt_metadata_en_sub' if USE_SUBDATASETS else '../data/yt_metadata_en.jsonl'"
   ]
  },
  {
   "cell_type": "markdown",
   "metadata": {},
   "source": [
    "### Define the Theme Detection Function\n",
    "\n",
    "Firstly, we define the function giving a score to a video description based on the appearance of keywords related to sponsorship."
   ]
  },
  {
   "cell_type": "code",
   "execution_count": 3,
   "metadata": {},
   "outputs": [],
   "source": [
    "schema = StructType([\n",
    "    StructField(\"categories\",    StringType(),  True),\n",
    "    StructField(\"channel_id\",    StringType(),  True),\n",
    "    StructField(\"crawl_date\",    DateType(),    True),\n",
    "    StructField(\"description\",   StringType(),  True),\n",
    "    StructField(\"dislike_count\", DoubleType(),  True), # This field must be specified as a double as it is represented as a floating point number\n",
    "    StructField(\"display_id\",    StringType(),  True),\n",
    "    StructField(\"duration\",      IntegerType(), True),\n",
    "    StructField(\"like_count\",    DoubleType(),  True), # This field must be specified as a double as it is represented as a floating point number\n",
    "    StructField(\"tags\",          StringType(),  True),\n",
    "    StructField(\"title\",         StringType(),  True),\n",
    "    StructField(\"upload_date\",   DateType(),    True),\n",
    "    StructField(\"view_count\",    DoubleType(),  True)  # This field must be specified as a double as it is represented as a floating point number\n",
    "])\n",
    "    \n",
    "metadatas = spark.read.json(PATH_METADATAS_SRC, schema=schema)"
   ]
  },
  {
   "cell_type": "code",
   "execution_count": 4,
   "metadata": {},
   "outputs": [
    {
     "data": {
      "text/plain": [
       "array(['sponsor', 'subscript', 'video', 'first', 'free', 'bonu', 'thank',\n",
       "       'code', 'gift', 'discount', 'premium', 'coupon', 'deal', 'sale',\n",
       "       'promo', 'pack', 'worldwid', 'ship', 'includ', 'limit', 'stock',\n",
       "       'avail', 'trial', 'offer', 'money', 'annual', 'month', 'monthli',\n",
       "       'week', 'weekli', 'day', 'daili', 'today', 'off', 'onli', 'now',\n",
       "       'extra', 'here', 'save', 'order', 'tri', 'use', 'download',\n",
       "       'purchas', 'shop', 'buy', 'get', 'unlimit', '$'], dtype='<U9')"
      ]
     },
     "execution_count": 4,
     "metadata": {},
     "output_type": "execute_result"
    }
   ],
   "source": [
    "# Load the stemmed keywords related to sponsorships\n",
    "PATH_SPONSOR_VOCABULARY_SRC = '../data/sponsor_vocabulary.csv'\n",
    "sponsor_vocab = pd.read_csv(PATH_SPONSOR_VOCABULARY_SRC, header=None, encoding=\"utf-8\").to_numpy().flatten()\n",
    "sponsor_vocab = np.array([stemmer.stem(word) for word in sponsor_vocab])\n",
    "sponsor_vocab"
   ]
  },
  {
   "cell_type": "code",
   "execution_count": 5,
   "metadata": {},
   "outputs": [],
   "source": [
    "def get_sponsor_score(description: str) -> int:\n",
    "    \"\"\"\n",
    "    Returns the number of times a word from the sponsor vocabulary appears in the description.\n",
    "\n",
    "    Args:\n",
    "        description (str): The description of the video.\n",
    "    \n",
    "    Returns:\n",
    "        int: The sponsor score, i.e. the number of times a word from the sponsor vocabulary appears in the description.\n",
    "    \"\"\"\n",
    "    \n",
    "    if description is None:\n",
    "        return 0\n",
    "\n",
    "    # Tokenize\n",
    "    tokens = word_tokenize(description)\n",
    "    # Remove stop words\n",
    "    tokens = [word.lower() for word in tokens if word not in stop_words]\n",
    "    # Stemming\n",
    "    if stemmer is not None:\n",
    "        tokens = [stemmer.stem(word) for word in tokens]\n",
    "    score = sum(1 for word in tokens if word in sponsor_vocab)\n",
    "\n",
    "    return score\n",
    "    "
   ]
  },
  {
   "cell_type": "markdown",
   "metadata": {},
   "source": [
    "Below are two examples of video descriptions. The first one is sponsored, having a score of $16$. This is greater than the score of the second video description, which is not sponsored."
   ]
  },
  {
   "cell_type": "code",
   "execution_count": 6,
   "metadata": {},
   "outputs": [
    {
     "name": "stdout",
     "output_type": "stream",
     "text": [
      "Try out my quantum mechanics course (and many others on math and science) on https://brilliant.org/sabine. You can get started for free, and the first 200 will get 20% off the annual premium subscription.\n",
      "\n",
      "Today we’ll talk about how to build a radio telescope – on the moon, recent wormhole headlines, the Artemis 1 launch and why it was delayed, quantum microscopes and the status of quantum computing, the first metaverse nation, manta rays, advances in material design, the link between chaos and biodiversity. And of course, the telephone will ring.\n",
      "\n",
      "👉 Transcript and references on Patreon ➜ https://www.patreon.com/Sabine\n",
      "💌 Sign up for my weekly science newsletter. It's free!  ➜ https://sabinehossenfelder.com/newsle...\n",
      "📖 My new book \"Existential Physics\" is now on sale ➜ http://existentialphysics.com/\n",
      "🔗 Join this channel to get access to perks ➜ https://www.youtube.com/channel/UC1yN...\n",
      "\n",
      "00:00 Intro\n",
      "00:35 Plans For a Radio-Telescope on the Moon\n",
      "02:31 Are Black Holes Wormholes?\n",
      "04:12 Why the Delays With the Artemis 1 Launch?\n",
      "06:00 Prototype of a Quantum Microscope\n",
      "07:25 Still No Useful Quantum Advantage\n",
      "08:34 Big Population of Manta Rays Found\n",
      "10:00 The First Metaverse Nation\n",
      "11:36 Progress in Material Science\n",
      "12:41 Chaos in the Evolution of a Single Species\n",
      "13:25 Check Out My Quantum Mechanics Course\n",
      "\n",
      "#science #sciencenews\n"
     ]
    }
   ],
   "source": [
    "str1 = \"Try out my quantum mechanics course (and many others on math and science) on https://brilliant.org/sabine. You can get started for free, and the first 200 will get 20% off the annual premium subscription.\\n\\nToday we’ll talk about how to build a radio telescope – on the moon, recent wormhole headlines, the Artemis 1 launch and why it was delayed, quantum microscopes and the status of quantum computing, the first metaverse nation, manta rays, advances in material design, the link between chaos and biodiversity. And of course, the telephone will ring.\\n\\n👉 Transcript and references on Patreon ➜ https://www.patreon.com/Sabine\\n💌 Sign up for my weekly science newsletter. It's free!  ➜ https://sabinehossenfelder.com/newsle...\\n📖 My new book \\\"Existential Physics\\\" is now on sale ➜ http://existentialphysics.com/\\n🔗 Join this channel to get access to perks ➜ https://www.youtube.com/channel/UC1yN...\\n\\n00:00 Intro\\n00:35 Plans For a Radio-Telescope on the Moon\\n02:31 Are Black Holes Wormholes?\\n04:12 Why the Delays With the Artemis 1 Launch?\\n06:00 Prototype of a Quantum Microscope\\n07:25 Still No Useful Quantum Advantage\\n08:34 Big Population of Manta Rays Found\\n10:00 The First Metaverse Nation\\n11:36 Progress in Material Science\\n12:41 Chaos in the Evolution of a Single Species\\n13:25 Check Out My Quantum Mechanics Course\\n\\n#science #sciencenews\"\n",
    "print(str1)"
   ]
  },
  {
   "cell_type": "code",
   "execution_count": 7,
   "metadata": {},
   "outputs": [
    {
     "name": "stdout",
     "output_type": "stream",
     "text": [
      "The sponsorhip score is 16.\n"
     ]
    }
   ],
   "source": [
    "score1 = get_sponsor_score(str1)\n",
    "print(f\"The sponsorhip score is {score1}.\")"
   ]
  },
  {
   "cell_type": "code",
   "execution_count": 8,
   "metadata": {},
   "outputs": [
    {
     "name": "stdout",
     "output_type": "stream",
     "text": [
      "All rise for the most iconic housewife, heiress of Hilton Hotels & mother of queen Paris Hilton 👑💖\n",
      "\n",
      "☆ MY MERCH SHOP: \n",
      "☆ https://teespring.com/stores/offensiv... \n",
      "\n",
      "MY INSTAGRAM: @offensivetea.yt \n",
      "https://www.instagram.com/offensivete... \n",
      "\n",
      "BACK-UP ACCOUNT:\n",
      "https://www.youtube.com/channel/UCgds... \n",
      "\n",
      "PATREON:\n",
      "https://www.patreon.com/offensivetea \n",
      "\n",
      "Looking for missing copyrighted videos? They're probably on my Vimeo page!\n",
      "https://vimeo.com/offensivetea\n",
      "\n",
      "\n",
      "BUSINESS ONLY:\n",
      "offensivetea@hotmail.com\n",
      "\n",
      "\n",
      "\n",
      "#RHOBH #kathyhilton #housewives #iconic #offensivetea #meme #parishilton #funnymoments #stantwitter #edit\n"
     ]
    }
   ],
   "source": [
    "str2 = \"All rise for the most iconic housewife, heiress of Hilton Hotels & mother of queen Paris Hilton 👑💖\\n\\n☆ MY MERCH SHOP: \\n☆ https://teespring.com/stores/offensiv... \\n\\nMY INSTAGRAM: @offensivetea.yt \\nhttps://www.instagram.com/offensivete... \\n\\nBACK-UP ACCOUNT:\\nhttps://www.youtube.com/channel/UCgds... \\n\\nPATREON:\\nhttps://www.patreon.com/offensivetea \\n\\nLooking for missing copyrighted videos? They're probably on my Vimeo page!\\nhttps://vimeo.com/offensivetea\\n\\n\\nBUSINESS ONLY:\\noffensivetea@hotmail.com\\n\\n\\n\\n#RHOBH #kathyhilton #housewives #iconic #offensivetea #meme #parishilton #funnymoments #stantwitter #edit\"\n",
    "print(str2)"
   ]
  },
  {
   "cell_type": "code",
   "execution_count": 9,
   "metadata": {},
   "outputs": [
    {
     "name": "stdout",
     "output_type": "stream",
     "text": [
      "The sponsorhip score is 3.\n"
     ]
    }
   ],
   "source": [
    "score2 = get_sponsor_score(str2)\n",
    "print(f\"The sponsorhip score is {score2}.\")"
   ]
  },
  {
   "cell_type": "markdown",
   "metadata": {},
   "source": [
    "### Apply the Theme Detection Function on the Dataset\n",
    "\n",
    "We apply the function on the dataset and save the results in a new column `sponsor_score`."
   ]
  },
  {
   "cell_type": "code",
   "execution_count": 10,
   "metadata": {},
   "outputs": [],
   "source": [
    "get_sponsor_score_udf = udf(get_sponsor_score, IntegerType())\n",
    "metadatas_sponsor_scores = metadatas \\\n",
    "    .withColumn('sponsor_score', get_sponsor_score_udf(metadatas.description)) \\\n",
    "    .cache() \\\n",
    "    .select('display_id', 'sponsor_score')"
   ]
  },
  {
   "cell_type": "code",
   "execution_count": 12,
   "metadata": {},
   "outputs": [
    {
     "name": "stdout",
     "output_type": "stream",
     "text": [
      "+-----------+-------------+\n",
      "| display_id|sponsor_score|\n",
      "+-----------+-------------+\n",
      "|SBqSc91Hn9g|            2|\n",
      "|UuugEl86ESY|            1|\n",
      "|oB4c-yvnbjs|            2|\n",
      "|ZaV-gTCMV8E|            2|\n",
      "|cGvL7AvMfM0|            3|\n",
      "|iVADSRjaLtQ|            2|\n",
      "|ypVcK9mldPc|            1|\n",
      "|qA1NayP9cNY|            2|\n",
      "|CWdSl9ta4Rg|            1|\n",
      "|64dCTkxCHpY|            2|\n",
      "|rU2iDhVd-bI|            2|\n",
      "|y5IvyZlzELs|            1|\n",
      "|riSUG1R4Ckw|            1|\n",
      "|C_dN36VjbZA|            2|\n",
      "|E_cfDMDd0YM|            1|\n",
      "|zuwQeKIhp2o|            2|\n",
      "|dzcd5pen7Cw|            2|\n",
      "|qYLAxjuoDtI|            2|\n",
      "|L_n9FljLN-c|            1|\n",
      "|srfrVHb8KGw|            2|\n",
      "+-----------+-------------+\n",
      "only showing top 20 rows\n",
      "\n"
     ]
    }
   ],
   "source": [
    "metadatas_sponsor_scores.show()"
   ]
  },
  {
   "cell_type": "markdown",
   "metadata": {},
   "source": [
    "### Analyse the Sponsorship Scores\n",
    "\n",
    "We can now analyse the distribution of sponsorship scores."
   ]
  },
  {
   "cell_type": "code",
   "execution_count": 25,
   "metadata": {},
   "outputs": [],
   "source": [
    "# Collect all scores\n",
    "scores = metadatas_sponsor_scores.select('sponsor_score')\n",
    "scores = scores.rdd.flatMap(lambda x: x).collect()"
   ]
  },
  {
   "cell_type": "code",
   "execution_count": 28,
   "metadata": {},
   "outputs": [
    {
     "name": "stdout",
     "output_type": "stream",
     "text": [
      "The max score is 1028.\n",
      "The min score is 0.\n",
      "The mean score is 2.7430393426959836.\n",
      "The median score is 1.0.\n"
     ]
    }
   ],
   "source": [
    "max_score = max(scores)\n",
    "print(f\"The max score is {max_score}.\")\n",
    "min_score = min(scores)\n",
    "print(f\"The min score is {min_score}.\")\n",
    "mean_score = np.mean(scores)\n",
    "print(f\"The mean score is {mean_score:.2f}.\")\n",
    "median_score = np.median(scores)\n",
    "print(f\"The median score is {median_score:.2f}.\")"
   ]
  },
  {
   "cell_type": "markdown",
   "metadata": {},
   "source": [
    "The maximum score is $1028$, which clearly seems to be an outlier. The mean score is $2.74$ and the median score is $1$. The distribution might be **right-skewed** as the mean is greater than the median. Let us look ad the distribution in more detail."
   ]
  },
  {
   "cell_type": "code",
   "execution_count": 38,
   "metadata": {},
   "outputs": [],
   "source": [
    "shifted_scores = [score + 1 for score in scores]"
   ]
  },
  {
   "cell_type": "code",
   "execution_count": 41,
   "metadata": {},
   "outputs": [
    {
     "data": {
      "image/png": "[encoded data removed]",
      "text/plain": [
       "<Figure size 640x480 with 1 Axes>"
      ]
     },
     "metadata": {},
     "output_type": "display_data"
    }
   ],
   "source": [
    "sns.histplot(shifted_scores, bins=100, log_scale=(True, True), cumulative=True)\n",
    "plt.title(\"Cumulative distribution of the sponsor scores on a log-log scale\")\n",
    "plt.xlabel(\"Sponsor score\")\n",
    "plt.ylabel(\"Number of videos\")\n",
    "plt.show()"
   ]
  },
  {
   "cell_type": "markdown",
   "metadata": {},
   "source": [
    "Note that the distribution is shifted by $1$ to have a satisfying range for the log-log plot. The great majority of videos have a sponsor score between $0$ and $10$, which seems to be a reasonable range. Many videos have a score of $0$ or $1$, which means that they might not be sponsored. A higher score might indicate that the video is sponsored, but too high of a score might be considered as an outlier."
   ]
  },
  {
   "cell_type": "markdown",
   "metadata": {},
   "source": [
    "Finally, we write the results to a parquet file."
   ]
  },
  {
   "cell_type": "code",
   "execution_count": 13,
   "metadata": {},
   "outputs": [],
   "source": [
    "PATH_METADATAS_SPONSOR_SCORES_DST = '../data/generated/yt_metadata_en_sponsor_scores.parquet'"
   ]
  },
  {
   "cell_type": "code",
   "execution_count": 14,
   "metadata": {},
   "outputs": [],
   "source": [
    "# Delete the output folder if it already exists\n",
    "#!rm -f $PATH_METADATAS_SPONSOR_SCORES_DST # Linux\n",
    "!PowerShell.exe -Command \"Remove-Item -Path $PATH_METADATAS_SPONSOR_SCORES_DST -Recurse -Force\" # Windows"
   ]
  },
  {
   "cell_type": "code",
   "execution_count": 15,
   "metadata": {},
   "outputs": [],
   "source": [
    "metadatas_sponsor_scores.write.parquet(PATH_METADATAS_SPONSOR_SCORES_DST, mode='overwrite')"
   ]
  }
 ],
 "metadata": {
  "kernelspec": {
   "display_name": "Python 3.9.15 ('spark')",
   "language": "python",
   "name": "python3"
  },
  "language_info": {
   "codemirror_mode": {
    "name": "ipython",
    "version": 3
   },
   "file_extension": ".py",
   "mimetype": "text/x-python",
   "name": "python",
   "nbconvert_exporter": "python",
   "pygments_lexer": "ipython3",
   "version": "3.9.15 (main, Nov 24 2022, 14:39:17) [MSC v.1916 64 bit (AMD64)]"
  },
  "orig_nbformat": 4,
  "vscode": {
   "interpreter": {
    "hash": "58222ebbc97bc15a7dd406d2f7b4dd2466104a906450c8e9dcb294b8e2a99cab"
   }
  }
 },
 "nbformat": 4,
 "nbformat_minor": 2
}
