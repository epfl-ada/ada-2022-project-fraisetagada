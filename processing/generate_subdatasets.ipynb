{
 "cells": [
  {
   "cell_type": "markdown",
   "metadata": {},
   "source": [
    "# Generate subdatasets from the original dataset\n",
    "\n",
    "This notebook generates subdatasets from the original dataset, to be used to test our implementations without having to wait for the whole dataset to be processed."
   ]
  },
  {
   "cell_type": "code",
   "execution_count": 1,
   "metadata": {},
   "outputs": [],
   "source": [
    "import pandas as pd\n",
    "import dask.dataframe as dd"
   ]
  },
  {
   "cell_type": "markdown",
   "metadata": {},
   "source": [
    "## Metadata"
   ]
  },
  {
   "cell_type": "code",
   "execution_count": 2,
   "metadata": {},
   "outputs": [],
   "source": [
    "NUM_METADATA_ROWS = 100000\n",
    "\n",
    "PATH_DATA = '../data/'\n",
    "PATH_SUBDATA = '../data/subdata/'\n",
    "\n",
    "METADATA_FILE = 'yt_metadata_en.jsonl.gz'\n",
    "PATH_METADATA_SRC = PATH_DATA + METADATA_FILE\n",
    "PATH_METADATA_DST = PATH_SUBDATA + METADATA_FILE"
   ]
  },
  {
   "cell_type": "markdown",
   "metadata": {},
   "source": [
    "### Write to file"
   ]
  },
  {
   "cell_type": "code",
   "execution_count": 7,
   "metadata": {},
   "outputs": [],
   "source": [
    "# Take a subset of videos\n",
    "for df_metadata in pd.read_json(PATH_METADATA_SRC, compression=\"infer\", chunksize=NUM_METADATA_ROWS, lines=True):\n",
    "    df_metadata.to_json(PATH_METADATA_DST, compression='infer', orient='records', lines=True)\n",
    "    break # Only take the first chunk"
   ]
  },
  {
   "cell_type": "markdown",
   "metadata": {},
   "source": [
    "### Read from file"
   ]
  },
  {
   "cell_type": "code",
   "execution_count": null,
   "metadata": {},
   "outputs": [],
   "source": [
    "sub_metadata = dd.read_parquet(PATH_METADATA_DST, engine=\"pyarrow\", compression=\"gzip\", index=False)\n",
    "sub_metadata.head(10)"
   ]
  },
  {
   "cell_type": "code",
   "execution_count": null,
   "metadata": {},
   "outputs": [],
   "source": []
  }
 ],
 "metadata": {
  "kernelspec": {
   "display_name": "Python 3.9.13 ('ada')",
   "language": "python",
   "name": "python3"
  },
  "language_info": {
   "codemirror_mode": {
    "name": "ipython",
    "version": 3
   },
   "file_extension": ".py",
   "mimetype": "text/x-python",
   "name": "python",
   "nbconvert_exporter": "python",
   "pygments_lexer": "ipython3",
   "version": "3.9.13"
  },
  "orig_nbformat": 4,
  "vscode": {
   "interpreter": {
    "hash": "d0662a494b2253db3bb976cfb5f0299b9f3e8f6fb30b7b3708db64640a69ca08"
   }
  }
 },
 "nbformat": 4,
 "nbformat_minor": 2
}
