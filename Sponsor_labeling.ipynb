{
 "cells": [
  {
   "cell_type": "markdown",
   "id": "fdd7a8c6",
   "metadata": {},
   "source": [
    "### Adding the sponsors and their categories to our big dataset\n",
    "\n",
    "In this notebook we aim to add a column called \"is_sponsored\" which is 1 if the domains contained in the video's description are a sponsor or not, based on our classification of the first 1000 more referenced domains, and 0 if it isn't. Then we also want to add a column \"sponsor_category\" which will contain the categories of the sponsorss present in a video's description."
   ]
  },
  {
   "cell_type": "code",
   "execution_count": 1,
   "id": "1cb86114",
   "metadata": {},
   "outputs": [
    {
     "name": "stdout",
     "output_type": "stream",
     "text": [
      "22/12/11 16:14:10 WARN Utils: Your hostname, LAPTOP-8QFB5E0N resolves to a loopback address: 127.0.1.1; using 172.31.43.89 instead (on interface eth0)\n",
      "22/12/11 16:14:10 WARN Utils: Set SPARK_LOCAL_IP if you need to bind to another address\n"
     ]
    },
    {
     "name": "stderr",
     "output_type": "stream",
     "text": [
      "Setting default log level to \"WARN\".\n",
      "To adjust logging level use sc.setLogLevel(newLevel). For SparkR, use setLogLevel(newLevel).\n"
     ]
    },
    {
     "name": "stdout",
     "output_type": "stream",
     "text": [
      "22/12/11 16:14:13 WARN NativeCodeLoader: Unable to load native-hadoop library for your platform... using builtin-java classes where applicable\n"
     ]
    }
   ],
   "source": [
    "import re\n",
    "from pyspark.sql.functions import col, udf, explode\n",
    "from pyspark.sql.types import FloatType\n",
    "\n",
    "import numpy as np\n",
    "\n",
    "from pyspark.sql import SparkSession\n",
    "import pyspark as ps\n",
    "import pyspark.sql.functions as F\n",
    "\n",
    "import math\n",
    "from statsmodels.stats import diagnostic\n",
    "from scipy import stats\n",
    "import statsmodels.api as sm\n",
    "import statsmodels.formula.api as smf\n",
    "\n",
    "from pyspark.ml.regression import LinearRegression\n",
    "from pyspark.ml.feature import VectorAssembler\n",
    "\n",
    "import pandas as pd\n",
    "\n",
    "config = ps.SparkConf().setAll([\n",
    "    ('spark.network.timeout', '3601s'),\n",
    "    ('spark.executor.heartbeatInterval', '3600s'),\n",
    "])\n",
    "sc = ps.SparkContext('local', '', conf=config)\n",
    "spark = SparkSession(sc)"
   ]
  },
  {
   "cell_type": "code",
   "execution_count": 2,
   "id": "2a94b250",
   "metadata": {},
   "outputs": [],
   "source": [
    "PATH_METADATAS_DOMAINS_SRC = 'data/yt_metadata_en_domains.parquet'\n",
    "PATH_DOMAIN_CLASSIFICATION = \"data/domains_classification.csv\""
   ]
  },
  {
   "cell_type": "code",
   "execution_count": 3,
   "id": "9c4adf3d",
   "metadata": {},
   "outputs": [
    {
     "name": "stderr",
     "output_type": "stream",
     "text": [
      "                                                                                \r"
     ]
    }
   ],
   "source": [
    "metadatas_domains = spark.read.parquet(PATH_METADATAS_DOMAINS_SRC)\n",
    "domain_class = pd.read_csv(PATH_DOMAIN_CLASSIFICATION)"
   ]
  },
  {
   "cell_type": "code",
   "execution_count": 4,
   "id": "98a7f9a4",
   "metadata": {},
   "outputs": [],
   "source": [
    "# We explode to consider one domain at a time\n",
    "metadatas_domains = metadatas_domains.withColumn(\"domains\", explode(\"domains\"))"
   ]
  },
  {
   "cell_type": "code",
   "execution_count": 5,
   "id": "67293c29",
   "metadata": {},
   "outputs": [],
   "source": [
    "# we add the column is_sponsored in our df if we consider the domain domain as a sponsor \n",
    "metadatas_domains = metadatas_domains.withColumn(\"is_sponsored\", F.when((metadatas_domains.domains) \\\n",
    "                                            .isin(list(domain_class.query('is_sponsored == 1')['domain'])),1).otherwise(0))"
   ]
  },
  {
   "cell_type": "code",
   "execution_count": 6,
   "id": "9a0ee3d1",
   "metadata": {},
   "outputs": [
    {
     "data": {
      "text/html": [
       "<div>\n",
       "<style scoped>\n",
       "    .dataframe tbody tr th:only-of-type {\n",
       "        vertical-align: middle;\n",
       "    }\n",
       "\n",
       "    .dataframe tbody tr th {\n",
       "        vertical-align: top;\n",
       "    }\n",
       "\n",
       "    .dataframe thead th {\n",
       "        text-align: right;\n",
       "    }\n",
       "</style>\n",
       "<table border=\"1\" class=\"dataframe\">\n",
       "  <thead>\n",
       "    <tr style=\"text-align: right;\">\n",
       "      <th></th>\n",
       "      <th>domain</th>\n",
       "      <th>count</th>\n",
       "      <th>median_sponsor_score</th>\n",
       "      <th>is_sponsored</th>\n",
       "      <th>domain_category</th>\n",
       "    </tr>\n",
       "  </thead>\n",
       "  <tbody>\n",
       "    <tr>\n",
       "      <th>0</th>\n",
       "      <td>plus.google.com</td>\n",
       "      <td>3786647</td>\n",
       "      <td>3.0</td>\n",
       "      <td>0</td>\n",
       "      <td>Social Media</td>\n",
       "    </tr>\n",
       "    <tr>\n",
       "      <th>1</th>\n",
       "      <td>play.google.com</td>\n",
       "      <td>2093786</td>\n",
       "      <td>4.0</td>\n",
       "      <td>1</td>\n",
       "      <td>Application</td>\n",
       "    </tr>\n",
       "    <tr>\n",
       "      <th>2</th>\n",
       "      <td>itunes.apple.com</td>\n",
       "      <td>1724603</td>\n",
       "      <td>3.0</td>\n",
       "      <td>0</td>\n",
       "      <td>Music</td>\n",
       "    </tr>\n",
       "    <tr>\n",
       "      <th>3</th>\n",
       "      <td>bit.ly</td>\n",
       "      <td>1408414</td>\n",
       "      <td>3.0</td>\n",
       "      <td>0</td>\n",
       "      <td>Shorten</td>\n",
       "    </tr>\n",
       "    <tr>\n",
       "      <th>4</th>\n",
       "      <td>tinyurl.com</td>\n",
       "      <td>1380122</td>\n",
       "      <td>4.0</td>\n",
       "      <td>0</td>\n",
       "      <td>Shorten</td>\n",
       "    </tr>\n",
       "  </tbody>\n",
       "</table>\n",
       "</div>"
      ],
      "text/plain": [
       "             domain    count  median_sponsor_score  is_sponsored  \\\n",
       "0   plus.google.com  3786647                   3.0             0   \n",
       "1   play.google.com  2093786                   4.0             1   \n",
       "2  itunes.apple.com  1724603                   3.0             0   \n",
       "3            bit.ly  1408414                   3.0             0   \n",
       "4       tinyurl.com  1380122                   4.0             0   \n",
       "\n",
       "  domain_category  \n",
       "0    Social Media  \n",
       "1     Application  \n",
       "2           Music  \n",
       "3         Shorten  \n",
       "4         Shorten  "
      ]
     },
     "execution_count": 6,
     "metadata": {},
     "output_type": "execute_result"
    }
   ],
   "source": [
    "domain_class.head()"
   ]
  },
  {
   "cell_type": "code",
   "execution_count": 7,
   "id": "dbf34772",
   "metadata": {},
   "outputs": [
    {
     "data": {
      "text/plain": [
       "array(['Social Media', 'Application', 'Music', 'Shorten', 'Agency',\n",
       "       'Video Game', 'Education', nan, 'Sharing Service', 'Technology',\n",
       "       'OVP', 'Fashion', 'Media', 'Shop', 'Sport', 'Streaming',\n",
       "       'Donation', 'Vehicle', 'Book', 'Food Drink', 'Beauty', 'Finance',\n",
       "       'Real Estate', 'Entertainment', 'Photo', 'Service', 'YCW',\n",
       "       'Dating', 'Science', 'Movie', 'Radio', 'Forum', 'Crypto',\n",
       "       'Religion', 'Travel', 'Medical', 'Government', 'TV', 'OVM'],\n",
       "      dtype=object)"
      ]
     },
     "execution_count": 7,
     "metadata": {},
     "output_type": "execute_result"
    }
   ],
   "source": [
    "#extract list of cagories :\n",
    "list_cat = domain_class[\"domain_category\"].unique()\n",
    "list_cat"
   ]
  },
  {
   "cell_type": "code",
   "execution_count": 8,
   "id": "4ab90e01",
   "metadata": {},
   "outputs": [],
   "source": [
    "# Chained when (https://stackoverflow.com/questions/72865766/chain-several-when-conditions-in-a-scalable-way-in-pyspark)\n",
    "# too add the category of each sponsor in our df\n",
    "whens = F\n",
    "\n",
    "for cat in list_cat:\n",
    "    whens = whens.when(F.col(\"domains\").isin(list(domain_class.query('is_sponsored == 1 and domain_category == @cat') \\\n",
    "                                                  ['domain'])), cat)\n",
    "whens = whens.otherwise(\"Not_Sponsor\") \n",
    "\n",
    "metadatas_domains = metadatas_domains.withColumn(\"sponsor_category\", whens)"
   ]
  },
  {
   "cell_type": "code",
   "execution_count": 9,
   "id": "db0011c7",
   "metadata": {
    "scrolled": true
   },
   "outputs": [
    {
     "data": {
      "text/plain": [
       "['categories',\n",
       " 'channel_id',\n",
       " 'dislike_count',\n",
       " 'display_id',\n",
       " 'duration',\n",
       " 'like_count',\n",
       " 'tags',\n",
       " 'title',\n",
       " 'upload_date',\n",
       " 'view_count',\n",
       " 'domains',\n",
       " 'domains_count',\n",
       " 'has_domains',\n",
       " 'is_sponsored',\n",
       " 'sponsor_category']"
      ]
     },
     "execution_count": 9,
     "metadata": {},
     "output_type": "execute_result"
    }
   ],
   "source": [
    "# we can see that we have some columns duplicates\n",
    "metadatas_domains.schema.names"
   ]
  },
  {
   "cell_type": "code",
   "execution_count": 10,
   "id": "27ceeb0a",
   "metadata": {},
   "outputs": [],
   "source": [
    "# we inverse the explode we did a bit earlier\n",
    "metadatas_sponsors = metadatas_domains.groupby([c for c in metadatas_domains.columns if c != 'domains' and c != 'sponsor_category']) \\\n",
    "                                                        .agg(*( [F.collect_list(\"domains\").alias(\"domains\")]  \\\n",
    "                                                        + [F.collect_list(\"sponsor_category\").alias(\"sponsor_category\")]))\n"
   ]
  },
  {
   "cell_type": "code",
   "execution_count": 11,
   "id": "a2e2714e",
   "metadata": {},
   "outputs": [
    {
     "data": {
      "text/plain": [
       "['categories',\n",
       " 'channel_id',\n",
       " 'dislike_count',\n",
       " 'display_id',\n",
       " 'duration',\n",
       " 'like_count',\n",
       " 'tags',\n",
       " 'title',\n",
       " 'upload_date',\n",
       " 'view_count',\n",
       " 'domains_count',\n",
       " 'has_domains',\n",
       " 'is_sponsored',\n",
       " 'domains',\n",
       " 'sponsor_category']"
      ]
     },
     "execution_count": 11,
     "metadata": {},
     "output_type": "execute_result"
    }
   ],
   "source": [
    "# we verify\n",
    "metadatas_sponsors.schema.names"
   ]
  },
  {
   "cell_type": "code",
   "execution_count": null,
   "id": "1a7be723",
   "metadata": {},
   "outputs": [
    {
     "name": "stderr",
     "output_type": "stream",
     "text": [
      "[Stage 1:====================================================>    (72 + 1) / 78]\r"
     ]
    }
   ],
   "source": [
    "# we export our df\n",
    "metadatas_sponsors.write.parquet(\"data/metadata_sponsors.parquet\")"
   ]
  }
 ],
 "metadata": {
  "kernelspec": {
   "display_name": "Python 3 (ipykernel)",
   "language": "python",
   "name": "python3"
  },
  "language_info": {
   "codemirror_mode": {
    "name": "ipython",
    "version": 3
   },
   "file_extension": ".py",
   "mimetype": "text/x-python",
   "name": "python",
   "nbconvert_exporter": "python",
   "pygments_lexer": "ipython3",
   "version": "3.9.13"
  }
 },
 "nbformat": 4,
 "nbformat_minor": 5
}
