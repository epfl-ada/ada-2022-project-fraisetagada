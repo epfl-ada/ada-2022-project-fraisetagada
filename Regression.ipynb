{
 "cells": [
  {
   "cell_type": "markdown",
   "id": "ab8e0693",
   "metadata": {},
   "source": [
    "## Regression :\n",
    "    All in all this notebook isn't really interesting as is but : Regression analysis of our current dataset with the number of urls for each videos, this workframe while be replicated when we will have formally defined what a sponsor is :"
   ]
  },
  {
   "cell_type": "code",
   "execution_count": 1,
   "id": "3f0b8944",
   "metadata": {},
   "outputs": [
    {
     "name": "stdout",
     "output_type": "stream",
     "text": [
      "22/11/18 12:43:56 WARN Utils: Your hostname, LAPTOP-8QFB5E0N resolves to a loopback address: 127.0.1.1; using 172.17.221.138 instead (on interface eth0)\n",
      "22/11/18 12:43:56 WARN Utils: Set SPARK_LOCAL_IP if you need to bind to another address\n"
     ]
    },
    {
     "name": "stderr",
     "output_type": "stream",
     "text": [
      "Setting default log level to \"WARN\".\n",
      "To adjust logging level use sc.setLogLevel(newLevel). For SparkR, use setLogLevel(newLevel).\n"
     ]
    },
    {
     "name": "stdout",
     "output_type": "stream",
     "text": [
      "22/11/18 12:43:58 WARN NativeCodeLoader: Unable to load native-hadoop library for your platform... using builtin-java classes where applicable\n"
     ]
    }
   ],
   "source": [
    "import re\n",
    "from pyspark.sql.functions import col, udf, explode\n",
    "from pyspark.sql.types import StructType, StructField, IntegerType, DoubleType, LongType, StringType, DateType, ArrayType, BooleanType\n",
    "\n",
    "from pyspark.sql import SparkSession\n",
    "import pyspark as ps\n",
    "import pyspark.sql.functions as F\n",
    "\n",
    "import math\n",
    "from statsmodels.stats import diagnostic\n",
    "from scipy import stats\n",
    "import statsmodels.api as sm\n",
    "import statsmodels.formula.api as smf\n",
    "\n",
    "from pyspark.ml.regression import LinearRegression\n",
    "from pyspark.ml.feature import VectorAssembler\n",
    "\n",
    "config = ps.SparkConf().setAll([\n",
    "    ('spark.network.timeout', '3601s'),\n",
    "    ('spark.executor.heartbeatInterval', '3600s'),\n",
    "])\n",
    "sc = ps.SparkContext('local', '', conf=config)\n",
    "spark = SparkSession(sc)"
   ]
  },
  {
   "cell_type": "markdown",
   "id": "82ab7652",
   "metadata": {},
   "source": [
    "# Data prep :\n",
    "-----------------------------------------------------------------------------------------------------"
   ]
  },
  {
   "cell_type": "code",
   "execution_count": 2,
   "id": "fff8ccf9",
   "metadata": {},
   "outputs": [],
   "source": [
    "PATH_METADATA_W_URLS = 'data/yt_metadata_en_urls.parquet'"
   ]
  },
  {
   "cell_type": "code",
   "execution_count": 3,
   "id": "d050b311",
   "metadata": {},
   "outputs": [
    {
     "name": "stderr",
     "output_type": "stream",
     "text": [
      "                                                                                \r"
     ]
    }
   ],
   "source": [
    "df=spark.read.parquet(PATH_METADATA_W_URLS, sep=',')"
   ]
  },
  {
   "cell_type": "markdown",
   "id": "10477831",
   "metadata": {},
   "source": [
    "-------------------------------------------------------------------------------------------------------------------------------"
   ]
  },
  {
   "cell_type": "code",
   "execution_count": 4,
   "id": "08a9558c",
   "metadata": {},
   "outputs": [
    {
     "name": "stderr",
     "output_type": "stream",
     "text": [
      "                                                                                \r"
     ]
    },
    {
     "data": {
      "text/plain": [
       "Row(categories='Howto & Style', channel_id='UCROB2-0bJEcwiP059oNil_Q', crawl_date=datetime.date(2019, 11, 17), dislike_count=None, display_id='iICAtB8ViFM', duration=1365, like_count=None, tags='makeup geek,kathleen lights,makeup,wannamakeup,sephora,by terry,ulta,korres,chanel,haul', title='Makeup Haul | Chanel, MAC, Makeup Geek, Sephora & more', upload_date=datetime.date(2016, 8, 22), view_count=2813, urls=['http://go.magik.ly/ml/1fqi/', 'http://go.magik.ly/ml/1fqk/', 'http://go.magik.ly/ml/1fqo/', 'http://go.magik.ly/ml/1fql/', 'http://go.magik.ly/ml/1fqm/', 'http://go.magik.ly/ml/1fqr/', 'http://go.magik.ly/ml/1fqp/', 'http://www.ebates.com/rf.do?referreri...', 'http://go.magik.ly/ml/1fqn/', 'http://go.magik.ly/ml/1fqj/', 'http://go.magik.ly/ml/1fqs/', 'http://go.magik.ly/ml/167n/', 'http://go.magik.ly/ml/1fqq/', 'https://www.octoly.com/creators?cref=hato9'], urls_count=14, has_urls='true')"
      ]
     },
     "execution_count": 4,
     "metadata": {},
     "output_type": "execute_result"
    }
   ],
   "source": [
    "df.head()"
   ]
  },
  {
   "cell_type": "code",
   "execution_count": 4,
   "id": "539c6360",
   "metadata": {},
   "outputs": [
    {
     "name": "stdout",
     "output_type": "stream",
     "text": [
      "+----------+\n",
      "|like_count|\n",
      "+----------+\n",
      "|      null|\n",
      "|      null|\n",
      "|      null|\n",
      "|      null|\n",
      "|      null|\n",
      "|        87|\n",
      "|      null|\n",
      "|      null|\n",
      "|      null|\n",
      "|      null|\n",
      "|      null|\n",
      "|      null|\n",
      "|      null|\n",
      "|        50|\n",
      "|       454|\n",
      "|      null|\n",
      "|      null|\n",
      "|      null|\n",
      "|       214|\n",
      "|        97|\n",
      "+----------+\n",
      "only showing top 20 rows\n",
      "\n"
     ]
    }
   ],
   "source": [
    "df.select(col('like_count')).show()"
   ]
  },
  {
   "cell_type": "code",
   "execution_count": 4,
   "id": "c68829ba",
   "metadata": {},
   "outputs": [],
   "source": [
    "df = df.fillna(0,subset='dislike_count') # if we want to work with the dislike/like count we would need to change all \"nuLL\" values to 0\n",
    "df = df.fillna(0,subset='like_count')"
   ]
  },
  {
   "cell_type": "code",
   "execution_count": 5,
   "id": "cbc9241a",
   "metadata": {},
   "outputs": [],
   "source": [
    "df = df.withColumn('like_per_view', df.like_count / df.view_count)"
   ]
  },
  {
   "cell_type": "code",
   "execution_count": 50,
   "id": "78d6fafe",
   "metadata": {},
   "outputs": [
    {
     "name": "stdout",
     "output_type": "stream",
     "text": [
      "+--------------------+\n",
      "|       like_per_view|\n",
      "+--------------------+\n",
      "|                 0.0|\n",
      "|                 0.0|\n",
      "|                 0.0|\n",
      "|                 0.0|\n",
      "|                 0.0|\n",
      "| 0.10661764705882353|\n",
      "|                 0.0|\n",
      "|                 0.0|\n",
      "|                 0.0|\n",
      "|                 0.0|\n",
      "|                 0.0|\n",
      "|                 0.0|\n",
      "|                 0.0|\n",
      "| 0.05714285714285714|\n",
      "|0.039564270152505444|\n",
      "|                 0.0|\n",
      "|                 0.0|\n",
      "|                 0.0|\n",
      "| 0.08788501026694046|\n",
      "| 0.10948081264108352|\n",
      "+--------------------+\n",
      "only showing top 20 rows\n",
      "\n"
     ]
    }
   ],
   "source": [
    "df.select(col('like_per_view')).show()"
   ]
  },
  {
   "cell_type": "code",
   "execution_count": 6,
   "id": "383a9968",
   "metadata": {},
   "outputs": [],
   "source": [
    "df = df.fillna(0,subset='like_per_view')"
   ]
  },
  {
   "cell_type": "code",
   "execution_count": 29,
   "id": "f8ab7d64",
   "metadata": {},
   "outputs": [
    {
     "name": "stderr",
     "output_type": "stream",
     "text": [
      "                                                                                \r"
     ]
    },
    {
     "data": {
      "text/plain": [
       "7094044"
      ]
     },
     "execution_count": 29,
     "metadata": {},
     "output_type": "execute_result"
    }
   ],
   "source": [
    "df.filter(col(\"like_per_view\")==0).count() # see the number of videos where the ratio is 0"
   ]
  },
  {
   "cell_type": "code",
   "execution_count": 21,
   "id": "79f1c18a",
   "metadata": {},
   "outputs": [
    {
     "name": "stderr",
     "output_type": "stream",
     "text": [
      "[Stage 19:=====================================================>(107 + 1) / 108]\r"
     ]
    },
    {
     "name": "stdout",
     "output_type": "stream",
     "text": [
      "(72924794, 15)\n"
     ]
    },
    {
     "name": "stderr",
     "output_type": "stream",
     "text": [
      "\r",
      "                                                                                \r"
     ]
    }
   ],
   "source": [
    "print((df.count(), len(df.columns))) # it represent less than 10 % of our dataset"
   ]
  },
  {
   "cell_type": "code",
   "execution_count": 7,
   "id": "25a4bec5",
   "metadata": {},
   "outputs": [],
   "source": [
    "#we can drop the videos where like/view ratio is zero since there's a near 0 chance that we can consider them as sponsored\n",
    "df = df.where(df.like_per_view>0)"
   ]
  },
  {
   "cell_type": "code",
   "execution_count": 8,
   "id": "6dd0917b",
   "metadata": {},
   "outputs": [],
   "source": [
    "df = df.withColumn('dislike_per_view', df.dislike_count / df.view_count)\n",
    "df = df.fillna(0,subset='dislike_per_view')"
   ]
  },
  {
   "cell_type": "code",
   "execution_count": 55,
   "id": "f4125111",
   "metadata": {},
   "outputs": [
    {
     "data": {
      "text/plain": [
       "Row(categories='Howto & Style', channel_id='UCROB2-0bJEcwiP059oNil_Q', crawl_date=datetime.date(2019, 11, 17), dislike_count=1, display_id='4e3A7ohrWZ0', duration=426, like_count=87, tags='urban decay,foundation,review,makeup,sephora,ulta,wannamakeup,demo,first impressions,all nighter,too faced,colourpop', title='Urban Decay All Nighter Foundation | Demo and Review', upload_date=datetime.date(2016, 8, 11), view_count=816, urls=['http://www.ebates.com/rf.do?referreri...', 'https://www.octoly.com/creators?cref=hato9'], urls_count=2, has_urls='true', like_per_view=0.10661764705882353, dislike_per_view=0.0012254901960784314)"
      ]
     },
     "execution_count": 55,
     "metadata": {},
     "output_type": "execute_result"
    }
   ],
   "source": [
    "df.head()"
   ]
  },
  {
   "cell_type": "markdown",
   "id": "1e2f1c52",
   "metadata": {},
   "source": [
    "# Model fitting\n",
    "-----------------------------------------------------------------------------------------------------\n",
    "Attempt at using the spark library of regression, not yet opreationnal"
   ]
  },
  {
   "cell_type": "raw",
   "id": "8fda6fbe",
   "metadata": {},
   "source": [
    "df.printSchema()"
   ]
  },
  {
   "cell_type": "raw",
   "id": "ad2ac4ac",
   "metadata": {},
   "source": [
    "df2 = df.select(col('urls_count'),col('like_per_view'))\n"
   ]
  },
  {
   "cell_type": "raw",
   "id": "a38b93b9",
   "metadata": {},
   "source": [
    "assembler = VectorAssembler().setInputCols(['urls_count']).setOutputCol('features')\n",
    "\n",
    "lr = LinearRegression(assembler.transform(df2),'features', 'like_per_view',maxIter=10, regParam=0.3, elasticNetParam=0.8)\n",
    "lrModel = lr.fit(df2)"
   ]
  },
  {
   "cell_type": "raw",
   "id": "fa780c9e",
   "metadata": {},
   "source": [
    "# Inputs of our model\n",
    "\n",
    "vect_assm = VectorAssembler(inputCols =['urls_count'], outputCol='v_urls_count')\n",
    "df_vect=vect_assm.transform(df2)"
   ]
  },
  {
   "cell_type": "raw",
   "id": "3c80bc2b",
   "metadata": {},
   "source": [
    "# Definition of the output and the param of the fitting\n",
    "lir = LinearRegression(featuresCol = 'urls_count', labelCol='like_per_view', maxIter=50, \n",
    "regParam=0.3, elasticNetParam=0.8)"
   ]
  },
  {
   "cell_type": "raw",
   "id": "68628497",
   "metadata": {},
   "source": [
    "model = lir.fit(df_vect)\n"
   ]
  },
  {
   "cell_type": "raw",
   "id": "b8b4b114",
   "metadata": {},
   "source": [
    "Predictions = model.transform(df_vect)\n",
    "\n",
    "coeff=model.coefficients"
   ]
  },
  {
   "cell_type": "raw",
   "id": "b8fa1d31",
   "metadata": {},
   "source": [
    "Predictions.show()\n"
   ]
  },
  {
   "cell_type": "raw",
   "id": "0fc6f60d",
   "metadata": {},
   "source": [
    "coeff"
   ]
  },
  {
   "cell_type": "raw",
   "id": "0a935f63",
   "metadata": {},
   "source": [
    "model.intercept"
   ]
  },
  {
   "cell_type": "markdown",
   "id": "3c80ac43",
   "metadata": {},
   "source": [
    "-------------------------------------------------------------------------------------------------------------------------------\n",
    "Let's use a statsmodel approach for large data sets (https://www.statsmodels.org/stable/large_data.html)"
   ]
  },
  {
   "cell_type": "code",
   "execution_count": null,
   "id": "fa9e1c13",
   "metadata": {},
   "outputs": [],
   "source": [
    "# Run this cell to write the parquet file regression_urls with the columns you want to fit on :\n",
    "df2 = df.select(col('urls_count'),col('like_per_view'))\n",
    "df2.write.parquet('regression_urls.parquet')"
   ]
  },
  {
   "cell_type": "code",
   "execution_count": 9,
   "id": "9831ecea",
   "metadata": {},
   "outputs": [],
   "source": [
    "import pyarrow as pa\n",
    "import pyarrow.parquet as pq\n",
    "import statsmodels.formula.api as smf\n",
    "\n",
    "class DataSet(dict):\n",
    "    def __init__(self, path):\n",
    "        self.parquet = pq.ParquetDataset(path)\n",
    "\n",
    "    def __getitem__(self, key):\n",
    "        try:\n",
    "            return self.parquet.read([key]).to_pandas()[key]\n",
    "        except:\n",
    "            raise KeyError\n",
    "\n",
    "df_urls = DataSet('regression_urls.parquet')"
   ]
  },
  {
   "cell_type": "code",
   "execution_count": 10,
   "id": "f08b55f0",
   "metadata": {},
   "outputs": [],
   "source": [
    "mod = smf.ols('like_per_view ~ urls_count', data=df_urls)"
   ]
  },
  {
   "cell_type": "code",
   "execution_count": 11,
   "id": "9ac17d19",
   "metadata": {},
   "outputs": [],
   "source": [
    "import numpy as np\n",
    "\n",
    "np.random.seed(2)\n",
    "res = mod.fit()"
   ]
  },
  {
   "cell_type": "code",
   "execution_count": 12,
   "id": "70d83675",
   "metadata": {},
   "outputs": [
    {
     "name": "stdout",
     "output_type": "stream",
     "text": [
      "                            OLS Regression Results                            \n",
      "==============================================================================\n",
      "Dep. Variable:          like_per_view   R-squared:                       0.000\n",
      "Model:                            OLS   Adj. R-squared:                  0.000\n",
      "Method:                 Least Squares   F-statistic:                     5037.\n",
      "Date:                Fri, 18 Nov 2022   Prob (F-statistic):               0.00\n",
      "Time:                        12:49:36   Log-Likelihood:             1.5755e+07\n",
      "No. Observations:            65830750   AIC:                        -3.151e+07\n",
      "Df Residuals:                65830748   BIC:                        -3.151e+07\n",
      "Df Model:                           1                                         \n",
      "Covariance Type:            nonrobust                                         \n",
      "==============================================================================\n",
      "                 coef    std err          t      P>|t|      [0.025      0.975]\n",
      "------------------------------------------------------------------------------\n",
      "Intercept      0.0232   2.66e-05    872.818      0.000       0.023       0.023\n",
      "urls_count     0.0004   6.32e-06     70.975      0.000       0.000       0.000\n",
      "======================================================================================\n",
      "Omnibus:                745619418.098   Durbin-Watson:                           1.917\n",
      "Prob(Omnibus):                  0.000   Jarque-Bera (JB):   9061120946594106048512.000\n",
      "Skew:                        7336.330   Prob(JB):                                 0.00\n",
      "Kurtosis:                57475425.031   Cond. No.                                 4.84\n",
      "======================================================================================\n",
      "\n",
      "Notes:\n",
      "[1] Standard Errors assume that the covariance matrix of the errors is correctly specified.\n",
      "22/11/18 13:45:00 WARN HeartbeatReceiver: Removing executor driver with no recent heartbeats: 3659530 ms exceeds timeout 3601000 ms\n",
      "22/11/18 13:45:00 WARN SparkContext: Killing executors is not supported by current scheduler.\n"
     ]
    }
   ],
   "source": [
    "print(res.summary())"
   ]
  },
  {
   "cell_type": "markdown",
   "id": "bdfbed56",
   "metadata": {},
   "source": [
    "We can atleast see that we have a positive coefficient for urls_count which would seems coherent with the fact that popular videos (thus with more likes) tend to have a more worked-through description (more descriptive etc) which means also more links it them."
   ]
  }
 ],
 "metadata": {
  "kernelspec": {
   "display_name": "Python 3 (ipykernel)",
   "language": "python",
   "name": "python3"
  },
  "language_info": {
   "codemirror_mode": {
    "name": "ipython",
    "version": 3
   },
   "file_extension": ".py",
   "mimetype": "text/x-python",
   "name": "python",
   "nbconvert_exporter": "python",
   "pygments_lexer": "ipython3",
   "version": "3.9.13"
  }
 },
 "nbformat": 4,
 "nbformat_minor": 5
}
