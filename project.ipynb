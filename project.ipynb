{
 "cells": [
  {
   "cell_type": "code",
   "execution_count": 1,
   "metadata": {},
   "outputs": [],
   "source": [
    "import numpy as np\n",
    "import pandas as pd\n",
    "import seaborn as sns\n",
    "import matplotlib.pyplot as plt\n",
    "\n",
    "plt.style.use(\"ggplot\")"
   ]
  },
  {
   "cell_type": "code",
   "execution_count": 2,
   "metadata": {},
   "outputs": [],
   "source": [
    "df = pd.read_csv(\"data/_raw_df_channels.tsv.gz\", sep='\\t', parse_dates=[\"join_date\"], index_col=\"channel\")\n",
    "df.category_cc = df.category_cc.astype(\"category\")"
   ]
  },
  {
   "cell_type": "code",
   "execution_count": 3,
   "metadata": {},
   "outputs": [
    {
     "data": {
      "text/plain": [
       "category_cc                 category\n",
       "join_date             datetime64[ns]\n",
       "name_cc                       object\n",
       "subscribers_cc                 int64\n",
       "videos_cc                      int64\n",
       "subscriber_rank_sb           float64\n",
       "dtype: object"
      ]
     },
     "execution_count": 3,
     "metadata": {},
     "output_type": "execute_result"
    }
   ],
   "source": [
    "df.dtypes"
   ]
  },
  {
   "cell_type": "code",
   "execution_count": 4,
   "metadata": {},
   "outputs": [
    {
     "data": {
      "text/html": [
       "<div>\n",
       "<style scoped>\n",
       "    .dataframe tbody tr th:only-of-type {\n",
       "        vertical-align: middle;\n",
       "    }\n",
       "\n",
       "    .dataframe tbody tr th {\n",
       "        vertical-align: top;\n",
       "    }\n",
       "\n",
       "    .dataframe thead th {\n",
       "        text-align: right;\n",
       "    }\n",
       "</style>\n",
       "<table border=\"1\" class=\"dataframe\">\n",
       "  <thead>\n",
       "    <tr style=\"text-align: right;\">\n",
       "      <th></th>\n",
       "      <th>category_cc</th>\n",
       "      <th>join_date</th>\n",
       "      <th>name_cc</th>\n",
       "      <th>subscribers_cc</th>\n",
       "      <th>videos_cc</th>\n",
       "      <th>subscriber_rank_sb</th>\n",
       "    </tr>\n",
       "    <tr>\n",
       "      <th>channel</th>\n",
       "      <th></th>\n",
       "      <th></th>\n",
       "      <th></th>\n",
       "      <th></th>\n",
       "      <th></th>\n",
       "      <th></th>\n",
       "    </tr>\n",
       "  </thead>\n",
       "  <tbody>\n",
       "    <tr>\n",
       "      <th>UCBJuEqXfXTdcPSbGO9qqn1g</th>\n",
       "      <td>Film and Animation</td>\n",
       "      <td>2017-05-21</td>\n",
       "      <td>MagnusNation</td>\n",
       "      <td>65100</td>\n",
       "      <td>28</td>\n",
       "      <td>231223.0</td>\n",
       "    </tr>\n",
       "    <tr>\n",
       "      <th>UCkNW9Q1VR_aeZ6uht83jJVQ</th>\n",
       "      <td>Entertainment</td>\n",
       "      <td>2011-12-13</td>\n",
       "      <td>Mago Dario Animazion...</td>\n",
       "      <td>60200</td>\n",
       "      <td>48</td>\n",
       "      <td>238538.0</td>\n",
       "    </tr>\n",
       "    <tr>\n",
       "      <th>UCXhkGgooXHDNwgJXmoTSN7g</th>\n",
       "      <td>Music</td>\n",
       "      <td>2008-03-17</td>\n",
       "      <td>Mago Merlino</td>\n",
       "      <td>14800</td>\n",
       "      <td>838</td>\n",
       "      <td>707828.0</td>\n",
       "    </tr>\n",
       "    <tr>\n",
       "      <th>UCvZGsuvKlYOGiZTsxwJNS5Q</th>\n",
       "      <td>Entertainment</td>\n",
       "      <td>2014-10-19</td>\n",
       "      <td>MAGO TOMÁS</td>\n",
       "      <td>26200</td>\n",
       "      <td>31</td>\n",
       "      <td>424550.0</td>\n",
       "    </tr>\n",
       "    <tr>\n",
       "      <th>UCxJWPpPED-J24znoKyKZYjg</th>\n",
       "      <td>Comedy</td>\n",
       "      <td>2017-01-15</td>\n",
       "      <td>Magog of Morskar</td>\n",
       "      <td>29400</td>\n",
       "      <td>158</td>\n",
       "      <td>422966.0</td>\n",
       "    </tr>\n",
       "    <tr>\n",
       "      <th>UCNNLaOkE-rcthxNssSHET2A</th>\n",
       "      <td>Gaming</td>\n",
       "      <td>2017-05-06</td>\n",
       "      <td>magoogala gaming</td>\n",
       "      <td>113000</td>\n",
       "      <td>106</td>\n",
       "      <td>148377.0</td>\n",
       "    </tr>\n",
       "    <tr>\n",
       "      <th>UCISF5OGuAtSLNF24TKTnXag</th>\n",
       "      <td>Film and Animation</td>\n",
       "      <td>2013-12-17</td>\n",
       "      <td>Magpiepony</td>\n",
       "      <td>736000</td>\n",
       "      <td>304</td>\n",
       "      <td>21120.0</td>\n",
       "    </tr>\n",
       "    <tr>\n",
       "      <th>UCRmRfTjSmzD1FQn3Iwp2fiQ</th>\n",
       "      <td>Science &amp; Technology</td>\n",
       "      <td>2007-02-24</td>\n",
       "      <td>Magpul</td>\n",
       "      <td>86600</td>\n",
       "      <td>204</td>\n",
       "      <td>172090.0</td>\n",
       "    </tr>\n",
       "    <tr>\n",
       "      <th>UC1WpidoYChUGcyHAcnALQIg</th>\n",
       "      <td>Music</td>\n",
       "      <td>2011-05-28</td>\n",
       "      <td>magrosi65</td>\n",
       "      <td>64900</td>\n",
       "      <td>1497</td>\n",
       "      <td>219166.0</td>\n",
       "    </tr>\n",
       "    <tr>\n",
       "      <th>UCLVAbmicv2u1x7fgO4fLbng</th>\n",
       "      <td>Music</td>\n",
       "      <td>2015-08-11</td>\n",
       "      <td>Mags Lyrics</td>\n",
       "      <td>10700</td>\n",
       "      <td>66</td>\n",
       "      <td>884480.0</td>\n",
       "    </tr>\n",
       "  </tbody>\n",
       "</table>\n",
       "</div>"
      ],
      "text/plain": [
       "                                   category_cc  join_date  \\\n",
       "channel                                                     \n",
       "UCBJuEqXfXTdcPSbGO9qqn1g    Film and Animation 2017-05-21   \n",
       "UCkNW9Q1VR_aeZ6uht83jJVQ         Entertainment 2011-12-13   \n",
       "UCXhkGgooXHDNwgJXmoTSN7g                 Music 2008-03-17   \n",
       "UCvZGsuvKlYOGiZTsxwJNS5Q         Entertainment 2014-10-19   \n",
       "UCxJWPpPED-J24znoKyKZYjg                Comedy 2017-01-15   \n",
       "UCNNLaOkE-rcthxNssSHET2A                Gaming 2017-05-06   \n",
       "UCISF5OGuAtSLNF24TKTnXag    Film and Animation 2013-12-17   \n",
       "UCRmRfTjSmzD1FQn3Iwp2fiQ  Science & Technology 2007-02-24   \n",
       "UC1WpidoYChUGcyHAcnALQIg                 Music 2011-05-28   \n",
       "UCLVAbmicv2u1x7fgO4fLbng                 Music 2015-08-11   \n",
       "\n",
       "                                          name_cc  subscribers_cc  videos_cc  \\\n",
       "channel                                                                        \n",
       "UCBJuEqXfXTdcPSbGO9qqn1g             MagnusNation           65100         28   \n",
       "UCkNW9Q1VR_aeZ6uht83jJVQ  Mago Dario Animazion...           60200         48   \n",
       "UCXhkGgooXHDNwgJXmoTSN7g             Mago Merlino           14800        838   \n",
       "UCvZGsuvKlYOGiZTsxwJNS5Q               MAGO TOMÁS           26200         31   \n",
       "UCxJWPpPED-J24znoKyKZYjg         Magog of Morskar           29400        158   \n",
       "UCNNLaOkE-rcthxNssSHET2A         magoogala gaming          113000        106   \n",
       "UCISF5OGuAtSLNF24TKTnXag               Magpiepony          736000        304   \n",
       "UCRmRfTjSmzD1FQn3Iwp2fiQ                   Magpul           86600        204   \n",
       "UC1WpidoYChUGcyHAcnALQIg                magrosi65           64900       1497   \n",
       "UCLVAbmicv2u1x7fgO4fLbng              Mags Lyrics           10700         66   \n",
       "\n",
       "                          subscriber_rank_sb  \n",
       "channel                                       \n",
       "UCBJuEqXfXTdcPSbGO9qqn1g            231223.0  \n",
       "UCkNW9Q1VR_aeZ6uht83jJVQ            238538.0  \n",
       "UCXhkGgooXHDNwgJXmoTSN7g            707828.0  \n",
       "UCvZGsuvKlYOGiZTsxwJNS5Q            424550.0  \n",
       "UCxJWPpPED-J24znoKyKZYjg            422966.0  \n",
       "UCNNLaOkE-rcthxNssSHET2A            148377.0  \n",
       "UCISF5OGuAtSLNF24TKTnXag             21120.0  \n",
       "UCRmRfTjSmzD1FQn3Iwp2fiQ            172090.0  \n",
       "UC1WpidoYChUGcyHAcnALQIg            219166.0  \n",
       "UCLVAbmicv2u1x7fgO4fLbng            884480.0  "
      ]
     },
     "execution_count": 4,
     "metadata": {},
     "output_type": "execute_result"
    }
   ],
   "source": [
    "df.head(10)"
   ]
  },
  {
   "cell_type": "code",
   "execution_count": 5,
   "metadata": {},
   "outputs": [
    {
     "data": {
      "text/html": [
       "<div>\n",
       "<style scoped>\n",
       "    .dataframe tbody tr th:only-of-type {\n",
       "        vertical-align: middle;\n",
       "    }\n",
       "\n",
       "    .dataframe tbody tr th {\n",
       "        vertical-align: top;\n",
       "    }\n",
       "\n",
       "    .dataframe thead th {\n",
       "        text-align: right;\n",
       "    }\n",
       "</style>\n",
       "<table border=\"1\" class=\"dataframe\">\n",
       "  <thead>\n",
       "    <tr style=\"text-align: right;\">\n",
       "      <th></th>\n",
       "      <th>subscribers_cc</th>\n",
       "      <th>videos_cc</th>\n",
       "      <th>subscriber_rank_sb</th>\n",
       "    </tr>\n",
       "  </thead>\n",
       "  <tbody>\n",
       "    <tr>\n",
       "      <th>count</th>\n",
       "      <td>1.569770e+05</td>\n",
       "      <td>156977.000000</td>\n",
       "      <td>1.533300e+05</td>\n",
       "    </tr>\n",
       "    <tr>\n",
       "      <th>mean</th>\n",
       "      <td>2.415465e+05</td>\n",
       "      <td>700.634354</td>\n",
       "      <td>3.573119e+05</td>\n",
       "    </tr>\n",
       "    <tr>\n",
       "      <th>std</th>\n",
       "      <td>1.110144e+06</td>\n",
       "      <td>4439.410641</td>\n",
       "      <td>2.709194e+05</td>\n",
       "    </tr>\n",
       "    <tr>\n",
       "      <th>min</th>\n",
       "      <td>1.000000e+04</td>\n",
       "      <td>10.000000</td>\n",
       "      <td>3.000000e+00</td>\n",
       "    </tr>\n",
       "    <tr>\n",
       "      <th>25%</th>\n",
       "      <td>1.880000e+04</td>\n",
       "      <td>69.000000</td>\n",
       "      <td>1.165692e+05</td>\n",
       "    </tr>\n",
       "    <tr>\n",
       "      <th>50%</th>\n",
       "      <td>4.210000e+04</td>\n",
       "      <td>173.000000</td>\n",
       "      <td>3.025270e+05</td>\n",
       "    </tr>\n",
       "    <tr>\n",
       "      <th>75%</th>\n",
       "      <td>1.360000e+05</td>\n",
       "      <td>440.000000</td>\n",
       "      <td>5.707568e+05</td>\n",
       "    </tr>\n",
       "    <tr>\n",
       "      <th>max</th>\n",
       "      <td>1.121395e+08</td>\n",
       "      <td>461923.000000</td>\n",
       "      <td>1.101245e+06</td>\n",
       "    </tr>\n",
       "  </tbody>\n",
       "</table>\n",
       "</div>"
      ],
      "text/plain": [
       "       subscribers_cc      videos_cc  subscriber_rank_sb\n",
       "count    1.569770e+05  156977.000000        1.533300e+05\n",
       "mean     2.415465e+05     700.634354        3.573119e+05\n",
       "std      1.110144e+06    4439.410641        2.709194e+05\n",
       "min      1.000000e+04      10.000000        3.000000e+00\n",
       "25%      1.880000e+04      69.000000        1.165692e+05\n",
       "50%      4.210000e+04     173.000000        3.025270e+05\n",
       "75%      1.360000e+05     440.000000        5.707568e+05\n",
       "max      1.121395e+08  461923.000000        1.101245e+06"
      ]
     },
     "execution_count": 5,
     "metadata": {},
     "output_type": "execute_result"
    }
   ],
   "source": [
    "df.describe()"
   ]
  },
  {
   "cell_type": "code",
   "execution_count": 6,
   "metadata": {},
   "outputs": [
    {
     "data": {
      "text/plain": [
       "<AxesSubplot:xlabel='subscribers_cc', ylabel='category_cc'>"
      ]
     },
     "execution_count": 6,
     "metadata": {},
     "output_type": "execute_result"
    },
    {
     "data": {
      "image/png": "[encoded data removed]",
      "text/plain": [
       "<Figure size 640x480 with 1 Axes>"
      ]
     },
     "metadata": {},
     "output_type": "display_data"
    }
   ],
   "source": [
    "sns.boxplot(data=df, x=df.subscribers_cc, y=df.category_cc, showfliers = False)"
   ]
  },
  {
   "cell_type": "code",
   "execution_count": 7,
   "metadata": {},
   "outputs": [
    {
     "data": {
      "text/html": [
       "<div>\n",
       "<style scoped>\n",
       "    .dataframe tbody tr th:only-of-type {\n",
       "        vertical-align: middle;\n",
       "    }\n",
       "\n",
       "    .dataframe tbody tr th {\n",
       "        vertical-align: top;\n",
       "    }\n",
       "\n",
       "    .dataframe thead th {\n",
       "        text-align: right;\n",
       "    }\n",
       "</style>\n",
       "<table border=\"1\" class=\"dataframe\">\n",
       "  <thead>\n",
       "    <tr style=\"text-align: right;\">\n",
       "      <th></th>\n",
       "      <th>subscribers_cc</th>\n",
       "      <th>videos_cc</th>\n",
       "      <th>subscriber_rank_sb</th>\n",
       "    </tr>\n",
       "    <tr>\n",
       "      <th>category_cc</th>\n",
       "      <th></th>\n",
       "      <th></th>\n",
       "      <th></th>\n",
       "    </tr>\n",
       "  </thead>\n",
       "  <tbody>\n",
       "    <tr>\n",
       "      <th>Autos &amp; Vehicles</th>\n",
       "      <td>8271583</td>\n",
       "      <td>82914</td>\n",
       "      <td>985789.0</td>\n",
       "    </tr>\n",
       "    <tr>\n",
       "      <th>Comedy</th>\n",
       "      <td>26400000</td>\n",
       "      <td>34405</td>\n",
       "      <td>998847.0</td>\n",
       "    </tr>\n",
       "    <tr>\n",
       "      <th>Education</th>\n",
       "      <td>60100000</td>\n",
       "      <td>118159</td>\n",
       "      <td>988795.0</td>\n",
       "    </tr>\n",
       "    <tr>\n",
       "      <th>Entertainment</th>\n",
       "      <td>56018869</td>\n",
       "      <td>257188</td>\n",
       "      <td>1007560.0</td>\n",
       "    </tr>\n",
       "    <tr>\n",
       "      <th>Film and Animation</th>\n",
       "      <td>29500000</td>\n",
       "      <td>125613</td>\n",
       "      <td>1007876.0</td>\n",
       "    </tr>\n",
       "    <tr>\n",
       "      <th>Gaming</th>\n",
       "      <td>101000000</td>\n",
       "      <td>169676</td>\n",
       "      <td>1009505.0</td>\n",
       "    </tr>\n",
       "    <tr>\n",
       "      <th>Howto &amp; Style</th>\n",
       "      <td>60600000</td>\n",
       "      <td>332703</td>\n",
       "      <td>1005013.0</td>\n",
       "    </tr>\n",
       "    <tr>\n",
       "      <th>Music</th>\n",
       "      <td>112139463</td>\n",
       "      <td>175300</td>\n",
       "      <td>1101245.0</td>\n",
       "    </tr>\n",
       "    <tr>\n",
       "      <th>News &amp; Politics</th>\n",
       "      <td>16274836</td>\n",
       "      <td>461923</td>\n",
       "      <td>983725.0</td>\n",
       "    </tr>\n",
       "    <tr>\n",
       "      <th>Nonprofits &amp; Activism</th>\n",
       "      <td>20700000</td>\n",
       "      <td>141627</td>\n",
       "      <td>987898.0</td>\n",
       "    </tr>\n",
       "    <tr>\n",
       "      <th>People &amp; Blogs</th>\n",
       "      <td>26300000</td>\n",
       "      <td>88681</td>\n",
       "      <td>1030844.0</td>\n",
       "    </tr>\n",
       "    <tr>\n",
       "      <th>Pets &amp; Animals</th>\n",
       "      <td>14800000</td>\n",
       "      <td>49529</td>\n",
       "      <td>969346.0</td>\n",
       "    </tr>\n",
       "    <tr>\n",
       "      <th>Science &amp; Technology</th>\n",
       "      <td>15300000</td>\n",
       "      <td>138531</td>\n",
       "      <td>989595.0</td>\n",
       "    </tr>\n",
       "    <tr>\n",
       "      <th>Sports</th>\n",
       "      <td>48400000</td>\n",
       "      <td>278430</td>\n",
       "      <td>1005676.0</td>\n",
       "    </tr>\n",
       "    <tr>\n",
       "      <th>Travel &amp; Events</th>\n",
       "      <td>4900000</td>\n",
       "      <td>88622</td>\n",
       "      <td>989824.0</td>\n",
       "    </tr>\n",
       "  </tbody>\n",
       "</table>\n",
       "</div>"
      ],
      "text/plain": [
       "                       subscribers_cc  videos_cc  subscriber_rank_sb\n",
       "category_cc                                                         \n",
       "Autos & Vehicles              8271583      82914            985789.0\n",
       "Comedy                       26400000      34405            998847.0\n",
       "Education                    60100000     118159            988795.0\n",
       "Entertainment                56018869     257188           1007560.0\n",
       "Film and Animation           29500000     125613           1007876.0\n",
       "Gaming                      101000000     169676           1009505.0\n",
       "Howto & Style                60600000     332703           1005013.0\n",
       "Music                       112139463     175300           1101245.0\n",
       "News & Politics              16274836     461923            983725.0\n",
       "Nonprofits & Activism        20700000     141627            987898.0\n",
       "People & Blogs               26300000      88681           1030844.0\n",
       "Pets & Animals               14800000      49529            969346.0\n",
       "Science & Technology         15300000     138531            989595.0\n",
       "Sports                       48400000     278430           1005676.0\n",
       "Travel & Events               4900000      88622            989824.0"
      ]
     },
     "execution_count": 7,
     "metadata": {},
     "output_type": "execute_result"
    }
   ],
   "source": [
    "df.groupby(\"category_cc\").max(\"subscriber_cc\")"
   ]
  },
  {
   "cell_type": "markdown",
   "metadata": {},
   "source": [
    "### Channel with most subscibers"
   ]
  },
  {
   "cell_type": "code",
   "execution_count": 8,
   "metadata": {},
   "outputs": [
    {
     "data": {
      "text/plain": [
       "category_cc                         Music\n",
       "join_date             2006-03-13 00:00:00\n",
       "name_cc                          T-Series\n",
       "subscribers_cc                  112139463\n",
       "videos_cc                           13839\n",
       "subscriber_rank_sb                  102.0\n",
       "Name: UCq-Fj5jknLsUf-MWSy4_brA, dtype: object"
      ]
     },
     "execution_count": 8,
     "metadata": {},
     "output_type": "execute_result"
    }
   ],
   "source": [
    "df.loc[df['subscribers_cc'].idxmax()]"
   ]
  },
  {
   "cell_type": "markdown",
   "metadata": {},
   "source": [
    "### Channel with most videos"
   ]
  },
  {
   "cell_type": "code",
   "execution_count": 9,
   "metadata": {},
   "outputs": [
    {
     "data": {
      "text/plain": [
       "category_cc               News & Politics\n",
       "join_date             2015-06-17 00:00:00\n",
       "name_cc                        AP Archive\n",
       "subscribers_cc                    1770000\n",
       "videos_cc                          461923\n",
       "subscriber_rank_sb                 6059.0\n",
       "Name: UCHTK-2W11Vh1V4uwofOfR4w, dtype: object"
      ]
     },
     "execution_count": 9,
     "metadata": {},
     "output_type": "execute_result"
    }
   ],
   "source": [
    "df.loc[df['videos_cc'].idxmax()]"
   ]
  }
 ],
 "metadata": {
  "kernelspec": {
   "display_name": "Python 3.9.13 ('ada')",
   "language": "python",
   "name": "python3"
  },
  "language_info": {
   "codemirror_mode": {
    "name": "ipython",
    "version": 3
   },
   "file_extension": ".py",
   "mimetype": "text/x-python",
   "name": "python",
   "nbconvert_exporter": "python",
   "pygments_lexer": "ipython3",
   "version": "3.9.13"
  },
  "orig_nbformat": 4,
  "vscode": {
   "interpreter": {
    "hash": "a83119b0c467fc652a6582b2ca49612e80c32bba4f358d37f8df56201774d684"
   }
  }
 },
 "nbformat": 4,
 "nbformat_minor": 2
}
