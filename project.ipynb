{
 "cells": [
  {
   "cell_type": "markdown",
   "metadata": {},
   "source": [
    "# This video is sponsored by ADA! An analysis of sponsorships on YouTube"
   ]
  },
  {
   "cell_type": "markdown",
   "metadata": {},
   "source": [
    "## Table of Contents"
   ]
  },
  {
   "cell_type": "markdown",
   "metadata": {},
   "source": [
    "1. [Imports](#Imports)\n",
    "2. [Process Links in Video Descriptions](#Process-Links-in-Video-Descriptions) [see [videos_links.ipynb](processing/videos_links.ipynb)]\n",
    "    1. [Extract Links from Video Descriptions](#Extract-Links-from-Video-Descriptions)\n",
    "    2. [Analyse Shortened URLs](#Analyse-Shortened-URLs)\n",
    "    3. [Resolve Shortened URLs](#Resolve-Shortened-URLs)\n",
    "        1. [Resolve Bitly URLs](#Resolve-Bitly-URLs) [also see [resolve_bitly_links.ipynb](processing/resolve_bitly_links.ipynb)]\n",
    "        2. [Resolve Google URLs](#Resolve-Google-URLs) [also see [resolve_google_links.ipynb](processing/resolve_google_links.ipynb)]\n",
    "    4. [Resolve URLs in the Metadata Dataset](#Resolve-URLs-in-the-Metadata-Dataset)\n",
    "3. [Detect Sponsorship Theme in Video Descriptions](#Detect-Sponsorship-Theme-in-Video-Descriptions) [see [videos_sponsorship.ipynb](processing/videos_sponsorship.ipynb)]\n",
    "    1. [Define the Theme Detection Function](#Define-the-Theme-Detection-Function)\n",
    "    2. [Apply the Theme Detection Function on the Dataset](#Apply-the-Theme-Detection-Function-on-the-Dataset)\n",
    "    3. [Analyse the Sponsorship Scores](#Analyse-the-Sponsorship-Scores)"
   ]
  },
  {
   "cell_type": "markdown",
   "metadata": {},
   "source": [
    "## Imports"
   ]
  },
  {
   "cell_type": "code",
   "execution_count": null,
   "metadata": {},
   "outputs": [],
   "source": [
    "# FINDSPARK\n",
    "import findspark\n",
    "findspark.init()\n",
    "\n",
    "# BASIC IMPORTS\n",
    "import re\n",
    "import pandas as pd\n",
    "import numpy as np\n",
    "import seaborn as sns\n",
    "import matplotlib.pyplot as plt\n",
    "from urllib.parse import urlparse\n",
    "\n",
    "# NLTK\n",
    "import nltk\n",
    "from nltk.tokenize import word_tokenize\n",
    "\n",
    "from nltk.stem import PorterStemmer\n",
    "stemmer = PorterStemmer()\n",
    "\n",
    "nltk.download('punkt')\n",
    "nltk.download('stopwords')\n",
    "\n",
    "from nltk.corpus import stopwords\n",
    "stop_words = set(stopwords.words('english'))\n",
    "\n",
    "# PYSPARK\n",
    "from pyspark.sql.functions import col, udf, explode, when, collect_list\n",
    "from pyspark.sql.column import Column, _to_java_column\n",
    "from pyspark.sql.types import StructType, StructField, IntegerType, DoubleType, LongType, StringType, DateType, ArrayType, BooleanType\n",
    "\n",
    "from pyspark.sql import SparkSession\n",
    "import pyspark as ps\n",
    "config = ps.SparkConf()\n",
    "config.set('spark.executor.heartbeatInterval', '3600s')\n",
    "config.set('spark.network.timeout', '7200s')\n",
    "config.set('spark.driver.memory', '16g') # Increase the driver memory to avoid HeapOverflow when repartitioning.\n",
    "sc = ps.SparkContext('local[*]', '', conf=config) # write 'local' for single-threaded execution and 'local[*]' for multi-threaded execution.\n",
    "spark = SparkSession(sc)"
   ]
  },
  {
   "cell_type": "code",
   "execution_count": null,
   "metadata": {},
   "outputs": [],
   "source": [
    "USE_SUBDATASETS = False # Set to True to use the subdatasets, only for testing purposes.\n",
    "\n",
    "PATH_METADATAS_SRC = './data/subdata/yt_metadata_en_sub' if USE_SUBDATASETS else './data/yt_metadata_en.jsonl'"
   ]
  },
  {
   "cell_type": "markdown",
   "metadata": {},
   "source": [
    "## Process Links in Video Descriptions\n",
    "\n",
    "This section processes links in video descriptions. Our goal is to extract URL domains that may be related to sponsors for each video, hence giving us a way to identify sponsorships in videos. The workflow is as follows:\n",
    "\n",
    "1. We first load the metadata of all videos in the dataset and **extract the URLs from the description** of each video. URLs match a specific regular expression, which is defined in the `url_regex` variable. We only accept URLs that start with `http` or `https`, followed by a facultative `www.` and a mandatory domain name and path. Some URLs are already filtered given a non-exhaustive list of URLs that are not related to sponsors.\n",
    "\n",
    "2. We then proceed on **analysing the shorten URLs**, which are short links redirecting to a specific URL. We are then able to **resolve most shortened URLs** using APIs provided by shortening services, or by using basic scraping techniques.\n",
    "\n",
    "3. Finally, we put together the resolved URLs in the original dataset and **extract the domain names** from each URL. Each video now has a list of unique domains `domains`, a flag `has_domain` indicating whether the video has at least one domain, and a feature `domain_count` indicating the number of domains."
   ]
  },
  {
   "cell_type": "markdown",
   "metadata": {},
   "source": [
    "### Extract Links from Video Descriptions\n",
    "\n",
    "Firstly, we extract links using regular expressions. We perform a first filtering to remove urls from sites that are generally not related to sponsors such as Youtube, Twitter, Facebook, Wikipedia, Discord, etc..."
   ]
  },
  {
   "cell_type": "code",
   "execution_count": 3,
   "metadata": {},
   "outputs": [],
   "source": [
    "PATH_METADATAS_URLS_DST = './data/generated/yt_metadata_en_urls.parquet'"
   ]
  },
  {
   "cell_type": "code",
   "execution_count": 4,
   "metadata": {},
   "outputs": [],
   "source": [
    "# Load the invalid URLs\n",
    "PATH_INVALID_URLS = './data/invalid_urls.csv'\n",
    "\n",
    "invalid_urls_reg = []\n",
    "with open(PATH_INVALID_URLS, 'r') as f:\n",
    "    for line in f:\n",
    "        invalid_urls_reg.append(f\"{line.strip()}\")"
   ]
  },
  {
   "cell_type": "code",
   "execution_count": 5,
   "metadata": {},
   "outputs": [],
   "source": [
    "def filter_invalid_urls(urls: list, filter_reg: list = None, match_start: bool = False, return_parsed: bool = False) -> list:\n",
    "    \"\"\"\n",
    "    Filter invalid URLs from a list of URLs.\n",
    "    \n",
    "    \n",
    "    Args:\n",
    "        urls (list): The list of URLs.\n",
    "        filter_reg (list): The list of regular expressions to filter the URLs.\n",
    "        match_start (bool): If True, the regular expressions will be matched at the start of the URL.\n",
    "        return_parsed (bool): If True, the function will return the parsed URLs (only the domain).\n",
    "\n",
    "    Returns:\n",
    "        list: The list of valid URLs.\n",
    "    \"\"\"\n",
    "    \n",
    "    new_urls = []\n",
    "    for url in urls:\n",
    "\n",
    "        # A url should start with https://, http:// or //\n",
    "        if url.startswith(\"https://\") or url.startswith(\"http://\"):\n",
    "            parsed_url = url\n",
    "        else:\n",
    "            parsed_url = \"//\" + url\n",
    "\n",
    "        parsed_url = urlparse(parsed_url).netloc\n",
    "        if parsed_url.startswith(\"www.\"):\n",
    "            parsed_url = parsed_url[4:]  # Remove the 'www.' prefix\n",
    "\n",
    "        match_reg = lambda reg: rf\"(?i)(^{reg})\" if match_start else rf\"(?i)({reg})\"\n",
    "        if filter_reg is None or not any(\n",
    "            re.search(match_reg(reg), parsed_url) for reg in filter_reg\n",
    "        ):\n",
    "            new_urls.append(parsed_url if return_parsed else url)\n",
    "\n",
    "    return new_urls\n",
    "\n",
    "# Parse works\n",
    "assert filter_invalid_urls(\n",
    "    [\"https://www.special.com/random\"],\n",
    "    filter_reg=None,\n",
    "    match_start=False,\n",
    "    return_parsed=False,\n",
    ") == [\"https://www.special.com/random\"]\n",
    "assert filter_invalid_urls(\n",
    "    [\"https://www.special.com/random\"],\n",
    "    filter_reg=None,\n",
    "    match_start=False,\n",
    "    return_parsed=True,\n",
    ") == [\"special.com\"]\n",
    "\n",
    "# Parse still works on ill-formed URLs\n",
    "assert filter_invalid_urls(\n",
    "    [\"youtube.com/random\"],\n",
    "    filter_reg=None,\n",
    "    match_start=False,\n",
    "    return_parsed=False,\n",
    ") == [\"youtube.com/random\"]\n",
    "assert filter_invalid_urls(\n",
    "    [\"youtube.com/random\"],\n",
    "    filter_reg=None,\n",
    "    match_start=False,\n",
    "    return_parsed=True,\n",
    ") == [\"youtube.com\"]\n",
    "\n",
    "# Regular expression filtering works\n",
    "assert filter_invalid_urls(\n",
    "    [\"https://www.didnotexpect.youtube.com/random\"],\n",
    "    filter_reg=invalid_urls_reg,\n",
    "    match_start=False,\n",
    "    return_parsed=False,\n",
    ") == []\n",
    "\n",
    "# Match start works\n",
    "assert filter_invalid_urls(\n",
    "    [\"https://www.didnotexpect.youtube.com/random\"],\n",
    "    filter_reg=invalid_urls_reg,\n",
    "    match_start=True,\n",
    "    return_parsed=True,\n",
    ") == [\"didnotexpect.youtube.com\"]"
   ]
  },
  {
   "cell_type": "code",
   "execution_count": 6,
   "metadata": {},
   "outputs": [],
   "source": [
    "def get_urls(description: str, filter_reg: list) -> list:\n",
    "    \"\"\"\n",
    "    Extract URLs from a description.\n",
    "\n",
    "    Args:\n",
    "        description (str): The description.\n",
    "        filter_reg (list): The list of regular expressions to filter the URLs.\n",
    "\n",
    "    Returns:\n",
    "        list: The list of URLs.\n",
    "    \"\"\"\n",
    "    \n",
    "    if description is None:\n",
    "        return []\n",
    "        \n",
    "    url_regex = r\"https?:\\/\\/(www\\.)?[-a-zA-Z0-9@:%._\\+~#=]{1,256}\\.[a-zA-Z0-9()]{1,6}\\b([-a-zA-Z0-9()@:%_\\+.~#?&//=]*)\"\n",
    "    urls = []\n",
    "    for line in description.split(\"\\n\"):\n",
    "        if re.search(url_regex, line):\n",
    "            urlss = [x.group() for x in re.finditer(url_regex, line)] # Find all urls in the line\n",
    "            urlss = filter_invalid_urls(urlss, filter_reg=filter_reg, match_start=False, return_parsed=False)\n",
    "            urls.extend(urlss)\n",
    "    urls = list(set(urls)) # Remove duplicates\n",
    "    return urls\n",
    "\n",
    "# Test the function on basic examples\n",
    "assert(get_urls('There is no link.', invalid_urls_reg) == [])\n",
    "assert(get_urls('This is not a valid link: www.special.com/', invalid_urls_reg) == [])\n",
    "assert(get_urls('This is a link: https://www.special.com/ and this is another link: https://www.youtube.com/watch?v=2', invalid_urls_reg) == ['https://www.special.com/'])\n",
    "assert(get_urls('This is a link: https://www.special.com/ \\n and this is an invalid link: www.special.com/', invalid_urls_reg) == ['https://www.special.com/'])"
   ]
  },
  {
   "cell_type": "markdown",
   "metadata": {},
   "source": [
    "We then retrieve the raw links from the descriptions. The links are stored in the `urls` column as a list. The `urls_count` column contains the number of links retrieved in the description. The `has_urls` column is a boolean indicating whether the video has at least one link."
   ]
  },
  {
   "cell_type": "code",
   "execution_count": 7,
   "metadata": {},
   "outputs": [],
   "source": [
    "REPARTITION_SIZE = 500\n",
    "\n",
    "schema = StructType([\n",
    "    StructField(\"categories\",    StringType(),  True),\n",
    "    StructField(\"channel_id\",    StringType(),  True),\n",
    "    StructField(\"crawl_date\",    DateType(),    True),\n",
    "    StructField(\"description\",   StringType(),  True),\n",
    "    StructField(\"dislike_count\", DoubleType(),  True), # This field must be specified as a double as it is represented as a floating point number\n",
    "    StructField(\"display_id\",    StringType(),  True),\n",
    "    StructField(\"duration\",      IntegerType(), True),\n",
    "    StructField(\"like_count\",    DoubleType(),  True), # This field must be specified as a double as it is represented as a floating point number\n",
    "    StructField(\"tags\",          StringType(),  True),\n",
    "    StructField(\"title\",         StringType(),  True),\n",
    "    StructField(\"upload_date\",   DateType(),    True),\n",
    "    StructField(\"view_count\",    DoubleType(),  True)  # This field must be specified as a double as it is represented as a floating point number\n",
    "])\n",
    "    \n",
    "metadatas = spark.read.json(PATH_METADATAS_SRC, schema=schema) \\\n",
    "    .repartition(REPARTITION_SIZE)\n",
    "\n",
    "# Cast the dislike_count, like_count and view_count to their respective integer type\n",
    "metadatas = metadatas \\\n",
    "    .withColumn(\"dislike_count\", metadatas.dislike_count.cast(IntegerType())) \\\n",
    "    .withColumn(\"like_count\", metadatas.like_count.cast(IntegerType())) \\\n",
    "    .withColumn(\"view_count\", metadatas.view_count.cast(LongType()))\n",
    "\n",
    "# Get urls and count of urls in the description\n",
    "get_urls_udf = udf(lambda x: get_urls(x, invalid_urls_reg), ArrayType(StringType()))\n",
    "metadatas = metadatas.withColumn('urls', get_urls_udf(col('description')))\n",
    "len_udf = udf(lambda x: len(x), IntegerType())\n",
    "metadatas = metadatas.withColumn('urls_count', len_udf(col('urls')))\n",
    "has_urls_udf = udf(lambda x: x > 0, BooleanType())\n",
    "metadatas = metadatas.withColumn('has_urls', has_urls_udf(col('urls_count')))\n",
    "\n",
    "# Drop the description and take only the videos with at least one url\n",
    "metadatas_urls = metadatas.drop('description')"
   ]
  },
  {
   "cell_type": "code",
   "execution_count": 8,
   "metadata": {},
   "outputs": [
    {
     "name": "stdout",
     "output_type": "stream",
     "text": [
      "+-----------+--------------------+----------+\n",
      "| display_id|                urls|urls_count|\n",
      "+-----------+--------------------+----------+\n",
      "|t5bzcfU4Ja4|[http://bit.ly/ne...|         7|\n",
      "|9li-TP3EgwA|[http://bit.ly/1u...|         2|\n",
      "|QwLy7CracHM|[http://www.DexSt...|         1|\n",
      "|A_tpoQmAItY|[https://goo.gl/M...|         1|\n",
      "|vPqRay73oU4|[http://www.tinaa...|         1|\n",
      "|IKmJUgHuS58|[http://www.tinaa...|         2|\n",
      "|gZmqoJITXUk|[https://tinyurl....|         5|\n",
      "|jBma-2qAgno|[http://www.media...|         5|\n",
      "|r8exAxUKaV8|[http://tv.majorl...|         2|\n",
      "|-WvCd7Dz_dc|[https://goo.gl/p...|         3|\n",
      "|ccee5gmfrhI|[https://www.news...|         5|\n",
      "|CPKuoJSxpH8|[http://mnot.es/2...|         6|\n",
      "|zFfNZk0dhFA|[http://www.funny...|         4|\n",
      "|_TzR3m0OAjA|[https://www.beas...|         1|\n",
      "|hUnRd2UDwxA|[http://instagr.a...|         2|\n",
      "|2ogho2nnLLk|[http://bit.ly/1Q...|         3|\n",
      "|HXb1H9tIzQg|[http://bit.ly/2G...|        45|\n",
      "|W_t04ggLUyo|[http://www.apple...|        12|\n",
      "|ZUgConKxj6E|[http://www.tinaa...|         1|\n",
      "|INI34ez6VTc|[http://www.tinaa...|         1|\n",
      "+-----------+--------------------+----------+\n",
      "only showing top 20 rows\n",
      "\n"
     ]
    }
   ],
   "source": [
    "metadatas_urls.filter(metadatas_urls.has_urls).select('display_id', 'urls', 'urls_count').show()"
   ]
  },
  {
   "cell_type": "code",
   "execution_count": 9,
   "metadata": {},
   "outputs": [
    {
     "name": "stdout",
     "output_type": "stream",
     "text": [
      "+-----------+----+----------+\n",
      "| display_id|urls|urls_count|\n",
      "+-----------+----+----------+\n",
      "|qa0Fxs6T_wA|  []|         0|\n",
      "|t3ysYv4Dusc|  []|         0|\n",
      "|vIdRUnGhBT0|  []|         0|\n",
      "|GCe3Lc9lg98|  []|         0|\n",
      "|Y9Y9ZrAYdr8|  []|         0|\n",
      "|svVtKZ0T9JM|  []|         0|\n",
      "|mIj_S9MtB4M|  []|         0|\n",
      "|Rw5ElxZet4E|  []|         0|\n",
      "|ztaequSLOFU|  []|         0|\n",
      "|mVPA3FdnfMc|  []|         0|\n",
      "|jp8eETq3fcE|  []|         0|\n",
      "|u1fErWi1Rvw|  []|         0|\n",
      "|UHh_LoSQne4|  []|         0|\n",
      "|G0CV8x5Ddj4|  []|         0|\n",
      "|9BWLP49lgtQ|  []|         0|\n",
      "|zg0BU41EBDM|  []|         0|\n",
      "|-3Xpw8INjMk|  []|         0|\n",
      "|YvGku9WHCPc|  []|         0|\n",
      "|mheS7tLquys|  []|         0|\n",
      "|EzCu6LqFJYY|  []|         0|\n",
      "+-----------+----+----------+\n",
      "only showing top 20 rows\n",
      "\n"
     ]
    }
   ],
   "source": [
    "metadatas_urls.filter(~metadatas_urls.has_urls).select('display_id', 'urls', 'urls_count').show()"
   ]
  },
  {
   "cell_type": "code",
   "execution_count": 10,
   "metadata": {},
   "outputs": [
    {
     "data": {
      "text/plain": [
       "[('categories', 'string'),\n",
       " ('channel_id', 'string'),\n",
       " ('crawl_date', 'date'),\n",
       " ('dislike_count', 'int'),\n",
       " ('display_id', 'string'),\n",
       " ('duration', 'int'),\n",
       " ('like_count', 'int'),\n",
       " ('tags', 'string'),\n",
       " ('title', 'string'),\n",
       " ('upload_date', 'date'),\n",
       " ('view_count', 'bigint'),\n",
       " ('urls', 'array<string>'),\n",
       " ('urls_count', 'int'),\n",
       " ('has_urls', 'boolean')]"
      ]
     },
     "execution_count": 10,
     "metadata": {},
     "output_type": "execute_result"
    }
   ],
   "source": [
    "metadatas_urls.dtypes"
   ]
  },
  {
   "cell_type": "markdown",
   "metadata": {},
   "source": [
    "_Run the two cells below if you want to write the current state of the dataframe to a parquet file._"
   ]
  },
  {
   "cell_type": "code",
   "execution_count": null,
   "metadata": {},
   "outputs": [],
   "source": [
    "# Delete the output folder if it already exists\n",
    "#!rm -f $PATH_METADATAS_URLS_DST # Linux\n",
    "!PowerShell.exe -Command \"Remove-Item -Path $PATH_METADATAS_URLS_DST -Recurse -Force\" # Windows"
   ]
  },
  {
   "cell_type": "code",
   "execution_count": 12,
   "metadata": {},
   "outputs": [],
   "source": [
    "metadatas_urls.write.parquet(PATH_METADATAS_URLS_DST, partitionBy=['has_urls'], mode='overwrite')"
   ]
  },
  {
   "cell_type": "markdown",
   "metadata": {},
   "source": [
    "### Analyse Shortened URLs\n",
    "\n",
    "Links are often shortened using services such as Bitly, Google URL Shortener, etc... Unfortunately, they prevent us from knowing the actual destination of the link. We can however process them using scraping and other techniques to extract the actual destination. But first, let us see what are the most common services used to shorten links."
   ]
  },
  {
   "cell_type": "code",
   "execution_count": 11,
   "metadata": {},
   "outputs": [],
   "source": [
    "regs = {\n",
    "    'bitly'     : r'https?:\\/\\/bit\\.ly\\/[a-zA-Z0-9\\-\\_]+',\n",
    "    'google'    : r'https?:\\/\\/goo\\.gl\\/[a-zA-Z0-9\\-\\_]+',\n",
    "    'tinyurl'   : r'https?:\\/\\/tinyurl\\.com\\/[a-zA-Z0-9\\-\\_]+',\n",
    "    'adfly'     : r'https?:\\/\\/adf\\.ly\\/[a-zA-Z0-9\\-\\_]+',\n",
    "    'owly'      : r'https?:\\/\\/ow\\.ly\\/[a-zA-Z0-9\\-\\_]+',\n",
    "}"
   ]
  },
  {
   "cell_type": "code",
   "execution_count": 12,
   "metadata": {},
   "outputs": [],
   "source": [
    "metadatas_shortened = metadatas_urls.select('*') # Copy the dataframe\n",
    "# Add a column to count the number of urls per shortened url service\n",
    "for short_name, short_reg in regs.items():\n",
    "    reg_udf = udf(lambda x: len([y for y in x if re.search(short_reg, y)]), IntegerType())\n",
    "    metadatas_shortened = metadatas_shortened.withColumn(short_name + '_count', reg_udf(col('urls')))"
   ]
  },
  {
   "cell_type": "code",
   "execution_count": 13,
   "metadata": {},
   "outputs": [
    {
     "name": "stdout",
     "output_type": "stream",
     "text": [
      "+-----------+--------------------+-----------+------------+-------------+-----------+----------+\n",
      "| display_id|                urls|bitly_count|google_count|tinyurl_count|adfly_count|owly_count|\n",
      "+-----------+--------------------+-----------+------------+-------------+-----------+----------+\n",
      "|-pXUD_ZnXdk|[http://www.thech...|          0|           0|            0|          0|         0|\n",
      "|oQDC2_kKo_Y|[https://www.gofu...|          0|           0|            0|          0|         0|\n",
      "|tWrmbz3VM10|[http://www.sigma...|          0|           0|            0|          0|         0|\n",
      "|lxfd2tIRwf0|[http://www.Wirtz...|          0|           0|            0|          0|         0|\n",
      "|zuY-2w0k1BI|[http://www.Micha...|          0|           0|            0|          0|         0|\n",
      "|QjIDcAaN7dA|[http://www.tinaa...|          0|           0|            0|          0|         0|\n",
      "|0NOz0zgPFVc|[http://bit.ly/1u...|          1|           0|            0|          0|         0|\n",
      "|_5-WAqrqa5k|[https://gumroad....|          0|           0|            0|          0|         0|\n",
      "|rzPMo9va00w|[https://mnot.es/...|          0|           0|            1|          0|         0|\n",
      "|Q4pXUCxM88E|[http://bit.ly/FO...|          1|           0|            0|          0|         0|\n",
      "|VmpXsZZApak|[http://www.tinaa...|          0|           0|            0|          0|         0|\n",
      "|xwSnikEYqWk|[https://fas.org/...|          1|           0|            0|          0|         0|\n",
      "|q__oaPt0I4w|[https://www.etsy...|          0|           0|            0|          0|         0|\n",
      "|woGAz-DOXSk|[https://teesprin...|          0|           0|            0|          0|         0|\n",
      "|oAvx-l053Tk|[http://www.Micha...|          0|           0|            0|          0|         0|\n",
      "|qh1iKQKntSs|[https://www.xain...|          0|           0|            0|          0|         0|\n",
      "|MPfJpjruqgc|[http://www.funny...|          0|           0|            0|          0|         0|\n",
      "|e_ePRq7NgpI|[http://www.boomb...|          0|           0|            0|          0|         0|\n",
      "|xAXwSwJxEek|[http://www.DexSt...|          0|           0|            0|          0|         0|\n",
      "|cGG9F3HBtDM|[http://www.tinaa...|          0|           0|            0|          0|         0|\n",
      "+-----------+--------------------+-----------+------------+-------------+-----------+----------+\n",
      "only showing top 20 rows\n",
      "\n"
     ]
    }
   ],
   "source": [
    "metadatas_shortened \\\n",
    "    .filter(metadatas_shortened.urls_count > 0) \\\n",
    "    .select('display_id', 'urls', 'bitly_count', 'google_count', 'tinyurl_count', 'adfly_count', 'owly_count') \\\n",
    "    .show()"
   ]
  },
  {
   "cell_type": "code",
   "execution_count": 14,
   "metadata": {},
   "outputs": [
    {
     "name": "stdout",
     "output_type": "stream",
     "text": [
      "There are 52,710,312 shortened urls in the dataset.\n",
      "\n",
      "bitly represents 55.15% of the shortened urls.\n",
      "google represents 41.75% of the shortened urls.\n",
      "tinyurl represents 2.58% of the shortened urls.\n",
      "adfly represents 0.17% of the shortened urls.\n",
      "owly represents 0.35% of the shortened urls.\n"
     ]
    }
   ],
   "source": [
    "# Get sum of short urls per shortener\n",
    "short_urls_cnt = metadatas_shortened.select('bitly_count', 'google_count', 'tinyurl_count', 'adfly_count', 'owly_count') \\\n",
    "    .agg({'bitly_count': 'sum', 'google_count': 'sum', 'tinyurl_count': 'sum', 'adfly_count': 'sum', 'owly_count': 'sum'}) \\\n",
    "    .collect()[0] \\\n",
    "    .asDict()\n",
    "\n",
    "# Get ratios of short urls per shortener\n",
    "short_urls_total = sum(short_urls_cnt.values())\n",
    "print(f'There are {short_urls_total:,} shortened urls in the dataset.\\n')\n",
    "for short_name, short_reg in regs.items():\n",
    "    short_urls_ratio = short_urls_cnt[f'sum({short_name}_count)'] / short_urls_total\n",
    "    print(f'{short_name} represents {short_urls_ratio:.2%} of the shortened urls.')"
   ]
  },
  {
   "cell_type": "code",
   "execution_count": 15,
   "metadata": {},
   "outputs": [
    {
     "name": "stdout",
     "output_type": "stream",
     "text": [
      "There are 141,054,862 urls in the dataset. Shortened urls represent 37.37% of the urls.\n"
     ]
    }
   ],
   "source": [
    "n_urls = metadatas_shortened.select('urls_count').agg({'urls_count': 'sum'}).collect()[0].asDict()['sum(urls_count)']\n",
    "n_urls\n",
    "\n",
    "print(f'There are {n_urls:,} urls in the dataset. Shortened urls represent {short_urls_total / n_urls:.2%} of the urls.')"
   ]
  },
  {
   "cell_type": "markdown",
   "metadata": {},
   "source": [
    "Note that these results do not assume that links are distinct. Bitly is the most common service used to shorten links, followed by Google URL Shortener. In the next sections, we will see how to extract the actual destination of links shortened by these two services."
   ]
  },
  {
   "cell_type": "markdown",
   "metadata": {},
   "source": [
    "### Resolve Shortened URLs\n",
    "\n",
    "To further enrich our dataset, we resolve Bitly and Google shortened links."
   ]
  },
  {
   "cell_type": "code",
   "execution_count": 8,
   "metadata": {},
   "outputs": [],
   "source": [
    "def explode_outer(col: Column) -> Column:\n",
    "    \"\"\"\n",
    "    Explode a column and keep null values.\n",
    "\n",
    "    Args:\n",
    "        col (Column): Column to explode.\n",
    "\n",
    "    Returns:\n",
    "        Column: Exploded column.\n",
    "    \"\"\"\n",
    "    \n",
    "    _explode_outer = sc._jvm.org.apache.spark.sql.functions.explode_outer \n",
    "    return Column(_explode_outer(_to_java_column(col)))\n",
    "\n",
    "metadatas_resolved_urls = metadatas_urls.withColumn('url', explode_outer(col('urls')))"
   ]
  },
  {
   "cell_type": "markdown",
   "metadata": {},
   "source": [
    "#### Resolve Bitly URLs\n",
    "\n",
    "We write in a separate file all the Bitly URLs found in the dataset. We will then use various tools such as the Bitly API, or simple GET requests to resolve the URLs."
   ]
  },
  {
   "cell_type": "code",
   "execution_count": 21,
   "metadata": {},
   "outputs": [],
   "source": [
    "PATH_BITLY_URLS = '../data/generated/bitly_urls.tsv'"
   ]
  },
  {
   "cell_type": "code",
   "execution_count": 10,
   "metadata": {},
   "outputs": [],
   "source": [
    "# Delete the output folder if it already exists\n",
    "#!rm -f $PATH_BITLY_URLS # Linux\n",
    "!PowerShell.exe -Command \"Remove-Item -Path $PATH_BITLY_URLS -Recurse -Force\" # Windows"
   ]
  },
  {
   "cell_type": "code",
   "execution_count": 11,
   "metadata": {},
   "outputs": [],
   "source": [
    "# Get a dataframe with only the bitly urls\n",
    "udf_retrieve_bitly_urls = udf(lambda x: [y for y in x if re.search(regs['bitly'], y)], ArrayType(StringType()))\n",
    "bitly_urls = metadatas_urls \\\n",
    "    .filter(metadatas_urls.bitly_count > 0) \\\n",
    "    .select('urls') \\\n",
    "    .withColumn('url', explode(udf_retrieve_bitly_urls(col('urls')))) \\\n",
    "    .select('url') \\\n",
    "    .distinct()"
   ]
  },
  {
   "cell_type": "code",
   "execution_count": 12,
   "metadata": {},
   "outputs": [],
   "source": [
    "bitly_urls.write.csv(PATH_BITLY_URLS, sep='\\t', header=False, mode='overwrite')"
   ]
  },
  {
   "cell_type": "code",
   "execution_count": 17,
   "metadata": {},
   "outputs": [
    {
     "data": {
      "text/plain": [
       "2597126"
      ]
     },
     "execution_count": 17,
     "metadata": {},
     "output_type": "execute_result"
    }
   ],
   "source": [
    "spark.read.csv(PATH_BITLY_URLS, sep='\\t', header=False).count()"
   ]
  },
  {
   "cell_type": "markdown",
   "metadata": {},
   "source": [
    "There are a total of $2'597'126$ distinct Bitly URLs in the dataset."
   ]
  },
  {
   "cell_type": "markdown",
   "metadata": {},
   "source": [
    "We now assume that the **Bitly URLs have been resolved** in a new tsv file named `bitly_resolved_urls` and we can replace them by their corresponding URLs. The notebook [resolve_bitly_links.ipynb](processing/resolve_bitly_links.ipynb) contains the code to resolve Bitly URLs."
   ]
  },
  {
   "cell_type": "code",
   "execution_count": 9,
   "metadata": {},
   "outputs": [],
   "source": [
    "PATH_BITLY_RESOLVED_URLS = './data/generated/bitly_resolved_urls.tsv'"
   ]
  },
  {
   "cell_type": "code",
   "execution_count": 10,
   "metadata": {},
   "outputs": [],
   "source": [
    "schema = StructType([\n",
    "    StructField(\"url\",          StringType(), True),\n",
    "    StructField(\"resolved_url\", StringType(), True),\n",
    "])\n",
    "resolved_urls = spark.read.csv(PATH_BITLY_RESOLVED_URLS, sep='\\t', header=False, schema=schema)"
   ]
  },
  {
   "cell_type": "code",
   "execution_count": 19,
   "metadata": {},
   "outputs": [
    {
     "name": "stdout",
     "output_type": "stream",
     "text": [
      "+----------------------+-----------------------------------------------------------------------------------------------------------------------+\n",
      "|url                   |resolved_url                                                                                                           |\n",
      "+----------------------+-----------------------------------------------------------------------------------------------------------------------+\n",
      "|http://bit.ly/2CzkOZi |http://www.musicnotes.com/notes.asp?id=art_dario_daversa&url=http://www.musicnotes.com/sheetmusic/mtd.asp?ppn=MN0194860|\n",
      "|https://bit.ly/2wRm722|https://www.audioadvice.com/martin-logan-dynamo-600x-subwoofer.html                                                    |\n",
      "|http://bit.ly/2LqpROI |https://www.audioadvice.com/content/2018/05/23/klipsch-heritage-hp-3-heapdhones-review/                                |\n",
      "|http://bit.ly/2rwI189 |https://www.audioadvice.com/cambridge-solo-phono-preamplifier.html                                                     |\n",
      "|https://bit.ly/2JYwYNd|https://www.youtube.com/watch?v=57HCRKN5GJE                                                                            |\n",
      "+----------------------+-----------------------------------------------------------------------------------------------------------------------+\n",
      "only showing top 5 rows\n",
      "\n"
     ]
    }
   ],
   "source": [
    "resolved_urls.show(5, False)"
   ]
  },
  {
   "cell_type": "code",
   "execution_count": 11,
   "metadata": {},
   "outputs": [],
   "source": [
    "# Join the bitly urls with the resolved urls\n",
    "metadatas_resolved_urls = metadatas_resolved_urls.join(resolved_urls, on='url', how='leftouter')"
   ]
  },
  {
   "cell_type": "code",
   "execution_count": 21,
   "metadata": {},
   "outputs": [
    {
     "name": "stdout",
     "output_type": "stream",
     "text": [
      "+-----------+----------------------------+------------------------------------------------------------------------+\n",
      "|display_id |url                         |resolved_url                                                            |\n",
      "+-----------+----------------------------+------------------------------------------------------------------------+\n",
      "|FJMKM_TYLy8|http://NCS.lnk.to/Pyro      |null                                                                    |\n",
      "|FJMKM_TYLy8|http://bit.ly/NCShardstyle  |http://www.youtube.com/playlist?list=PLRBp0Fe2GpgnXJ2owag81mqSFklL83-d5 |\n",
      "|FJMKM_TYLy8|http://bit.ly/ALLNCSmusic   |https://www.youtube.com/playlist?list=PLRBp0Fe2GpgnIh0AiYKh7o7HnYAej-5ph|\n",
      "|FJMKM_TYLy8|http://bit.ly/DreadPittSC   |https://soundcloud.com/nocopyrightsounds/dread-pitt-pyro-ncs-release    |\n",
      "|FJMKM_TYLy8|http://bit.ly/NCSdrumandbass|http://www.youtube.com/playlist?list=PLRBp0Fe2GpgnzYdHtTCoBYPyIJG9_opMn |\n",
      "+-----------+----------------------------+------------------------------------------------------------------------+\n",
      "only showing top 5 rows\n",
      "\n"
     ]
    }
   ],
   "source": [
    "metadatas_resolved_urls.filter(metadatas_resolved_urls.display_id == 'FJMKM_TYLy8').select('display_id', 'url', 'resolved_url').show(5, False)"
   ]
  },
  {
   "cell_type": "code",
   "execution_count": 12,
   "metadata": {},
   "outputs": [],
   "source": [
    "# Replace the bitly urls with the resolved urls if they exist\n",
    "metadatas_resolved_urls = metadatas_resolved_urls \\\n",
    "    .withColumn('url', \\\n",
    "        when(metadatas_resolved_urls.resolved_url.isNotNull(), \n",
    "            metadatas_resolved_urls.resolved_url)\n",
    "        .otherwise(\n",
    "            metadatas_resolved_urls.url)) \\\n",
    "    .drop('resolved_url')"
   ]
  },
  {
   "cell_type": "code",
   "execution_count": 23,
   "metadata": {},
   "outputs": [
    {
     "name": "stdout",
     "output_type": "stream",
     "text": [
      "+-----------+------------------------------------------------------------------------+\n",
      "|display_id |url                                                                     |\n",
      "+-----------+------------------------------------------------------------------------+\n",
      "|FJMKM_TYLy8|http://NCS.lnk.to/Pyro                                                  |\n",
      "|FJMKM_TYLy8|http://www.youtube.com/playlist?list=PLRBp0Fe2GpgnXJ2owag81mqSFklL83-d5 |\n",
      "|FJMKM_TYLy8|https://www.youtube.com/playlist?list=PLRBp0Fe2GpgnIh0AiYKh7o7HnYAej-5ph|\n",
      "|FJMKM_TYLy8|https://soundcloud.com/nocopyrightsounds/dread-pitt-pyro-ncs-release    |\n",
      "|FJMKM_TYLy8|http://www.youtube.com/playlist?list=PLRBp0Fe2GpgnzYdHtTCoBYPyIJG9_opMn |\n",
      "+-----------+------------------------------------------------------------------------+\n",
      "only showing top 5 rows\n",
      "\n"
     ]
    }
   ],
   "source": [
    "metadatas_resolved_urls.filter(metadatas_resolved_urls.display_id == 'FJMKM_TYLy8').select('display_id', 'url').show(5, False)"
   ]
  },
  {
   "cell_type": "markdown",
   "metadata": {},
   "source": [
    "#### Resolve Google URLs\n",
    "\n",
    "We also write in a separate file all the Google shortened URLs found in the dataset, and retrieve their actual destination."
   ]
  },
  {
   "cell_type": "code",
   "execution_count": 13,
   "metadata": {},
   "outputs": [],
   "source": [
    "PATH_GOOGL_URLS = './data/generated/googl_urls.tsv'"
   ]
  },
  {
   "cell_type": "code",
   "execution_count": 10,
   "metadata": {},
   "outputs": [],
   "source": [
    "# Delete the output folder if it already exists\n",
    "#!rm -f $PATH_GOOGL_URLS # Linux\n",
    "!PowerShell.exe -Command \"Remove-Item -Path $PATH_GOOGL_URLS -Recurse -Force\" # Windows"
   ]
  },
  {
   "cell_type": "code",
   "execution_count": 11,
   "metadata": {},
   "outputs": [],
   "source": [
    "# Get a dataframe with only the bitly urls\n",
    "udf_retrieve_bitly_urls = udf(lambda x: [y for y in x if re.search(regs['google'], y)], ArrayType(StringType()))\n",
    "googl_urls = metadatas_urls \\\n",
    "    .filter(metadatas_urls.google_count > 0) \\\n",
    "    .select('urls') \\\n",
    "    .withColumn('url', explode(udf_retrieve_bitly_urls(col('urls')))) \\\n",
    "    .select('url') \\\n",
    "    .distinct()"
   ]
  },
  {
   "cell_type": "code",
   "execution_count": 12,
   "metadata": {},
   "outputs": [],
   "source": [
    "googl_urls.write.csv(PATH_GOOGL_URLS, sep='\\t', header=False, mode='overwrite')"
   ]
  },
  {
   "cell_type": "code",
   "execution_count": 14,
   "metadata": {},
   "outputs": [
    {
     "data": {
      "text/plain": [
       "1397373"
      ]
     },
     "execution_count": 14,
     "metadata": {},
     "output_type": "execute_result"
    }
   ],
   "source": [
    "spark.read.csv(PATH_GOOGL_URLS, sep='\\t', header=False)"
   ]
  },
  {
   "cell_type": "markdown",
   "metadata": {},
   "source": [
    "There are a total of $1'397'373$ distinct Google URLs in the dataset."
   ]
  },
  {
   "cell_type": "markdown",
   "metadata": {},
   "source": [
    "We now assume that the **Google URLs have been resolved** in a new tsv file named `googl_resolved_urls` and we can replace them by their corresponding URLs. The notebook [resolve_google_links.ipynb](processing/resolve_google_links.ipynb) contains the code to resolve Google URLs."
   ]
  },
  {
   "cell_type": "code",
   "execution_count": 13,
   "metadata": {},
   "outputs": [],
   "source": [
    "PATH_GOOGL_RESOLVED_URLS = './data/generated/googl_resolved_urls.tsv'"
   ]
  },
  {
   "cell_type": "code",
   "execution_count": 14,
   "metadata": {},
   "outputs": [],
   "source": [
    "schema = StructType([\n",
    "    StructField(\"url\",          StringType(), True),\n",
    "    StructField(\"resolved_url\", StringType(), True),\n",
    "])\n",
    "resolved_urls = spark.read.csv(PATH_GOOGL_RESOLVED_URLS, sep='\\t', header=False, schema=schema)"
   ]
  },
  {
   "cell_type": "code",
   "execution_count": 26,
   "metadata": {},
   "outputs": [
    {
     "name": "stdout",
     "output_type": "stream",
     "text": [
      "+---------------------+---------------------------------------------------------------------------+\n",
      "|url                  |resolved_url                                                               |\n",
      "+---------------------+---------------------------------------------------------------------------+\n",
      "|https://goo.gl/izJQ3s|https://www.youtube.com/channel/UCzV3Xt_qXi8KaaBR58q-qFg?sub_confirmation=1|\n",
      "|https://goo.gl/a3OBu7|https://shop.healthfulpursuit.com/product/balanced-keto-weekly-meal-plans/ |\n",
      "|https://goo.gl/2V6uNV|https://business.facebook.com/goodwillentertainments                       |\n",
      "|https://goo.gl/DYyb6n|https://www.facebook.com/GameDave                                          |\n",
      "|https://goo.gl/XtDCt5|https://www.youtube.com/playlist?list=PLmNPLKPi9xyOdt80y51Q5O8XkhvZQ6N-V   |\n",
      "+---------------------+---------------------------------------------------------------------------+\n",
      "only showing top 5 rows\n",
      "\n"
     ]
    }
   ],
   "source": [
    "resolved_urls.show(5, False)"
   ]
  },
  {
   "cell_type": "code",
   "execution_count": 15,
   "metadata": {},
   "outputs": [],
   "source": [
    "# Join the google urls with the resolved urls\n",
    "metadatas_resolved_urls = metadatas_resolved_urls.join(resolved_urls, on='url', how='leftouter')"
   ]
  },
  {
   "cell_type": "code",
   "execution_count": 28,
   "metadata": {},
   "outputs": [
    {
     "name": "stdout",
     "output_type": "stream",
     "text": [
      "+-----------+---------------------+---------------------------------------------------------------------------------------------------------------------------------+\n",
      "|display_id |url                  |resolved_url                                                                                                                     |\n",
      "+-----------+---------------------+---------------------------------------------------------------------------------------------------------------------------------+\n",
      "|ddyzyVldG_4|https://goo.gl/mk9DGY|https://www.audioadvice.com/shop-by-brand/sony/sony-es-receiver-lineup                                                           |\n",
      "|ddyzyVldG_4|https://goo.gl/UdfFqB|https://www.audioadvice.com/videos-reviews/2017/06/13/sony-es-receiver-lineup-comparison-2017/                                   |\n",
      "|ddyzyVldG_4|https://goo.gl/2YsUua|https://www.audioadvice.com/videos-reviews/2017/05/15/sony-str-za1100es-7-2-channel-4k-av-receiver-review/                       |\n",
      "|ddyzyVldG_4|https://goo.gl/2eQrz5|https://consent.youtube.com/ml?continue=https://www.youtube.com/channel/UCNNWgG-OiTQfvIE9cToLXdA?cbrd%3D1&gl=CH&hl=de&pc=yt&src=1|\n",
      "+-----------+---------------------+---------------------------------------------------------------------------------------------------------------------------------+\n",
      "\n"
     ]
    }
   ],
   "source": [
    "metadatas_resolved_urls.filter(metadatas_resolved_urls.display_id == 'ddyzyVldG_4').select('display_id', 'url', 'resolved_url').show(5, False)"
   ]
  },
  {
   "cell_type": "code",
   "execution_count": 16,
   "metadata": {},
   "outputs": [],
   "source": [
    "# Replace the google urls with the resolved urls if they exist\n",
    "metadatas_resolved_urls = metadatas_resolved_urls \\\n",
    "    .withColumn('url', \\\n",
    "        when(metadatas_resolved_urls.resolved_url.isNotNull(), \n",
    "            metadatas_resolved_urls.resolved_url)\n",
    "        .otherwise(\n",
    "            metadatas_resolved_urls.url)) \\\n",
    "    .drop('resolved_url')"
   ]
  },
  {
   "cell_type": "code",
   "execution_count": 30,
   "metadata": {},
   "outputs": [
    {
     "name": "stdout",
     "output_type": "stream",
     "text": [
      "+-----------+---------------------------------------------------------------------------------------------------------------------------------+\n",
      "|display_id |url                                                                                                                              |\n",
      "+-----------+---------------------------------------------------------------------------------------------------------------------------------+\n",
      "|ddyzyVldG_4|https://www.audioadvice.com/shop-by-brand/sony/sony-es-receiver-lineup                                                           |\n",
      "|ddyzyVldG_4|https://www.audioadvice.com/videos-reviews/2017/06/13/sony-es-receiver-lineup-comparison-2017/                                   |\n",
      "|ddyzyVldG_4|https://www.audioadvice.com/videos-reviews/2017/05/15/sony-str-za1100es-7-2-channel-4k-av-receiver-review/                       |\n",
      "|ddyzyVldG_4|https://consent.youtube.com/ml?continue=https://www.youtube.com/channel/UCNNWgG-OiTQfvIE9cToLXdA?cbrd%3D1&gl=CH&hl=de&pc=yt&src=1|\n",
      "+-----------+---------------------------------------------------------------------------------------------------------------------------------+\n",
      "\n"
     ]
    }
   ],
   "source": [
    "metadatas_resolved_urls.filter(metadatas_resolved_urls.display_id == 'ddyzyVldG_4').select('display_id', 'url').show(5, False)"
   ]
  },
  {
   "cell_type": "markdown",
   "metadata": {},
   "source": [
    "### Resolve URLs in the Metadata Dataset\n",
    "\n",
    "Finally, we add the resolved URLs to the metadata dataset. We also extract the domain names from the URLs and add them to the dataset."
   ]
  },
  {
   "cell_type": "code",
   "execution_count": 17,
   "metadata": {},
   "outputs": [],
   "source": [
    "# Remove empty or none urls\n",
    "metadatas_resolved_urls = metadatas_resolved_urls \\\n",
    "    .filter(metadatas_resolved_urls.url.isNotNull()) \\\n",
    "    .filter(metadatas_resolved_urls.url != '') \\\n",
    "    .filter(metadatas_resolved_urls.url != 'None')"
   ]
  },
  {
   "cell_type": "code",
   "execution_count": 18,
   "metadata": {},
   "outputs": [],
   "source": [
    "# Aggregate back the urls together\n",
    "metadatas_resolved_urls = metadatas_resolved_urls \\\n",
    "    .groupBy([c for c in metadatas_resolved_urls.columns if c != 'url' and c != 'urls']) \\\n",
    "    .agg(collect_list('url').alias('urls'))"
   ]
  },
  {
   "cell_type": "markdown",
   "metadata": {},
   "source": [
    "Let us perform some sanity checks before continuing."
   ]
  },
  {
   "cell_type": "code",
   "execution_count": 32,
   "metadata": {},
   "outputs": [],
   "source": [
    "# There should be the same number of videos without urls\n",
    "mu = metadatas_urls.filter(~metadatas_urls.has_urls)\n",
    "mru = metadatas_resolved_urls.filter(~metadatas_resolved_urls.has_urls)\n",
    "\n",
    "assert mu.count() == mru.count()"
   ]
  },
  {
   "cell_type": "code",
   "execution_count": 33,
   "metadata": {},
   "outputs": [],
   "source": [
    "# There should be the same number of videos with urls\n",
    "mu = metadatas_urls.filter(metadatas_urls.has_urls)\n",
    "mru = metadatas_resolved_urls.filter(metadatas_resolved_urls.has_urls)\n",
    "\n",
    "assert mu.count() == mru.count()"
   ]
  },
  {
   "cell_type": "code",
   "execution_count": 28,
   "metadata": {},
   "outputs": [
    {
     "name": "stdout",
     "output_type": "stream",
     "text": [
      "Out of 29,070,539 Bitly links 1,412,474 have not been resolved (95.14% resolved urls).\n"
     ]
    }
   ],
   "source": [
    "# Check that there are at least 95% of bitly urls resolved\n",
    "udf_retrieve_bitly_urls = udf(lambda x: [y for y in x if re.search(r'https?:\\/\\/bit\\.ly\\/[a-zA-Z0-9\\-\\_]+', y)], ArrayType(StringType()))\n",
    "mu = metadatas_urls.filter(metadatas_urls.has_urls) \\\n",
    "    .select('urls') \\\n",
    "    .withColumn('url', explode(udf_retrieve_bitly_urls(col('urls')))) \\\n",
    "    .count()\n",
    "mru = metadatas_resolved_urls.filter(metadatas_urls.has_urls) \\\n",
    "    .select('urls') \\\n",
    "    .withColumn('url', explode(udf_retrieve_bitly_urls(col('urls')))) \\\n",
    "    .count()\n",
    "\n",
    "assert mru / mu < 0.05\n",
    "print(f'Out of {mu:,} Bitly links {mru:,} have not been resolved ({1 - mru / mu:.2%} resolved urls).')"
   ]
  },
  {
   "cell_type": "code",
   "execution_count": 22,
   "metadata": {},
   "outputs": [
    {
     "name": "stdout",
     "output_type": "stream",
     "text": [
      "Out of 22,007,594 Google links 638,774 have not been resolved (97.10% resolved urls).\n"
     ]
    }
   ],
   "source": [
    "# Check that there are at least 95% of Google urls resolved\n",
    "udf_retrieve_googl_urls = udf(lambda x: [y for y in x if re.search(r'https?:\\/\\/goo\\.gl\\/[a-zA-Z0-9\\-\\_]+', y)], ArrayType(StringType()))\n",
    "mu = metadatas_urls.filter(metadatas_urls.has_urls) \\\n",
    "    .select('urls') \\\n",
    "    .withColumn('url', explode(udf_retrieve_googl_urls(col('urls')))) \\\n",
    "    .count()\n",
    "mru = metadatas_resolved_urls.filter(metadatas_urls.has_urls) \\\n",
    "    .select('urls') \\\n",
    "    .withColumn('url', explode(udf_retrieve_googl_urls(col('urls')))) \\\n",
    "    .count()\n",
    "\n",
    "assert mru / mu < 0.05\n",
    "print(f'Out of {mu:,} Google links {mru:,} have not been resolved ({1 - mru / mu:.2%} resolved urls).')"
   ]
  },
  {
   "cell_type": "code",
   "execution_count": 18,
   "metadata": {},
   "outputs": [
    {
     "name": "stdout",
     "output_type": "stream",
     "text": [
      "+-----------+--------------------+\n",
      "| display_id|                urls|\n",
      "+-----------+--------------------+\n",
      "|wwR68kW1FGI|[http://3dextrude...|\n",
      "|TZSErAPb41s|                  []|\n",
      "|jZRNgLFK1yk|                  []|\n",
      "|4QZ4tdIPGJQ|                  []|\n",
      "|i8d1eBB_KSc|                  []|\n",
      "|nZICMZEDgjA|[https://www.yout...|\n",
      "|gd_L5HB_fVg|                  []|\n",
      "|mZjn4Hc15PU|[http://integress...|\n",
      "|iSNA-U4p1FY|[https://www.ebay...|\n",
      "|sxs7zQchTAk|                  []|\n",
      "|DrO5MnD4_9k|[https://www.what...|\n",
      "|R9pdafTeekY|[http://whatcar.c...|\n",
      "|ariBwkoMeFo|[https://www.yout...|\n",
      "|3iHT_0yV9ZQ|[http://www.linyi...|\n",
      "|5Ose6pPTnn8|[http://www.Giant...|\n",
      "|UGs0QJ4lmQg|                  []|\n",
      "|1jp6ps56XuM|                  []|\n",
      "|vjOePT-s25Q|                  []|\n",
      "|MNz1WmBhVNA|                  []|\n",
      "|CnttoK_QpOM|                  []|\n",
      "+-----------+--------------------+\n",
      "only showing top 20 rows\n",
      "\n"
     ]
    }
   ],
   "source": [
    "metadatas_resolved_urls.select('display_id', 'urls').show(20)"
   ]
  },
  {
   "cell_type": "code",
   "execution_count": 19,
   "metadata": {},
   "outputs": [],
   "source": [
    "# Parse the urls and find a list of distinct domains\n",
    "parse_urls_udf = udf(lambda x: filter_invalid_urls(x, filter_reg=invalid_urls_reg, match_start=True, return_parsed=True), ArrayType(StringType()))\n",
    "metadatas_resolved_urls = metadatas_resolved_urls \\\n",
    "    .withColumn('domains', parse_urls_udf(col('urls'))) \\\n",
    "    .drop('urls')"
   ]
  },
  {
   "cell_type": "code",
   "execution_count": 20,
   "metadata": {},
   "outputs": [
    {
     "name": "stdout",
     "output_type": "stream",
     "text": [
      "+-----------+--------------------+\n",
      "| display_id|             domains|\n",
      "+-----------+--------------------+\n",
      "|wwR68kW1FGI|[3dextrude.weebly...|\n",
      "|TZSErAPb41s|                  []|\n",
      "|jZRNgLFK1yk|                  []|\n",
      "|4QZ4tdIPGJQ|                  []|\n",
      "|i8d1eBB_KSc|                  []|\n",
      "|nZICMZEDgjA|                  []|\n",
      "|gd_L5HB_fVg|                  []|\n",
      "|mZjn4Hc15PU|[integress.tumblr...|\n",
      "|iSNA-U4p1FY|[ebay.com, tiny.c...|\n",
      "|sxs7zQchTAk|                  []|\n",
      "|DrO5MnD4_9k|[whatcar.com, con...|\n",
      "|R9pdafTeekY|[whatcar.com, con...|\n",
      "|ariBwkoMeFo|[whatcar.com, wha...|\n",
      "|3iHT_0yV9ZQ|[linyibrickmachin...|\n",
      "|5Ose6pPTnn8|[GiantLinMachiner...|\n",
      "|UGs0QJ4lmQg|                  []|\n",
      "|1jp6ps56XuM|                  []|\n",
      "|vjOePT-s25Q|                  []|\n",
      "|MNz1WmBhVNA|                  []|\n",
      "|CnttoK_QpOM|                  []|\n",
      "+-----------+--------------------+\n",
      "only showing top 20 rows\n",
      "\n"
     ]
    }
   ],
   "source": [
    "metadatas_resolved_urls.select('display_id', 'domains').show(20)"
   ]
  },
  {
   "cell_type": "code",
   "execution_count": 20,
   "metadata": {},
   "outputs": [],
   "source": [
    "len_udf = udf(lambda x: len(x), IntegerType())\n",
    "has_urls_udf = udf(lambda x: x > 0, BooleanType())\n",
    "\n",
    "# Remove some useless features such as crawl_date and add features related to the domain\n",
    "metadatas_resolved_urls = metadatas_resolved_urls \\\n",
    "    .drop('crawl_date') \\\n",
    "    .drop('urls_count') \\\n",
    "    .drop('has_urls') \\\n",
    "    .withColumn('domains_count', len_udf(col('domains'))) \\\n",
    "    .withColumn('has_domains', has_urls_udf(col('domains_count')))"
   ]
  },
  {
   "cell_type": "code",
   "execution_count": null,
   "metadata": {},
   "outputs": [
    {
     "name": "stdout",
     "output_type": "stream",
     "text": [
      "+-----------+--------------------+-------------+-----------+\n",
      "| display_id|             domains|domains_count|has_domains|\n",
      "+-----------+--------------------+-------------+-----------+\n",
      "|wwR68kW1FGI|[3dextrude.weebly...|            1|       true|\n",
      "|nZICMZEDgjA|                  []|            0|      false|\n",
      "|iSNA-U4p1FY|[ebay.com, tiny.c...|           18|       true|\n",
      "|BEjKBSLm2fc|[whatcar.com, the...|            3|       true|\n",
      "|DrO5MnD4_9k|[whatcar.com, wha...|            2|       true|\n",
      "|R9pdafTeekY|[whatcar.com, wha...|            3|       true|\n",
      "|ariBwkoMeFo|[whatcar.com, wha...|            2|       true|\n",
      "|3iHT_0yV9ZQ|[linyibrickmachin...|            1|       true|\n",
      "|5Ose6pPTnn8|[GiantLinMachiner...|            1|       true|\n",
      "|vAIO_wmAFTw|                  []|            0|      false|\n",
      "|o70sRssdmv0|[hillclimbfans.co...|            2|       true|\n",
      "|g-A8ovPMmB0|[teespring.com, m...|            2|       true|\n",
      "|q7k10GAQay8|[iteachstamping.c...|            2|       true|\n",
      "|bPyVUI4BzAo|     [letsdig18.com]|            1|       true|\n",
      "|_FYnt-nvElY|[fenixautoparts.c...|            8|       true|\n",
      "|v-fdi-p-o_o|[fenixautoparts.c...|           12|       true|\n",
      "|0cWi-3EM-vo|[plus.google.com,...|            2|       true|\n",
      "|fuvH9vxTRCQ|  [auto.elakiri.com]|            1|       true|\n",
      "|QT4aepejJPg|[plus.google.com,...|            3|       true|\n",
      "|0eV-c3mxhjo|[chickslovethecar...|            5|       true|\n",
      "+-----------+--------------------+-------------+-----------+\n",
      "only showing top 20 rows\n",
      "\n"
     ]
    }
   ],
   "source": [
    "metadatas_resolved_urls.select('display_id', 'domains', 'domains_count', 'has_domains').show(20)"
   ]
  },
  {
   "cell_type": "markdown",
   "metadata": {},
   "source": [
    "Finally, we write the resulting dataset to a parquet file."
   ]
  },
  {
   "cell_type": "code",
   "execution_count": 21,
   "metadata": {},
   "outputs": [],
   "source": [
    "PATH_METADATAS_DOMAINS_DST = './data/generated/yt_metadata_en_domains.parquet'"
   ]
  },
  {
   "cell_type": "code",
   "execution_count": 22,
   "metadata": {},
   "outputs": [],
   "source": [
    "# Delete the output folder if it already exists\n",
    "#!rm -f $PATH_METADATAS_DOMAINS_DST # Linux\n",
    "!PowerShell.exe -Command \"Remove-Item -Path $PATH_METADATAS_DOMAINS_DST -Recurse -Force\" # Windows"
   ]
  },
  {
   "cell_type": "code",
   "execution_count": 23,
   "metadata": {},
   "outputs": [],
   "source": [
    "metadatas_resolved_urls.write.parquet(PATH_METADATAS_DOMAINS_DST, partitionBy=['has_domains'], mode='overwrite')"
   ]
  },
  {
   "cell_type": "markdown",
   "metadata": {},
   "source": [
    "## Detect Sponsorship Theme in Video Descriptions\n",
    "\n",
    "This section adds a new feature `sponsor_score` letting us know if a video description contains a sponsorship theme. \n",
    "\n",
    "When a video is sponsored, the description often contains a link to the sponsor's webside along with a short description of the product or service being promoted. Many of these descriptions are similar and contain the same keywords such as **sponsored**, **promotion** or **code**. To detect this, we perform the following:\n",
    "\n",
    "1. For each video description, we tokenize the description, remove stop words and stem the remaining words.\n",
    "\n",
    "2. From a list of keywords related to sponsorship, we create a list of stemmed keywords and count the number of words in the description that match the stemmed keywords. The keywords can be found in [sponsor_vocabulary.csv](data/sponsor_vocabulary.csv)."
   ]
  },
  {
   "cell_type": "markdown",
   "metadata": {},
   "source": [
    "### Define the Theme Detection Function\n",
    "\n",
    "Firstly, we define the function giving a score to a video description based on the appearance of keywords related to sponsorship."
   ]
  },
  {
   "cell_type": "code",
   "execution_count": 3,
   "metadata": {},
   "outputs": [],
   "source": [
    "schema = StructType([\n",
    "    StructField(\"categories\",    StringType(),  True),\n",
    "    StructField(\"channel_id\",    StringType(),  True),\n",
    "    StructField(\"crawl_date\",    DateType(),    True),\n",
    "    StructField(\"description\",   StringType(),  True),\n",
    "    StructField(\"dislike_count\", DoubleType(),  True), # This field must be specified as a double as it is represented as a floating point number\n",
    "    StructField(\"display_id\",    StringType(),  True),\n",
    "    StructField(\"duration\",      IntegerType(), True),\n",
    "    StructField(\"like_count\",    DoubleType(),  True), # This field must be specified as a double as it is represented as a floating point number\n",
    "    StructField(\"tags\",          StringType(),  True),\n",
    "    StructField(\"title\",         StringType(),  True),\n",
    "    StructField(\"upload_date\",   DateType(),    True),\n",
    "    StructField(\"view_count\",    DoubleType(),  True)  # This field must be specified as a double as it is represented as a floating point number\n",
    "])\n",
    "    \n",
    "metadatas = spark.read.json(PATH_METADATAS_SRC, schema=schema)"
   ]
  },
  {
   "cell_type": "code",
   "execution_count": 4,
   "metadata": {},
   "outputs": [
    {
     "data": {
      "text/plain": [
       "array(['sponsor', 'subscript', 'video', 'first', 'free', 'bonu', 'thank',\n",
       "       'code', 'gift', 'discount', 'premium', 'coupon', 'deal', 'sale',\n",
       "       'promo', 'pack', 'worldwid', 'ship', 'includ', 'limit', 'stock',\n",
       "       'avail', 'trial', 'offer', 'money', 'annual', 'month', 'monthli',\n",
       "       'week', 'weekli', 'day', 'daili', 'today', 'off', 'onli', 'now',\n",
       "       'extra', 'here', 'save', 'order', 'tri', 'use', 'download',\n",
       "       'purchas', 'shop', 'buy', 'get', 'unlimit', '$'], dtype='<U9')"
      ]
     },
     "execution_count": 4,
     "metadata": {},
     "output_type": "execute_result"
    }
   ],
   "source": [
    "# Load the stemmed keywords related to sponsorships\n",
    "PATH_SPONSOR_VOCABULARY_SRC = '../data/sponsor_vocabulary.csv'\n",
    "sponsor_vocab = pd.read_csv(PATH_SPONSOR_VOCABULARY_SRC, header=None, encoding=\"utf-8\").to_numpy().flatten()\n",
    "sponsor_vocab = np.array([stemmer.stem(word) for word in sponsor_vocab])\n",
    "sponsor_vocab"
   ]
  },
  {
   "cell_type": "code",
   "execution_count": 5,
   "metadata": {},
   "outputs": [],
   "source": [
    "def get_sponsor_score(description: str) -> int:\n",
    "    \"\"\"\n",
    "    Returns the number of times a word from the sponsor vocabulary appears in the description.\n",
    "\n",
    "    Args:\n",
    "        description (str): The description of the video.\n",
    "    \n",
    "    Returns:\n",
    "        int: The sponsor score, i.e. the number of times a word from the sponsor vocabulary appears in the description.\n",
    "    \"\"\"\n",
    "    \n",
    "    if description is None:\n",
    "        return 0\n",
    "\n",
    "    # Tokenize\n",
    "    tokens = word_tokenize(description)\n",
    "    # Remove stop words\n",
    "    tokens = [word.lower() for word in tokens if word not in stop_words]\n",
    "    # Stemming\n",
    "    if stemmer is not None:\n",
    "        tokens = [stemmer.stem(word) for word in tokens]\n",
    "    score = sum(1 for word in tokens if word in sponsor_vocab)\n",
    "\n",
    "    return score\n",
    "    "
   ]
  },
  {
   "cell_type": "markdown",
   "metadata": {},
   "source": [
    "Below are two examples of video descriptions. The first one is sponsored, having a score of $16$. This is greater than the score of the second video description, which is not sponsored."
   ]
  },
  {
   "cell_type": "code",
   "execution_count": 6,
   "metadata": {},
   "outputs": [
    {
     "name": "stdout",
     "output_type": "stream",
     "text": [
      "Try out my quantum mechanics course (and many others on math and science) on https://brilliant.org/sabine. You can get started for free, and the first 200 will get 20% off the annual premium subscription.\n",
      "\n",
      "Today we’ll talk about how to build a radio telescope – on the moon, recent wormhole headlines, the Artemis 1 launch and why it was delayed, quantum microscopes and the status of quantum computing, the first metaverse nation, manta rays, advances in material design, the link between chaos and biodiversity. And of course, the telephone will ring.\n",
      "\n",
      "👉 Transcript and references on Patreon ➜ https://www.patreon.com/Sabine\n",
      "💌 Sign up for my weekly science newsletter. It's free!  ➜ https://sabinehossenfelder.com/newsle...\n",
      "📖 My new book \"Existential Physics\" is now on sale ➜ http://existentialphysics.com/\n",
      "🔗 Join this channel to get access to perks ➜ https://www.youtube.com/channel/UC1yN...\n",
      "\n",
      "00:00 Intro\n",
      "00:35 Plans For a Radio-Telescope on the Moon\n",
      "02:31 Are Black Holes Wormholes?\n",
      "04:12 Why the Delays With the Artemis 1 Launch?\n",
      "06:00 Prototype of a Quantum Microscope\n",
      "07:25 Still No Useful Quantum Advantage\n",
      "08:34 Big Population of Manta Rays Found\n",
      "10:00 The First Metaverse Nation\n",
      "11:36 Progress in Material Science\n",
      "12:41 Chaos in the Evolution of a Single Species\n",
      "13:25 Check Out My Quantum Mechanics Course\n",
      "\n",
      "#science #sciencenews\n"
     ]
    }
   ],
   "source": [
    "str1 = \"Try out my quantum mechanics course (and many others on math and science) on https://brilliant.org/sabine. You can get started for free, and the first 200 will get 20% off the annual premium subscription.\\n\\nToday we’ll talk about how to build a radio telescope – on the moon, recent wormhole headlines, the Artemis 1 launch and why it was delayed, quantum microscopes and the status of quantum computing, the first metaverse nation, manta rays, advances in material design, the link between chaos and biodiversity. And of course, the telephone will ring.\\n\\n👉 Transcript and references on Patreon ➜ https://www.patreon.com/Sabine\\n💌 Sign up for my weekly science newsletter. It's free!  ➜ https://sabinehossenfelder.com/newsle...\\n📖 My new book \\\"Existential Physics\\\" is now on sale ➜ http://existentialphysics.com/\\n🔗 Join this channel to get access to perks ➜ https://www.youtube.com/channel/UC1yN...\\n\\n00:00 Intro\\n00:35 Plans For a Radio-Telescope on the Moon\\n02:31 Are Black Holes Wormholes?\\n04:12 Why the Delays With the Artemis 1 Launch?\\n06:00 Prototype of a Quantum Microscope\\n07:25 Still No Useful Quantum Advantage\\n08:34 Big Population of Manta Rays Found\\n10:00 The First Metaverse Nation\\n11:36 Progress in Material Science\\n12:41 Chaos in the Evolution of a Single Species\\n13:25 Check Out My Quantum Mechanics Course\\n\\n#science #sciencenews\"\n",
    "print(str1)"
   ]
  },
  {
   "cell_type": "code",
   "execution_count": 7,
   "metadata": {},
   "outputs": [
    {
     "name": "stdout",
     "output_type": "stream",
     "text": [
      "The sponsorhip score is 16.\n"
     ]
    }
   ],
   "source": [
    "score1 = get_sponsor_score(str1)\n",
    "print(f\"The sponsorhip score is {score1}.\")"
   ]
  },
  {
   "cell_type": "code",
   "execution_count": 8,
   "metadata": {},
   "outputs": [
    {
     "name": "stdout",
     "output_type": "stream",
     "text": [
      "All rise for the most iconic housewife, heiress of Hilton Hotels & mother of queen Paris Hilton 👑💖\n",
      "\n",
      "☆ MY MERCH SHOP: \n",
      "☆ https://teespring.com/stores/offensiv... \n",
      "\n",
      "MY INSTAGRAM: @offensivetea.yt \n",
      "https://www.instagram.com/offensivete... \n",
      "\n",
      "BACK-UP ACCOUNT:\n",
      "https://www.youtube.com/channel/UCgds... \n",
      "\n",
      "PATREON:\n",
      "https://www.patreon.com/offensivetea \n",
      "\n",
      "Looking for missing copyrighted videos? They're probably on my Vimeo page!\n",
      "https://vimeo.com/offensivetea\n",
      "\n",
      "\n",
      "BUSINESS ONLY:\n",
      "offensivetea@hotmail.com\n",
      "\n",
      "\n",
      "\n",
      "#RHOBH #kathyhilton #housewives #iconic #offensivetea #meme #parishilton #funnymoments #stantwitter #edit\n"
     ]
    }
   ],
   "source": [
    "str2 = \"All rise for the most iconic housewife, heiress of Hilton Hotels & mother of queen Paris Hilton 👑💖\\n\\n☆ MY MERCH SHOP: \\n☆ https://teespring.com/stores/offensiv... \\n\\nMY INSTAGRAM: @offensivetea.yt \\nhttps://www.instagram.com/offensivete... \\n\\nBACK-UP ACCOUNT:\\nhttps://www.youtube.com/channel/UCgds... \\n\\nPATREON:\\nhttps://www.patreon.com/offensivetea \\n\\nLooking for missing copyrighted videos? They're probably on my Vimeo page!\\nhttps://vimeo.com/offensivetea\\n\\n\\nBUSINESS ONLY:\\noffensivetea@hotmail.com\\n\\n\\n\\n#RHOBH #kathyhilton #housewives #iconic #offensivetea #meme #parishilton #funnymoments #stantwitter #edit\"\n",
    "print(str2)"
   ]
  },
  {
   "cell_type": "code",
   "execution_count": 9,
   "metadata": {},
   "outputs": [
    {
     "name": "stdout",
     "output_type": "stream",
     "text": [
      "The sponsorhip score is 3.\n"
     ]
    }
   ],
   "source": [
    "score2 = get_sponsor_score(str2)\n",
    "print(f\"The sponsorhip score is {score2}.\")"
   ]
  },
  {
   "cell_type": "markdown",
   "metadata": {},
   "source": [
    "### Apply the Theme Detection Function on the Dataset\n",
    "\n",
    "We apply the function on the dataset and save the results in a new column `sponsor_score`."
   ]
  },
  {
   "cell_type": "code",
   "execution_count": 10,
   "metadata": {},
   "outputs": [],
   "source": [
    "get_sponsor_score_udf = udf(get_sponsor_score, IntegerType())\n",
    "metadatas_sponsor_scores = metadatas \\\n",
    "    .withColumn('sponsor_score', get_sponsor_score_udf(metadatas.description)) \\\n",
    "    .cache() \\\n",
    "    .select('display_id', 'sponsor_score')"
   ]
  },
  {
   "cell_type": "code",
   "execution_count": 12,
   "metadata": {},
   "outputs": [
    {
     "name": "stdout",
     "output_type": "stream",
     "text": [
      "+-----------+-------------+\n",
      "| display_id|sponsor_score|\n",
      "+-----------+-------------+\n",
      "|SBqSc91Hn9g|            2|\n",
      "|UuugEl86ESY|            1|\n",
      "|oB4c-yvnbjs|            2|\n",
      "|ZaV-gTCMV8E|            2|\n",
      "|cGvL7AvMfM0|            3|\n",
      "|iVADSRjaLtQ|            2|\n",
      "|ypVcK9mldPc|            1|\n",
      "|qA1NayP9cNY|            2|\n",
      "|CWdSl9ta4Rg|            1|\n",
      "|64dCTkxCHpY|            2|\n",
      "|rU2iDhVd-bI|            2|\n",
      "|y5IvyZlzELs|            1|\n",
      "|riSUG1R4Ckw|            1|\n",
      "|C_dN36VjbZA|            2|\n",
      "|E_cfDMDd0YM|            1|\n",
      "|zuwQeKIhp2o|            2|\n",
      "|dzcd5pen7Cw|            2|\n",
      "|qYLAxjuoDtI|            2|\n",
      "|L_n9FljLN-c|            1|\n",
      "|srfrVHb8KGw|            2|\n",
      "+-----------+-------------+\n",
      "only showing top 20 rows\n",
      "\n"
     ]
    }
   ],
   "source": [
    "metadatas_sponsor_scores.show()"
   ]
  },
  {
   "cell_type": "markdown",
   "metadata": {},
   "source": [
    "### Analyse the Sponsorship Scores\n",
    "\n",
    "We can now analyse the distribution of sponsorship scores."
   ]
  },
  {
   "cell_type": "code",
   "execution_count": 25,
   "metadata": {},
   "outputs": [],
   "source": [
    "# Collect all scores\n",
    "scores = metadatas_sponsor_scores.select('sponsor_score')\n",
    "scores = scores.rdd.flatMap(lambda x: x).collect()"
   ]
  },
  {
   "cell_type": "code",
   "execution_count": 28,
   "metadata": {},
   "outputs": [
    {
     "name": "stdout",
     "output_type": "stream",
     "text": [
      "The max score is 1028.\n",
      "The min score is 0.\n",
      "The mean score is 2.7430393426959836.\n",
      "The median score is 1.0.\n"
     ]
    }
   ],
   "source": [
    "max_score = max(scores)\n",
    "print(f\"The max score is {max_score}.\")\n",
    "min_score = min(scores)\n",
    "print(f\"The min score is {min_score}.\")\n",
    "mean_score = np.mean(scores)\n",
    "print(f\"The mean score is {mean_score:.2f}.\")\n",
    "median_score = np.median(scores)\n",
    "print(f\"The median score is {median_score:.2f}.\")"
   ]
  },
  {
   "cell_type": "markdown",
   "metadata": {},
   "source": [
    "The maximum score is $1028$, which clearly seems to be an outlier. The mean score is $2.74$ and the median score is $1$. The distribution might be **right-skewed** as the mean is greater than the median. Let us look ad the distribution in more detail."
   ]
  },
  {
   "cell_type": "code",
   "execution_count": 38,
   "metadata": {},
   "outputs": [],
   "source": [
    "shifted_scores = [score + 1 for score in scores]"
   ]
  },
  {
   "cell_type": "code",
   "execution_count": 41,
   "metadata": {},
   "outputs": [
    {
     "data": {
      "image/png": "[encoded data removed]",
      "text/plain": [
       "<Figure size 640x480 with 1 Axes>"
      ]
     },
     "metadata": {},
     "output_type": "display_data"
    }
   ],
   "source": [
    "sns.histplot(shifted_scores, bins=100, log_scale=(True, True), cumulative=True)\n",
    "plt.title(\"Cumulative distribution of the sponsor scores on a log-log scale\")\n",
    "plt.xlabel(\"Sponsor score\")\n",
    "plt.ylabel(\"Number of videos\")\n",
    "plt.show()"
   ]
  },
  {
   "cell_type": "markdown",
   "metadata": {},
   "source": [
    "Note that the distribution is shifted by $1$ to have a satisfying range for the log-log plot. The great majority of videos have a sponsor score between $0$ and $10$, which seems to be a reasonable range. Many videos have a score of $0$ or $1$, which means that they might not be sponsored. A higher score might indicate that the video is sponsored, but too high of a score might be considered as an outlier."
   ]
  },
  {
   "cell_type": "markdown",
   "metadata": {},
   "source": [
    "Finally, we write the results to a parquet file."
   ]
  },
  {
   "cell_type": "code",
   "execution_count": 13,
   "metadata": {},
   "outputs": [],
   "source": [
    "PATH_METADATAS_SPONSOR_SCORES_DST = '../data/generated/yt_metadata_en_sponsor_scores.parquet'"
   ]
  },
  {
   "cell_type": "code",
   "execution_count": 14,
   "metadata": {},
   "outputs": [],
   "source": [
    "# Delete the output folder if it already exists\n",
    "#!rm -f $PATH_METADATAS_SPONSOR_SCORES_DST # Linux\n",
    "!PowerShell.exe -Command \"Remove-Item -Path $PATH_METADATAS_SPONSOR_SCORES_DST -Recurse -Force\" # Windows"
   ]
  },
  {
   "cell_type": "code",
   "execution_count": 15,
   "metadata": {},
   "outputs": [],
   "source": [
    "metadatas_sponsor_scores.write.parquet(PATH_METADATAS_SPONSOR_SCORES_DST, mode='overwrite')"
   ]
  }
 ],
 "metadata": {
  "kernelspec": {
   "display_name": "Python 3.9.15 ('spark')",
   "language": "python",
   "name": "python3"
  },
  "language_info": {
   "name": "python",
   "version": "3.9.15"
  },
  "orig_nbformat": 4,
  "vscode": {
   "interpreter": {
    "hash": "58222ebbc97bc15a7dd406d2f7b4dd2466104a906450c8e9dcb294b8e2a99cab"
   }
  }
 },
 "nbformat": 4,
 "nbformat_minor": 2
}
